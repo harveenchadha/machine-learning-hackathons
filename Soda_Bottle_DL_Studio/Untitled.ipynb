{
 "cells": [
  {
   "cell_type": "code",
   "execution_count": 1,
   "metadata": {},
   "outputs": [],
   "source": [
    "import glob as glob\n",
    "import cv2 as cv2\n",
    "import matplotlib.pyplot as plt\n",
    "import numpy as np"
   ]
  },
  {
   "cell_type": "code",
   "execution_count": 2,
   "metadata": {},
   "outputs": [
    {
     "name": "stdout",
     "output_type": "stream",
     "text": [
      "['./SodaBottles/M.Beer\\\\1351_corrected.jpg', './SodaBottles/M.Beer\\\\1425_corrected.jpg', './SodaBottles/M.Beer\\\\1438_corrected.jpg', './SodaBottles/M.Beer\\\\1581_corrected.jpg', './SodaBottles/M.Beer\\\\1605_corrected.jpg']\n"
     ]
    }
   ],
   "source": [
    "images = glob.glob('./SodaBottles/M.Beer/*.jpg')\n",
    "print(images[0:5])"
   ]
  },
  {
   "cell_type": "code",
   "execution_count": 4,
   "metadata": {},
   "outputs": [],
   "source": [
    "def change_light(image, coeff):\n",
    "    image_HLS = cv2.cvtColor(image,cv2.COLOR_RGB2HLS) ## Conversion to HLS\n",
    "    image_HLS = np.array(image_HLS, dtype = np.float64) \n",
    "    image_HLS[:,:,1] = image_HLS[:,:,1]*coeff ## scale pixel values up or down for channel 1(Lightness)\n",
    "    if(coeff>1):\n",
    "        image_HLS[:,:,1][image_HLS[:,:,1]>255]  = 255 ##Sets all values above 255 to 255\n",
    "    else:\n",
    "        image_HLS[:,:,1][image_HLS[:,:,1]<0]=0\n",
    "    image_HLS = np.array(image_HLS, dtype = np.uint8)\n",
    "    image_RGB = cv2.cvtColor(image_HLS,cv2.COLOR_HLS2RGB) ## Conversion to RGB\n",
    "    return image_RGB \n"
   ]
  },
  {
   "cell_type": "code",
   "execution_count": null,
   "metadata": {},
   "outputs": [],
   "source": [
    "for i in images:\n",
    "    print(i.split('\\\\')[-1])\n",
    "    \n",
    "    filename = i.split('\\\\')[-1]\n",
    "    \n",
    "    modified_path = i.replace(\"M.Beer\", \"Cropped_M.Beer\").split('\\\\')[0]\n",
    "    \n",
    "    local_image = cv2.imread(i, cv2.COLOR_BGR2RGB)\n",
    "    \n",
    "    crop_img = local_image[100:380, 100:]\n",
    "    \n",
    "    \n",
    "    cv2.imwrite(modified_path +\"/\"+ filename,crop_img)\n",
    "    \n",
    "    \n",
    "    #cv2.imwrite(modified_path +\"/BR_\"+ filename,bright_image)\n",
    "    \n",
    "    flip_right_img=cv2.flip(crop_img,1)\n",
    "    cv2.imwrite(modified_path +\"/RF_\"+ filename,flip_right_img)\n",
    "    \n",
    "    flip_left_img = cv2.flip(crop_img,0)\n",
    "    cv2.imwrite(modified_path +\"/LF_\"+ filename,flip_left_img)\n",
    "    \n",
    "    crop_img = change_light(crop_img, 2)\n",
    "    flip_right_img = change_light(flip_right_img, 2)\n",
    "    flip_left_img = change_light(flip_left_img, 2)\n",
    "    \n",
    "    (h, w) = crop_img.shape[:2]\n",
    "    #print(\"image dimensions are \",w,h)\n",
    "    center = (w / 2, h / 2)\n",
    "\n",
    "    angles=[10,20,30,40,50,60]\n",
    "    scale = 1.0\n",
    "\n",
    "    # Perform the counter clockwise rotation holding at the center\n",
    "    # 90 degrees\n",
    "    for i in angles:\n",
    "        M = cv2.getRotationMatrix2D(center, i, scale)\n",
    "        rotated90 = cv2.warpAffine(crop_img, M, (w, h))\n",
    "        cv2.imwrite(modified_path +\"/\"+str(i)+\"_\"+ filename,rotated90)\n",
    "        \n",
    "        M = cv2.getRotationMatrix2D(center, i, scale)\n",
    "        rotated90 = cv2.warpAffine(flip_right_img, M, (w, h))\n",
    "        cv2.imwrite(modified_path +\"/\"+str(i)+\"RF_\"+ filename,rotated90)\n",
    "        \n",
    "        M = cv2.getRotationMatrix2D(center, i, scale)\n",
    "        rotated90 = cv2.warpAffine(flip_left_img, M, (w, h))\n",
    "        cv2.imwrite(modified_path +\"/\"+str(i)+\"LF_\"+ filename,rotated90)\n",
    "     \n",
    "    \n",
    "    #plt.show()\n",
    "print(\"Done!\")"
   ]
  },
  {
   "cell_type": "code",
   "execution_count": 3,
   "metadata": {},
   "outputs": [
    {
     "name": "stdout",
     "output_type": "stream",
     "text": [
      "(840,)\n"
     ]
    }
   ],
   "source": [
    "images_new = []\n",
    "for i in images:\n",
    "    images_new.append(cv2.imread(i))\n",
    "new_X = np.array(images)\n",
    "print(new_X.shape)\n"
   ]
  },
  {
   "cell_type": "code",
   "execution_count": 4,
   "metadata": {},
   "outputs": [
    {
     "name": "stdout",
     "output_type": "stream",
     "text": [
      "(840, 480, 640, 3)\n"
     ]
    }
   ],
   "source": [
    "new_X = np.array(images_new)\n",
    "print(new_X.shape)\n",
    "#new_X = new_X.reshape(new_X.shape[0],3,640,480)\n",
    "#print(new_X.shape)"
   ]
  },
  {
   "cell_type": "code",
   "execution_count": 5,
   "metadata": {},
   "outputs": [],
   "source": [
    "X_train = new_X.astype('float32')\n",
    "\n"
   ]
  },
  {
   "cell_type": "code",
   "execution_count": 1,
   "metadata": {},
   "outputs": [],
   "source": [
    "import tensorflow as tf"
   ]
  },
  {
   "cell_type": "code",
   "execution_count": null,
   "metadata": {},
   "outputs": [
    {
     "name": "stderr",
     "output_type": "stream",
     "text": [
      "Using TensorFlow backend.\n"
     ]
    }
   ],
   "source": [
    "import keras\n",
    "from keras.preprocessing.image import ImageDataGenerator\n",
    "datagen = ImageDataGenerator(horizontal_flip=True, vertical_flip=True)\n",
    "\n",
    "datagen.fit(X_train)"
   ]
  },
  {
   "cell_type": "code",
   "execution_count": 11,
   "metadata": {},
   "outputs": [
    {
     "name": "stderr",
     "output_type": "stream",
     "text": [
      "c:\\users\\kanwal\\miniconda3\\lib\\site-packages\\keras_preprocessing\\image.py:1404: UserWarning: NumpyArrayIterator is set to use the data format convention \"channels_last\" (channels on axis 3), i.e. expected either 1, 3 or 4 channels on axis 3. However, it was passed an array with shape (840, 3, 640, 480) (480 channels).\n",
      "  str(self.x.shape[channels_axis]) + ' channels).')\n"
     ]
    },
    {
     "data": {
      "text/plain": [
       "<keras_preprocessing.image.NumpyArrayIterator at 0x14bb8ad2358>"
      ]
     },
     "execution_count": 11,
     "metadata": {},
     "output_type": "execute_result"
    }
   ],
   "source": [
    "datagen.flow(X_train, batch_size=9, save_to_dir='./SodaBottles/New_Cropped_M.Beer', save_prefix='aug', save_format='jpg')"
   ]
  }
 ],
 "metadata": {
  "kernelspec": {
   "display_name": "Python 3",
   "language": "python",
   "name": "python3"
  },
  "language_info": {
   "codemirror_mode": {
    "name": "ipython",
    "version": 3
   },
   "file_extension": ".py",
   "mimetype": "text/x-python",
   "name": "python",
   "nbconvert_exporter": "python",
   "pygments_lexer": "ipython3",
   "version": "3.6.5"
  }
 },
 "nbformat": 4,
 "nbformat_minor": 2
}
