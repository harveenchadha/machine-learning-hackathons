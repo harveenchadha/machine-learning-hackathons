{
 "cells": [
  {
   "cell_type": "code",
   "execution_count": 30,
   "metadata": {},
   "outputs": [],
   "source": [
    "import pandas as pd\n",
    "import math\n",
    "import numpy as np"
   ]
  },
  {
   "cell_type": "code",
   "execution_count": 77,
   "metadata": {},
   "outputs": [],
   "source": [
    "def read_csv_file(filename):\n",
    "    df = pd.read_csv(filename)\n",
    "    print(df.info())\n",
    "    return  df"
   ]
  },
  {
   "cell_type": "code",
   "execution_count": 78,
   "metadata": {},
   "outputs": [
    {
     "name": "stdout",
     "output_type": "stream",
     "text": [
      "<class 'pandas.core.frame.DataFrame'>\n",
      "RangeIndex: 54808 entries, 0 to 54807\n",
      "Data columns (total 14 columns):\n",
      "employee_id             54808 non-null int64\n",
      "department              54808 non-null object\n",
      "region                  54808 non-null object\n",
      "education               52399 non-null object\n",
      "gender                  54808 non-null object\n",
      "recruitment_channel     54808 non-null object\n",
      "no_of_trainings         54808 non-null int64\n",
      "age                     54808 non-null int64\n",
      "previous_year_rating    50684 non-null float64\n",
      "length_of_service       54808 non-null int64\n",
      "KPIs_met >80%           54808 non-null int64\n",
      "awards_won?             54808 non-null int64\n",
      "avg_training_score      54808 non-null int64\n",
      "is_promoted             54808 non-null int64\n",
      "dtypes: float64(1), int64(8), object(5)\n",
      "memory usage: 5.9+ MB\n",
      "None\n"
     ]
    },
    {
     "data": {
      "text/html": [
       "<div>\n",
       "<style scoped>\n",
       "    .dataframe tbody tr th:only-of-type {\n",
       "        vertical-align: middle;\n",
       "    }\n",
       "\n",
       "    .dataframe tbody tr th {\n",
       "        vertical-align: top;\n",
       "    }\n",
       "\n",
       "    .dataframe thead th {\n",
       "        text-align: right;\n",
       "    }\n",
       "</style>\n",
       "<table border=\"1\" class=\"dataframe\">\n",
       "  <thead>\n",
       "    <tr style=\"text-align: right;\">\n",
       "      <th></th>\n",
       "      <th>employee_id</th>\n",
       "      <th>department</th>\n",
       "      <th>region</th>\n",
       "      <th>education</th>\n",
       "      <th>gender</th>\n",
       "      <th>recruitment_channel</th>\n",
       "      <th>no_of_trainings</th>\n",
       "      <th>age</th>\n",
       "      <th>previous_year_rating</th>\n",
       "      <th>length_of_service</th>\n",
       "      <th>KPIs_met &gt;80%</th>\n",
       "      <th>awards_won?</th>\n",
       "      <th>avg_training_score</th>\n",
       "      <th>is_promoted</th>\n",
       "    </tr>\n",
       "  </thead>\n",
       "  <tbody>\n",
       "    <tr>\n",
       "      <th>0</th>\n",
       "      <td>65438</td>\n",
       "      <td>Sales &amp; Marketing</td>\n",
       "      <td>region_7</td>\n",
       "      <td>Master's &amp; above</td>\n",
       "      <td>f</td>\n",
       "      <td>sourcing</td>\n",
       "      <td>1</td>\n",
       "      <td>35</td>\n",
       "      <td>5.0</td>\n",
       "      <td>8</td>\n",
       "      <td>1</td>\n",
       "      <td>0</td>\n",
       "      <td>49</td>\n",
       "      <td>0</td>\n",
       "    </tr>\n",
       "    <tr>\n",
       "      <th>1</th>\n",
       "      <td>65141</td>\n",
       "      <td>Operations</td>\n",
       "      <td>region_22</td>\n",
       "      <td>Bachelor's</td>\n",
       "      <td>m</td>\n",
       "      <td>other</td>\n",
       "      <td>1</td>\n",
       "      <td>30</td>\n",
       "      <td>5.0</td>\n",
       "      <td>4</td>\n",
       "      <td>0</td>\n",
       "      <td>0</td>\n",
       "      <td>60</td>\n",
       "      <td>0</td>\n",
       "    </tr>\n",
       "    <tr>\n",
       "      <th>2</th>\n",
       "      <td>7513</td>\n",
       "      <td>Sales &amp; Marketing</td>\n",
       "      <td>region_19</td>\n",
       "      <td>Bachelor's</td>\n",
       "      <td>m</td>\n",
       "      <td>sourcing</td>\n",
       "      <td>1</td>\n",
       "      <td>34</td>\n",
       "      <td>3.0</td>\n",
       "      <td>7</td>\n",
       "      <td>0</td>\n",
       "      <td>0</td>\n",
       "      <td>50</td>\n",
       "      <td>0</td>\n",
       "    </tr>\n",
       "    <tr>\n",
       "      <th>3</th>\n",
       "      <td>2542</td>\n",
       "      <td>Sales &amp; Marketing</td>\n",
       "      <td>region_23</td>\n",
       "      <td>Bachelor's</td>\n",
       "      <td>m</td>\n",
       "      <td>other</td>\n",
       "      <td>2</td>\n",
       "      <td>39</td>\n",
       "      <td>1.0</td>\n",
       "      <td>10</td>\n",
       "      <td>0</td>\n",
       "      <td>0</td>\n",
       "      <td>50</td>\n",
       "      <td>0</td>\n",
       "    </tr>\n",
       "    <tr>\n",
       "      <th>4</th>\n",
       "      <td>48945</td>\n",
       "      <td>Technology</td>\n",
       "      <td>region_26</td>\n",
       "      <td>Bachelor's</td>\n",
       "      <td>m</td>\n",
       "      <td>other</td>\n",
       "      <td>1</td>\n",
       "      <td>45</td>\n",
       "      <td>3.0</td>\n",
       "      <td>2</td>\n",
       "      <td>0</td>\n",
       "      <td>0</td>\n",
       "      <td>73</td>\n",
       "      <td>0</td>\n",
       "    </tr>\n",
       "  </tbody>\n",
       "</table>\n",
       "</div>"
      ],
      "text/plain": [
       "   employee_id         department     region         education gender  \\\n",
       "0        65438  Sales & Marketing   region_7  Master's & above      f   \n",
       "1        65141         Operations  region_22        Bachelor's      m   \n",
       "2         7513  Sales & Marketing  region_19        Bachelor's      m   \n",
       "3         2542  Sales & Marketing  region_23        Bachelor's      m   \n",
       "4        48945         Technology  region_26        Bachelor's      m   \n",
       "\n",
       "  recruitment_channel  no_of_trainings  age  previous_year_rating  \\\n",
       "0            sourcing                1   35                   5.0   \n",
       "1               other                1   30                   5.0   \n",
       "2            sourcing                1   34                   3.0   \n",
       "3               other                2   39                   1.0   \n",
       "4               other                1   45                   3.0   \n",
       "\n",
       "   length_of_service  KPIs_met >80%  awards_won?  avg_training_score  \\\n",
       "0                  8              1            0                  49   \n",
       "1                  4              0            0                  60   \n",
       "2                  7              0            0                  50   \n",
       "3                 10              0            0                  50   \n",
       "4                  2              0            0                  73   \n",
       "\n",
       "   is_promoted  \n",
       "0            0  \n",
       "1            0  \n",
       "2            0  \n",
       "3            0  \n",
       "4            0  "
      ]
     },
     "execution_count": 78,
     "metadata": {},
     "output_type": "execute_result"
    }
   ],
   "source": [
    "\n",
    "df = read_csv_file('train.csv')\n",
    "df.head()\n"
   ]
  },
  {
   "cell_type": "code",
   "execution_count": 4,
   "metadata": {},
   "outputs": [],
   "source": [
    "def drop_columns(df , columns):\n",
    "    new_df = df.drop(columns =columns, axis = 1)\n",
    "    return new_df"
   ]
  },
  {
   "cell_type": "code",
   "execution_count": 6,
   "metadata": {},
   "outputs": [
    {
     "data": {
      "text/html": [
       "<div>\n",
       "<style scoped>\n",
       "    .dataframe tbody tr th:only-of-type {\n",
       "        vertical-align: middle;\n",
       "    }\n",
       "\n",
       "    .dataframe tbody tr th {\n",
       "        vertical-align: top;\n",
       "    }\n",
       "\n",
       "    .dataframe thead th {\n",
       "        text-align: right;\n",
       "    }\n",
       "</style>\n",
       "<table border=\"1\" class=\"dataframe\">\n",
       "  <thead>\n",
       "    <tr style=\"text-align: right;\">\n",
       "      <th></th>\n",
       "      <th>department</th>\n",
       "      <th>region</th>\n",
       "      <th>no_of_trainings</th>\n",
       "      <th>previous_year_rating</th>\n",
       "      <th>length_of_service</th>\n",
       "      <th>KPIs_met &gt;80%</th>\n",
       "      <th>avg_training_score</th>\n",
       "      <th>is_promoted</th>\n",
       "    </tr>\n",
       "  </thead>\n",
       "  <tbody>\n",
       "    <tr>\n",
       "      <th>0</th>\n",
       "      <td>Sales &amp; Marketing</td>\n",
       "      <td>region_7</td>\n",
       "      <td>1</td>\n",
       "      <td>5.0</td>\n",
       "      <td>8</td>\n",
       "      <td>1</td>\n",
       "      <td>49</td>\n",
       "      <td>0</td>\n",
       "    </tr>\n",
       "    <tr>\n",
       "      <th>1</th>\n",
       "      <td>Operations</td>\n",
       "      <td>region_22</td>\n",
       "      <td>1</td>\n",
       "      <td>5.0</td>\n",
       "      <td>4</td>\n",
       "      <td>0</td>\n",
       "      <td>60</td>\n",
       "      <td>0</td>\n",
       "    </tr>\n",
       "    <tr>\n",
       "      <th>2</th>\n",
       "      <td>Sales &amp; Marketing</td>\n",
       "      <td>region_19</td>\n",
       "      <td>1</td>\n",
       "      <td>3.0</td>\n",
       "      <td>7</td>\n",
       "      <td>0</td>\n",
       "      <td>50</td>\n",
       "      <td>0</td>\n",
       "    </tr>\n",
       "    <tr>\n",
       "      <th>3</th>\n",
       "      <td>Sales &amp; Marketing</td>\n",
       "      <td>region_23</td>\n",
       "      <td>2</td>\n",
       "      <td>1.0</td>\n",
       "      <td>10</td>\n",
       "      <td>0</td>\n",
       "      <td>50</td>\n",
       "      <td>0</td>\n",
       "    </tr>\n",
       "    <tr>\n",
       "      <th>4</th>\n",
       "      <td>Technology</td>\n",
       "      <td>region_26</td>\n",
       "      <td>1</td>\n",
       "      <td>3.0</td>\n",
       "      <td>2</td>\n",
       "      <td>0</td>\n",
       "      <td>73</td>\n",
       "      <td>0</td>\n",
       "    </tr>\n",
       "  </tbody>\n",
       "</table>\n",
       "</div>"
      ],
      "text/plain": [
       "          department     region  no_of_trainings  previous_year_rating  \\\n",
       "0  Sales & Marketing   region_7                1                   5.0   \n",
       "1         Operations  region_22                1                   5.0   \n",
       "2  Sales & Marketing  region_19                1                   3.0   \n",
       "3  Sales & Marketing  region_23                2                   1.0   \n",
       "4         Technology  region_26                1                   3.0   \n",
       "\n",
       "   length_of_service  KPIs_met >80%  avg_training_score  is_promoted  \n",
       "0                  8              1                  49            0  \n",
       "1                  4              0                  60            0  \n",
       "2                  7              0                  50            0  \n",
       "3                 10              0                  50            0  \n",
       "4                  2              0                  73            0  "
      ]
     },
     "execution_count": 6,
     "metadata": {},
     "output_type": "execute_result"
    }
   ],
   "source": [
    "columns_to_be_dropped = ['employee_id' , 'recruitment_channel', 'age' ,'gender','education','awards_won?']\n",
    "new_df = drop_columns(df, columns_to_be_dropped)\n",
    "new_df.head()\n"
   ]
  },
  {
   "cell_type": "code",
   "execution_count": 7,
   "metadata": {},
   "outputs": [
    {
     "data": {
      "text/plain": [
       "department                 0\n",
       "region                     0\n",
       "no_of_trainings            0\n",
       "previous_year_rating    4124\n",
       "length_of_service          0\n",
       "KPIs_met >80%              0\n",
       "avg_training_score         0\n",
       "is_promoted                0\n",
       "dtype: int64"
      ]
     },
     "execution_count": 7,
     "metadata": {},
     "output_type": "execute_result"
    }
   ],
   "source": [
    "new_df.isnull().sum()"
   ]
  },
  {
   "cell_type": "code",
   "execution_count": 8,
   "metadata": {},
   "outputs": [],
   "source": [
    "X = [] \n",
    "X = new_df.values.tolist()\n"
   ]
  },
  {
   "cell_type": "code",
   "execution_count": 9,
   "metadata": {},
   "outputs": [
    {
     "data": {
      "text/plain": [
       "4124"
      ]
     },
     "execution_count": 9,
     "metadata": {},
     "output_type": "execute_result"
    }
   ],
   "source": [
    "def count_non_null_in_list(X , col_id):\n",
    "    k=0\n",
    "    for row in X:\n",
    "        if math.isnan(row[3]) == True:\n",
    "            k= k+1\n",
    "    return k\n",
    "    \n",
    "count_non_null_in_list(X , 3)"
   ]
  },
  {
   "cell_type": "code",
   "execution_count": 11,
   "metadata": {
    "scrolled": true
   },
   "outputs": [],
   "source": [
    "def do_missing_transformation(X, test_time=False):\n",
    "    if test_time==False:\n",
    "        for row in X:\n",
    "            if math.isnan(row[3]) == True and row[7] == 1:\n",
    "                row[3] = 5.0\n",
    "            elif math.isnan(row[3]) == True:\n",
    "                row[3] = 3.0\n",
    "    else:\n",
    "        for row in X:\n",
    "            if math.isnan(row[3]) == True:\n",
    "                row[3] = 3.0\n",
    "\n",
    "do_missing_transformation(X)"
   ]
  },
  {
   "cell_type": "code",
   "execution_count": 12,
   "metadata": {},
   "outputs": [
    {
     "data": {
      "text/plain": [
       "0"
      ]
     },
     "execution_count": 12,
     "metadata": {},
     "output_type": "execute_result"
    }
   ],
   "source": [
    "count_non_null_in_list(X, 3)"
   ]
  },
  {
   "cell_type": "code",
   "execution_count": 14,
   "metadata": {},
   "outputs": [
    {
     "data": {
      "text/html": [
       "<div>\n",
       "<style scoped>\n",
       "    .dataframe tbody tr th:only-of-type {\n",
       "        vertical-align: middle;\n",
       "    }\n",
       "\n",
       "    .dataframe tbody tr th {\n",
       "        vertical-align: top;\n",
       "    }\n",
       "\n",
       "    .dataframe thead th {\n",
       "        text-align: right;\n",
       "    }\n",
       "</style>\n",
       "<table border=\"1\" class=\"dataframe\">\n",
       "  <thead>\n",
       "    <tr style=\"text-align: right;\">\n",
       "      <th></th>\n",
       "      <th>0</th>\n",
       "      <th>1</th>\n",
       "      <th>2</th>\n",
       "      <th>3</th>\n",
       "      <th>4</th>\n",
       "      <th>5</th>\n",
       "      <th>6</th>\n",
       "      <th>7</th>\n",
       "    </tr>\n",
       "  </thead>\n",
       "  <tbody>\n",
       "    <tr>\n",
       "      <th>0</th>\n",
       "      <td>Sales &amp; Marketing</td>\n",
       "      <td>region_7</td>\n",
       "      <td>1</td>\n",
       "      <td>5.0</td>\n",
       "      <td>8</td>\n",
       "      <td>1</td>\n",
       "      <td>49</td>\n",
       "      <td>0</td>\n",
       "    </tr>\n",
       "    <tr>\n",
       "      <th>1</th>\n",
       "      <td>Operations</td>\n",
       "      <td>region_22</td>\n",
       "      <td>1</td>\n",
       "      <td>5.0</td>\n",
       "      <td>4</td>\n",
       "      <td>0</td>\n",
       "      <td>60</td>\n",
       "      <td>0</td>\n",
       "    </tr>\n",
       "    <tr>\n",
       "      <th>2</th>\n",
       "      <td>Sales &amp; Marketing</td>\n",
       "      <td>region_19</td>\n",
       "      <td>1</td>\n",
       "      <td>3.0</td>\n",
       "      <td>7</td>\n",
       "      <td>0</td>\n",
       "      <td>50</td>\n",
       "      <td>0</td>\n",
       "    </tr>\n",
       "    <tr>\n",
       "      <th>3</th>\n",
       "      <td>Sales &amp; Marketing</td>\n",
       "      <td>region_23</td>\n",
       "      <td>2</td>\n",
       "      <td>1.0</td>\n",
       "      <td>10</td>\n",
       "      <td>0</td>\n",
       "      <td>50</td>\n",
       "      <td>0</td>\n",
       "    </tr>\n",
       "    <tr>\n",
       "      <th>4</th>\n",
       "      <td>Technology</td>\n",
       "      <td>region_26</td>\n",
       "      <td>1</td>\n",
       "      <td>3.0</td>\n",
       "      <td>2</td>\n",
       "      <td>0</td>\n",
       "      <td>73</td>\n",
       "      <td>0</td>\n",
       "    </tr>\n",
       "  </tbody>\n",
       "</table>\n",
       "</div>"
      ],
      "text/plain": [
       "                   0          1  2    3   4  5   6  7\n",
       "0  Sales & Marketing   region_7  1  5.0   8  1  49  0\n",
       "1         Operations  region_22  1  5.0   4  0  60  0\n",
       "2  Sales & Marketing  region_19  1  3.0   7  0  50  0\n",
       "3  Sales & Marketing  region_23  2  1.0  10  0  50  0\n",
       "4         Technology  region_26  1  3.0   2  0  73  0"
      ]
     },
     "execution_count": 14,
     "metadata": {},
     "output_type": "execute_result"
    }
   ],
   "source": [
    "df_visual = pd.DataFrame(X)\n",
    "df_visual.head()"
   ]
  },
  {
   "cell_type": "code",
   "execution_count": 95,
   "metadata": {},
   "outputs": [],
   "source": [
    "import numpy as np\n",
    "\n",
    "def get_features_and_labels(X):\n",
    "    X = np.array(X)\n",
    "    labels = X[:,-1]\n",
    "    X = X[:,:-1]\n",
    "    return X, labels\n",
    "\n",
    "X, labels = get_features_and_labels(X)"
   ]
  },
  {
   "cell_type": "code",
   "execution_count": 126,
   "metadata": {},
   "outputs": [
    {
     "data": {
      "text/plain": [
       "array([['Sales & Marketing', 'region_7', '1', ..., '1', '0', '49'],\n",
       "       ['Operations', 'region_22', '1', ..., '0', '0', '60'],\n",
       "       ['Sales & Marketing', 'region_19', '1', ..., '0', '0', '50'],\n",
       "       ...,\n",
       "       ['Analytics', 'region_1', '1', ..., '1', '0', '79'],\n",
       "       ['Sales & Marketing', 'region_9', '1', ..., '0', '0', '45'],\n",
       "       ['HR', 'region_22', '1', ..., '0', '0', '49']], dtype='<U17')"
      ]
     },
     "execution_count": 126,
     "metadata": {},
     "output_type": "execute_result"
    }
   ],
   "source": [
    "X"
   ]
  },
  {
   "cell_type": "markdown",
   "metadata": {},
   "source": [
    "# Visualization"
   ]
  },
  {
   "cell_type": "code",
   "execution_count": 18,
   "metadata": {},
   "outputs": [
    {
     "data": {
      "text/html": [
       "<div>\n",
       "<style scoped>\n",
       "    .dataframe tbody tr th:only-of-type {\n",
       "        vertical-align: middle;\n",
       "    }\n",
       "\n",
       "    .dataframe tbody tr th {\n",
       "        vertical-align: top;\n",
       "    }\n",
       "\n",
       "    .dataframe thead th {\n",
       "        text-align: right;\n",
       "    }\n",
       "</style>\n",
       "<table border=\"1\" class=\"dataframe\">\n",
       "  <thead>\n",
       "    <tr style=\"text-align: right;\">\n",
       "      <th></th>\n",
       "      <th>Department</th>\n",
       "      <th>region</th>\n",
       "      <th>trainings</th>\n",
       "      <th>rating</th>\n",
       "      <th>serivce</th>\n",
       "      <th>kpi</th>\n",
       "      <th>score</th>\n",
       "      <th>promoted</th>\n",
       "    </tr>\n",
       "  </thead>\n",
       "  <tbody>\n",
       "    <tr>\n",
       "      <th>0</th>\n",
       "      <td>Sales &amp; Marketing</td>\n",
       "      <td>region_7</td>\n",
       "      <td>1</td>\n",
       "      <td>5.0</td>\n",
       "      <td>8</td>\n",
       "      <td>1</td>\n",
       "      <td>49</td>\n",
       "      <td>0</td>\n",
       "    </tr>\n",
       "    <tr>\n",
       "      <th>1</th>\n",
       "      <td>Operations</td>\n",
       "      <td>region_22</td>\n",
       "      <td>1</td>\n",
       "      <td>5.0</td>\n",
       "      <td>4</td>\n",
       "      <td>0</td>\n",
       "      <td>60</td>\n",
       "      <td>0</td>\n",
       "    </tr>\n",
       "    <tr>\n",
       "      <th>2</th>\n",
       "      <td>Sales &amp; Marketing</td>\n",
       "      <td>region_19</td>\n",
       "      <td>1</td>\n",
       "      <td>3.0</td>\n",
       "      <td>7</td>\n",
       "      <td>0</td>\n",
       "      <td>50</td>\n",
       "      <td>0</td>\n",
       "    </tr>\n",
       "    <tr>\n",
       "      <th>3</th>\n",
       "      <td>Sales &amp; Marketing</td>\n",
       "      <td>region_23</td>\n",
       "      <td>2</td>\n",
       "      <td>1.0</td>\n",
       "      <td>10</td>\n",
       "      <td>0</td>\n",
       "      <td>50</td>\n",
       "      <td>0</td>\n",
       "    </tr>\n",
       "    <tr>\n",
       "      <th>4</th>\n",
       "      <td>Technology</td>\n",
       "      <td>region_26</td>\n",
       "      <td>1</td>\n",
       "      <td>3.0</td>\n",
       "      <td>2</td>\n",
       "      <td>0</td>\n",
       "      <td>73</td>\n",
       "      <td>0</td>\n",
       "    </tr>\n",
       "  </tbody>\n",
       "</table>\n",
       "</div>"
      ],
      "text/plain": [
       "          Department     region  trainings  rating  serivce  kpi  score  \\\n",
       "0  Sales & Marketing   region_7          1     5.0        8    1     49   \n",
       "1         Operations  region_22          1     5.0        4    0     60   \n",
       "2  Sales & Marketing  region_19          1     3.0        7    0     50   \n",
       "3  Sales & Marketing  region_23          2     1.0       10    0     50   \n",
       "4         Technology  region_26          1     3.0        2    0     73   \n",
       "\n",
       "   promoted  \n",
       "0         0  \n",
       "1         0  \n",
       "2         0  \n",
       "3         0  \n",
       "4         0  "
      ]
     },
     "execution_count": 18,
     "metadata": {},
     "output_type": "execute_result"
    }
   ],
   "source": [
    "\n",
    "df_visual = df_visual.rename(columns={\n",
    "    0:'department',\n",
    "    1:'region',\n",
    "    2:'trainings',\n",
    "    3:'rating',\n",
    "    4:'serivce',\n",
    "    5:'kpi',\n",
    "    6:'score',\n",
    "    7:'promoted'\n",
    "})\n",
    "df_visual.head()"
   ]
  },
  {
   "cell_type": "code",
   "execution_count": 15,
   "metadata": {},
   "outputs": [
    {
     "data": {
      "text/plain": [
       "0     object\n",
       "1     object\n",
       "2      int64\n",
       "3    float64\n",
       "4      int64\n",
       "5      int64\n",
       "6      int64\n",
       "7      int64\n",
       "dtype: object"
      ]
     },
     "execution_count": 15,
     "metadata": {},
     "output_type": "execute_result"
    }
   ],
   "source": [
    "df_visual.dtypes"
   ]
  },
  {
   "cell_type": "code",
   "execution_count": 21,
   "metadata": {},
   "outputs": [
    {
     "data": {
      "text/plain": [
       "0    0.91483\n",
       "1    0.08517\n",
       "Name: promoted, dtype: float64"
      ]
     },
     "execution_count": 21,
     "metadata": {},
     "output_type": "execute_result"
    }
   ],
   "source": [
    "# check what is the promotion rate. Same rate has to be there in cross validation\n",
    "promotion_rate = df_visual.promoted.value_counts() / len(df_visual)\n",
    "promotion_rate"
   ]
  },
  {
   "cell_type": "markdown",
   "metadata": {},
   "source": [
    "## Only 8.5 % of the people have been promoted according to the data "
   ]
  },
  {
   "cell_type": "code",
   "execution_count": 22,
   "metadata": {},
   "outputs": [
    {
     "data": {
      "text/html": [
       "<div>\n",
       "<style scoped>\n",
       "    .dataframe tbody tr th:only-of-type {\n",
       "        vertical-align: middle;\n",
       "    }\n",
       "\n",
       "    .dataframe tbody tr th {\n",
       "        vertical-align: top;\n",
       "    }\n",
       "\n",
       "    .dataframe thead th {\n",
       "        text-align: right;\n",
       "    }\n",
       "</style>\n",
       "<table border=\"1\" class=\"dataframe\">\n",
       "  <thead>\n",
       "    <tr style=\"text-align: right;\">\n",
       "      <th></th>\n",
       "      <th>trainings</th>\n",
       "      <th>rating</th>\n",
       "      <th>serivce</th>\n",
       "      <th>kpi</th>\n",
       "      <th>score</th>\n",
       "      <th>promoted</th>\n",
       "    </tr>\n",
       "  </thead>\n",
       "  <tbody>\n",
       "    <tr>\n",
       "      <th>count</th>\n",
       "      <td>54808.000000</td>\n",
       "      <td>54808.000000</td>\n",
       "      <td>54808.000000</td>\n",
       "      <td>54808.000000</td>\n",
       "      <td>54808.000000</td>\n",
       "      <td>54808.000000</td>\n",
       "    </tr>\n",
       "    <tr>\n",
       "      <th>mean</th>\n",
       "      <td>1.253011</td>\n",
       "      <td>3.316852</td>\n",
       "      <td>5.865512</td>\n",
       "      <td>0.351974</td>\n",
       "      <td>63.386750</td>\n",
       "      <td>0.085170</td>\n",
       "    </tr>\n",
       "    <tr>\n",
       "      <th>std</th>\n",
       "      <td>0.609264</td>\n",
       "      <td>1.221770</td>\n",
       "      <td>4.265094</td>\n",
       "      <td>0.477590</td>\n",
       "      <td>13.371559</td>\n",
       "      <td>0.279137</td>\n",
       "    </tr>\n",
       "    <tr>\n",
       "      <th>min</th>\n",
       "      <td>1.000000</td>\n",
       "      <td>1.000000</td>\n",
       "      <td>1.000000</td>\n",
       "      <td>0.000000</td>\n",
       "      <td>39.000000</td>\n",
       "      <td>0.000000</td>\n",
       "    </tr>\n",
       "    <tr>\n",
       "      <th>25%</th>\n",
       "      <td>1.000000</td>\n",
       "      <td>3.000000</td>\n",
       "      <td>3.000000</td>\n",
       "      <td>0.000000</td>\n",
       "      <td>51.000000</td>\n",
       "      <td>0.000000</td>\n",
       "    </tr>\n",
       "    <tr>\n",
       "      <th>50%</th>\n",
       "      <td>1.000000</td>\n",
       "      <td>3.000000</td>\n",
       "      <td>5.000000</td>\n",
       "      <td>0.000000</td>\n",
       "      <td>60.000000</td>\n",
       "      <td>0.000000</td>\n",
       "    </tr>\n",
       "    <tr>\n",
       "      <th>75%</th>\n",
       "      <td>1.000000</td>\n",
       "      <td>4.000000</td>\n",
       "      <td>7.000000</td>\n",
       "      <td>1.000000</td>\n",
       "      <td>76.000000</td>\n",
       "      <td>0.000000</td>\n",
       "    </tr>\n",
       "    <tr>\n",
       "      <th>max</th>\n",
       "      <td>10.000000</td>\n",
       "      <td>5.000000</td>\n",
       "      <td>37.000000</td>\n",
       "      <td>1.000000</td>\n",
       "      <td>99.000000</td>\n",
       "      <td>1.000000</td>\n",
       "    </tr>\n",
       "  </tbody>\n",
       "</table>\n",
       "</div>"
      ],
      "text/plain": [
       "          trainings        rating       serivce           kpi         score  \\\n",
       "count  54808.000000  54808.000000  54808.000000  54808.000000  54808.000000   \n",
       "mean       1.253011      3.316852      5.865512      0.351974     63.386750   \n",
       "std        0.609264      1.221770      4.265094      0.477590     13.371559   \n",
       "min        1.000000      1.000000      1.000000      0.000000     39.000000   \n",
       "25%        1.000000      3.000000      3.000000      0.000000     51.000000   \n",
       "50%        1.000000      3.000000      5.000000      0.000000     60.000000   \n",
       "75%        1.000000      4.000000      7.000000      1.000000     76.000000   \n",
       "max       10.000000      5.000000     37.000000      1.000000     99.000000   \n",
       "\n",
       "           promoted  \n",
       "count  54808.000000  \n",
       "mean       0.085170  \n",
       "std        0.279137  \n",
       "min        0.000000  \n",
       "25%        0.000000  \n",
       "50%        0.000000  \n",
       "75%        0.000000  \n",
       "max        1.000000  "
      ]
     },
     "execution_count": 22,
     "metadata": {},
     "output_type": "execute_result"
    }
   ],
   "source": [
    "df_visual.describe()"
   ]
  },
  {
   "cell_type": "code",
   "execution_count": 24,
   "metadata": {},
   "outputs": [
    {
     "data": {
      "text/html": [
       "<div>\n",
       "<style scoped>\n",
       "    .dataframe tbody tr th:only-of-type {\n",
       "        vertical-align: middle;\n",
       "    }\n",
       "\n",
       "    .dataframe tbody tr th {\n",
       "        vertical-align: top;\n",
       "    }\n",
       "\n",
       "    .dataframe thead th {\n",
       "        text-align: right;\n",
       "    }\n",
       "</style>\n",
       "<table border=\"1\" class=\"dataframe\">\n",
       "  <thead>\n",
       "    <tr style=\"text-align: right;\">\n",
       "      <th></th>\n",
       "      <th>trainings</th>\n",
       "      <th>rating</th>\n",
       "      <th>serivce</th>\n",
       "      <th>kpi</th>\n",
       "      <th>score</th>\n",
       "    </tr>\n",
       "    <tr>\n",
       "      <th>promoted</th>\n",
       "      <th></th>\n",
       "      <th></th>\n",
       "      <th></th>\n",
       "      <th></th>\n",
       "      <th></th>\n",
       "    </tr>\n",
       "  </thead>\n",
       "  <tbody>\n",
       "    <tr>\n",
       "      <th>0</th>\n",
       "      <td>1.257639</td>\n",
       "      <td>3.247686</td>\n",
       "      <td>5.879398</td>\n",
       "      <td>0.319685</td>\n",
       "      <td>62.647686</td>\n",
       "    </tr>\n",
       "    <tr>\n",
       "      <th>1</th>\n",
       "      <td>1.203299</td>\n",
       "      <td>4.059769</td>\n",
       "      <td>5.716367</td>\n",
       "      <td>0.698800</td>\n",
       "      <td>71.325193</td>\n",
       "    </tr>\n",
       "  </tbody>\n",
       "</table>\n",
       "</div>"
      ],
      "text/plain": [
       "          trainings    rating   serivce       kpi      score\n",
       "promoted                                                    \n",
       "0          1.257639  3.247686  5.879398  0.319685  62.647686\n",
       "1          1.203299  4.059769  5.716367  0.698800  71.325193"
      ]
     },
     "execution_count": 24,
     "metadata": {},
     "output_type": "execute_result"
    }
   ],
   "source": [
    "promoted = df_visual.groupby('promoted')\n",
    "promoted.mean()"
   ]
  },
  {
   "cell_type": "markdown",
   "metadata": {},
   "source": [
    "## Heatmap"
   ]
  },
  {
   "cell_type": "code",
   "execution_count": 29,
   "metadata": {},
   "outputs": [
    {
     "name": "stdout",
     "output_type": "stream",
     "text": [
      "           trainings    rating   serivce       kpi     score  promoted\n",
      "trainings   1.000000 -0.061298 -0.057275 -0.045576  0.042517 -0.024896\n",
      "rating     -0.061298  1.000000  0.011819  0.342857  0.077982  0.185536\n",
      "serivce    -0.057275  0.011819  1.000000 -0.077693 -0.038122 -0.010670\n",
      "kpi        -0.045576  0.342857 -0.077693  1.000000  0.078391  0.221582\n",
      "score       0.042517  0.077982 -0.038122  0.078391  1.000000  0.181147\n",
      "promoted   -0.024896  0.185536 -0.010670  0.221582  0.181147  1.000000\n"
     ]
    },
    {
     "data": {
      "text/plain": [
       "<matplotlib.axes._subplots.AxesSubplot at 0x19a53db1da0>"
      ]
     },
     "execution_count": 29,
     "metadata": {},
     "output_type": "execute_result"
    },
    {
     "data": {
      "image/png": "[encoded data removed]",
      "text/plain": [
       "<Figure size 432x288 with 2 Axes>"
      ]
     },
     "metadata": {},
     "output_type": "display_data"
    }
   ],
   "source": [
    "import seaborn as sns\n",
    "\n",
    "corr= df_visual.corr()\n",
    "print(corr)\n",
    "sns.heatmap(corr, \n",
    "            xticklabels=corr.columns.values,\n",
    "            yticklabels=corr.columns.values)"
   ]
  },
  {
   "cell_type": "markdown",
   "metadata": {},
   "source": [
    "### 1. rating and kpi are strongly correlated to each other. It means people who have good ratings are the ones who have achieved their KPI's\n",
    "### 2. rating, kpi and training score are the factors that contribute higly towards our target variable promotion\n"
   ]
  },
  {
   "cell_type": "code",
   "execution_count": 31,
   "metadata": {},
   "outputs": [
    {
     "data": {
      "text/plain": [
       "<seaborn.axisgrid.PairGrid at 0x19a53e3bda0>"
      ]
     },
     "execution_count": 31,
     "metadata": {},
     "output_type": "execute_result"
    },
    {
     "data": {
      "image/png": "[encoded data removed]",
      "text/plain": [
       "<Figure size 1080x1080 with 42 Axes>"
      ]
     },
     "metadata": {},
     "output_type": "display_data"
    }
   ],
   "source": [
    "sns.pairplot(df_visual)"
   ]
  },
  {
   "cell_type": "code",
   "execution_count": 35,
   "metadata": {},
   "outputs": [
    {
     "name": "stderr",
     "output_type": "stream",
     "text": [
      "c:\\users\\kanwal\\miniconda3\\lib\\site-packages\\matplotlib\\axes\\_axes.py:6462: UserWarning: The 'normed' kwarg is deprecated, and has been replaced by the 'density' kwarg.\n",
      "  warnings.warn(\"The 'normed' kwarg is deprecated, and has been \"\n",
      "c:\\users\\kanwal\\miniconda3\\lib\\site-packages\\matplotlib\\axes\\_axes.py:6462: UserWarning: The 'normed' kwarg is deprecated, and has been replaced by the 'density' kwarg.\n",
      "  warnings.warn(\"The 'normed' kwarg is deprecated, and has been \"\n",
      "c:\\users\\kanwal\\miniconda3\\lib\\site-packages\\matplotlib\\axes\\_axes.py:6462: UserWarning: The 'normed' kwarg is deprecated, and has been replaced by the 'density' kwarg.\n",
      "  warnings.warn(\"The 'normed' kwarg is deprecated, and has been \"\n"
     ]
    },
    {
     "data": {
      "text/plain": [
       "Text(0,0.5,'Employee Count')"
      ]
     },
     "execution_count": 35,
     "metadata": {},
     "output_type": "execute_result"
    },
    {
     "data": {
      "image/png": "[encoded data removed]",
      "text/plain": [
       "<Figure size 1080x432 with 3 Axes>"
      ]
     },
     "metadata": {},
     "output_type": "display_data"
    }
   ],
   "source": [
    "import matplotlib.pyplot as plt\n",
    "\n",
    "f, axes = plt.subplots(ncols=3, figsize=(15, 6))\n",
    "\n",
    "# Graph Employee Satisfaction\n",
    "sns.distplot(df_visual.rating, kde=False, color=\"g\", ax=axes[0]).set_title('Employee Rating Distribution')\n",
    "axes[0].set_ylabel('Employee Count')\n",
    "\n",
    "# Graph Employee Evaluation\n",
    "sns.distplot(df_visual.kpi, kde=False, color=\"r\", ax=axes[1]).set_title('Employee KPI Distribution')\n",
    "axes[1].set_ylabel('Employee Count')\n",
    "\n",
    "# Graph Employee Average Monthly Hours\n",
    "sns.distplot(df_visual.score, kde=False, color=\"b\", ax=axes[2]).set_title('Employee Score Distribution')\n",
    "axes[2].set_ylabel('Employee Count')\n"
   ]
  },
  {
   "cell_type": "markdown",
   "metadata": {},
   "source": [
    "## Promotion vs Department"
   ]
  },
  {
   "cell_type": "code",
   "execution_count": 43,
   "metadata": {},
   "outputs": [
    {
     "data": {
      "image/png": "[encoded data removed]",
      "text/plain": [
       "<Figure size 432x288 with 1 Axes>"
      ]
     },
     "metadata": {},
     "output_type": "display_data"
    }
   ],
   "source": [
    "sns.countplot(y='Department', data=df_visual).set_title('Employee Department Distribution');"
   ]
  },
  {
   "cell_type": "code",
   "execution_count": 45,
   "metadata": {},
   "outputs": [
    {
     "data": {
      "image/png": "[encoded data removed]",
      "text/plain": [
       "<Figure size 432x288 with 1 Axes>"
      ]
     },
     "metadata": {},
     "output_type": "display_data"
    }
   ],
   "source": [
    "sns.countplot(y='Department', hue='promoted', data=df_visual).set_title('Employee Department Promotion Distribution');"
   ]
  },
  {
   "cell_type": "code",
   "execution_count": 64,
   "metadata": {},
   "outputs": [
    {
     "data": {
      "text/plain": [
       "Department\n",
       "Analytics             9.566517\n",
       "Finance               8.123028\n",
       "HR                    5.624483\n",
       "Legal                 5.101059\n",
       "Operations            9.014804\n",
       "Procurement           9.638554\n",
       "R&D                   6.906907\n",
       "Sales & Marketing     7.203088\n",
       "Technology           10.759316\n",
       "Name: promoted, dtype: float64"
      ]
     },
     "execution_count": 64,
     "metadata": {},
     "output_type": "execute_result"
    }
   ],
   "source": [
    "promot_dept = df_visual.groupby(['Department'])\n",
    "promot_dept.promoted.mean()*100"
   ]
  },
  {
   "cell_type": "markdown",
   "metadata": {},
   "source": [
    "### Promotion Rates according to department\n",
    "\n",
    "Department\n",
    "Analytics             9.566517\n",
    "Finance               8.123028\n",
    "HR                    5.624483\n",
    "Legal                 5.101059\n",
    "Operations            9.014804\n",
    "Procurement           9.638554\n",
    "R&D                   6.906907\n",
    "Sales & Marketing     7.203088\n",
    "Technology           10.759316\n",
    "\n",
    "### Technology is the department which has the highest promotion rate. Sales and Marketing have the maximum number of people"
   ]
  },
  {
   "cell_type": "markdown",
   "metadata": {},
   "source": [
    "### Promotion vs Region"
   ]
  },
  {
   "cell_type": "code",
   "execution_count": 66,
   "metadata": {},
   "outputs": [
    {
     "data": {
      "image/png": "[encoded data removed]",
      "text/plain": [
       "<Figure size 1080x360 with 1 Axes>"
      ]
     },
     "metadata": {},
     "output_type": "display_data"
    }
   ],
   "source": [
    "f, ax = plt.subplots(figsize=(15, 5))\n",
    "sns.countplot(y='region', data=df_visual).set_title('Employee Region Distribution');\n"
   ]
  },
  {
   "cell_type": "code",
   "execution_count": 72,
   "metadata": {},
   "outputs": [
    {
     "data": {
      "image/png": "[encoded data removed]",
      "text/plain": [
       "<Figure size 1080x1080 with 1 Axes>"
      ]
     },
     "metadata": {},
     "output_type": "display_data"
    }
   ],
   "source": [
    "f, ax = plt.subplots(figsize=(15, 15))\n",
    "sns.countplot(y='region', hue='promoted', data=df_visual).set_title('Employee Region Distribution');\n"
   ]
  },
  {
   "cell_type": "code",
   "execution_count": 73,
   "metadata": {},
   "outputs": [
    {
     "data": {
      "text/plain": [
       "region\n",
       "region_1      9.508197\n",
       "region_10     7.870370\n",
       "region_11     5.627376\n",
       "region_12     6.600000\n",
       "region_13     8.685801\n",
       "region_14     7.496977\n",
       "region_15     7.905983\n",
       "region_16     6.962457\n",
       "region_17    13.693467\n",
       "region_18     3.225806\n",
       "region_19     6.064073\n",
       "region_2      8.012639\n",
       "region_20     5.764706\n",
       "region_21     4.379562\n",
       "region_22    11.418793\n",
       "region_23    11.659574\n",
       "region_24     3.543307\n",
       "region_25    12.576313\n",
       "region_26     6.327434\n",
       "region_27     7.896323\n",
       "region_28    11.684370\n",
       "region_29     4.325956\n",
       "region_3     10.693642\n",
       "region_30     8.980213\n",
       "region_31     5.684755\n",
       "region_32     4.232804\n",
       "region_33     3.717472\n",
       "region_34     2.739726\n",
       "region_4     14.445097\n",
       "region_5      4.569191\n",
       "region_6      4.637681\n",
       "region_7     10.654553\n",
       "region_8      8.091603\n",
       "region_9      1.904762\n",
       "Name: promoted, dtype: float64"
      ]
     },
     "execution_count": 73,
     "metadata": {},
     "output_type": "execute_result"
    }
   ],
   "source": [
    "promot_region = df_visual.groupby(['region'])\n",
    "promot_region.promoted.mean()*100"
   ]
  },
  {
   "cell_type": "markdown",
   "metadata": {},
   "source": [
    "## 14% of the Region 4 employees were promoted which is way above the average promotion rate"
   ]
  },
  {
   "cell_type": "code",
   "execution_count": 124,
   "metadata": {},
   "outputs": [
    {
     "data": {
      "text/plain": [
       "[(38.94, 51.0], (51.0, 63.0], (63.0, 75.0], (75.0, 87.0], (87.0, 99.0]]\n",
       "Categories (5, interval[float64]): [(38.94, 51.0] < (51.0, 63.0] < (63.0, 75.0] < (75.0, 87.0] < (87.0, 99.0]]"
      ]
     },
     "execution_count": 124,
     "metadata": {},
     "output_type": "execute_result"
    }
   ],
   "source": [
    "df_visual['score'].unique()"
   ]
  },
  {
   "cell_type": "code",
   "execution_count": 96,
   "metadata": {},
   "outputs": [],
   "source": [
    "#df_visual['score'] = pd.cut(df_visual['score'], 5)\n",
    "df_visual.head()\n",
    "X = np.array(df_visual.values)"
   ]
  },
  {
   "cell_type": "code",
   "execution_count": 97,
   "metadata": {},
   "outputs": [],
   "source": [
    "X, labels = get_features_and_labels(X)"
   ]
  },
  {
   "cell_type": "markdown",
   "metadata": {},
   "source": [
    "# One Hot Encoding"
   ]
  },
  {
   "cell_type": "code",
   "execution_count": 98,
   "metadata": {},
   "outputs": [],
   "source": [
    "from sklearn.preprocessing import OneHotEncoder, LabelEncoder\n",
    "\n",
    "def one_hot_encoding(X , col_id):\n",
    "    lbl = LabelEncoder()\n",
    "    enc = OneHotEncoder(sparse=False)\n",
    "    X[:,col_id] = lbl.fit_transform(X[:,col_id])\n",
    "    integer_encoded = X[:,col_id].reshape(len(X[:,col_id]), 1)\n",
    "    onehot_encoded = enc.fit_transform(integer_encoded)\n",
    "    onehot_encoded = np.array(onehot_encoded)\n",
    "    new_X = np.append(np.delete(X, col_id, axis = 1),onehot_encoded, axis = 1)\n",
    "    print(new_X.shape)\n",
    "    return new_X"
   ]
  },
  {
   "cell_type": "code",
   "execution_count": 105,
   "metadata": {},
   "outputs": [
    {
     "data": {
      "text/plain": [
       "array([1, 5.0, 8, 1, 0.0, 0.0, 0.0, 0.0, 0.0, 0.0, 0.0, 1.0, 0.0, 0.0,\n",
       "       0.0, 0.0, 0.0, 0.0, 0.0, 0.0, 0.0, 0.0, 0.0, 0.0, 0.0, 0.0, 0.0,\n",
       "       0.0, 0.0, 0.0, 0.0, 0.0, 0.0, 0.0, 0.0, 0.0, 0.0, 0.0, 0.0, 0.0,\n",
       "       0.0, 0.0, 0.0, 0.0, 1.0, 0.0, 0.0, 1.0, 0.0, 0.0, 0.0, 0.0],\n",
       "      dtype=object)"
      ]
     },
     "execution_count": 105,
     "metadata": {},
     "output_type": "execute_result"
    }
   ],
   "source": [
    "X[0]"
   ]
  },
  {
   "cell_type": "code",
   "execution_count": 106,
   "metadata": {},
   "outputs": [
    {
     "name": "stdout",
     "output_type": "stream",
     "text": [
      "(54808, 56)\n"
     ]
    },
    {
     "data": {
      "text/plain": [
       "array([[1, 8, 1, ..., 0.0, 0.0, 1.0],\n",
       "       [1, 4, 0, ..., 0.0, 0.0, 1.0],\n",
       "       [1, 7, 0, ..., 1.0, 0.0, 0.0],\n",
       "       ...,\n",
       "       [1, 3, 1, ..., 0.0, 0.0, 1.0],\n",
       "       [1, 2, 0, ..., 0.0, 0.0, 0.0],\n",
       "       [1, 5, 0, ..., 0.0, 0.0, 0.0]], dtype=object)"
      ]
     },
     "execution_count": 106,
     "metadata": {},
     "output_type": "execute_result"
    }
   ],
   "source": [
    "X = one_hot_encoding(X, 1)\n",
    "X"
   ]
  },
  {
   "cell_type": "markdown",
   "metadata": {},
   "source": [
    "# Train Test Split"
   ]
  },
  {
   "cell_type": "code",
   "execution_count": 107,
   "metadata": {},
   "outputs": [],
   "source": [
    "from sklearn.model_selection import train_test_split\n",
    "\n",
    "X_train, X_valid , y_train, y_valid = train_test_split(X, labels, test_size =0.15, shuffle=True)"
   ]
  },
  {
   "cell_type": "code",
   "execution_count": 108,
   "metadata": {},
   "outputs": [
    {
     "data": {
      "text/plain": [
       "((46586, 56), (46586,), (8222, 56), (8222,))"
      ]
     },
     "execution_count": 108,
     "metadata": {},
     "output_type": "execute_result"
    }
   ],
   "source": [
    "X_train.shape , y_train.shape , X_valid.shape , y_valid.shape"
   ]
  },
  {
   "cell_type": "markdown",
   "metadata": {},
   "source": [
    "# Classifiers"
   ]
  },
  {
   "cell_type": "code",
   "execution_count": 114,
   "metadata": {},
   "outputs": [],
   "source": [
    "from sklearn.metrics import accuracy_score, classification_report, confusion_matrix\n",
    "\n",
    "def print_summary(classifier , X_valid, y_valid):\n",
    "    prediction = classifier.predict(X_valid)\n",
    "    print(accuracy_score(y_valid, prediction))\n",
    "    print(classification_report(y_valid, prediction))\n",
    "    print(confusion_matrix(y_valid, prediction))"
   ]
  },
  {
   "cell_type": "code",
   "execution_count": 115,
   "metadata": {},
   "outputs": [],
   "source": [
    "from sklearn.ensemble import RandomForestClassifier \n",
    "from sklearn import tree \n",
    "from sklearn.svm import SVC\n",
    "from sklearn.naive_bayes import GaussianNB\n",
    "from sklearn.neighbors import KNeighborsClassifier\n",
    "from sklearn.ensemble import AdaBoostClassifier\n",
    "from sklearn.ensemble import GradientBoostingClassifier\n",
    "from xgboost import XGBClassifier\n",
    "\n",
    "def try_default_classifiers(X_train, y_train):\n",
    "    classifier_rf = RandomForestClassifier()\n",
    "    classifier_rf.fit(X_train, y_train)\n",
    "    print(\"For Random Forests:\\n\")\n",
    "    print_summary(classifier_rf, X_valid, y_valid)\n",
    "    \n",
    "    classifier_t = tree.DecisionTreeClassifier()\n",
    "    classifier_t.fit(X_train, y_train)\n",
    "    print(\"For Decision Tree:\\n\")\n",
    "    print_summary(classifier_t, X_valid, y_valid)\n",
    "    \n",
    "    classifier_svc = SVC()\n",
    "    classifier_svc.fit(X_train, y_train)\n",
    "    print(\"For SVC:\\n\")\n",
    "    print_summary( classifier_svc, X_valid, y_valid)\n",
    "    \n",
    "    classifier_nb = GaussianNB()\n",
    "    classifier_nb.fit(X_train, y_train)\n",
    "    print(\"For Naive Bayes:\\n\")\n",
    "    print_summary( classifier_nb, X_valid, y_valid)\n",
    "    \n",
    "    classifier_knn = KNeighborsClassifier()\n",
    "    classifier_knn.fit(X_train, y_train)\n",
    "    print(\"For KNN:\\n\")\n",
    "    print_summary( classifier_knn, X_valid, y_valid)\n",
    "    \n",
    "    classifier_ada = AdaBoostClassifier()\n",
    "    classifier_ada.fit(X_train, y_train)\n",
    "    print(\"For Adaboost:\\n\")\n",
    "    print_summary( classifier_ada, X_valid, y_valid)\n",
    "    \n",
    "    classifier_gbc = GradientBoostingClassifier()\n",
    "    classifier_gbc.fit(X_train, y_train)\n",
    "    print(\"For Gradient Boosting:\\n\")\n",
    "    print_summary( classifier_gbc, X_valid, y_valid)\n",
    "    \n",
    "    classifier_xgb = XGBClassifier()\n",
    "    classifier_xgb.fit(X_train, y_train)\n",
    "    print(\"For XG Boosting:\\n\")\n",
    "    print_summary( classifier_xgb, X_valid, y_valid)\n",
    "    \n",
    "    return [classifier_rf, classifier_t, classifier_svc, classifier_nb, classifier_knn,classifier_ada,classifier_gbc,classifier_xgb]\n",
    "   "
   ]
  },
  {
   "cell_type": "code",
   "execution_count": 116,
   "metadata": {},
   "outputs": [],
   "source": [
    "X_train =X_train.astype(float)\n",
    "y_train = y_train.astype(float)\n",
    "X_valid = X_valid.astype(float)\n",
    "y_valid = y_valid.astype(float)"
   ]
  },
  {
   "cell_type": "code",
   "execution_count": 117,
   "metadata": {
    "scrolled": false
   },
   "outputs": [
    {
     "name": "stdout",
     "output_type": "stream",
     "text": [
      "For Random Forests:\n",
      "\n",
      "0.9181464363901727\n",
      "             precision    recall  f1-score   support\n",
      "\n",
      "        0.0       0.94      0.97      0.96      7514\n",
      "        1.0       0.54      0.35      0.42       708\n",
      "\n",
      "avg / total       0.91      0.92      0.91      8222\n",
      "\n",
      "[[7304  210]\n",
      " [ 463  245]]\n",
      "For Decision Tree:\n",
      "\n",
      "0.9147409389442958\n",
      "             precision    recall  f1-score   support\n",
      "\n",
      "        0.0       0.94      0.97      0.95      7514\n",
      "        1.0       0.51      0.36      0.42       708\n",
      "\n",
      "avg / total       0.90      0.91      0.91      8222\n",
      "\n",
      "[[7268  246]\n",
      " [ 455  253]]\n",
      "For SVC:\n",
      "\n",
      "0.9261736803697397\n",
      "             precision    recall  f1-score   support\n",
      "\n",
      "        0.0       0.93      1.00      0.96      7514\n",
      "        1.0       0.93      0.15      0.26       708\n",
      "\n",
      "avg / total       0.93      0.93      0.90      8222\n",
      "\n",
      "[[7506    8]\n",
      " [ 599  109]]\n",
      "For Naive Bayes:\n",
      "\n",
      "0.5822184383361713\n",
      "             precision    recall  f1-score   support\n",
      "\n",
      "        0.0       0.96      0.57      0.71      7514\n",
      "        1.0       0.14      0.76      0.24       708\n",
      "\n",
      "avg / total       0.89      0.58      0.67      8222\n",
      "\n",
      "[[4246 3268]\n",
      " [ 167  541]]\n",
      "For KNN:\n",
      "\n",
      "0.9183896862077353\n",
      "             precision    recall  f1-score   support\n",
      "\n",
      "        0.0       0.93      0.99      0.96      7514\n",
      "        1.0       0.59      0.18      0.27       708\n",
      "\n",
      "avg / total       0.90      0.92      0.90      8222\n",
      "\n",
      "[[7425   89]\n",
      " [ 582  126]]\n",
      "For Adaboost:\n",
      "\n",
      "0.9189978107516419\n",
      "             precision    recall  f1-score   support\n",
      "\n",
      "        0.0       0.92      0.99      0.96      7514\n",
      "        1.0       0.66      0.12      0.21       708\n",
      "\n",
      "avg / total       0.90      0.92      0.89      8222\n",
      "\n",
      "[[7470   44]\n",
      " [ 622   86]]\n",
      "For Gradient Boosting:\n",
      "\n",
      "0.9355387983459013\n",
      "             precision    recall  f1-score   support\n",
      "\n",
      "        0.0       0.94      1.00      0.97      7514\n",
      "        1.0       0.93      0.27      0.42       708\n",
      "\n",
      "avg / total       0.94      0.94      0.92      8222\n",
      "\n",
      "[[7500   14]\n",
      " [ 516  192]]\n",
      "For XG Boosting:\n",
      "\n",
      "0.9334711748966188\n",
      "             precision    recall  f1-score   support\n",
      "\n",
      "        0.0       0.93      1.00      0.96      7514\n",
      "        1.0       0.97      0.23      0.38       708\n",
      "\n",
      "avg / total       0.94      0.93      0.91      8222\n",
      "\n",
      "[[7509    5]\n",
      " [ 542  166]]\n"
     ]
    },
    {
     "name": "stderr",
     "output_type": "stream",
     "text": [
      "c:\\users\\kanwal\\miniconda3\\lib\\site-packages\\sklearn\\preprocessing\\label.py:151: DeprecationWarning: The truth value of an empty array is ambiguous. Returning False, but in future this will result in an error. Use `array.size > 0` to check that an array is not empty.\n",
      "  if diff:\n"
     ]
    }
   ],
   "source": [
    "classifier_list = try_default_classifiers(X_train, y_train)"
   ]
  },
  {
   "cell_type": "code",
   "execution_count": 118,
   "metadata": {},
   "outputs": [
    {
     "data": {
      "text/plain": [
       "GradientBoostingClassifier(criterion='friedman_mse', init=None,\n",
       "              learning_rate=0.1, loss='deviance', max_depth=3,\n",
       "              max_features=None, max_leaf_nodes=None,\n",
       "              min_impurity_decrease=0.0, min_impurity_split=None,\n",
       "              min_samples_leaf=1, min_samples_split=2,\n",
       "              min_weight_fraction_leaf=0.0, n_estimators=100,\n",
       "              presort='auto', random_state=None, subsample=1.0, verbose=0,\n",
       "              warm_start=False)"
      ]
     },
     "execution_count": 118,
     "metadata": {},
     "output_type": "execute_result"
    }
   ],
   "source": [
    "final_model = classifier_list[6]\n",
    "final_model"
   ]
  },
  {
   "cell_type": "markdown",
   "metadata": {},
   "source": [
    "# Neural Network"
   ]
  },
  {
   "cell_type": "code",
   "execution_count": 178,
   "metadata": {},
   "outputs": [
    {
     "name": "stderr",
     "output_type": "stream",
     "text": [
      "Using TensorFlow backend.\n"
     ]
    }
   ],
   "source": [
    "import keras\n",
    "from keras.layers import BatchNormalization\n",
    "from keras.layers.core import Flatten,Dense,Dropout, Activation, Lambda\n",
    "from keras.models import Model, Sequential\n",
    "from keras.optimizers import Adam,SGD\n",
    "from keras.callbacks import TensorBoard"
   ]
  },
  {
   "cell_type": "code",
   "execution_count": 181,
   "metadata": {},
   "outputs": [],
   "source": [
    "model = Sequential()\n",
    "#model.add(Lambda(lambda x: x , input_shape = (24)))\n",
    "#model.add(Lambda(lambda x: x+0.1 , input_shape = (64,64,3)))\n",
    "#model.add(Flatten())\n",
    "model.add(BatchNormalization(input_shape=(56,)))\n",
    "model.add(Dense(1000))\n",
    "model.add(Activation('relu'))\n",
    "\n",
    "\n",
    "#model.add(Dropout(0.2))\n",
    "model.add(BatchNormalization())\n",
    "model.add(Dense(500))\n",
    "model.add(Activation('relu'))\n",
    "#model.add(Dropout(0.2))\n",
    "#model.add(BatchNormalization())\n",
    "model.add(Dense(50))\n",
    "model.add(Activation('relu'))\n",
    "\n",
    "model.add(Dense(1))\n",
    "model.add(Activation('sigmoid'))\n",
    "model.compile(optimizer = 'Adam' , loss = 'binary_crossentropy', metrics=['accuracy'])"
   ]
  },
  {
   "cell_type": "code",
   "execution_count": 182,
   "metadata": {},
   "outputs": [
    {
     "name": "stdout",
     "output_type": "stream",
     "text": [
      "Train on 46586 samples, validate on 8222 samples\n",
      "Epoch 1/10\n",
      "46586/46586 [==============================] - 15s 330us/step - loss: 0.2167 - acc: 0.9264 - val_loss: 0.1927 - val_acc: 0.9327\n",
      "Epoch 2/10\n",
      "46586/46586 [==============================] - 14s 310us/step - loss: 0.1900 - acc: 0.9323 - val_loss: 0.1904 - val_acc: 0.9333\n",
      "Epoch 3/10\n",
      "46586/46586 [==============================] - 14s 310us/step - loss: 0.1853 - acc: 0.9326 - val_loss: 0.1928 - val_acc: 0.9321\n",
      "Epoch 4/10\n",
      "46586/46586 [==============================] - 15s 311us/step - loss: 0.1840 - acc: 0.9330 - val_loss: 0.1881 - val_acc: 0.9330\n",
      "Epoch 5/10\n",
      "46586/46586 [==============================] - 15s 312us/step - loss: 0.1811 - acc: 0.9335 - val_loss: 0.1960 - val_acc: 0.9320\n",
      "Epoch 6/10\n",
      "46586/46586 [==============================] - 15s 313us/step - loss: 0.1787 - acc: 0.9335 - val_loss: 0.1873 - val_acc: 0.9323\n",
      "Epoch 7/10\n",
      "46586/46586 [==============================] - 15s 311us/step - loss: 0.1769 - acc: 0.9339 - val_loss: 0.1900 - val_acc: 0.9320\n",
      "Epoch 8/10\n",
      "46586/46586 [==============================] - 15s 312us/step - loss: 0.1752 - acc: 0.9349 - val_loss: 0.1863 - val_acc: 0.9340\n",
      "Epoch 9/10\n",
      "46586/46586 [==============================] - 15s 321us/step - loss: 0.1732 - acc: 0.9358 - val_loss: 0.1840 - val_acc: 0.9348\n",
      "Epoch 10/10\n",
      "46586/46586 [==============================] - 15s 320us/step - loss: 0.1708 - acc: 0.9361 - val_loss: 0.1874 - val_acc: 0.9348\n"
     ]
    },
    {
     "data": {
      "text/plain": [
       "<keras.callbacks.History at 0x19a4b39b0b8>"
      ]
     },
     "execution_count": 182,
     "metadata": {},
     "output_type": "execute_result"
    }
   ],
   "source": [
    "model.fit(X_train, y_train, epochs=10, verbose =1, validation_data=(X_valid, y_valid), batch_size =64)"
   ]
  },
  {
   "cell_type": "markdown",
   "metadata": {},
   "source": [
    "# Test Data Prediction"
   ]
  },
  {
   "cell_type": "code",
   "execution_count": 120,
   "metadata": {},
   "outputs": [
    {
     "name": "stdout",
     "output_type": "stream",
     "text": [
      "<class 'pandas.core.frame.DataFrame'>\n",
      "RangeIndex: 23490 entries, 0 to 23489\n",
      "Data columns (total 13 columns):\n",
      "employee_id             23490 non-null int64\n",
      "department              23490 non-null object\n",
      "region                  23490 non-null object\n",
      "education               22456 non-null object\n",
      "gender                  23490 non-null object\n",
      "recruitment_channel     23490 non-null object\n",
      "no_of_trainings         23490 non-null int64\n",
      "age                     23490 non-null int64\n",
      "previous_year_rating    21678 non-null float64\n",
      "length_of_service       23490 non-null int64\n",
      "KPIs_met >80%           23490 non-null int64\n",
      "awards_won?             23490 non-null int64\n",
      "avg_training_score      23490 non-null int64\n",
      "dtypes: float64(1), int64(7), object(5)\n",
      "memory usage: 2.3+ MB\n",
      "None\n"
     ]
    }
   ],
   "source": [
    "test_df = read_csv_file('test.csv')"
   ]
  },
  {
   "cell_type": "code",
   "execution_count": 121,
   "metadata": {},
   "outputs": [
    {
     "data": {
      "text/html": [
       "<div>\n",
       "<style scoped>\n",
       "    .dataframe tbody tr th:only-of-type {\n",
       "        vertical-align: middle;\n",
       "    }\n",
       "\n",
       "    .dataframe tbody tr th {\n",
       "        vertical-align: top;\n",
       "    }\n",
       "\n",
       "    .dataframe thead th {\n",
       "        text-align: right;\n",
       "    }\n",
       "</style>\n",
       "<table border=\"1\" class=\"dataframe\">\n",
       "  <thead>\n",
       "    <tr style=\"text-align: right;\">\n",
       "      <th></th>\n",
       "      <th>department</th>\n",
       "      <th>region</th>\n",
       "      <th>no_of_trainings</th>\n",
       "      <th>previous_year_rating</th>\n",
       "      <th>length_of_service</th>\n",
       "      <th>KPIs_met &gt;80%</th>\n",
       "      <th>avg_training_score</th>\n",
       "    </tr>\n",
       "  </thead>\n",
       "  <tbody>\n",
       "    <tr>\n",
       "      <th>0</th>\n",
       "      <td>Technology</td>\n",
       "      <td>region_26</td>\n",
       "      <td>1</td>\n",
       "      <td>NaN</td>\n",
       "      <td>1</td>\n",
       "      <td>1</td>\n",
       "      <td>77</td>\n",
       "    </tr>\n",
       "    <tr>\n",
       "      <th>1</th>\n",
       "      <td>HR</td>\n",
       "      <td>region_4</td>\n",
       "      <td>1</td>\n",
       "      <td>3.0</td>\n",
       "      <td>5</td>\n",
       "      <td>0</td>\n",
       "      <td>51</td>\n",
       "    </tr>\n",
       "    <tr>\n",
       "      <th>2</th>\n",
       "      <td>Sales &amp; Marketing</td>\n",
       "      <td>region_13</td>\n",
       "      <td>1</td>\n",
       "      <td>1.0</td>\n",
       "      <td>4</td>\n",
       "      <td>0</td>\n",
       "      <td>47</td>\n",
       "    </tr>\n",
       "    <tr>\n",
       "      <th>3</th>\n",
       "      <td>Procurement</td>\n",
       "      <td>region_2</td>\n",
       "      <td>3</td>\n",
       "      <td>2.0</td>\n",
       "      <td>9</td>\n",
       "      <td>0</td>\n",
       "      <td>65</td>\n",
       "    </tr>\n",
       "    <tr>\n",
       "      <th>4</th>\n",
       "      <td>Finance</td>\n",
       "      <td>region_29</td>\n",
       "      <td>1</td>\n",
       "      <td>4.0</td>\n",
       "      <td>7</td>\n",
       "      <td>0</td>\n",
       "      <td>61</td>\n",
       "    </tr>\n",
       "  </tbody>\n",
       "</table>\n",
       "</div>"
      ],
      "text/plain": [
       "          department     region  no_of_trainings  previous_year_rating  \\\n",
       "0         Technology  region_26                1                   NaN   \n",
       "1                 HR   region_4                1                   3.0   \n",
       "2  Sales & Marketing  region_13                1                   1.0   \n",
       "3        Procurement   region_2                3                   2.0   \n",
       "4            Finance  region_29                1                   4.0   \n",
       "\n",
       "   length_of_service  KPIs_met >80%  avg_training_score  \n",
       "0                  1              1                  77  \n",
       "1                  5              0                  51  \n",
       "2                  4              0                  47  \n",
       "3                  9              0                  65  \n",
       "4                  7              0                  61  "
      ]
     },
     "execution_count": 121,
     "metadata": {},
     "output_type": "execute_result"
    }
   ],
   "source": [
    "\n",
    "new_test_df = drop_columns(test_df, columns_to_be_dropped)\n",
    "new_test_df.head()"
   ]
  },
  {
   "cell_type": "code",
   "execution_count": 131,
   "metadata": {},
   "outputs": [
    {
     "name": "stdout",
     "output_type": "stream",
     "text": [
      "Enter bins as comma seperated list51.0,63.0,75.0,87.0\n"
     ]
    },
    {
     "data": {
      "text/plain": [
       "0         (75.0, 87.0]\n",
       "1        (38.94, 51.0]\n",
       "2        (38.94, 51.0]\n",
       "3         (63.0, 75.0]\n",
       "4         (51.0, 63.0]\n",
       "5         (63.0, 75.0]\n",
       "6         (51.0, 63.0]\n",
       "7         (75.0, 87.0]\n",
       "8         (63.0, 75.0]\n",
       "9         (75.0, 87.0]\n",
       "10       (38.94, 51.0]\n",
       "11       (38.94, 51.0]\n",
       "12        (51.0, 63.0]\n",
       "13        (75.0, 87.0]\n",
       "14        (51.0, 63.0]\n",
       "15       (38.94, 51.0]\n",
       "16        (51.0, 63.0]\n",
       "17       (38.94, 51.0]\n",
       "18        (63.0, 75.0]\n",
       "19        (63.0, 75.0]\n",
       "20       (38.94, 51.0]\n",
       "21        (75.0, 87.0]\n",
       "22        (75.0, 87.0]\n",
       "23        (75.0, 87.0]\n",
       "24        (51.0, 63.0]\n",
       "25        (51.0, 63.0]\n",
       "26       (38.94, 51.0]\n",
       "27        (75.0, 87.0]\n",
       "28        (51.0, 63.0]\n",
       "29       (38.94, 51.0]\n",
       "             ...      \n",
       "23460     (63.0, 75.0]\n",
       "23461    (38.94, 51.0]\n",
       "23462     (75.0, 87.0]\n",
       "23463     (75.0, 87.0]\n",
       "23464     (75.0, 87.0]\n",
       "23465     (75.0, 87.0]\n",
       "23466     (75.0, 87.0]\n",
       "23467     (75.0, 87.0]\n",
       "23468    (38.94, 51.0]\n",
       "23469     (63.0, 75.0]\n",
       "23470    (38.94, 51.0]\n",
       "23471     (63.0, 75.0]\n",
       "23472     (75.0, 87.0]\n",
       "23473     (51.0, 63.0]\n",
       "23474     (51.0, 63.0]\n",
       "23475     (51.0, 63.0]\n",
       "23476    (38.94, 51.0]\n",
       "23477     (63.0, 75.0]\n",
       "23478     (63.0, 75.0]\n",
       "23479    (38.94, 51.0]\n",
       "23480     (51.0, 63.0]\n",
       "23481     (51.0, 63.0]\n",
       "23482    (38.94, 51.0]\n",
       "23483    (38.94, 51.0]\n",
       "23484    (38.94, 51.0]\n",
       "23485     (51.0, 63.0]\n",
       "23486     (63.0, 75.0]\n",
       "23487    (38.94, 51.0]\n",
       "23488     (63.0, 75.0]\n",
       "23489     (87.0, 99.0]\n",
       "Name: avg_training_score, Length: 23490, dtype: category\n",
       "Categories (5, interval[float64]): [(38.94, 51.0] < (51.0, 63.0] < (63.0, 75.0] < (75.0, 87.0] < (87.0, 99.0]]"
      ]
     },
     "execution_count": 131,
     "metadata": {},
     "output_type": "execute_result"
    }
   ],
   "source": [
    "\n",
    "bin_range = [38.94, 99.0]\n",
    "bin_input = input(\"Enter bins as comma seperated list\")\n",
    "bin_input_parsed = [float(x.strip()) for x in bin_input.split(',')]\n",
    "\n",
    "bins = [bin_range[0]] + bin_input_parsed + [bin_range[1]]\n"
   ]
  },
  {
   "cell_type": "code",
   "execution_count": 132,
   "metadata": {},
   "outputs": [],
   "source": [
    " new_test_df['avg_training_score'] = pd.cut( new_test_df['avg_training_score'], bins)"
   ]
  },
  {
   "cell_type": "code",
   "execution_count": 133,
   "metadata": {},
   "outputs": [
    {
     "data": {
      "text/plain": [
       "department                 0\n",
       "region                     0\n",
       "no_of_trainings            0\n",
       "previous_year_rating    1812\n",
       "length_of_service          0\n",
       "KPIs_met >80%              0\n",
       "avg_training_score         0\n",
       "dtype: int64"
      ]
     },
     "execution_count": 133,
     "metadata": {},
     "output_type": "execute_result"
    }
   ],
   "source": [
    "new_test_df.isnull().sum()"
   ]
  },
  {
   "cell_type": "code",
   "execution_count": 144,
   "metadata": {},
   "outputs": [
    {
     "data": {
      "text/plain": [
       "0     1\n",
       "1     0\n",
       "2     0\n",
       "3     0\n",
       "4     0\n",
       "5     0\n",
       "6     1\n",
       "7     0\n",
       "8     0\n",
       "9     1\n",
       "10    1\n",
       "11    0\n",
       "12    0\n",
       "14    1\n",
       "15    1\n",
       "16    0\n",
       "19    0\n",
       "21    0\n",
       "22    0\n",
       "24    1\n",
       "26    1\n",
       "28    0\n",
       "29    0\n",
       "31    0\n",
       "32    1\n",
       "37    1\n",
       "39    0\n",
       "41    0\n",
       "47    1\n",
       "52    0\n",
       "Name: KPIs_met >80%, dtype: int64"
      ]
     },
     "execution_count": 144,
     "metadata": {},
     "output_type": "execute_result"
    }
   ],
   "source": []
  },
  {
   "cell_type": "code",
   "execution_count": 145,
   "metadata": {},
   "outputs": [],
   "source": [
    "X_test_1 = [] \n",
    "X_test_1 = new_test_df.values.tolist()\n",
    "\n",
    "#do_missing_transformation(X_test_1,True)\n",
    "\n"
   ]
  },
  {
   "cell_type": "code",
   "execution_count": 148,
   "metadata": {},
   "outputs": [],
   "source": [
    "for i in X_test_1:\n",
    "    if(i[5] == 1 and math.isnan(i[3])):\n",
    "        i[3] = 5.0\n",
    "    elif(i[5] == 0 and math.isnan(i[3])):\n",
    "        i[3] = 3.0"
   ]
  },
  {
   "cell_type": "code",
   "execution_count": 149,
   "metadata": {},
   "outputs": [
    {
     "data": {
      "text/plain": [
       "0"
      ]
     },
     "execution_count": 149,
     "metadata": {},
     "output_type": "execute_result"
    }
   ],
   "source": [
    "count_non_null_in_list(X_test_1,3)"
   ]
  },
  {
   "cell_type": "code",
   "execution_count": 150,
   "metadata": {},
   "outputs": [
    {
     "data": {
      "text/plain": [
       "(23490, 7)"
      ]
     },
     "execution_count": 150,
     "metadata": {},
     "output_type": "execute_result"
    }
   ],
   "source": [
    "X_test_1 = np.array(X_test_1)\n",
    "X_test_1.shape"
   ]
  },
  {
   "cell_type": "code",
   "execution_count": 157,
   "metadata": {},
   "outputs": [
    {
     "data": {
      "text/plain": [
       "array([1, 5.0, 1, 1, 0.0, 0.0, 0.0, 0.0, 0.0, 0.0, 0.0, 0.0, 1.0, 0.0,\n",
       "       0.0, 0.0, 0.0, 0.0, 0.0, 0.0, 0.0, 0.0, 0.0, 0.0, 0.0, 0.0, 0.0,\n",
       "       0.0, 0.0, 0.0, 0.0, 1.0, 0.0, 0.0, 0.0, 0.0, 0.0, 0.0, 0.0, 0.0,\n",
       "       0.0, 0.0, 0.0, 0.0, 0.0, 0.0, 0.0, 0.0, 0.0, 0.0, 1.0, 0.0],\n",
       "      dtype=object)"
      ]
     },
     "execution_count": 157,
     "metadata": {},
     "output_type": "execute_result"
    }
   ],
   "source": [
    "X_test_1[0]"
   ]
  },
  {
   "cell_type": "code",
   "execution_count": 158,
   "metadata": {},
   "outputs": [
    {
     "name": "stdout",
     "output_type": "stream",
     "text": [
      "(23490, 56)\n"
     ]
    }
   ],
   "source": [
    "X_test_1 = one_hot_encoding(X_test_1,1)"
   ]
  },
  {
   "cell_type": "code",
   "execution_count": 159,
   "metadata": {},
   "outputs": [
    {
     "data": {
      "text/plain": [
       "array([1, 1, 1, 0.0, 0.0, 0.0, 0.0, 0.0, 0.0, 0.0, 0.0, 1.0, 0.0, 0.0,\n",
       "       0.0, 0.0, 0.0, 0.0, 0.0, 0.0, 0.0, 0.0, 0.0, 0.0, 0.0, 0.0, 0.0,\n",
       "       0.0, 0.0, 0.0, 1.0, 0.0, 0.0, 0.0, 0.0, 0.0, 0.0, 0.0, 0.0, 0.0,\n",
       "       0.0, 0.0, 0.0, 0.0, 0.0, 0.0, 0.0, 0.0, 0.0, 1.0, 0.0, 0.0, 0.0,\n",
       "       0.0, 0.0, 1.0], dtype=object)"
      ]
     },
     "execution_count": 159,
     "metadata": {},
     "output_type": "execute_result"
    }
   ],
   "source": [
    "X_test_1[0]"
   ]
  },
  {
   "cell_type": "code",
   "execution_count": 186,
   "metadata": {},
   "outputs": [],
   "source": [
    "def do_prediction_and_write_file(X,  filename, model, Neural_Network=False):\n",
    "    pred_test = model.predict(X)\n",
    "    \n",
    "#     if Neural_Network==False:\n",
    "#         file = open(filename , 'a+')\n",
    "# #         for i in pred_test:\n",
    "# #             file.write(i+'\\n')\n",
    "# #         file.close()\n",
    "    \n",
    "#     else:\n",
    "    if(Neural_Network):\n",
    "         pred_test = (pred_test >=0.5).astype(int)\n",
    "         pred_test = pred_test.reshape(-1)\n",
    "         print(\"hello\")\n",
    "#         file = open(filename, 'a+')\n",
    "#         for i in pred_test:\n",
    "#             file.write(str(i)+'\\n')\n",
    "#         file.close()\n",
    "    return pred_test"
   ]
  },
  {
   "cell_type": "code",
   "execution_count": 187,
   "metadata": {},
   "outputs": [
    {
     "name": "stdout",
     "output_type": "stream",
     "text": [
      "hello\n"
     ]
    },
    {
     "data": {
      "text/plain": [
       "array([1, 0, 0, ..., 0, 0, 1])"
      ]
     },
     "execution_count": 187,
     "metadata": {},
     "output_type": "execute_result"
    }
   ],
   "source": [
    "pred = do_prediction_and_write_file(X_test_1, 'visualization.txt', model, True)\n",
    "pred"
   ]
  },
  {
   "cell_type": "code",
   "execution_count": 188,
   "metadata": {},
   "outputs": [
    {
     "data": {
      "text/plain": [
       "0.0426990208599404"
      ]
     },
     "execution_count": 188,
     "metadata": {},
     "output_type": "execute_result"
    }
   ],
   "source": [
    "j=0\n",
    "for i in pred:\n",
    "    if i == 1:\n",
    "        j=j+1;\n",
    "        \n",
    "j/len(pred)"
   ]
  },
  {
   "cell_type": "markdown",
   "metadata": {},
   "source": [
    "# Write Test Results to CSV"
   ]
  },
  {
   "cell_type": "code",
   "execution_count": 189,
   "metadata": {},
   "outputs": [],
   "source": [
    "def write_csv(pred_test, filename):\n",
    "    df = pd.read_csv('submission_1.csv')\n",
    "    df['is_promoted'] = pred_test\n",
    "    df.to_csv(filename,index=False)"
   ]
  },
  {
   "cell_type": "code",
   "execution_count": 190,
   "metadata": {},
   "outputs": [],
   "source": [
    "write_csv(pred, 'visualization_nn.csv')"
   ]
  },
  {
   "cell_type": "code",
   "execution_count": null,
   "metadata": {},
   "outputs": [],
   "source": []
  }
 ],
 "metadata": {
  "kernelspec": {
   "display_name": "Python 3",
   "language": "python",
   "name": "python3"
  },
  "language_info": {
   "codemirror_mode": {
    "name": "ipython",
    "version": 3
   },
   "file_extension": ".py",
   "mimetype": "text/x-python",
   "name": "python",
   "nbconvert_exporter": "python",
   "pygments_lexer": "ipython3",
   "version": "3.6.5"
  }
 },
 "nbformat": 4,
 "nbformat_minor": 2
}
