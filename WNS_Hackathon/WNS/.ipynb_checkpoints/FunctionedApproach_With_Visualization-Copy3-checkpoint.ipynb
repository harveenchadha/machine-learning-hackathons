{
 "cells": [
  {
   "cell_type": "code",
   "execution_count": 1,
   "metadata": {},
   "outputs": [],
   "source": [
    "import pandas as pd\n",
    "import math\n",
    "import numpy as np"
   ]
  },
  {
   "cell_type": "code",
   "execution_count": 2,
   "metadata": {},
   "outputs": [],
   "source": [
    "def read_csv_file(filename):\n",
    "    df = pd.read_csv(filename)\n",
    "    print(df.info())\n",
    "    return  df"
   ]
  },
  {
   "cell_type": "code",
   "execution_count": 3,
   "metadata": {},
   "outputs": [
    {
     "name": "stdout",
     "output_type": "stream",
     "text": [
      "<class 'pandas.core.frame.DataFrame'>\n",
      "RangeIndex: 54808 entries, 0 to 54807\n",
      "Data columns (total 14 columns):\n",
      "employee_id             54808 non-null int64\n",
      "department              54808 non-null object\n",
      "region                  54808 non-null object\n",
      "education               52399 non-null object\n",
      "gender                  54808 non-null object\n",
      "recruitment_channel     54808 non-null object\n",
      "no_of_trainings         54808 non-null int64\n",
      "age                     54808 non-null int64\n",
      "previous_year_rating    50684 non-null float64\n",
      "length_of_service       54808 non-null int64\n",
      "KPIs_met >80%           54808 non-null int64\n",
      "awards_won?             54808 non-null int64\n",
      "avg_training_score      54808 non-null int64\n",
      "is_promoted             54808 non-null int64\n",
      "dtypes: float64(1), int64(8), object(5)\n",
      "memory usage: 5.9+ MB\n",
      "None\n"
     ]
    },
    {
     "data": {
      "text/html": [
       "<div>\n",
       "<style scoped>\n",
       "    .dataframe tbody tr th:only-of-type {\n",
       "        vertical-align: middle;\n",
       "    }\n",
       "\n",
       "    .dataframe tbody tr th {\n",
       "        vertical-align: top;\n",
       "    }\n",
       "\n",
       "    .dataframe thead th {\n",
       "        text-align: right;\n",
       "    }\n",
       "</style>\n",
       "<table border=\"1\" class=\"dataframe\">\n",
       "  <thead>\n",
       "    <tr style=\"text-align: right;\">\n",
       "      <th></th>\n",
       "      <th>employee_id</th>\n",
       "      <th>department</th>\n",
       "      <th>region</th>\n",
       "      <th>education</th>\n",
       "      <th>gender</th>\n",
       "      <th>recruitment_channel</th>\n",
       "      <th>no_of_trainings</th>\n",
       "      <th>age</th>\n",
       "      <th>previous_year_rating</th>\n",
       "      <th>length_of_service</th>\n",
       "      <th>KPIs_met &gt;80%</th>\n",
       "      <th>awards_won?</th>\n",
       "      <th>avg_training_score</th>\n",
       "      <th>is_promoted</th>\n",
       "    </tr>\n",
       "  </thead>\n",
       "  <tbody>\n",
       "    <tr>\n",
       "      <th>0</th>\n",
       "      <td>65438</td>\n",
       "      <td>Sales &amp; Marketing</td>\n",
       "      <td>region_7</td>\n",
       "      <td>Master's &amp; above</td>\n",
       "      <td>f</td>\n",
       "      <td>sourcing</td>\n",
       "      <td>1</td>\n",
       "      <td>35</td>\n",
       "      <td>5.0</td>\n",
       "      <td>8</td>\n",
       "      <td>1</td>\n",
       "      <td>0</td>\n",
       "      <td>49</td>\n",
       "      <td>0</td>\n",
       "    </tr>\n",
       "    <tr>\n",
       "      <th>1</th>\n",
       "      <td>65141</td>\n",
       "      <td>Operations</td>\n",
       "      <td>region_22</td>\n",
       "      <td>Bachelor's</td>\n",
       "      <td>m</td>\n",
       "      <td>other</td>\n",
       "      <td>1</td>\n",
       "      <td>30</td>\n",
       "      <td>5.0</td>\n",
       "      <td>4</td>\n",
       "      <td>0</td>\n",
       "      <td>0</td>\n",
       "      <td>60</td>\n",
       "      <td>0</td>\n",
       "    </tr>\n",
       "    <tr>\n",
       "      <th>2</th>\n",
       "      <td>7513</td>\n",
       "      <td>Sales &amp; Marketing</td>\n",
       "      <td>region_19</td>\n",
       "      <td>Bachelor's</td>\n",
       "      <td>m</td>\n",
       "      <td>sourcing</td>\n",
       "      <td>1</td>\n",
       "      <td>34</td>\n",
       "      <td>3.0</td>\n",
       "      <td>7</td>\n",
       "      <td>0</td>\n",
       "      <td>0</td>\n",
       "      <td>50</td>\n",
       "      <td>0</td>\n",
       "    </tr>\n",
       "    <tr>\n",
       "      <th>3</th>\n",
       "      <td>2542</td>\n",
       "      <td>Sales &amp; Marketing</td>\n",
       "      <td>region_23</td>\n",
       "      <td>Bachelor's</td>\n",
       "      <td>m</td>\n",
       "      <td>other</td>\n",
       "      <td>2</td>\n",
       "      <td>39</td>\n",
       "      <td>1.0</td>\n",
       "      <td>10</td>\n",
       "      <td>0</td>\n",
       "      <td>0</td>\n",
       "      <td>50</td>\n",
       "      <td>0</td>\n",
       "    </tr>\n",
       "    <tr>\n",
       "      <th>4</th>\n",
       "      <td>48945</td>\n",
       "      <td>Technology</td>\n",
       "      <td>region_26</td>\n",
       "      <td>Bachelor's</td>\n",
       "      <td>m</td>\n",
       "      <td>other</td>\n",
       "      <td>1</td>\n",
       "      <td>45</td>\n",
       "      <td>3.0</td>\n",
       "      <td>2</td>\n",
       "      <td>0</td>\n",
       "      <td>0</td>\n",
       "      <td>73</td>\n",
       "      <td>0</td>\n",
       "    </tr>\n",
       "  </tbody>\n",
       "</table>\n",
       "</div>"
      ],
      "text/plain": [
       "   employee_id         department     region         education gender  \\\n",
       "0        65438  Sales & Marketing   region_7  Master's & above      f   \n",
       "1        65141         Operations  region_22        Bachelor's      m   \n",
       "2         7513  Sales & Marketing  region_19        Bachelor's      m   \n",
       "3         2542  Sales & Marketing  region_23        Bachelor's      m   \n",
       "4        48945         Technology  region_26        Bachelor's      m   \n",
       "\n",
       "  recruitment_channel  no_of_trainings  age  previous_year_rating  \\\n",
       "0            sourcing                1   35                   5.0   \n",
       "1               other                1   30                   5.0   \n",
       "2            sourcing                1   34                   3.0   \n",
       "3               other                2   39                   1.0   \n",
       "4               other                1   45                   3.0   \n",
       "\n",
       "   length_of_service  KPIs_met >80%  awards_won?  avg_training_score  \\\n",
       "0                  8              1            0                  49   \n",
       "1                  4              0            0                  60   \n",
       "2                  7              0            0                  50   \n",
       "3                 10              0            0                  50   \n",
       "4                  2              0            0                  73   \n",
       "\n",
       "   is_promoted  \n",
       "0            0  \n",
       "1            0  \n",
       "2            0  \n",
       "3            0  \n",
       "4            0  "
      ]
     },
     "execution_count": 3,
     "metadata": {},
     "output_type": "execute_result"
    }
   ],
   "source": [
    "\n",
    "df = read_csv_file('train.csv')\n",
    "df.head()\n"
   ]
  },
  {
   "cell_type": "code",
   "execution_count": 4,
   "metadata": {},
   "outputs": [],
   "source": [
    "def drop_columns(df , columns):\n",
    "    new_df = df.drop(columns =columns, axis = 1)\n",
    "    return new_df"
   ]
  },
  {
   "cell_type": "code",
   "execution_count": 5,
   "metadata": {},
   "outputs": [
    {
     "data": {
      "text/html": [
       "<div>\n",
       "<style scoped>\n",
       "    .dataframe tbody tr th:only-of-type {\n",
       "        vertical-align: middle;\n",
       "    }\n",
       "\n",
       "    .dataframe tbody tr th {\n",
       "        vertical-align: top;\n",
       "    }\n",
       "\n",
       "    .dataframe thead th {\n",
       "        text-align: right;\n",
       "    }\n",
       "</style>\n",
       "<table border=\"1\" class=\"dataframe\">\n",
       "  <thead>\n",
       "    <tr style=\"text-align: right;\">\n",
       "      <th></th>\n",
       "      <th>department</th>\n",
       "      <th>region</th>\n",
       "      <th>education</th>\n",
       "      <th>gender</th>\n",
       "      <th>recruitment_channel</th>\n",
       "      <th>no_of_trainings</th>\n",
       "      <th>age</th>\n",
       "      <th>previous_year_rating</th>\n",
       "      <th>length_of_service</th>\n",
       "      <th>KPIs_met &gt;80%</th>\n",
       "      <th>awards_won?</th>\n",
       "      <th>avg_training_score</th>\n",
       "      <th>is_promoted</th>\n",
       "    </tr>\n",
       "  </thead>\n",
       "  <tbody>\n",
       "    <tr>\n",
       "      <th>0</th>\n",
       "      <td>Sales &amp; Marketing</td>\n",
       "      <td>region_7</td>\n",
       "      <td>Master's &amp; above</td>\n",
       "      <td>f</td>\n",
       "      <td>sourcing</td>\n",
       "      <td>1</td>\n",
       "      <td>35</td>\n",
       "      <td>5.0</td>\n",
       "      <td>8</td>\n",
       "      <td>1</td>\n",
       "      <td>0</td>\n",
       "      <td>49</td>\n",
       "      <td>0</td>\n",
       "    </tr>\n",
       "    <tr>\n",
       "      <th>1</th>\n",
       "      <td>Operations</td>\n",
       "      <td>region_22</td>\n",
       "      <td>Bachelor's</td>\n",
       "      <td>m</td>\n",
       "      <td>other</td>\n",
       "      <td>1</td>\n",
       "      <td>30</td>\n",
       "      <td>5.0</td>\n",
       "      <td>4</td>\n",
       "      <td>0</td>\n",
       "      <td>0</td>\n",
       "      <td>60</td>\n",
       "      <td>0</td>\n",
       "    </tr>\n",
       "    <tr>\n",
       "      <th>2</th>\n",
       "      <td>Sales &amp; Marketing</td>\n",
       "      <td>region_19</td>\n",
       "      <td>Bachelor's</td>\n",
       "      <td>m</td>\n",
       "      <td>sourcing</td>\n",
       "      <td>1</td>\n",
       "      <td>34</td>\n",
       "      <td>3.0</td>\n",
       "      <td>7</td>\n",
       "      <td>0</td>\n",
       "      <td>0</td>\n",
       "      <td>50</td>\n",
       "      <td>0</td>\n",
       "    </tr>\n",
       "    <tr>\n",
       "      <th>3</th>\n",
       "      <td>Sales &amp; Marketing</td>\n",
       "      <td>region_23</td>\n",
       "      <td>Bachelor's</td>\n",
       "      <td>m</td>\n",
       "      <td>other</td>\n",
       "      <td>2</td>\n",
       "      <td>39</td>\n",
       "      <td>1.0</td>\n",
       "      <td>10</td>\n",
       "      <td>0</td>\n",
       "      <td>0</td>\n",
       "      <td>50</td>\n",
       "      <td>0</td>\n",
       "    </tr>\n",
       "    <tr>\n",
       "      <th>4</th>\n",
       "      <td>Technology</td>\n",
       "      <td>region_26</td>\n",
       "      <td>Bachelor's</td>\n",
       "      <td>m</td>\n",
       "      <td>other</td>\n",
       "      <td>1</td>\n",
       "      <td>45</td>\n",
       "      <td>3.0</td>\n",
       "      <td>2</td>\n",
       "      <td>0</td>\n",
       "      <td>0</td>\n",
       "      <td>73</td>\n",
       "      <td>0</td>\n",
       "    </tr>\n",
       "  </tbody>\n",
       "</table>\n",
       "</div>"
      ],
      "text/plain": [
       "          department     region         education gender recruitment_channel  \\\n",
       "0  Sales & Marketing   region_7  Master's & above      f            sourcing   \n",
       "1         Operations  region_22        Bachelor's      m               other   \n",
       "2  Sales & Marketing  region_19        Bachelor's      m            sourcing   \n",
       "3  Sales & Marketing  region_23        Bachelor's      m               other   \n",
       "4         Technology  region_26        Bachelor's      m               other   \n",
       "\n",
       "   no_of_trainings  age  previous_year_rating  length_of_service  \\\n",
       "0                1   35                   5.0                  8   \n",
       "1                1   30                   5.0                  4   \n",
       "2                1   34                   3.0                  7   \n",
       "3                2   39                   1.0                 10   \n",
       "4                1   45                   3.0                  2   \n",
       "\n",
       "   KPIs_met >80%  awards_won?  avg_training_score  is_promoted  \n",
       "0              1            0                  49            0  \n",
       "1              0            0                  60            0  \n",
       "2              0            0                  50            0  \n",
       "3              0            0                  50            0  \n",
       "4              0            0                  73            0  "
      ]
     },
     "execution_count": 5,
     "metadata": {},
     "output_type": "execute_result"
    }
   ],
   "source": [
    "columns_to_be_dropped = ['employee_id']\n",
    "new_df = drop_columns(df, columns_to_be_dropped)\n",
    "new_df.head()\n"
   ]
  },
  {
   "cell_type": "code",
   "execution_count": 6,
   "metadata": {},
   "outputs": [
    {
     "data": {
      "text/plain": [
       "department                 0\n",
       "region                     0\n",
       "education               2409\n",
       "gender                     0\n",
       "recruitment_channel        0\n",
       "no_of_trainings            0\n",
       "age                        0\n",
       "previous_year_rating    4124\n",
       "length_of_service          0\n",
       "KPIs_met >80%              0\n",
       "awards_won?                0\n",
       "avg_training_score         0\n",
       "is_promoted                0\n",
       "dtype: int64"
      ]
     },
     "execution_count": 6,
     "metadata": {},
     "output_type": "execute_result"
    }
   ],
   "source": [
    "new_df.isnull().sum()"
   ]
  },
  {
   "cell_type": "code",
   "execution_count": 7,
   "metadata": {},
   "outputs": [
    {
     "data": {
      "text/html": [
       "<div>\n",
       "<style scoped>\n",
       "    .dataframe tbody tr th:only-of-type {\n",
       "        vertical-align: middle;\n",
       "    }\n",
       "\n",
       "    .dataframe tbody tr th {\n",
       "        vertical-align: top;\n",
       "    }\n",
       "\n",
       "    .dataframe thead th {\n",
       "        text-align: right;\n",
       "    }\n",
       "</style>\n",
       "<table border=\"1\" class=\"dataframe\">\n",
       "  <thead>\n",
       "    <tr style=\"text-align: right;\">\n",
       "      <th></th>\n",
       "      <th></th>\n",
       "      <th>no_of_trainings</th>\n",
       "      <th>age</th>\n",
       "      <th>previous_year_rating</th>\n",
       "      <th>length_of_service</th>\n",
       "      <th>KPIs_met &gt;80%</th>\n",
       "      <th>awards_won?</th>\n",
       "      <th>avg_training_score</th>\n",
       "      <th>is_promoted</th>\n",
       "    </tr>\n",
       "    <tr>\n",
       "      <th>education</th>\n",
       "      <th>department</th>\n",
       "      <th></th>\n",
       "      <th></th>\n",
       "      <th></th>\n",
       "      <th></th>\n",
       "      <th></th>\n",
       "      <th></th>\n",
       "      <th></th>\n",
       "      <th></th>\n",
       "    </tr>\n",
       "  </thead>\n",
       "  <tbody>\n",
       "    <tr>\n",
       "      <th rowspan=\"9\" valign=\"top\">Bachelor's</th>\n",
       "      <th>Analytics</th>\n",
       "      <td>1.355455</td>\n",
       "      <td>31.569130</td>\n",
       "      <td>3.545834</td>\n",
       "      <td>4.609100</td>\n",
       "      <td>0.410256</td>\n",
       "      <td>0.023630</td>\n",
       "      <td>84.558824</td>\n",
       "      <td>0.093766</td>\n",
       "    </tr>\n",
       "    <tr>\n",
       "      <th>Finance</th>\n",
       "      <td>1.308179</td>\n",
       "      <td>31.201055</td>\n",
       "      <td>3.498191</td>\n",
       "      <td>4.431135</td>\n",
       "      <td>0.428496</td>\n",
       "      <td>0.027441</td>\n",
       "      <td>60.222164</td>\n",
       "      <td>0.082850</td>\n",
       "    </tr>\n",
       "    <tr>\n",
       "      <th>HR</th>\n",
       "      <td>1.055082</td>\n",
       "      <td>32.470820</td>\n",
       "      <td>3.413254</td>\n",
       "      <td>4.896393</td>\n",
       "      <td>0.338361</td>\n",
       "      <td>0.018361</td>\n",
       "      <td>49.973115</td>\n",
       "      <td>0.047213</td>\n",
       "    </tr>\n",
       "    <tr>\n",
       "      <th>Legal</th>\n",
       "      <td>1.088452</td>\n",
       "      <td>32.764128</td>\n",
       "      <td>3.387481</td>\n",
       "      <td>4.217445</td>\n",
       "      <td>0.334152</td>\n",
       "      <td>0.025799</td>\n",
       "      <td>59.868550</td>\n",
       "      <td>0.052826</td>\n",
       "    </tr>\n",
       "    <tr>\n",
       "      <th>Operations</th>\n",
       "      <td>1.169644</td>\n",
       "      <td>34.721887</td>\n",
       "      <td>3.621540</td>\n",
       "      <td>5.926745</td>\n",
       "      <td>0.430022</td>\n",
       "      <td>0.022619</td>\n",
       "      <td>60.111939</td>\n",
       "      <td>0.083151</td>\n",
       "    </tr>\n",
       "    <tr>\n",
       "      <th>Procurement</th>\n",
       "      <td>1.369224</td>\n",
       "      <td>33.778284</td>\n",
       "      <td>3.273020</td>\n",
       "      <td>5.503756</td>\n",
       "      <td>0.374687</td>\n",
       "      <td>0.024812</td>\n",
       "      <td>70.063282</td>\n",
       "      <td>0.088322</td>\n",
       "    </tr>\n",
       "    <tr>\n",
       "      <th>R&amp;D</th>\n",
       "      <td>1.444649</td>\n",
       "      <td>31.915129</td>\n",
       "      <td>3.533333</td>\n",
       "      <td>4.234317</td>\n",
       "      <td>0.404059</td>\n",
       "      <td>0.029520</td>\n",
       "      <td>84.607011</td>\n",
       "      <td>0.068266</td>\n",
       "    </tr>\n",
       "    <tr>\n",
       "      <th>Sales &amp; Marketing</th>\n",
       "      <td>1.299577</td>\n",
       "      <td>33.937562</td>\n",
       "      <td>3.064602</td>\n",
       "      <td>5.542211</td>\n",
       "      <td>0.265880</td>\n",
       "      <td>0.021173</td>\n",
       "      <td>50.233444</td>\n",
       "      <td>0.071538</td>\n",
       "    </tr>\n",
       "    <tr>\n",
       "      <th>Technology</th>\n",
       "      <td>1.273804</td>\n",
       "      <td>32.954976</td>\n",
       "      <td>3.161114</td>\n",
       "      <td>5.222964</td>\n",
       "      <td>0.345756</td>\n",
       "      <td>0.027143</td>\n",
       "      <td>79.980181</td>\n",
       "      <td>0.107066</td>\n",
       "    </tr>\n",
       "    <tr>\n",
       "      <th rowspan=\"6\" valign=\"top\">Below Secondary</th>\n",
       "      <th>Finance</th>\n",
       "      <td>1.358491</td>\n",
       "      <td>23.933962</td>\n",
       "      <td>3.515152</td>\n",
       "      <td>1.745283</td>\n",
       "      <td>0.433962</td>\n",
       "      <td>0.037736</td>\n",
       "      <td>59.820755</td>\n",
       "      <td>0.056604</td>\n",
       "    </tr>\n",
       "    <tr>\n",
       "      <th>HR</th>\n",
       "      <td>1.046875</td>\n",
       "      <td>22.757812</td>\n",
       "      <td>3.573529</td>\n",
       "      <td>1.570312</td>\n",
       "      <td>0.382812</td>\n",
       "      <td>0.007812</td>\n",
       "      <td>49.812500</td>\n",
       "      <td>0.070312</td>\n",
       "    </tr>\n",
       "    <tr>\n",
       "      <th>Legal</th>\n",
       "      <td>1.123077</td>\n",
       "      <td>26.307692</td>\n",
       "      <td>3.875000</td>\n",
       "      <td>1.707692</td>\n",
       "      <td>0.369231</td>\n",
       "      <td>0.000000</td>\n",
       "      <td>60.353846</td>\n",
       "      <td>0.061538</td>\n",
       "    </tr>\n",
       "    <tr>\n",
       "      <th>Operations</th>\n",
       "      <td>1.187500</td>\n",
       "      <td>24.215909</td>\n",
       "      <td>3.555556</td>\n",
       "      <td>1.840909</td>\n",
       "      <td>0.329545</td>\n",
       "      <td>0.011364</td>\n",
       "      <td>59.710227</td>\n",
       "      <td>0.062500</td>\n",
       "    </tr>\n",
       "    <tr>\n",
       "      <th>Procurement</th>\n",
       "      <td>1.519380</td>\n",
       "      <td>23.496124</td>\n",
       "      <td>3.217391</td>\n",
       "      <td>1.674419</td>\n",
       "      <td>0.372093</td>\n",
       "      <td>0.007752</td>\n",
       "      <td>69.775194</td>\n",
       "      <td>0.046512</td>\n",
       "    </tr>\n",
       "    <tr>\n",
       "      <th>Technology</th>\n",
       "      <td>1.348259</td>\n",
       "      <td>23.557214</td>\n",
       "      <td>3.413793</td>\n",
       "      <td>1.666667</td>\n",
       "      <td>0.482587</td>\n",
       "      <td>0.029851</td>\n",
       "      <td>80.174129</td>\n",
       "      <td>0.154229</td>\n",
       "    </tr>\n",
       "    <tr>\n",
       "      <th rowspan=\"9\" valign=\"top\">Master's &amp; above</th>\n",
       "      <th>Analytics</th>\n",
       "      <td>1.295082</td>\n",
       "      <td>36.929605</td>\n",
       "      <td>3.611166</td>\n",
       "      <td>6.633558</td>\n",
       "      <td>0.391514</td>\n",
       "      <td>0.025072</td>\n",
       "      <td>84.740598</td>\n",
       "      <td>0.108968</td>\n",
       "    </tr>\n",
       "    <tr>\n",
       "      <th>Finance</th>\n",
       "      <td>1.288577</td>\n",
       "      <td>36.949900</td>\n",
       "      <td>3.535354</td>\n",
       "      <td>6.953908</td>\n",
       "      <td>0.376754</td>\n",
       "      <td>0.026052</td>\n",
       "      <td>60.356713</td>\n",
       "      <td>0.086172</td>\n",
       "    </tr>\n",
       "    <tr>\n",
       "      <th>HR</th>\n",
       "      <td>1.053206</td>\n",
       "      <td>40.407913</td>\n",
       "      <td>3.607387</td>\n",
       "      <td>8.027285</td>\n",
       "      <td>0.326057</td>\n",
       "      <td>0.021828</td>\n",
       "      <td>50.193724</td>\n",
       "      <td>0.073670</td>\n",
       "    </tr>\n",
       "    <tr>\n",
       "      <th>Legal</th>\n",
       "      <td>1.083333</td>\n",
       "      <td>42.480769</td>\n",
       "      <td>3.352564</td>\n",
       "      <td>7.820513</td>\n",
       "      <td>0.314103</td>\n",
       "      <td>0.025641</td>\n",
       "      <td>59.743590</td>\n",
       "      <td>0.038462</td>\n",
       "    </tr>\n",
       "    <tr>\n",
       "      <th>Operations</th>\n",
       "      <td>1.144076</td>\n",
       "      <td>40.170616</td>\n",
       "      <td>3.664762</td>\n",
       "      <td>7.941548</td>\n",
       "      <td>0.447393</td>\n",
       "      <td>0.025592</td>\n",
       "      <td>60.581043</td>\n",
       "      <td>0.113112</td>\n",
       "    </tr>\n",
       "    <tr>\n",
       "      <th>Procurement</th>\n",
       "      <td>1.234670</td>\n",
       "      <td>40.175314</td>\n",
       "      <td>3.344392</td>\n",
       "      <td>7.986635</td>\n",
       "      <td>0.385220</td>\n",
       "      <td>0.023585</td>\n",
       "      <td>70.244890</td>\n",
       "      <td>0.115173</td>\n",
       "    </tr>\n",
       "    <tr>\n",
       "      <th>R&amp;D</th>\n",
       "      <td>1.351981</td>\n",
       "      <td>34.414918</td>\n",
       "      <td>3.610553</td>\n",
       "      <td>5.109557</td>\n",
       "      <td>0.442890</td>\n",
       "      <td>0.011655</td>\n",
       "      <td>84.645688</td>\n",
       "      <td>0.069930</td>\n",
       "    </tr>\n",
       "    <tr>\n",
       "      <th>Sales &amp; Marketing</th>\n",
       "      <td>1.253000</td>\n",
       "      <td>39.048008</td>\n",
       "      <td>3.106512</td>\n",
       "      <td>7.526164</td>\n",
       "      <td>0.281325</td>\n",
       "      <td>0.021123</td>\n",
       "      <td>50.409506</td>\n",
       "      <td>0.082093</td>\n",
       "    </tr>\n",
       "    <tr>\n",
       "      <th>Technology</th>\n",
       "      <td>1.232240</td>\n",
       "      <td>39.878871</td>\n",
       "      <td>3.150183</td>\n",
       "      <td>7.767304</td>\n",
       "      <td>0.334699</td>\n",
       "      <td>0.022769</td>\n",
       "      <td>79.802823</td>\n",
       "      <td>0.105647</td>\n",
       "    </tr>\n",
       "  </tbody>\n",
       "</table>\n",
       "</div>"
      ],
      "text/plain": [
       "                                    no_of_trainings        age  \\\n",
       "education        department                                      \n",
       "Bachelor's       Analytics                 1.355455  31.569130   \n",
       "                 Finance                   1.308179  31.201055   \n",
       "                 HR                        1.055082  32.470820   \n",
       "                 Legal                     1.088452  32.764128   \n",
       "                 Operations                1.169644  34.721887   \n",
       "                 Procurement               1.369224  33.778284   \n",
       "                 R&D                       1.444649  31.915129   \n",
       "                 Sales & Marketing         1.299577  33.937562   \n",
       "                 Technology                1.273804  32.954976   \n",
       "Below Secondary  Finance                   1.358491  23.933962   \n",
       "                 HR                        1.046875  22.757812   \n",
       "                 Legal                     1.123077  26.307692   \n",
       "                 Operations                1.187500  24.215909   \n",
       "                 Procurement               1.519380  23.496124   \n",
       "                 Technology                1.348259  23.557214   \n",
       "Master's & above Analytics                 1.295082  36.929605   \n",
       "                 Finance                   1.288577  36.949900   \n",
       "                 HR                        1.053206  40.407913   \n",
       "                 Legal                     1.083333  42.480769   \n",
       "                 Operations                1.144076  40.170616   \n",
       "                 Procurement               1.234670  40.175314   \n",
       "                 R&D                       1.351981  34.414918   \n",
       "                 Sales & Marketing         1.253000  39.048008   \n",
       "                 Technology                1.232240  39.878871   \n",
       "\n",
       "                                    previous_year_rating  length_of_service  \\\n",
       "education        department                                                   \n",
       "Bachelor's       Analytics                      3.545834           4.609100   \n",
       "                 Finance                        3.498191           4.431135   \n",
       "                 HR                             3.413254           4.896393   \n",
       "                 Legal                          3.387481           4.217445   \n",
       "                 Operations                     3.621540           5.926745   \n",
       "                 Procurement                    3.273020           5.503756   \n",
       "                 R&D                            3.533333           4.234317   \n",
       "                 Sales & Marketing              3.064602           5.542211   \n",
       "                 Technology                     3.161114           5.222964   \n",
       "Below Secondary  Finance                        3.515152           1.745283   \n",
       "                 HR                             3.573529           1.570312   \n",
       "                 Legal                          3.875000           1.707692   \n",
       "                 Operations                     3.555556           1.840909   \n",
       "                 Procurement                    3.217391           1.674419   \n",
       "                 Technology                     3.413793           1.666667   \n",
       "Master's & above Analytics                      3.611166           6.633558   \n",
       "                 Finance                        3.535354           6.953908   \n",
       "                 HR                             3.607387           8.027285   \n",
       "                 Legal                          3.352564           7.820513   \n",
       "                 Operations                     3.664762           7.941548   \n",
       "                 Procurement                    3.344392           7.986635   \n",
       "                 R&D                            3.610553           5.109557   \n",
       "                 Sales & Marketing              3.106512           7.526164   \n",
       "                 Technology                     3.150183           7.767304   \n",
       "\n",
       "                                    KPIs_met >80%  awards_won?  \\\n",
       "education        department                                      \n",
       "Bachelor's       Analytics               0.410256     0.023630   \n",
       "                 Finance                 0.428496     0.027441   \n",
       "                 HR                      0.338361     0.018361   \n",
       "                 Legal                   0.334152     0.025799   \n",
       "                 Operations              0.430022     0.022619   \n",
       "                 Procurement             0.374687     0.024812   \n",
       "                 R&D                     0.404059     0.029520   \n",
       "                 Sales & Marketing       0.265880     0.021173   \n",
       "                 Technology              0.345756     0.027143   \n",
       "Below Secondary  Finance                 0.433962     0.037736   \n",
       "                 HR                      0.382812     0.007812   \n",
       "                 Legal                   0.369231     0.000000   \n",
       "                 Operations              0.329545     0.011364   \n",
       "                 Procurement             0.372093     0.007752   \n",
       "                 Technology              0.482587     0.029851   \n",
       "Master's & above Analytics               0.391514     0.025072   \n",
       "                 Finance                 0.376754     0.026052   \n",
       "                 HR                      0.326057     0.021828   \n",
       "                 Legal                   0.314103     0.025641   \n",
       "                 Operations              0.447393     0.025592   \n",
       "                 Procurement             0.385220     0.023585   \n",
       "                 R&D                     0.442890     0.011655   \n",
       "                 Sales & Marketing       0.281325     0.021123   \n",
       "                 Technology              0.334699     0.022769   \n",
       "\n",
       "                                    avg_training_score  is_promoted  \n",
       "education        department                                          \n",
       "Bachelor's       Analytics                   84.558824     0.093766  \n",
       "                 Finance                     60.222164     0.082850  \n",
       "                 HR                          49.973115     0.047213  \n",
       "                 Legal                       59.868550     0.052826  \n",
       "                 Operations                  60.111939     0.083151  \n",
       "                 Procurement                 70.063282     0.088322  \n",
       "                 R&D                         84.607011     0.068266  \n",
       "                 Sales & Marketing           50.233444     0.071538  \n",
       "                 Technology                  79.980181     0.107066  \n",
       "Below Secondary  Finance                     59.820755     0.056604  \n",
       "                 HR                          49.812500     0.070312  \n",
       "                 Legal                       60.353846     0.061538  \n",
       "                 Operations                  59.710227     0.062500  \n",
       "                 Procurement                 69.775194     0.046512  \n",
       "                 Technology                  80.174129     0.154229  \n",
       "Master's & above Analytics                   84.740598     0.108968  \n",
       "                 Finance                     60.356713     0.086172  \n",
       "                 HR                          50.193724     0.073670  \n",
       "                 Legal                       59.743590     0.038462  \n",
       "                 Operations                  60.581043     0.113112  \n",
       "                 Procurement                 70.244890     0.115173  \n",
       "                 R&D                         84.645688     0.069930  \n",
       "                 Sales & Marketing           50.409506     0.082093  \n",
       "                 Technology                  79.802823     0.105647  "
      ]
     },
     "execution_count": 7,
     "metadata": {},
     "output_type": "execute_result"
    }
   ],
   "source": [
    "new_df.groupby(['education','department']).mean()"
   ]
  },
  {
   "cell_type": "code",
   "execution_count": 8,
   "metadata": {},
   "outputs": [
    {
     "data": {
      "text/html": [
       "<div>\n",
       "<style scoped>\n",
       "    .dataframe tbody tr th:only-of-type {\n",
       "        vertical-align: middle;\n",
       "    }\n",
       "\n",
       "    .dataframe tbody tr th {\n",
       "        vertical-align: top;\n",
       "    }\n",
       "\n",
       "    .dataframe thead th {\n",
       "        text-align: right;\n",
       "    }\n",
       "</style>\n",
       "<table border=\"1\" class=\"dataframe\">\n",
       "  <thead>\n",
       "    <tr style=\"text-align: right;\">\n",
       "      <th></th>\n",
       "      <th></th>\n",
       "      <th>department</th>\n",
       "      <th>region</th>\n",
       "      <th>education</th>\n",
       "      <th>gender</th>\n",
       "      <th>recruitment_channel</th>\n",
       "      <th>no_of_trainings</th>\n",
       "      <th>age</th>\n",
       "      <th>length_of_service</th>\n",
       "      <th>KPIs_met &gt;80%</th>\n",
       "      <th>awards_won?</th>\n",
       "      <th>avg_training_score</th>\n",
       "    </tr>\n",
       "    <tr>\n",
       "      <th>is_promoted</th>\n",
       "      <th>previous_year_rating</th>\n",
       "      <th></th>\n",
       "      <th></th>\n",
       "      <th></th>\n",
       "      <th></th>\n",
       "      <th></th>\n",
       "      <th></th>\n",
       "      <th></th>\n",
       "      <th></th>\n",
       "      <th></th>\n",
       "      <th></th>\n",
       "      <th></th>\n",
       "    </tr>\n",
       "  </thead>\n",
       "  <tbody>\n",
       "    <tr>\n",
       "      <th rowspan=\"5\" valign=\"top\">0</th>\n",
       "      <th>1.0</th>\n",
       "      <td>6135</td>\n",
       "      <td>6135</td>\n",
       "      <td>5801</td>\n",
       "      <td>6135</td>\n",
       "      <td>6135</td>\n",
       "      <td>6135</td>\n",
       "      <td>6135</td>\n",
       "      <td>6135</td>\n",
       "      <td>6135</td>\n",
       "      <td>6135</td>\n",
       "      <td>6135</td>\n",
       "    </tr>\n",
       "    <tr>\n",
       "      <th>2.0</th>\n",
       "      <td>4044</td>\n",
       "      <td>4044</td>\n",
       "      <td>3856</td>\n",
       "      <td>4044</td>\n",
       "      <td>4044</td>\n",
       "      <td>4044</td>\n",
       "      <td>4044</td>\n",
       "      <td>4044</td>\n",
       "      <td>4044</td>\n",
       "      <td>4044</td>\n",
       "      <td>4044</td>\n",
       "    </tr>\n",
       "    <tr>\n",
       "      <th>3.0</th>\n",
       "      <td>17263</td>\n",
       "      <td>17263</td>\n",
       "      <td>16542</td>\n",
       "      <td>17263</td>\n",
       "      <td>17263</td>\n",
       "      <td>17263</td>\n",
       "      <td>17263</td>\n",
       "      <td>17263</td>\n",
       "      <td>17263</td>\n",
       "      <td>17263</td>\n",
       "      <td>17263</td>\n",
       "    </tr>\n",
       "    <tr>\n",
       "      <th>4.0</th>\n",
       "      <td>9093</td>\n",
       "      <td>9093</td>\n",
       "      <td>8742</td>\n",
       "      <td>9093</td>\n",
       "      <td>9093</td>\n",
       "      <td>9093</td>\n",
       "      <td>9093</td>\n",
       "      <td>9093</td>\n",
       "      <td>9093</td>\n",
       "      <td>9093</td>\n",
       "      <td>9093</td>\n",
       "    </tr>\n",
       "    <tr>\n",
       "      <th>5.0</th>\n",
       "      <td>9820</td>\n",
       "      <td>9820</td>\n",
       "      <td>9487</td>\n",
       "      <td>9820</td>\n",
       "      <td>9820</td>\n",
       "      <td>9820</td>\n",
       "      <td>9820</td>\n",
       "      <td>9820</td>\n",
       "      <td>9820</td>\n",
       "      <td>9820</td>\n",
       "      <td>9820</td>\n",
       "    </tr>\n",
       "    <tr>\n",
       "      <th rowspan=\"5\" valign=\"top\">1</th>\n",
       "      <th>1.0</th>\n",
       "      <td>88</td>\n",
       "      <td>88</td>\n",
       "      <td>86</td>\n",
       "      <td>88</td>\n",
       "      <td>88</td>\n",
       "      <td>88</td>\n",
       "      <td>88</td>\n",
       "      <td>88</td>\n",
       "      <td>88</td>\n",
       "      <td>88</td>\n",
       "      <td>88</td>\n",
       "    </tr>\n",
       "    <tr>\n",
       "      <th>2.0</th>\n",
       "      <td>181</td>\n",
       "      <td>181</td>\n",
       "      <td>179</td>\n",
       "      <td>181</td>\n",
       "      <td>181</td>\n",
       "      <td>181</td>\n",
       "      <td>181</td>\n",
       "      <td>181</td>\n",
       "      <td>181</td>\n",
       "      <td>181</td>\n",
       "      <td>181</td>\n",
       "    </tr>\n",
       "    <tr>\n",
       "      <th>3.0</th>\n",
       "      <td>1355</td>\n",
       "      <td>1355</td>\n",
       "      <td>1325</td>\n",
       "      <td>1355</td>\n",
       "      <td>1355</td>\n",
       "      <td>1355</td>\n",
       "      <td>1355</td>\n",
       "      <td>1355</td>\n",
       "      <td>1355</td>\n",
       "      <td>1355</td>\n",
       "      <td>1355</td>\n",
       "    </tr>\n",
       "    <tr>\n",
       "      <th>4.0</th>\n",
       "      <td>784</td>\n",
       "      <td>784</td>\n",
       "      <td>767</td>\n",
       "      <td>784</td>\n",
       "      <td>784</td>\n",
       "      <td>784</td>\n",
       "      <td>784</td>\n",
       "      <td>784</td>\n",
       "      <td>784</td>\n",
       "      <td>784</td>\n",
       "      <td>784</td>\n",
       "    </tr>\n",
       "    <tr>\n",
       "      <th>5.0</th>\n",
       "      <td>1921</td>\n",
       "      <td>1921</td>\n",
       "      <td>1875</td>\n",
       "      <td>1921</td>\n",
       "      <td>1921</td>\n",
       "      <td>1921</td>\n",
       "      <td>1921</td>\n",
       "      <td>1921</td>\n",
       "      <td>1921</td>\n",
       "      <td>1921</td>\n",
       "      <td>1921</td>\n",
       "    </tr>\n",
       "  </tbody>\n",
       "</table>\n",
       "</div>"
      ],
      "text/plain": [
       "                                  department  region  education  gender  \\\n",
       "is_promoted previous_year_rating                                          \n",
       "0           1.0                         6135    6135       5801    6135   \n",
       "            2.0                         4044    4044       3856    4044   \n",
       "            3.0                        17263   17263      16542   17263   \n",
       "            4.0                         9093    9093       8742    9093   \n",
       "            5.0                         9820    9820       9487    9820   \n",
       "1           1.0                           88      88         86      88   \n",
       "            2.0                          181     181        179     181   \n",
       "            3.0                         1355    1355       1325    1355   \n",
       "            4.0                          784     784        767     784   \n",
       "            5.0                         1921    1921       1875    1921   \n",
       "\n",
       "                                  recruitment_channel  no_of_trainings    age  \\\n",
       "is_promoted previous_year_rating                                                \n",
       "0           1.0                                  6135             6135   6135   \n",
       "            2.0                                  4044             4044   4044   \n",
       "            3.0                                 17263            17263  17263   \n",
       "            4.0                                  9093             9093   9093   \n",
       "            5.0                                  9820             9820   9820   \n",
       "1           1.0                                    88               88     88   \n",
       "            2.0                                   181              181    181   \n",
       "            3.0                                  1355             1355   1355   \n",
       "            4.0                                   784              784    784   \n",
       "            5.0                                  1921             1921   1921   \n",
       "\n",
       "                                  length_of_service  KPIs_met >80%  \\\n",
       "is_promoted previous_year_rating                                     \n",
       "0           1.0                                6135           6135   \n",
       "            2.0                                4044           4044   \n",
       "            3.0                               17263          17263   \n",
       "            4.0                                9093           9093   \n",
       "            5.0                                9820           9820   \n",
       "1           1.0                                  88             88   \n",
       "            2.0                                 181            181   \n",
       "            3.0                                1355           1355   \n",
       "            4.0                                 784            784   \n",
       "            5.0                                1921           1921   \n",
       "\n",
       "                                  awards_won?  avg_training_score  \n",
       "is_promoted previous_year_rating                                   \n",
       "0           1.0                          6135                6135  \n",
       "            2.0                          4044                4044  \n",
       "            3.0                         17263               17263  \n",
       "            4.0                          9093                9093  \n",
       "            5.0                          9820                9820  \n",
       "1           1.0                            88                  88  \n",
       "            2.0                           181                 181  \n",
       "            3.0                          1355                1355  \n",
       "            4.0                           784                 784  \n",
       "            5.0                          1921                1921  "
      ]
     },
     "execution_count": 8,
     "metadata": {},
     "output_type": "execute_result"
    }
   ],
   "source": [
    "columns_to_be_dropped = ['employee_id']\n",
    "test_df = drop_columns(df, columns_to_be_dropped)\n",
    "test_df.head()\n",
    "test_df.groupby(['is_promoted','previous_year_rating']).count()"
   ]
  },
  {
   "cell_type": "code",
   "execution_count": 9,
   "metadata": {},
   "outputs": [],
   "source": [
    "new_df.loc[( (new_df['previous_year_rating'].isnull()) & ((new_df['is_promoted'] == 1) | (new_df['KPIs_met >80%'] == 1)) ) , 'previous_year_rating'] =5.0\n",
    "new_df.loc[(new_df['previous_year_rating'].isnull()) , 'previous_year_rating'] = 3.0\n",
    "new_df.loc[((new_df['education'].isnull()) & (new_df['age'] >= 36)),'education'] = 'Master\\'s & above'\n",
    "new_df.loc[((new_df['education'].isnull()) & ((new_df['age'] >= 30) & (new_df['age'] < 36)) ),'education'] = 'Bachelor\\'s'\n",
    "new_df.loc[((new_df['education'].isnull()) & (new_df['age'] < 30)  ),'education'] = 'Below Secondary'\n",
    "\n",
    "\n",
    "#testing.head()"
   ]
  },
  {
   "cell_type": "code",
   "execution_count": null,
   "metadata": {},
   "outputs": [],
   "source": [
    "# X = [] \n",
    "# X = new_df.values.tolist()\n"
   ]
  },
  {
   "cell_type": "code",
   "execution_count": null,
   "metadata": {},
   "outputs": [],
   "source": [
    "# def count_non_null_in_list(X , col_id):\n",
    "#     k=0\n",
    "#     for row in X:\n",
    "#         if math.isnan(row[col_id]) == True:\n",
    "#             k= k+1\n",
    "#     return k\n",
    "    \n",
    "# count_non_null_in_list(X , 7)"
   ]
  },
  {
   "cell_type": "code",
   "execution_count": null,
   "metadata": {
    "scrolled": true
   },
   "outputs": [],
   "source": [
    "# def do_missing_transformation(X, col_id, target_col_id, test_time=False):\n",
    "#     if test_time==False:\n",
    "#         for row in X:\n",
    "#             if math.isnan(row[col_id]) == True and row[12] == 1:\n",
    "#                 row[col_id] = 5.0\n",
    "#             elif math.isnan(row[col_id]) == True:\n",
    "#                 row[col_id] = 3.0\n",
    "#     else:\n",
    "#         for row in X:\n",
    "#             if math.isnan(row[col_id]) == True:\n",
    "#                 row[col_id] = 3.0\n",
    "\n",
    "# do_missing_transformation(X,7,12)"
   ]
  },
  {
   "cell_type": "code",
   "execution_count": null,
   "metadata": {},
   "outputs": [],
   "source": [
    "# count_non_null_in_list(X, 7)"
   ]
  },
  {
   "cell_type": "code",
   "execution_count": null,
   "metadata": {},
   "outputs": [],
   "source": [
    "# df_visual = pd.DataFrame(X)\n",
    "# df_visual.head()"
   ]
  },
  {
   "cell_type": "code",
   "execution_count": 10,
   "metadata": {},
   "outputs": [],
   "source": [
    "import numpy as np\n",
    "\n",
    "def get_features_and_labels(X):\n",
    "    X = np.array(X)\n",
    "    labels = X[:,-1]\n",
    "    X = X[:,:-1]\n",
    "    return X, labels\n",
    "\n",
    "#X, labels = get_features_and_labels(X)"
   ]
  },
  {
   "cell_type": "code",
   "execution_count": 11,
   "metadata": {},
   "outputs": [],
   "source": [
    "df_visual = new_df"
   ]
  },
  {
   "cell_type": "markdown",
   "metadata": {},
   "source": [
    "# Visualization"
   ]
  },
  {
   "cell_type": "code",
   "execution_count": 12,
   "metadata": {},
   "outputs": [
    {
     "data": {
      "text/html": [
       "<div>\n",
       "<style scoped>\n",
       "    .dataframe tbody tr th:only-of-type {\n",
       "        vertical-align: middle;\n",
       "    }\n",
       "\n",
       "    .dataframe tbody tr th {\n",
       "        vertical-align: top;\n",
       "    }\n",
       "\n",
       "    .dataframe thead th {\n",
       "        text-align: right;\n",
       "    }\n",
       "</style>\n",
       "<table border=\"1\" class=\"dataframe\">\n",
       "  <thead>\n",
       "    <tr style=\"text-align: right;\">\n",
       "      <th></th>\n",
       "      <th>department</th>\n",
       "      <th>region</th>\n",
       "      <th>education</th>\n",
       "      <th>gender</th>\n",
       "      <th>channel</th>\n",
       "      <th>trainings</th>\n",
       "      <th>age</th>\n",
       "      <th>rating</th>\n",
       "      <th>service</th>\n",
       "      <th>kpi</th>\n",
       "      <th>award</th>\n",
       "      <th>score</th>\n",
       "      <th>promoted</th>\n",
       "    </tr>\n",
       "  </thead>\n",
       "  <tbody>\n",
       "    <tr>\n",
       "      <th>0</th>\n",
       "      <td>Sales &amp; Marketing</td>\n",
       "      <td>region_7</td>\n",
       "      <td>Master's &amp; above</td>\n",
       "      <td>f</td>\n",
       "      <td>sourcing</td>\n",
       "      <td>1</td>\n",
       "      <td>35</td>\n",
       "      <td>5.0</td>\n",
       "      <td>8</td>\n",
       "      <td>1</td>\n",
       "      <td>0</td>\n",
       "      <td>49</td>\n",
       "      <td>0</td>\n",
       "    </tr>\n",
       "    <tr>\n",
       "      <th>1</th>\n",
       "      <td>Operations</td>\n",
       "      <td>region_22</td>\n",
       "      <td>Bachelor's</td>\n",
       "      <td>m</td>\n",
       "      <td>other</td>\n",
       "      <td>1</td>\n",
       "      <td>30</td>\n",
       "      <td>5.0</td>\n",
       "      <td>4</td>\n",
       "      <td>0</td>\n",
       "      <td>0</td>\n",
       "      <td>60</td>\n",
       "      <td>0</td>\n",
       "    </tr>\n",
       "    <tr>\n",
       "      <th>2</th>\n",
       "      <td>Sales &amp; Marketing</td>\n",
       "      <td>region_19</td>\n",
       "      <td>Bachelor's</td>\n",
       "      <td>m</td>\n",
       "      <td>sourcing</td>\n",
       "      <td>1</td>\n",
       "      <td>34</td>\n",
       "      <td>3.0</td>\n",
       "      <td>7</td>\n",
       "      <td>0</td>\n",
       "      <td>0</td>\n",
       "      <td>50</td>\n",
       "      <td>0</td>\n",
       "    </tr>\n",
       "    <tr>\n",
       "      <th>3</th>\n",
       "      <td>Sales &amp; Marketing</td>\n",
       "      <td>region_23</td>\n",
       "      <td>Bachelor's</td>\n",
       "      <td>m</td>\n",
       "      <td>other</td>\n",
       "      <td>2</td>\n",
       "      <td>39</td>\n",
       "      <td>1.0</td>\n",
       "      <td>10</td>\n",
       "      <td>0</td>\n",
       "      <td>0</td>\n",
       "      <td>50</td>\n",
       "      <td>0</td>\n",
       "    </tr>\n",
       "    <tr>\n",
       "      <th>4</th>\n",
       "      <td>Technology</td>\n",
       "      <td>region_26</td>\n",
       "      <td>Bachelor's</td>\n",
       "      <td>m</td>\n",
       "      <td>other</td>\n",
       "      <td>1</td>\n",
       "      <td>45</td>\n",
       "      <td>3.0</td>\n",
       "      <td>2</td>\n",
       "      <td>0</td>\n",
       "      <td>0</td>\n",
       "      <td>73</td>\n",
       "      <td>0</td>\n",
       "    </tr>\n",
       "  </tbody>\n",
       "</table>\n",
       "</div>"
      ],
      "text/plain": [
       "          department     region         education gender   channel  trainings  \\\n",
       "0  Sales & Marketing   region_7  Master's & above      f  sourcing          1   \n",
       "1         Operations  region_22        Bachelor's      m     other          1   \n",
       "2  Sales & Marketing  region_19        Bachelor's      m  sourcing          1   \n",
       "3  Sales & Marketing  region_23        Bachelor's      m     other          2   \n",
       "4         Technology  region_26        Bachelor's      m     other          1   \n",
       "\n",
       "   age  rating  service  kpi  award  score  promoted  \n",
       "0   35     5.0        8    1      0     49         0  \n",
       "1   30     5.0        4    0      0     60         0  \n",
       "2   34     3.0        7    0      0     50         0  \n",
       "3   39     1.0       10    0      0     50         0  \n",
       "4   45     3.0        2    0      0     73         0  "
      ]
     },
     "execution_count": 12,
     "metadata": {},
     "output_type": "execute_result"
    }
   ],
   "source": [
    "\n",
    "df_visual = df_visual.rename(columns={\n",
    "    'recruitment_channel':'channel',\n",
    "    \n",
    "    'no_of_trainings':'trainings',\n",
    "    \n",
    "    'previous_year_rating':'rating',\n",
    "    'length_of_service':'service',\n",
    "    'KPIs_met >80%':'kpi',\n",
    "    'awards_won?':'award',\n",
    "    \n",
    "    'avg_training_score':'score',\n",
    "    'is_promoted':'promoted'\n",
    "})\n",
    "df_visual.head()"
   ]
  },
  {
   "cell_type": "code",
   "execution_count": null,
   "metadata": {},
   "outputs": [],
   "source": [
    "df_visual.dtypes"
   ]
  },
  {
   "cell_type": "code",
   "execution_count": null,
   "metadata": {},
   "outputs": [],
   "source": [
    "# check what is the promotion rate. Same rate has to be there in cross validation\n",
    "promotion_rate = df_visual.promoted.value_counts() / len(df_visual)\n",
    "promotion_rate"
   ]
  },
  {
   "cell_type": "markdown",
   "metadata": {},
   "source": [
    "## Only 8.5 % of the people have been promoted according to the data "
   ]
  },
  {
   "cell_type": "code",
   "execution_count": null,
   "metadata": {},
   "outputs": [],
   "source": [
    "df_visual.describe()"
   ]
  },
  {
   "cell_type": "code",
   "execution_count": null,
   "metadata": {},
   "outputs": [],
   "source": [
    "promoted = df_visual.groupby('promoted')\n",
    "promoted.mean()"
   ]
  },
  {
   "cell_type": "markdown",
   "metadata": {},
   "source": [
    "## Heatmap"
   ]
  },
  {
   "cell_type": "code",
   "execution_count": null,
   "metadata": {},
   "outputs": [],
   "source": [
    "import seaborn as sns\n",
    "\n",
    "corr= df_visual.corr()\n",
    "print(corr)\n",
    "sns.heatmap(corr, \n",
    "            xticklabels=corr.columns.values,\n",
    "            yticklabels=corr.columns.values)"
   ]
  },
  {
   "cell_type": "markdown",
   "metadata": {},
   "source": [
    "### 1. rating and kpi are strongly correlated to each other. It means people who have good ratings are the ones who have achieved their KPI's\n",
    "### 2. rating, kpi and training score are the factors that contribute higly towards our target variable promotion\n",
    "### 3. Age and service have highest corelation\n",
    " \n"
   ]
  },
  {
   "cell_type": "code",
   "execution_count": null,
   "metadata": {},
   "outputs": [],
   "source": [
    "sns.pairplot(df_visual)"
   ]
  },
  {
   "cell_type": "code",
   "execution_count": null,
   "metadata": {},
   "outputs": [],
   "source": [
    "import matplotlib.pyplot as plt\n",
    "\n",
    "f, axes = plt.subplots(ncols=3, figsize=(15, 6))\n",
    "\n",
    "# Graph Employee Satisfaction\n",
    "sns.distplot(df_visual.rating, kde=False, color=\"g\", ax=axes[0]).set_title('Employee Rating Distribution')\n",
    "axes[0].set_ylabel('Employee Count')\n",
    "\n",
    "# Graph Employee Evaluation\n",
    "sns.distplot(df_visual.kpi, kde=False, color=\"r\", ax=axes[1]).set_title('Employee KPI Distribution')\n",
    "axes[1].set_ylabel('Employee Count')\n",
    "\n",
    "# Graph Employee Average Monthly Hours\n",
    "sns.distplot(df_visual.score, kde=False, color=\"b\", ax=axes[2]).set_title('Employee Score Distribution')\n",
    "axes[2].set_ylabel('Employee Count')\n"
   ]
  },
  {
   "cell_type": "markdown",
   "metadata": {},
   "source": [
    "## Promotion vs Department"
   ]
  },
  {
   "cell_type": "code",
   "execution_count": null,
   "metadata": {},
   "outputs": [],
   "source": [
    "sns.countplot(y='department', data=df_visual).set_title('Employee Department Distribution');"
   ]
  },
  {
   "cell_type": "code",
   "execution_count": null,
   "metadata": {},
   "outputs": [],
   "source": [
    "sns.countplot(y='department', hue='promoted', data=df_visual).set_title('Employee Department Promotion Distribution');"
   ]
  },
  {
   "cell_type": "code",
   "execution_count": null,
   "metadata": {},
   "outputs": [],
   "source": [
    "promot_dept = df_visual.groupby(['department'])\n",
    "promot_dept.promoted.mean()*100"
   ]
  },
  {
   "cell_type": "markdown",
   "metadata": {},
   "source": [
    "### Promotion Rates according to department\n",
    "\n",
    "Department\n",
    "Analytics             9.566517\n",
    "Finance               8.123028\n",
    "HR                    5.624483\n",
    "Legal                 5.101059\n",
    "Operations            9.014804\n",
    "Procurement           9.638554\n",
    "R&D                   6.906907\n",
    "Sales & Marketing     7.203088\n",
    "Technology           10.759316\n",
    "\n",
    "### Technology is the department which has the highest promotion rate. Sales and Marketing have the maximum number of people"
   ]
  },
  {
   "cell_type": "markdown",
   "metadata": {},
   "source": [
    "### Promotion vs Region"
   ]
  },
  {
   "cell_type": "code",
   "execution_count": null,
   "metadata": {},
   "outputs": [],
   "source": [
    "f, ax = plt.subplots(figsize=(15, 15))\n",
    "sns.countplot(y='region', data=df_visual).set_title('Employee Region Distribution');\n"
   ]
  },
  {
   "cell_type": "code",
   "execution_count": null,
   "metadata": {},
   "outputs": [],
   "source": [
    "f, ax = plt.subplots(figsize=(15, 15))\n",
    "sns.countplot(y='region', hue='promoted', data=df_visual).set_title('Employee Region Distribution');\n"
   ]
  },
  {
   "cell_type": "code",
   "execution_count": null,
   "metadata": {},
   "outputs": [],
   "source": [
    "promot_region = df_visual.groupby(['region'])\n",
    "promot_region.promoted.mean()*100"
   ]
  },
  {
   "cell_type": "markdown",
   "metadata": {},
   "source": [
    "## 14% of the Region 4 employees were promoted which is way above the average promotion rate"
   ]
  },
  {
   "cell_type": "code",
   "execution_count": null,
   "metadata": {},
   "outputs": [],
   "source": [
    "sns.countplot(y='gender', hue='promoted', data=df_visual).set_title('Employee Region Distribution');\n"
   ]
  },
  {
   "cell_type": "code",
   "execution_count": null,
   "metadata": {},
   "outputs": [],
   "source": [
    "gen = df_visual.groupby(['gender'])\n",
    "gen.promoted.mean()*100"
   ]
  },
  {
   "cell_type": "code",
   "execution_count": null,
   "metadata": {},
   "outputs": [],
   "source": [
    "sns.countplot(y='education', hue='promoted', data=df_visual).set_title('Employee Region Distribution');\n"
   ]
  },
  {
   "cell_type": "code",
   "execution_count": null,
   "metadata": {},
   "outputs": [],
   "source": [
    "edu = df_visual.groupby(['education'])\n",
    "edu.promoted.mean()*100"
   ]
  },
  {
   "cell_type": "code",
   "execution_count": null,
   "metadata": {},
   "outputs": [],
   "source": [
    "sns.countplot(x='channel', hue='promoted', data=df_visual).set_title('Employee Region Distribution');\n"
   ]
  },
  {
   "cell_type": "code",
   "execution_count": null,
   "metadata": {},
   "outputs": [],
   "source": [
    "chan = df_visual.groupby(['channel'])\n",
    "chan.promoted.mean()*100"
   ]
  },
  {
   "cell_type": "code",
   "execution_count": null,
   "metadata": {},
   "outputs": [],
   "source": [
    "df_visual['score'].unique()"
   ]
  },
  {
   "cell_type": "code",
   "execution_count": 14,
   "metadata": {},
   "outputs": [],
   "source": [
    "#df_visual['score'] = pd.cut(df_visual['score'], 5)\n",
    "df_visual.head()\n",
    "new_df_visual = drop_columns(df_visual, columns=['gender','age','trainings','service'])\n",
    "#X = np.array(df_visual.values)"
   ]
  },
  {
   "cell_type": "code",
   "execution_count": 15,
   "metadata": {},
   "outputs": [],
   "source": [
    "X = np.array(new_df_visual.values)\n",
    "X, labels = get_features_and_labels(X)"
   ]
  },
  {
   "cell_type": "code",
   "execution_count": 16,
   "metadata": {},
   "outputs": [
    {
     "data": {
      "text/plain": [
       "array(['Sales & Marketing', 'region_7', \"Master's & above\", 'sourcing',\n",
       "       5.0, 1, 0, 49], dtype=object)"
      ]
     },
     "execution_count": 16,
     "metadata": {},
     "output_type": "execute_result"
    }
   ],
   "source": [
    "X[0]"
   ]
  },
  {
   "cell_type": "markdown",
   "metadata": {},
   "source": [
    "# One Hot Encoding"
   ]
  },
  {
   "cell_type": "code",
   "execution_count": 17,
   "metadata": {},
   "outputs": [],
   "source": [
    "from sklearn.preprocessing import OneHotEncoder, LabelEncoder\n",
    "\n",
    "def one_hot_encoding(X , col_id):\n",
    "    lbl = LabelEncoder()\n",
    "    enc = OneHotEncoder(sparse=False)\n",
    "    X[:,col_id] = lbl.fit_transform(X[:,col_id])\n",
    "    integer_encoded = X[:,col_id].reshape(len(X[:,col_id]), 1)\n",
    "    onehot_encoded = enc.fit_transform(integer_encoded)\n",
    "    onehot_encoded = np.array(onehot_encoded)\n",
    "    new_X = np.append(np.delete(X, col_id, axis = 1),onehot_encoded, axis = 1)\n",
    "    print(new_X.shape)\n",
    "    return new_X"
   ]
  },
  {
   "cell_type": "code",
   "execution_count": 18,
   "metadata": {},
   "outputs": [
    {
     "data": {
      "text/plain": [
       "array(['Sales & Marketing', 'region_7', \"Master's & above\", 'sourcing',\n",
       "       5.0, 1, 0, 49], dtype=object)"
      ]
     },
     "execution_count": 18,
     "metadata": {},
     "output_type": "execute_result"
    }
   ],
   "source": [
    "X[0]"
   ]
  },
  {
   "cell_type": "code",
   "execution_count": 27,
   "metadata": {},
   "outputs": [
    {
     "name": "stdout",
     "output_type": "stream",
     "text": [
      "(54808, 53)\n"
     ]
    },
    {
     "data": {
      "text/plain": [
       "array([[5.0, 1, 0, ..., 0.0, 0.0, 1.0],\n",
       "       [5.0, 0, 0, ..., 1.0, 0.0, 0.0],\n",
       "       [3.0, 0, 0, ..., 0.0, 0.0, 1.0],\n",
       "       ...,\n",
       "       [5.0, 1, 0, ..., 1.0, 0.0, 0.0],\n",
       "       [1.0, 0, 0, ..., 0.0, 0.0, 1.0],\n",
       "       [1.0, 0, 0, ..., 1.0, 0.0, 0.0]], dtype=object)"
      ]
     },
     "execution_count": 27,
     "metadata": {},
     "output_type": "execute_result"
    }
   ],
   "source": [
    "X = one_hot_encoding(X, 0)\n",
    "X"
   ]
  },
  {
   "cell_type": "markdown",
   "metadata": {},
   "source": [
    "# Train Test Split"
   ]
  },
  {
   "cell_type": "code",
   "execution_count": 29,
   "metadata": {},
   "outputs": [],
   "source": [
    "from sklearn.model_selection import train_test_split\n",
    "\n",
    "X_train, X_valid , y_train, y_valid = train_test_split(X, labels, test_size =0.1, shuffle=True)"
   ]
  },
  {
   "cell_type": "code",
   "execution_count": 30,
   "metadata": {},
   "outputs": [
    {
     "data": {
      "text/plain": [
       "((49327, 53), (49327,), (5481, 53), (5481,))"
      ]
     },
     "execution_count": 30,
     "metadata": {},
     "output_type": "execute_result"
    }
   ],
   "source": [
    "X_train.shape , y_train.shape , X_valid.shape , y_valid.shape"
   ]
  },
  {
   "cell_type": "markdown",
   "metadata": {},
   "source": [
    "# Classifiers"
   ]
  },
  {
   "cell_type": "code",
   "execution_count": 31,
   "metadata": {},
   "outputs": [],
   "source": [
    "from sklearn.metrics import accuracy_score, classification_report, confusion_matrix\n",
    "\n",
    "def print_summary(classifier , X_valid, y_valid):\n",
    "    prediction = classifier.predict(X_valid)\n",
    "    print(accuracy_score(y_valid, prediction))\n",
    "    print(classification_report(y_valid, prediction))\n",
    "    print(confusion_matrix(y_valid, prediction))\n",
    "    \n",
    "def print_summary_new(prediction , y_valid):\n",
    "    \n",
    "    print(accuracy_score(y_valid, prediction))\n",
    "    print(classification_report(y_valid, prediction))\n",
    "    print(confusion_matrix(y_valid, prediction))"
   ]
  },
  {
   "cell_type": "code",
   "execution_count": 32,
   "metadata": {},
   "outputs": [],
   "source": [
    "from sklearn.ensemble import RandomForestClassifier \n",
    "from sklearn import tree \n",
    "from sklearn.svm import SVC\n",
    "from sklearn.naive_bayes import GaussianNB\n",
    "from sklearn.neighbors import KNeighborsClassifier\n",
    "from sklearn.ensemble import AdaBoostClassifier\n",
    "from sklearn.ensemble import GradientBoostingClassifier\n",
    "from xgboost import XGBClassifier\n",
    "\n",
    "def try_default_classifiers(X_train, y_train):\n",
    "    classifier_rf = RandomForestClassifier()\n",
    "    classifier_rf.fit(X_train, y_train)\n",
    "    print(\"For Random Forests:\\n\")\n",
    "    print_summary(classifier_rf, X_valid, y_valid)\n",
    "    \n",
    "    classifier_t = tree.DecisionTreeClassifier()\n",
    "    classifier_t.fit(X_train, y_train)\n",
    "    print(\"For Decision Tree:\\n\")\n",
    "    print_summary(classifier_t, X_valid, y_valid)\n",
    "    \n",
    "    classifier_svc = SVC()\n",
    "    classifier_svc.fit(X_train, y_train)\n",
    "    print(\"For SVC:\\n\")\n",
    "    print_summary( classifier_svc, X_valid, y_valid)\n",
    "    \n",
    "    classifier_nb = GaussianNB()\n",
    "    classifier_nb.fit(X_train, y_train)\n",
    "    print(\"For Naive Bayes:\\n\")\n",
    "    print_summary( classifier_nb, X_valid, y_valid)\n",
    "    \n",
    "    classifier_knn = KNeighborsClassifier()\n",
    "    classifier_knn.fit(X_train, y_train)\n",
    "    print(\"For KNN:\\n\")\n",
    "    print_summary( classifier_knn, X_valid, y_valid)\n",
    "    \n",
    "    classifier_ada = AdaBoostClassifier()\n",
    "    classifier_ada.fit(X_train, y_train)\n",
    "    print(\"For Adaboost:\\n\")\n",
    "    print_summary( classifier_ada, X_valid, y_valid)\n",
    "    \n",
    "    classifier_gbc = GradientBoostingClassifier()\n",
    "    classifier_gbc.fit(X_train, y_train)\n",
    "    print(\"For Gradient Boosting:\\n\")\n",
    "    print_summary( classifier_gbc, X_valid, y_valid)\n",
    "    \n",
    "    classifier_xgb = XGBClassifier()\n",
    "    classifier_xgb.fit(X_train, y_train)\n",
    "    print(\"For XG Boosting:\\n\")\n",
    "    print_summary( classifier_xgb, X_valid, y_valid)\n",
    "    \n",
    "    return [classifier_rf, classifier_t, classifier_svc, classifier_nb, classifier_knn,classifier_ada,classifier_gbc,classifier_xgb]\n",
    "   "
   ]
  },
  {
   "cell_type": "code",
   "execution_count": 33,
   "metadata": {},
   "outputs": [],
   "source": [
    "X_train =X_train.astype(float)\n",
    "y_train = y_train.astype(float)\n",
    "X_valid = X_valid.astype(float)\n",
    "y_valid = y_valid.astype(float)"
   ]
  },
  {
   "cell_type": "code",
   "execution_count": 34,
   "metadata": {
    "scrolled": false
   },
   "outputs": [
    {
     "name": "stdout",
     "output_type": "stream",
     "text": [
      "For Random Forests:\n",
      "\n",
      "0.9220945083014048\n",
      "             precision    recall  f1-score   support\n",
      "\n",
      "        0.0       0.94      0.97      0.96      5031\n",
      "        1.0       0.54      0.36      0.43       450\n",
      "\n",
      "avg / total       0.91      0.92      0.91      5481\n",
      "\n",
      "[[4892  139]\n",
      " [ 288  162]]\n",
      "For Decision Tree:\n",
      "\n",
      "0.9220945083014048\n",
      "             precision    recall  f1-score   support\n",
      "\n",
      "        0.0       0.95      0.97      0.96      5031\n",
      "        1.0       0.53      0.42      0.47       450\n",
      "\n",
      "avg / total       0.91      0.92      0.92      5481\n",
      "\n",
      "[[4867  164]\n",
      " [ 263  187]]\n",
      "For SVC:\n",
      "\n",
      "0.9436234263820471\n",
      "             precision    recall  f1-score   support\n",
      "\n",
      "        0.0       0.94      1.00      0.97      5031\n",
      "        1.0       0.97      0.32      0.48       450\n",
      "\n",
      "avg / total       0.95      0.94      0.93      5481\n",
      "\n",
      "[[5027    4]\n",
      " [ 305  145]]\n",
      "For Naive Bayes:\n",
      "\n",
      "0.5644955300127714\n",
      "             precision    recall  f1-score   support\n",
      "\n",
      "        0.0       0.96      0.55      0.70      5031\n",
      "        1.0       0.13      0.74      0.22       450\n",
      "\n",
      "avg / total       0.89      0.56      0.66      5481\n",
      "\n",
      "[[2763 2268]\n",
      " [ 119  331]]\n",
      "For KNN:\n",
      "\n",
      "0.9312169312169312\n",
      "             precision    recall  f1-score   support\n",
      "\n",
      "        0.0       0.94      0.99      0.96      5031\n",
      "        1.0       0.74      0.25      0.38       450\n",
      "\n",
      "avg / total       0.92      0.93      0.92      5481\n",
      "\n",
      "[[4990   41]\n",
      " [ 336  114]]\n",
      "For Adaboost:\n",
      "\n",
      "0.9259259259259259\n",
      "             precision    recall  f1-score   support\n",
      "\n",
      "        0.0       0.93      0.99      0.96      5031\n",
      "        1.0       0.72      0.16      0.26       450\n",
      "\n",
      "avg / total       0.91      0.93      0.90      5481\n",
      "\n",
      "[[5003   28]\n",
      " [ 378   72]]\n",
      "For Gradient Boosting:\n",
      "\n",
      "0.9421638387155629\n",
      "             precision    recall  f1-score   support\n",
      "\n",
      "        0.0       0.94      1.00      0.97      5031\n",
      "        1.0       0.95      0.31      0.47       450\n",
      "\n",
      "avg / total       0.94      0.94      0.93      5481\n",
      "\n",
      "[[5024    7]\n",
      " [ 310  140]]\n",
      "For XG Boosting:\n",
      "\n",
      "0.940156905674147\n",
      "             precision    recall  f1-score   support\n",
      "\n",
      "        0.0       0.94      1.00      0.97      5031\n",
      "        1.0       0.96      0.28      0.44       450\n",
      "\n",
      "avg / total       0.94      0.94      0.92      5481\n",
      "\n",
      "[[5026    5]\n",
      " [ 323  127]]\n"
     ]
    },
    {
     "name": "stderr",
     "output_type": "stream",
     "text": [
      "c:\\users\\kanwal\\miniconda3\\lib\\site-packages\\sklearn\\preprocessing\\label.py:151: DeprecationWarning: The truth value of an empty array is ambiguous. Returning False, but in future this will result in an error. Use `array.size > 0` to check that an array is not empty.\n",
      "  if diff:\n"
     ]
    }
   ],
   "source": [
    "classifier_list = try_default_classifiers(X_train, y_train)"
   ]
  },
  {
   "cell_type": "code",
   "execution_count": 95,
   "metadata": {},
   "outputs": [
    {
     "name": "stdout",
     "output_type": "stream",
     "text": [
      "0.9445356686735997\n",
      "             precision    recall  f1-score   support\n",
      "\n",
      "        0.0       0.94      1.00      0.97      5031\n",
      "        1.0       0.96      0.34      0.50       450\n",
      "\n",
      "avg / total       0.95      0.94      0.93      5481\n",
      "\n",
      "[[5025    6]\n",
      " [ 298  152]]\n"
     ]
    }
   ],
   "source": [
    "classifier_svc = SVC(C=10, kernel='rbf')\n",
    "classifier_svc.fit(X_train, y_train)\n",
    "print_summary( classifier_svc, X_valid, y_valid)\n",
    "    "
   ]
  },
  {
   "cell_type": "code",
   "execution_count": 35,
   "metadata": {},
   "outputs": [
    {
     "data": {
      "text/plain": [
       "SVC(C=1.0, cache_size=200, class_weight=None, coef0=0.0,\n",
       "  decision_function_shape='ovr', degree=3, gamma='auto', kernel='rbf',\n",
       "  max_iter=-1, probability=False, random_state=None, shrinking=True,\n",
       "  tol=0.001, verbose=False)"
      ]
     },
     "execution_count": 35,
     "metadata": {},
     "output_type": "execute_result"
    }
   ],
   "source": [
    "final_model = classifier_list[2]\n",
    "final_model"
   ]
  },
  {
   "cell_type": "markdown",
   "metadata": {},
   "source": [
    "# Neural Network"
   ]
  },
  {
   "cell_type": "code",
   "execution_count": 36,
   "metadata": {},
   "outputs": [
    {
     "name": "stderr",
     "output_type": "stream",
     "text": [
      "Using TensorFlow backend.\n"
     ]
    }
   ],
   "source": [
    "import keras\n",
    "from keras.layers import BatchNormalization\n",
    "from keras.layers.core import Flatten,Dense,Dropout, Activation, Lambda\n",
    "from keras.models import Model, Sequential\n",
    "from keras.optimizers import Adam,SGD\n",
    "from keras.callbacks import TensorBoard"
   ]
  },
  {
   "cell_type": "code",
   "execution_count": 37,
   "metadata": {},
   "outputs": [],
   "source": [
    "model = Sequential()\n",
    "#model.add(Lambda(lambda x: x , input_shape = (24)))\n",
    "#model.add(Lambda(lambda x: x+0.1 , input_shape = (64,64,3)))\n",
    "#model.add(Flatten())\n",
    "model.add(BatchNormalization(input_shape=(53,)))\n",
    "model.add(Dense(1000))\n",
    "model.add(Activation('relu'))\n",
    "\n",
    "\n",
    "#model.add(Dropout(0.2))\n",
    "model.add(BatchNormalization())\n",
    "model.add(Dense(500))\n",
    "model.add(Activation('relu'))\n",
    "#model.add(Dropout(0.2))\n",
    "#model.add(BatchNormalization())\n",
    "model.add(Dense(50))\n",
    "model.add(Activation('relu'))\n",
    "\n",
    "model.add(Dense(1))\n",
    "model.add(Activation('sigmoid'))\n",
    "model.compile(optimizer = 'Adam' , loss = 'binary_crossentropy', metrics=['accuracy'])"
   ]
  },
  {
   "cell_type": "code",
   "execution_count": 38,
   "metadata": {},
   "outputs": [
    {
     "name": "stdout",
     "output_type": "stream",
     "text": [
      "Train on 49327 samples, validate on 5481 samples\n",
      "Epoch 1/10\n",
      "49327/49327 [==============================] - 16s 333us/step - loss: 0.2121 - acc: 0.9286 - val_loss: 0.1823 - val_acc: 0.9391\n",
      "Epoch 2/10\n",
      "49327/49327 [==============================] - 15s 308us/step - loss: 0.1786 - acc: 0.9376 - val_loss: 0.1755 - val_acc: 0.9411\n",
      "Epoch 3/10\n",
      "49327/49327 [==============================] - 15s 309us/step - loss: 0.1747 - acc: 0.9385 - val_loss: 0.1678 - val_acc: 0.9431\n",
      "Epoch 4/10\n",
      "49327/49327 [==============================] - 15s 310us/step - loss: 0.1712 - acc: 0.9392 - val_loss: 0.1656 - val_acc: 0.9418\n",
      "Epoch 5/10\n",
      "49327/49327 [==============================] - 15s 310us/step - loss: 0.1693 - acc: 0.9394 - val_loss: 0.1634 - val_acc: 0.9429\n",
      "Epoch 6/10\n",
      "49327/49327 [==============================] - 15s 310us/step - loss: 0.1665 - acc: 0.9399 - val_loss: 0.1706 - val_acc: 0.9416 lo\n",
      "Epoch 7/10\n",
      "49327/49327 [==============================] - 15s 306us/step - loss: 0.1657 - acc: 0.9405 - val_loss: 0.1699 - val_acc: 0.9418\n",
      "Epoch 8/10\n",
      "49327/49327 [==============================] - 15s 305us/step - loss: 0.1645 - acc: 0.9405 - val_loss: 0.1691 - val_acc: 0.9420\n",
      "Epoch 9/10\n",
      "49327/49327 [==============================] - 15s 303us/step - loss: 0.1617 - acc: 0.9410 - val_loss: 0.1723 - val_acc: 0.9431\n",
      "Epoch 10/10\n",
      "49327/49327 [==============================] - 15s 309us/step - loss: 0.1613 - acc: 0.9410 - val_loss: 0.1685 - val_acc: 0.9422\n"
     ]
    },
    {
     "data": {
      "text/plain": [
       "<keras.callbacks.History at 0x2dd2d11a400>"
      ]
     },
     "execution_count": 38,
     "metadata": {},
     "output_type": "execute_result"
    }
   ],
   "source": [
    "model.fit(X_train, y_train, epochs=10, verbose =1, validation_data=(X_valid, y_valid), batch_size =64)"
   ]
  },
  {
   "cell_type": "code",
   "execution_count": 39,
   "metadata": {},
   "outputs": [],
   "source": [
    "model_1 = Sequential()\n",
    "#model.add(Lambda(lambda x: x , input_shape = (24)))\n",
    "#model.add(Lambda(lambda x: x+0.1 , input_shape = (64,64,3)))\n",
    "#model.add(Flatten())\n",
    "model_1.add(BatchNormalization(input_shape=(53,)))\n",
    "model_1.add(Dense(10))\n",
    "model_1.add(Activation('relu'))\n",
    "\n",
    "\n",
    "#model.add(Dropout(0.2))\n",
    "model_1.add(BatchNormalization())\n",
    "model_1.add(Dense(500))\n",
    "model_1.add(Activation('relu'))\n",
    "#model.add(Dropout(0.2))\n",
    "#model.add(BatchNormalization())\n",
    "model_1.add(Dense(250))\n",
    "model_1.add(Activation('relu'))\n",
    "\n",
    "model_1.add(Dense(100))\n",
    "model_1.add(Activation('relu'))\n",
    "model_1.add(Dense(50))\n",
    "model_1.add(Activation('relu'))\n",
    "\n",
    "model_1.add(Dense(1))\n",
    "model_1.add(Activation('sigmoid'))\n",
    "model_1.compile(optimizer = 'Adam' , loss = 'binary_crossentropy', metrics=['accuracy'])"
   ]
  },
  {
   "cell_type": "code",
   "execution_count": 40,
   "metadata": {},
   "outputs": [
    {
     "name": "stdout",
     "output_type": "stream",
     "text": [
      "Train on 49327 samples, validate on 5481 samples\n",
      "Epoch 1/10\n",
      "49327/49327 [==============================] - 4s 85us/step - loss: 0.2557 - acc: 0.9162 - val_loss: 0.2125 - val_acc: 0.9257\n",
      "Epoch 2/10\n",
      "49327/49327 [==============================] - 3s 67us/step - loss: 0.1963 - acc: 0.9317 - val_loss: 0.1839 - val_acc: 0.9378\n",
      "Epoch 3/10\n",
      "49327/49327 [==============================] - 3s 68us/step - loss: 0.1821 - acc: 0.9366 - val_loss: 0.1707 - val_acc: 0.9403\n",
      "Epoch 4/10\n",
      "49327/49327 [==============================] - 3s 67us/step - loss: 0.1764 - acc: 0.9383 - val_loss: 0.1662 - val_acc: 0.9420\n",
      "Epoch 5/10\n",
      "49327/49327 [==============================] - 3s 68us/step - loss: 0.1749 - acc: 0.9392 - val_loss: 0.1680 - val_acc: 0.9429\n",
      "Epoch 6/10\n",
      "49327/49327 [==============================] - 3s 67us/step - loss: 0.1726 - acc: 0.9394 - val_loss: 0.1646 - val_acc: 0.9420\n",
      "Epoch 7/10\n",
      "49327/49327 [==============================] - 3s 68us/step - loss: 0.1714 - acc: 0.9392 - val_loss: 0.1633 - val_acc: 0.9444\n",
      "Epoch 8/10\n",
      "49327/49327 [==============================] - 3s 67us/step - loss: 0.1704 - acc: 0.9399 - val_loss: 0.1667 - val_acc: 0.9431\n",
      "Epoch 9/10\n",
      "49327/49327 [==============================] - 3s 67us/step - loss: 0.1694 - acc: 0.9404 - val_loss: 0.1620 - val_acc: 0.9438\n",
      "Epoch 10/10\n",
      "49327/49327 [==============================] - 3s 67us/step - loss: 0.1693 - acc: 0.9404 - val_loss: 0.1620 - val_acc: 0.9434\n"
     ]
    },
    {
     "data": {
      "text/plain": [
       "<keras.callbacks.History at 0x2dd4be06da0>"
      ]
     },
     "execution_count": 40,
     "metadata": {},
     "output_type": "execute_result"
    }
   ],
   "source": [
    "model_1.fit(X_train, y_train, epochs=10, verbose =1, validation_data=(X_valid, y_valid), batch_size =96)"
   ]
  },
  {
   "cell_type": "code",
   "execution_count": null,
   "metadata": {},
   "outputs": [],
   "source": [
    "model_2 = Sequential()\n",
    "#model.add(Lambda(lambda x: x , input_shape = (24)))\n",
    "#model.add(Lambda(lambda x: x+0.1 , input_shape = (64,64,3)))\n",
    "#model.add(Flatten())\n",
    "model_2.add(BatchNormalization(input_shape=(53,)))\n",
    "model_2.add(Dense(126))\n",
    "model_2.add(Activation('relu'))\n",
    "\n",
    "\n",
    "#model.add(Dropout(0.2))\n",
    "model_2.add(BatchNormalization())\n",
    "model_2.add(Dense(53))\n",
    "model_2.add(Activation('relu'))\n",
    "#model.add(Dropout(0.2))\n",
    "#model.add(BatchNormalization())\n",
    "model_2.add(Dense(126))\n",
    "model_2.add(Activation('relu'))\n",
    "\n",
    "model_2.add(Dense(53))\n",
    "model_2.add(Activation('relu'))\n",
    "model_2.add(Dense(50))\n",
    "model_2.add(Activation('relu'))\n",
    "\n",
    "model_2.add(Dense(1))\n",
    "model_2.add(Activation('sigmoid'))\n",
    "model_2.compile(optimizer = 'Adam' , loss = 'binary_crossentropy', metrics=['accuracy'])"
   ]
  },
  {
   "cell_type": "code",
   "execution_count": null,
   "metadata": {},
   "outputs": [],
   "source": [
    "model_2.fit(X_train, y_train, epochs=10, verbose =1, validation_data=(X_valid, y_valid), batch_size =96)"
   ]
  },
  {
   "cell_type": "markdown",
   "metadata": {},
   "source": [
    "# Test Data Prediction"
   ]
  },
  {
   "cell_type": "code",
   "execution_count": 41,
   "metadata": {},
   "outputs": [
    {
     "name": "stdout",
     "output_type": "stream",
     "text": [
      "<class 'pandas.core.frame.DataFrame'>\n",
      "RangeIndex: 23490 entries, 0 to 23489\n",
      "Data columns (total 13 columns):\n",
      "employee_id             23490 non-null int64\n",
      "department              23490 non-null object\n",
      "region                  23490 non-null object\n",
      "education               22456 non-null object\n",
      "gender                  23490 non-null object\n",
      "recruitment_channel     23490 non-null object\n",
      "no_of_trainings         23490 non-null int64\n",
      "age                     23490 non-null int64\n",
      "previous_year_rating    21678 non-null float64\n",
      "length_of_service       23490 non-null int64\n",
      "KPIs_met >80%           23490 non-null int64\n",
      "awards_won?             23490 non-null int64\n",
      "avg_training_score      23490 non-null int64\n",
      "dtypes: float64(1), int64(7), object(5)\n",
      "memory usage: 2.3+ MB\n",
      "None\n"
     ]
    }
   ],
   "source": [
    "test_df = read_csv_file('test.csv')"
   ]
  },
  {
   "cell_type": "code",
   "execution_count": 43,
   "metadata": {},
   "outputs": [],
   "source": [
    "def perform_transformations(new_df):\n",
    "    new_df.loc[((new_df['previous_year_rating'].isnull()) & (new_df['KPIs_met >80%'] == 1)) , 'previous_year_rating'] =5.0\n",
    "    new_df.loc[(new_df['previous_year_rating'].isnull()) , 'previous_year_rating'] = 3.0\n",
    "    new_df.loc[((new_df['education'].isnull()) & (new_df['age'] >= 36)),'education'] = 'Master\\'s & above'\n",
    "    new_df.loc[((new_df['education'].isnull()) & ((new_df['age'] >= 30) & (new_df['age'] < 36)) ),'education'] = 'Bachelor\\'s'\n",
    "    new_df.loc[((new_df['education'].isnull()) & (new_df['age'] < 30)  ),'education'] = 'Below Secondary'\n",
    "    return new_df\n",
    "\n",
    "test_df = perform_transformations(test_df)\n",
    "\n",
    "#testing.head()"
   ]
  },
  {
   "cell_type": "code",
   "execution_count": 44,
   "metadata": {},
   "outputs": [
    {
     "data": {
      "text/html": [
       "<div>\n",
       "<style scoped>\n",
       "    .dataframe tbody tr th:only-of-type {\n",
       "        vertical-align: middle;\n",
       "    }\n",
       "\n",
       "    .dataframe tbody tr th {\n",
       "        vertical-align: top;\n",
       "    }\n",
       "\n",
       "    .dataframe thead th {\n",
       "        text-align: right;\n",
       "    }\n",
       "</style>\n",
       "<table border=\"1\" class=\"dataframe\">\n",
       "  <thead>\n",
       "    <tr style=\"text-align: right;\">\n",
       "      <th></th>\n",
       "      <th>department</th>\n",
       "      <th>region</th>\n",
       "      <th>education</th>\n",
       "      <th>recruitment_channel</th>\n",
       "      <th>previous_year_rating</th>\n",
       "      <th>KPIs_met &gt;80%</th>\n",
       "      <th>awards_won?</th>\n",
       "      <th>avg_training_score</th>\n",
       "    </tr>\n",
       "  </thead>\n",
       "  <tbody>\n",
       "    <tr>\n",
       "      <th>0</th>\n",
       "      <td>Technology</td>\n",
       "      <td>region_26</td>\n",
       "      <td>Bachelor's</td>\n",
       "      <td>sourcing</td>\n",
       "      <td>5.0</td>\n",
       "      <td>1</td>\n",
       "      <td>0</td>\n",
       "      <td>77</td>\n",
       "    </tr>\n",
       "    <tr>\n",
       "      <th>1</th>\n",
       "      <td>HR</td>\n",
       "      <td>region_4</td>\n",
       "      <td>Bachelor's</td>\n",
       "      <td>other</td>\n",
       "      <td>3.0</td>\n",
       "      <td>0</td>\n",
       "      <td>0</td>\n",
       "      <td>51</td>\n",
       "    </tr>\n",
       "    <tr>\n",
       "      <th>2</th>\n",
       "      <td>Sales &amp; Marketing</td>\n",
       "      <td>region_13</td>\n",
       "      <td>Bachelor's</td>\n",
       "      <td>other</td>\n",
       "      <td>1.0</td>\n",
       "      <td>0</td>\n",
       "      <td>0</td>\n",
       "      <td>47</td>\n",
       "    </tr>\n",
       "    <tr>\n",
       "      <th>3</th>\n",
       "      <td>Procurement</td>\n",
       "      <td>region_2</td>\n",
       "      <td>Bachelor's</td>\n",
       "      <td>other</td>\n",
       "      <td>2.0</td>\n",
       "      <td>0</td>\n",
       "      <td>0</td>\n",
       "      <td>65</td>\n",
       "    </tr>\n",
       "    <tr>\n",
       "      <th>4</th>\n",
       "      <td>Finance</td>\n",
       "      <td>region_29</td>\n",
       "      <td>Bachelor's</td>\n",
       "      <td>sourcing</td>\n",
       "      <td>4.0</td>\n",
       "      <td>0</td>\n",
       "      <td>0</td>\n",
       "      <td>61</td>\n",
       "    </tr>\n",
       "  </tbody>\n",
       "</table>\n",
       "</div>"
      ],
      "text/plain": [
       "          department     region   education recruitment_channel  \\\n",
       "0         Technology  region_26  Bachelor's            sourcing   \n",
       "1                 HR   region_4  Bachelor's               other   \n",
       "2  Sales & Marketing  region_13  Bachelor's               other   \n",
       "3        Procurement   region_2  Bachelor's               other   \n",
       "4            Finance  region_29  Bachelor's            sourcing   \n",
       "\n",
       "   previous_year_rating  KPIs_met >80%  awards_won?  avg_training_score  \n",
       "0                   5.0              1            0                  77  \n",
       "1                   3.0              0            0                  51  \n",
       "2                   1.0              0            0                  47  \n",
       "3                   2.0              0            0                  65  \n",
       "4                   4.0              0            0                  61  "
      ]
     },
     "execution_count": 44,
     "metadata": {},
     "output_type": "execute_result"
    }
   ],
   "source": [
    "\n",
    "new_test_df = drop_columns(test_df, columns=['employee_id','no_of_trainings','gender','age','length_of_service'])\n",
    "new_test_df.head()"
   ]
  },
  {
   "cell_type": "code",
   "execution_count": 45,
   "metadata": {},
   "outputs": [
    {
     "name": "stdout",
     "output_type": "stream",
     "text": [
      "department              0\n",
      "region                  0\n",
      "education               0\n",
      "recruitment_channel     0\n",
      "previous_year_rating    0\n",
      "KPIs_met >80%           0\n",
      "awards_won?             0\n",
      "avg_training_score      0\n",
      "dtype: int64\n"
     ]
    }
   ],
   "source": [
    "print(new_test_df.isnull().sum())\n"
   ]
  },
  {
   "cell_type": "code",
   "execution_count": null,
   "metadata": {},
   "outputs": [],
   "source": [
    "\n",
    "# bin_range = [38.94, 99.0]\n",
    "# bin_input = input(\"Enter bins as comma seperated list\")\n",
    "# bin_input_parsed = [float(x.strip()) for x in bin_input.split(',')]\n",
    "\n",
    "# bins = [bin_range[0]] + bin_input_parsed + [bin_range[1]]\n"
   ]
  },
  {
   "cell_type": "code",
   "execution_count": null,
   "metadata": {},
   "outputs": [],
   "source": [
    "#  new_test_df['avg_training_score'] = pd.cut( new_test_df['avg_training_score'], bins)"
   ]
  },
  {
   "cell_type": "code",
   "execution_count": null,
   "metadata": {},
   "outputs": [],
   "source": [
    "# new_test_df.isnull().sum()"
   ]
  },
  {
   "cell_type": "code",
   "execution_count": null,
   "metadata": {},
   "outputs": [],
   "source": [
    "# new_test_df['education'] = new_test_df['education'].fillna(value = 'Bachelor\\'s')"
   ]
  },
  {
   "cell_type": "code",
   "execution_count": null,
   "metadata": {},
   "outputs": [],
   "source": [
    "# X_test_1 = [] \n",
    "# X_test_1 = new_test_df.values.tolist()\n",
    "\n",
    "#do_missing_transformation(X_test_1,True)\n",
    "\n"
   ]
  },
  {
   "cell_type": "code",
   "execution_count": null,
   "metadata": {},
   "outputs": [],
   "source": [
    "# for i in X_test_1:\n",
    "#     if(i[5] == 1 and math.isnan(i[4])):\n",
    "#         i[4] = 5.0\n",
    "#     elif(i[5] == 0 and math.isnan(i[4])):\n",
    "#         i[4] = 3.0\n",
    "        "
   ]
  },
  {
   "cell_type": "code",
   "execution_count": null,
   "metadata": {},
   "outputs": [],
   "source": []
  },
  {
   "cell_type": "code",
   "execution_count": null,
   "metadata": {},
   "outputs": [],
   "source": [
    "# count_non_null_in_list(X_test_1,4)"
   ]
  },
  {
   "cell_type": "code",
   "execution_count": 46,
   "metadata": {},
   "outputs": [
    {
     "data": {
      "text/plain": [
       "(23490, 8)"
      ]
     },
     "execution_count": 46,
     "metadata": {},
     "output_type": "execute_result"
    }
   ],
   "source": [
    "X_test_1 = np.array(new_test_df.values.tolist())\n",
    "X_test_1.shape"
   ]
  },
  {
   "cell_type": "code",
   "execution_count": 47,
   "metadata": {},
   "outputs": [
    {
     "data": {
      "text/plain": [
       "array(['Technology', 'region_26', \"Bachelor's\", 'sourcing', '5.0', '1',\n",
       "       '0', '77'], dtype='<U17')"
      ]
     },
     "execution_count": 47,
     "metadata": {},
     "output_type": "execute_result"
    }
   ],
   "source": [
    "X_test_1[0]"
   ]
  },
  {
   "cell_type": "code",
   "execution_count": 51,
   "metadata": {},
   "outputs": [
    {
     "name": "stdout",
     "output_type": "stream",
     "text": [
      "(23490, 53)\n"
     ]
    }
   ],
   "source": [
    "X_test_1 = one_hot_encoding(X_test_1,0)"
   ]
  },
  {
   "cell_type": "code",
   "execution_count": null,
   "metadata": {},
   "outputs": [],
   "source": [
    "X_test_1[0]"
   ]
  },
  {
   "cell_type": "code",
   "execution_count": 84,
   "metadata": {},
   "outputs": [],
   "source": [
    "def do_prediction_and_write_file(X,  filename, model, Neural_Network=False):\n",
    "    pred_test = model.predict(X)\n",
    "    \n",
    "#     if Neural_Network==False:\n",
    "#         file = open(filename , 'a+')\n",
    "# #         for i in pred_test:\n",
    "# #             file.write(i+'\\n')\n",
    "# #         file.close()\n",
    "    \n",
    "#     else:\n",
    "    if(Neural_Network):\n",
    "         pred_test = (pred_test >=0.4).astype(int)\n",
    "         pred_test = pred_test.reshape(-1)\n",
    "         print(\"hello\")\n",
    "#         file = open(filename, 'a+')\n",
    "#         for i in pred_test:\n",
    "#             file.write(str(i)+'\\n')\n",
    "#         file.close()\n",
    "    return pred_test"
   ]
  },
  {
   "cell_type": "code",
   "execution_count": 85,
   "metadata": {},
   "outputs": [
    {
     "data": {
      "text/plain": [
       "0.02652192422307365"
      ]
     },
     "execution_count": 85,
     "metadata": {},
     "output_type": "execute_result"
    }
   ],
   "source": [
    "pred = do_prediction_and_write_file(X_test_1, 'visualization.txt', final_model, False)\n",
    "calculate_promotions(pred)"
   ]
  },
  {
   "cell_type": "code",
   "execution_count": 86,
   "metadata": {},
   "outputs": [
    {
     "name": "stdout",
     "output_type": "stream",
     "text": [
      "hello\n"
     ]
    },
    {
     "data": {
      "text/plain": [
       "0.03529161345253299"
      ]
     },
     "execution_count": 86,
     "metadata": {},
     "output_type": "execute_result"
    }
   ],
   "source": [
    "pred_nn = do_prediction_and_write_file(X_test_1, 'visualization.txt', model, True)\n",
    "calculate_promotions(pred_nn)"
   ]
  },
  {
   "cell_type": "code",
   "execution_count": 87,
   "metadata": {},
   "outputs": [
    {
     "name": "stdout",
     "output_type": "stream",
     "text": [
      "hello\n"
     ]
    },
    {
     "data": {
      "text/plain": [
       "0.030353341847594723"
      ]
     },
     "execution_count": 87,
     "metadata": {},
     "output_type": "execute_result"
    }
   ],
   "source": [
    "pred_nn_1 = do_prediction_and_write_file(X_test_1, 'visualization.txt', model_1, True)\n",
    "calculate_promotions(pred_nn_1)"
   ]
  },
  {
   "cell_type": "code",
   "execution_count": 88,
   "metadata": {},
   "outputs": [
    {
     "data": {
      "text/plain": [
       "0.025117071094082587"
      ]
     },
     "execution_count": 88,
     "metadata": {},
     "output_type": "execute_result"
    }
   ],
   "source": [
    "pred_gb = do_prediction_and_write_file(X_test_1, 'visualization.txt', classifier_list[6], False)\n",
    "calculate_promotions(pred_gb)"
   ]
  },
  {
   "cell_type": "code",
   "execution_count": 99,
   "metadata": {},
   "outputs": [
    {
     "data": {
      "text/plain": [
       "0.0534269902085994"
      ]
     },
     "execution_count": 99,
     "metadata": {},
     "output_type": "execute_result"
    }
   ],
   "source": [
    "pred_rf = do_prediction_and_write_file(X_test_1, 'visualization.txt', classifier_list[0], False)\n",
    "calculate_promotions(pred_rf)"
   ]
  },
  {
   "cell_type": "code",
   "execution_count": 90,
   "metadata": {},
   "outputs": [
    {
     "name": "stderr",
     "output_type": "stream",
     "text": [
      "c:\\users\\kanwal\\miniconda3\\lib\\site-packages\\sklearn\\preprocessing\\label.py:151: DeprecationWarning: The truth value of an empty array is ambiguous. Returning False, but in future this will result in an error. Use `array.size > 0` to check that an array is not empty.\n",
      "  if diff:\n"
     ]
    },
    {
     "data": {
      "text/plain": [
       "0.022647935291613453"
      ]
     },
     "execution_count": 90,
     "metadata": {},
     "output_type": "execute_result"
    }
   ],
   "source": [
    "pred_xg = do_prediction_and_write_file(X_test_1, 'visualization.txt', classifier_list[7], False)\n",
    "calculate_promotions(pred_xg)"
   ]
  },
  {
   "cell_type": "code",
   "execution_count": 91,
   "metadata": {},
   "outputs": [],
   "source": [
    "def calculate_promotions(pred):\n",
    "    j=0\n",
    "    for i in pred:\n",
    "        if i == 1:\n",
    "            j=j+1;\n",
    "    return j/len(pred)"
   ]
  },
  {
   "cell_type": "code",
   "execution_count": 100,
   "metadata": {},
   "outputs": [
    {
     "data": {
      "text/plain": [
       "0.0389953171562367"
      ]
     },
     "execution_count": 100,
     "metadata": {},
     "output_type": "execute_result"
    }
   ],
   "source": [
    "j=0\n",
    "pred_combined=[]\n",
    "for i in zip(pred,pred_nn,pred_gb, pred_xg, pred_rf,pred_nn_1):\n",
    "    if i[0] == 1 or i[1]==1 or i[2]==1 or i[3]==1  and i[4]==1 or i[5] == 1:\n",
    "        j=j+1;\n",
    "        pred_combined.append(1)\n",
    "    else:\n",
    "        pred_combined.append(0)\n",
    "        \n",
    "j/len(pred_combined)\n",
    "#pred_combined = np.array(pred_combined)"
   ]
  },
  {
   "cell_type": "code",
   "execution_count": 83,
   "metadata": {},
   "outputs": [
    {
     "data": {
      "text/plain": [
       "5481"
      ]
     },
     "execution_count": 83,
     "metadata": {},
     "output_type": "execute_result"
    }
   ],
   "source": [
    "len(pred_combined)"
   ]
  },
  {
   "cell_type": "markdown",
   "metadata": {},
   "source": [
    "# Write Test Results to CSV"
   ]
  },
  {
   "cell_type": "code",
   "execution_count": 93,
   "metadata": {},
   "outputs": [],
   "source": [
    "def write_csv(pred_test, filename):\n",
    "    df = pd.read_csv('submission_1.csv')\n",
    "    df['is_promoted'] = pred_test\n",
    "    df.to_csv(filename,index=False)"
   ]
  },
  {
   "cell_type": "code",
   "execution_count": 98,
   "metadata": {},
   "outputs": [],
   "source": [
    "write_csv(pred_combined, 'x_new_randomness_crazy_svc.csv')"
   ]
  },
  {
   "cell_type": "code",
   "execution_count": 67,
   "metadata": {},
   "outputs": [
    {
     "name": "stdout",
     "output_type": "stream",
     "text": [
      "hello\n",
      "hello\n"
     ]
    },
    {
     "name": "stderr",
     "output_type": "stream",
     "text": [
      "c:\\users\\kanwal\\miniconda3\\lib\\site-packages\\sklearn\\preprocessing\\label.py:151: DeprecationWarning: The truth value of an empty array is ambiguous. Returning False, but in future this will result in an error. Use `array.size > 0` to check that an array is not empty.\n",
      "  if diff:\n"
     ]
    },
    {
     "data": {
      "text/plain": [
       "0.0421455938697318"
      ]
     },
     "execution_count": 67,
     "metadata": {},
     "output_type": "execute_result"
    }
   ],
   "source": [
    "pred = do_prediction_and_write_file(X_valid, 'visualization.txt', final_model, False)\n",
    "pred_nn = do_prediction_and_write_file(X_valid, 'visualization.txt', model, True)\n",
    "pred_nn_1 = do_prediction_and_write_file(X_valid, 'visualization.txt', model_1, True)\n",
    "#pred_nn_2 = do_prediction_and_write_file(X_valid, 'visualization.txt', model_2, True)\n",
    "\n",
    "pred_gb = do_prediction_and_write_file(X_valid, 'visualization.txt', classifier_list[6], False)\n",
    "pred_rf = do_prediction_and_write_file(X_valid, 'visualization.txt', classifier_list[0], False)\n",
    "pred_xg = do_prediction_and_write_file(X_valid, 'visualization.txt', classifier_list[7], False)\n",
    "j=0\n",
    "pred_combined=[]\n",
    "for i in zip(pred,pred_nn,pred_gb, pred_xg,pred_nn_1):\n",
    "    if i[0] == 1 or i[1]==1 or i[2]==1 or i[3]==1  or i[4]==1:\n",
    "        j=j+1;\n",
    "        pred_combined.append(1)\n",
    "    else:\n",
    "        pred_combined.append(0)\n",
    "        \n",
    "j/len(pred_combined)"
   ]
  },
  {
   "cell_type": "code",
   "execution_count": 68,
   "metadata": {},
   "outputs": [
    {
     "name": "stdout",
     "output_type": "stream",
     "text": [
      "0.9392446633825944\n",
      "             precision    recall  f1-score   support\n",
      "\n",
      "        0.0       0.95      0.99      0.97      5031\n",
      "        1.0       0.75      0.39      0.51       450\n",
      "\n",
      "avg / total       0.93      0.94      0.93      5481\n",
      "\n",
      "[[4974   57]\n",
      " [ 276  174]]\n"
     ]
    }
   ],
   "source": [
    "print_summary_new(pred_combined, y_valid)"
   ]
  },
  {
   "cell_type": "code",
   "execution_count": null,
   "metadata": {},
   "outputs": [],
   "source": []
  }
 ],
 "metadata": {
  "kernelspec": {
   "display_name": "Python 3",
   "language": "python",
   "name": "python3"
  },
  "language_info": {
   "codemirror_mode": {
    "name": "ipython",
    "version": 3
   },
   "file_extension": ".py",
   "mimetype": "text/x-python",
   "name": "python",
   "nbconvert_exporter": "python",
   "pygments_lexer": "ipython3",
   "version": "3.6.5"
  }
 },
 "nbformat": 4,
 "nbformat_minor": 2
}
