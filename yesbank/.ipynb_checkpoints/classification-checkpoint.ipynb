{
 "cells": [
  {
   "cell_type": "code",
   "execution_count": 1,
   "metadata": {},
   "outputs": [],
   "source": [
    "## Importing Libraries"
   ]
  },
  {
   "cell_type": "code",
   "execution_count": 34,
   "metadata": {},
   "outputs": [],
   "source": [
    "import pandas as pd\n",
    "import math\n",
    "import numpy as np"
   ]
  },
  {
   "cell_type": "code",
   "execution_count": 35,
   "metadata": {},
   "outputs": [],
   "source": [
    "def read_csv_file(filename):\n",
    "    df = pd.read_csv(filename)\n",
    "    #print(df.info())\n",
    "    return  df"
   ]
  },
  {
   "cell_type": "code",
   "execution_count": 36,
   "metadata": {},
   "outputs": [
    {
     "data": {
      "text/html": [
       "<div>\n",
       "<style scoped>\n",
       "    .dataframe tbody tr th:only-of-type {\n",
       "        vertical-align: middle;\n",
       "    }\n",
       "\n",
       "    .dataframe tbody tr th {\n",
       "        vertical-align: top;\n",
       "    }\n",
       "\n",
       "    .dataframe thead th {\n",
       "        text-align: right;\n",
       "    }\n",
       "</style>\n",
       "<table border=\"1\" class=\"dataframe\">\n",
       "  <thead>\n",
       "    <tr style=\"text-align: right;\">\n",
       "      <th></th>\n",
       "      <th>serial number</th>\n",
       "      <th>account_info</th>\n",
       "      <th>duration_month</th>\n",
       "      <th>credit_history</th>\n",
       "      <th>purpose</th>\n",
       "      <th>credit_amount</th>\n",
       "      <th>savings_account</th>\n",
       "      <th>employment_st</th>\n",
       "      <th>poi</th>\n",
       "      <th>personal_status</th>\n",
       "      <th>...</th>\n",
       "      <th>resident_since</th>\n",
       "      <th>property_type</th>\n",
       "      <th>age</th>\n",
       "      <th>installment_type</th>\n",
       "      <th>housing_type</th>\n",
       "      <th>credits_no</th>\n",
       "      <th>job_type</th>\n",
       "      <th>liables</th>\n",
       "      <th>telephone</th>\n",
       "      <th>foreigner</th>\n",
       "    </tr>\n",
       "  </thead>\n",
       "  <tbody>\n",
       "    <tr>\n",
       "      <th>0</th>\n",
       "      <td>1</td>\n",
       "      <td>A11</td>\n",
       "      <td>6</td>\n",
       "      <td>A34</td>\n",
       "      <td>A43</td>\n",
       "      <td>1169</td>\n",
       "      <td>A65</td>\n",
       "      <td>A75</td>\n",
       "      <td>4</td>\n",
       "      <td>A93</td>\n",
       "      <td>...</td>\n",
       "      <td>4</td>\n",
       "      <td>A121</td>\n",
       "      <td>67</td>\n",
       "      <td>A143</td>\n",
       "      <td>A152</td>\n",
       "      <td>2</td>\n",
       "      <td>A173</td>\n",
       "      <td>1</td>\n",
       "      <td>A192</td>\n",
       "      <td>A201</td>\n",
       "    </tr>\n",
       "    <tr>\n",
       "      <th>1</th>\n",
       "      <td>2</td>\n",
       "      <td>A12</td>\n",
       "      <td>48</td>\n",
       "      <td>A32</td>\n",
       "      <td>A43</td>\n",
       "      <td>5951</td>\n",
       "      <td>A61</td>\n",
       "      <td>A73</td>\n",
       "      <td>2</td>\n",
       "      <td>A92</td>\n",
       "      <td>...</td>\n",
       "      <td>2</td>\n",
       "      <td>A121</td>\n",
       "      <td>22</td>\n",
       "      <td>A143</td>\n",
       "      <td>A152</td>\n",
       "      <td>1</td>\n",
       "      <td>A173</td>\n",
       "      <td>1</td>\n",
       "      <td>A191</td>\n",
       "      <td>A201</td>\n",
       "    </tr>\n",
       "    <tr>\n",
       "      <th>2</th>\n",
       "      <td>3</td>\n",
       "      <td>A14</td>\n",
       "      <td>12</td>\n",
       "      <td>A34</td>\n",
       "      <td>A46</td>\n",
       "      <td>2096</td>\n",
       "      <td>A61</td>\n",
       "      <td>A74</td>\n",
       "      <td>2</td>\n",
       "      <td>A93</td>\n",
       "      <td>...</td>\n",
       "      <td>3</td>\n",
       "      <td>A121</td>\n",
       "      <td>49</td>\n",
       "      <td>A143</td>\n",
       "      <td>A152</td>\n",
       "      <td>1</td>\n",
       "      <td>A172</td>\n",
       "      <td>2</td>\n",
       "      <td>A191</td>\n",
       "      <td>A201</td>\n",
       "    </tr>\n",
       "    <tr>\n",
       "      <th>3</th>\n",
       "      <td>4</td>\n",
       "      <td>A11</td>\n",
       "      <td>42</td>\n",
       "      <td>A32</td>\n",
       "      <td>A42</td>\n",
       "      <td>7882</td>\n",
       "      <td>A61</td>\n",
       "      <td>A74</td>\n",
       "      <td>2</td>\n",
       "      <td>A93</td>\n",
       "      <td>...</td>\n",
       "      <td>4</td>\n",
       "      <td>A122</td>\n",
       "      <td>45</td>\n",
       "      <td>A143</td>\n",
       "      <td>A153</td>\n",
       "      <td>1</td>\n",
       "      <td>A173</td>\n",
       "      <td>2</td>\n",
       "      <td>A191</td>\n",
       "      <td>A201</td>\n",
       "    </tr>\n",
       "    <tr>\n",
       "      <th>4</th>\n",
       "      <td>5</td>\n",
       "      <td>A11</td>\n",
       "      <td>24</td>\n",
       "      <td>A33</td>\n",
       "      <td>A40</td>\n",
       "      <td>4870</td>\n",
       "      <td>A61</td>\n",
       "      <td>A73</td>\n",
       "      <td>3</td>\n",
       "      <td>A93</td>\n",
       "      <td>...</td>\n",
       "      <td>4</td>\n",
       "      <td>A124</td>\n",
       "      <td>53</td>\n",
       "      <td>A143</td>\n",
       "      <td>A153</td>\n",
       "      <td>2</td>\n",
       "      <td>A173</td>\n",
       "      <td>2</td>\n",
       "      <td>A191</td>\n",
       "      <td>A201</td>\n",
       "    </tr>\n",
       "  </tbody>\n",
       "</table>\n",
       "<p>5 rows × 21 columns</p>\n",
       "</div>"
      ],
      "text/plain": [
       "   serial number account_info  duration_month credit_history purpose  \\\n",
       "0              1          A11               6            A34     A43   \n",
       "1              2          A12              48            A32     A43   \n",
       "2              3          A14              12            A34     A46   \n",
       "3              4          A11              42            A32     A42   \n",
       "4              5          A11              24            A33     A40   \n",
       "\n",
       "   credit_amount savings_account employment_st  poi personal_status    ...     \\\n",
       "0           1169             A65           A75    4             A93    ...      \n",
       "1           5951             A61           A73    2             A92    ...      \n",
       "2           2096             A61           A74    2             A93    ...      \n",
       "3           7882             A61           A74    2             A93    ...      \n",
       "4           4870             A61           A73    3             A93    ...      \n",
       "\n",
       "  resident_since  property_type age  installment_type housing_type credits_no  \\\n",
       "0              4           A121  67              A143         A152          2   \n",
       "1              2           A121  22              A143         A152          1   \n",
       "2              3           A121  49              A143         A152          1   \n",
       "3              4           A122  45              A143         A153          1   \n",
       "4              4           A124  53              A143         A153          2   \n",
       "\n",
       "   job_type liables  telephone foreigner  \n",
       "0      A173       1       A192      A201  \n",
       "1      A173       1       A191      A201  \n",
       "2      A172       2       A191      A201  \n",
       "3      A173       2       A191      A201  \n",
       "4      A173       2       A191      A201  \n",
       "\n",
       "[5 rows x 21 columns]"
      ]
     },
     "execution_count": 36,
     "metadata": {},
     "output_type": "execute_result"
    }
   ],
   "source": [
    "df = read_csv_file('train.csv')\n",
    "df.head()"
   ]
  },
  {
   "cell_type": "code",
   "execution_count": 37,
   "metadata": {},
   "outputs": [],
   "source": [
    "test_df = read_csv_file('test.csv')"
   ]
  },
  {
   "cell_type": "code",
   "execution_count": 38,
   "metadata": {},
   "outputs": [],
   "source": [
    "fil_cols = [ 'account_info' , 'credit_history' , 'purpose' , 'savings_account', 'employment_st', 'personal_status', 'gurantors', 'property_type' ,'installment_type' ,'housing_type' ,'job_type', 'telephone' , 'foreigner' , 'serial number' , 'duration_month',  'poi' , 'resident_since' , 'age', 'credits_no', 'liables', 'credit_amount']\n",
    "val_cols = [ 'account_info' , 'credit_history' , 'purpose' , 'savings_account', 'employment_st', 'personal_status', 'gurantors', 'property_type' ,'installment_type' ,'housing_type' ,'job_type', 'telephone' , 'foreigner' , 'serial number' , 'duration_month',  'poi' , 'resident_since' , 'age', 'credits_no', 'liables']\n",
    "\n",
    "len(fil_cols)\n",
    "obj_cols = [ 'account_info' , 'credit_history' , 'purpose' , 'savings_account', 'employment_st', 'personal_status', 'gurantors', 'property_type' ,'installment_type' ,'housing_type' ,'job_type', 'telephone' , 'foreigner' ]"
   ]
  },
  {
   "cell_type": "code",
   "execution_count": 39,
   "metadata": {},
   "outputs": [],
   "source": [
    "def reorder_columns(fil_cols, df):\n",
    "    df =df[fil_cols]\n",
    "    return df"
   ]
  },
  {
   "cell_type": "code",
   "execution_count": 40,
   "metadata": {},
   "outputs": [],
   "source": [
    "df =reorder_columns(fil_cols, df)"
   ]
  },
  {
   "cell_type": "code",
   "execution_count": 41,
   "metadata": {},
   "outputs": [
    {
     "data": {
      "text/html": [
       "<div>\n",
       "<style scoped>\n",
       "    .dataframe tbody tr th:only-of-type {\n",
       "        vertical-align: middle;\n",
       "    }\n",
       "\n",
       "    .dataframe tbody tr th {\n",
       "        vertical-align: top;\n",
       "    }\n",
       "\n",
       "    .dataframe thead th {\n",
       "        text-align: right;\n",
       "    }\n",
       "</style>\n",
       "<table border=\"1\" class=\"dataframe\">\n",
       "  <thead>\n",
       "    <tr style=\"text-align: right;\">\n",
       "      <th></th>\n",
       "      <th>account_info</th>\n",
       "      <th>credit_history</th>\n",
       "      <th>purpose</th>\n",
       "      <th>savings_account</th>\n",
       "      <th>employment_st</th>\n",
       "      <th>personal_status</th>\n",
       "      <th>gurantors</th>\n",
       "      <th>property_type</th>\n",
       "      <th>installment_type</th>\n",
       "      <th>housing_type</th>\n",
       "      <th>...</th>\n",
       "      <th>telephone</th>\n",
       "      <th>foreigner</th>\n",
       "      <th>serial number</th>\n",
       "      <th>duration_month</th>\n",
       "      <th>poi</th>\n",
       "      <th>resident_since</th>\n",
       "      <th>age</th>\n",
       "      <th>credits_no</th>\n",
       "      <th>liables</th>\n",
       "      <th>credit_amount</th>\n",
       "    </tr>\n",
       "  </thead>\n",
       "  <tbody>\n",
       "    <tr>\n",
       "      <th>0</th>\n",
       "      <td>A11</td>\n",
       "      <td>A34</td>\n",
       "      <td>A43</td>\n",
       "      <td>A65</td>\n",
       "      <td>A75</td>\n",
       "      <td>A93</td>\n",
       "      <td>A101</td>\n",
       "      <td>A121</td>\n",
       "      <td>A143</td>\n",
       "      <td>A152</td>\n",
       "      <td>...</td>\n",
       "      <td>A192</td>\n",
       "      <td>A201</td>\n",
       "      <td>1</td>\n",
       "      <td>6</td>\n",
       "      <td>4</td>\n",
       "      <td>4</td>\n",
       "      <td>67</td>\n",
       "      <td>2</td>\n",
       "      <td>1</td>\n",
       "      <td>1169</td>\n",
       "    </tr>\n",
       "    <tr>\n",
       "      <th>1</th>\n",
       "      <td>A12</td>\n",
       "      <td>A32</td>\n",
       "      <td>A43</td>\n",
       "      <td>A61</td>\n",
       "      <td>A73</td>\n",
       "      <td>A92</td>\n",
       "      <td>A101</td>\n",
       "      <td>A121</td>\n",
       "      <td>A143</td>\n",
       "      <td>A152</td>\n",
       "      <td>...</td>\n",
       "      <td>A191</td>\n",
       "      <td>A201</td>\n",
       "      <td>2</td>\n",
       "      <td>48</td>\n",
       "      <td>2</td>\n",
       "      <td>2</td>\n",
       "      <td>22</td>\n",
       "      <td>1</td>\n",
       "      <td>1</td>\n",
       "      <td>5951</td>\n",
       "    </tr>\n",
       "    <tr>\n",
       "      <th>2</th>\n",
       "      <td>A14</td>\n",
       "      <td>A34</td>\n",
       "      <td>A46</td>\n",
       "      <td>A61</td>\n",
       "      <td>A74</td>\n",
       "      <td>A93</td>\n",
       "      <td>A101</td>\n",
       "      <td>A121</td>\n",
       "      <td>A143</td>\n",
       "      <td>A152</td>\n",
       "      <td>...</td>\n",
       "      <td>A191</td>\n",
       "      <td>A201</td>\n",
       "      <td>3</td>\n",
       "      <td>12</td>\n",
       "      <td>2</td>\n",
       "      <td>3</td>\n",
       "      <td>49</td>\n",
       "      <td>1</td>\n",
       "      <td>2</td>\n",
       "      <td>2096</td>\n",
       "    </tr>\n",
       "    <tr>\n",
       "      <th>3</th>\n",
       "      <td>A11</td>\n",
       "      <td>A32</td>\n",
       "      <td>A42</td>\n",
       "      <td>A61</td>\n",
       "      <td>A74</td>\n",
       "      <td>A93</td>\n",
       "      <td>A103</td>\n",
       "      <td>A122</td>\n",
       "      <td>A143</td>\n",
       "      <td>A153</td>\n",
       "      <td>...</td>\n",
       "      <td>A191</td>\n",
       "      <td>A201</td>\n",
       "      <td>4</td>\n",
       "      <td>42</td>\n",
       "      <td>2</td>\n",
       "      <td>4</td>\n",
       "      <td>45</td>\n",
       "      <td>1</td>\n",
       "      <td>2</td>\n",
       "      <td>7882</td>\n",
       "    </tr>\n",
       "    <tr>\n",
       "      <th>4</th>\n",
       "      <td>A11</td>\n",
       "      <td>A33</td>\n",
       "      <td>A40</td>\n",
       "      <td>A61</td>\n",
       "      <td>A73</td>\n",
       "      <td>A93</td>\n",
       "      <td>A101</td>\n",
       "      <td>A124</td>\n",
       "      <td>A143</td>\n",
       "      <td>A153</td>\n",
       "      <td>...</td>\n",
       "      <td>A191</td>\n",
       "      <td>A201</td>\n",
       "      <td>5</td>\n",
       "      <td>24</td>\n",
       "      <td>3</td>\n",
       "      <td>4</td>\n",
       "      <td>53</td>\n",
       "      <td>2</td>\n",
       "      <td>2</td>\n",
       "      <td>4870</td>\n",
       "    </tr>\n",
       "  </tbody>\n",
       "</table>\n",
       "<p>5 rows × 21 columns</p>\n",
       "</div>"
      ],
      "text/plain": [
       "  account_info credit_history purpose savings_account employment_st  \\\n",
       "0          A11            A34     A43             A65           A75   \n",
       "1          A12            A32     A43             A61           A73   \n",
       "2          A14            A34     A46             A61           A74   \n",
       "3          A11            A32     A42             A61           A74   \n",
       "4          A11            A33     A40             A61           A73   \n",
       "\n",
       "  personal_status gurantors property_type installment_type housing_type  \\\n",
       "0             A93      A101          A121             A143         A152   \n",
       "1             A92      A101          A121             A143         A152   \n",
       "2             A93      A101          A121             A143         A152   \n",
       "3             A93      A103          A122             A143         A153   \n",
       "4             A93      A101          A124             A143         A153   \n",
       "\n",
       "       ...       telephone foreigner serial number  duration_month  poi  \\\n",
       "0      ...            A192      A201             1               6    4   \n",
       "1      ...            A191      A201             2              48    2   \n",
       "2      ...            A191      A201             3              12    2   \n",
       "3      ...            A191      A201             4              42    2   \n",
       "4      ...            A191      A201             5              24    3   \n",
       "\n",
       "   resident_since  age  credits_no  liables  credit_amount  \n",
       "0               4   67           2        1           1169  \n",
       "1               2   22           1        1           5951  \n",
       "2               3   49           1        2           2096  \n",
       "3               4   45           1        2           7882  \n",
       "4               4   53           2        2           4870  \n",
       "\n",
       "[5 rows x 21 columns]"
      ]
     },
     "execution_count": 41,
     "metadata": {},
     "output_type": "execute_result"
    }
   ],
   "source": [
    "df.head()"
   ]
  },
  {
   "cell_type": "code",
   "execution_count": 42,
   "metadata": {},
   "outputs": [
    {
     "data": {
      "text/plain": [
       "753"
      ]
     },
     "execution_count": 42,
     "metadata": {},
     "output_type": "execute_result"
    }
   ],
   "source": [
    "df['credit_amount'].nunique()"
   ]
  },
  {
   "cell_type": "code",
   "execution_count": 43,
   "metadata": {
    "scrolled": true
   },
   "outputs": [],
   "source": [
    "new_df = pd.get_dummies(df, columns = obj_cols)"
   ]
  },
  {
   "cell_type": "code",
   "execution_count": 44,
   "metadata": {},
   "outputs": [
    {
     "data": {
      "text/html": [
       "<div>\n",
       "<style scoped>\n",
       "    .dataframe tbody tr th:only-of-type {\n",
       "        vertical-align: middle;\n",
       "    }\n",
       "\n",
       "    .dataframe tbody tr th {\n",
       "        vertical-align: top;\n",
       "    }\n",
       "\n",
       "    .dataframe thead th {\n",
       "        text-align: right;\n",
       "    }\n",
       "</style>\n",
       "<table border=\"1\" class=\"dataframe\">\n",
       "  <thead>\n",
       "    <tr style=\"text-align: right;\">\n",
       "      <th></th>\n",
       "      <th>serial number</th>\n",
       "      <th>duration_month</th>\n",
       "      <th>poi</th>\n",
       "      <th>resident_since</th>\n",
       "      <th>age</th>\n",
       "      <th>credits_no</th>\n",
       "      <th>liables</th>\n",
       "      <th>credit_amount</th>\n",
       "      <th>account_info_A11</th>\n",
       "      <th>account_info_A12</th>\n",
       "      <th>...</th>\n",
       "      <th>housing_type_A152</th>\n",
       "      <th>housing_type_A153</th>\n",
       "      <th>job_type_A171</th>\n",
       "      <th>job_type_A172</th>\n",
       "      <th>job_type_A173</th>\n",
       "      <th>job_type_A174</th>\n",
       "      <th>telephone_A191</th>\n",
       "      <th>telephone_A192</th>\n",
       "      <th>foreigner_A201</th>\n",
       "      <th>foreigner_A202</th>\n",
       "    </tr>\n",
       "  </thead>\n",
       "  <tbody>\n",
       "    <tr>\n",
       "      <th>0</th>\n",
       "      <td>1</td>\n",
       "      <td>6</td>\n",
       "      <td>4</td>\n",
       "      <td>4</td>\n",
       "      <td>67</td>\n",
       "      <td>2</td>\n",
       "      <td>1</td>\n",
       "      <td>1169</td>\n",
       "      <td>1</td>\n",
       "      <td>0</td>\n",
       "      <td>...</td>\n",
       "      <td>1</td>\n",
       "      <td>0</td>\n",
       "      <td>0</td>\n",
       "      <td>0</td>\n",
       "      <td>1</td>\n",
       "      <td>0</td>\n",
       "      <td>0</td>\n",
       "      <td>1</td>\n",
       "      <td>1</td>\n",
       "      <td>0</td>\n",
       "    </tr>\n",
       "    <tr>\n",
       "      <th>1</th>\n",
       "      <td>2</td>\n",
       "      <td>48</td>\n",
       "      <td>2</td>\n",
       "      <td>2</td>\n",
       "      <td>22</td>\n",
       "      <td>1</td>\n",
       "      <td>1</td>\n",
       "      <td>5951</td>\n",
       "      <td>0</td>\n",
       "      <td>1</td>\n",
       "      <td>...</td>\n",
       "      <td>1</td>\n",
       "      <td>0</td>\n",
       "      <td>0</td>\n",
       "      <td>0</td>\n",
       "      <td>1</td>\n",
       "      <td>0</td>\n",
       "      <td>1</td>\n",
       "      <td>0</td>\n",
       "      <td>1</td>\n",
       "      <td>0</td>\n",
       "    </tr>\n",
       "    <tr>\n",
       "      <th>2</th>\n",
       "      <td>3</td>\n",
       "      <td>12</td>\n",
       "      <td>2</td>\n",
       "      <td>3</td>\n",
       "      <td>49</td>\n",
       "      <td>1</td>\n",
       "      <td>2</td>\n",
       "      <td>2096</td>\n",
       "      <td>0</td>\n",
       "      <td>0</td>\n",
       "      <td>...</td>\n",
       "      <td>1</td>\n",
       "      <td>0</td>\n",
       "      <td>0</td>\n",
       "      <td>1</td>\n",
       "      <td>0</td>\n",
       "      <td>0</td>\n",
       "      <td>1</td>\n",
       "      <td>0</td>\n",
       "      <td>1</td>\n",
       "      <td>0</td>\n",
       "    </tr>\n",
       "    <tr>\n",
       "      <th>3</th>\n",
       "      <td>4</td>\n",
       "      <td>42</td>\n",
       "      <td>2</td>\n",
       "      <td>4</td>\n",
       "      <td>45</td>\n",
       "      <td>1</td>\n",
       "      <td>2</td>\n",
       "      <td>7882</td>\n",
       "      <td>1</td>\n",
       "      <td>0</td>\n",
       "      <td>...</td>\n",
       "      <td>0</td>\n",
       "      <td>1</td>\n",
       "      <td>0</td>\n",
       "      <td>0</td>\n",
       "      <td>1</td>\n",
       "      <td>0</td>\n",
       "      <td>1</td>\n",
       "      <td>0</td>\n",
       "      <td>1</td>\n",
       "      <td>0</td>\n",
       "    </tr>\n",
       "    <tr>\n",
       "      <th>4</th>\n",
       "      <td>5</td>\n",
       "      <td>24</td>\n",
       "      <td>3</td>\n",
       "      <td>4</td>\n",
       "      <td>53</td>\n",
       "      <td>2</td>\n",
       "      <td>2</td>\n",
       "      <td>4870</td>\n",
       "      <td>1</td>\n",
       "      <td>0</td>\n",
       "      <td>...</td>\n",
       "      <td>0</td>\n",
       "      <td>1</td>\n",
       "      <td>0</td>\n",
       "      <td>0</td>\n",
       "      <td>1</td>\n",
       "      <td>0</td>\n",
       "      <td>1</td>\n",
       "      <td>0</td>\n",
       "      <td>1</td>\n",
       "      <td>0</td>\n",
       "    </tr>\n",
       "  </tbody>\n",
       "</table>\n",
       "<p>5 rows × 62 columns</p>\n",
       "</div>"
      ],
      "text/plain": [
       "   serial number  duration_month  poi  resident_since  age  credits_no  \\\n",
       "0              1               6    4               4   67           2   \n",
       "1              2              48    2               2   22           1   \n",
       "2              3              12    2               3   49           1   \n",
       "3              4              42    2               4   45           1   \n",
       "4              5              24    3               4   53           2   \n",
       "\n",
       "   liables  credit_amount  account_info_A11  account_info_A12       ...        \\\n",
       "0        1           1169                 1                 0       ...         \n",
       "1        1           5951                 0                 1       ...         \n",
       "2        2           2096                 0                 0       ...         \n",
       "3        2           7882                 1                 0       ...         \n",
       "4        2           4870                 1                 0       ...         \n",
       "\n",
       "   housing_type_A152  housing_type_A153  job_type_A171  job_type_A172  \\\n",
       "0                  1                  0              0              0   \n",
       "1                  1                  0              0              0   \n",
       "2                  1                  0              0              1   \n",
       "3                  0                  1              0              0   \n",
       "4                  0                  1              0              0   \n",
       "\n",
       "   job_type_A173  job_type_A174  telephone_A191  telephone_A192  \\\n",
       "0              1              0               0               1   \n",
       "1              1              0               1               0   \n",
       "2              0              0               1               0   \n",
       "3              1              0               1               0   \n",
       "4              1              0               1               0   \n",
       "\n",
       "   foreigner_A201  foreigner_A202  \n",
       "0               1               0  \n",
       "1               1               0  \n",
       "2               1               0  \n",
       "3               1               0  \n",
       "4               1               0  \n",
       "\n",
       "[5 rows x 62 columns]"
      ]
     },
     "execution_count": 44,
     "metadata": {},
     "output_type": "execute_result"
    }
   ],
   "source": [
    "new_df.head()"
   ]
  },
  {
   "cell_type": "code",
   "execution_count": 45,
   "metadata": {
    "scrolled": true
   },
   "outputs": [],
   "source": [
    "new_df = new_df.sample(frac=1)"
   ]
  },
  {
   "cell_type": "code",
   "execution_count": 46,
   "metadata": {},
   "outputs": [],
   "source": [
    "def save_final_mapping(df):\n",
    "    mapping = new_df['serial number']\n",
    "    return np.array(mapping)"
   ]
  },
  {
   "cell_type": "code",
   "execution_count": 47,
   "metadata": {},
   "outputs": [
    {
     "data": {
      "text/plain": [
       "(800,)"
      ]
     },
     "execution_count": 47,
     "metadata": {},
     "output_type": "execute_result"
    }
   ],
   "source": [
    "mapping = save_final_mapping(new_df)\n",
    "mapping.shape"
   ]
  },
  {
   "cell_type": "code",
   "execution_count": 16,
   "metadata": {},
   "outputs": [],
   "source": [
    "def drop_columns(df , columns):\n",
    "    new_df = df.drop(columns =columns, axis = 1)\n",
    "    return new_df"
   ]
  },
  {
   "cell_type": "code",
   "execution_count": 48,
   "metadata": {},
   "outputs": [],
   "source": [
    "columns_to_be_dropped = ['serial number']\n",
    "new_df = drop_columns(new_df, columns_to_be_dropped)\n"
   ]
  },
  {
   "cell_type": "code",
   "execution_count": 49,
   "metadata": {},
   "outputs": [],
   "source": [
    "def get_classification_labels(row):\n",
    "#for row in new_df.itertuples():\n",
    "    #print(row.credit_amount)\n",
    "    if(row < 1500):\n",
    "        return 3\n",
    "    elif(row >= 1500 and row < 4000):\n",
    "        return 2\n",
    "    elif (row >= 4000 and row < 20000):\n",
    "        return 1"
   ]
  },
  {
   "cell_type": "code",
   "execution_count": 50,
   "metadata": {
    "scrolled": true
   },
   "outputs": [],
   "source": [
    "new_df['credit_amount'] = new_df['credit_amount'].apply(get_classification_labels)"
   ]
  },
  {
   "cell_type": "code",
   "execution_count": 51,
   "metadata": {},
   "outputs": [
    {
     "data": {
      "text/html": [
       "<div>\n",
       "<style scoped>\n",
       "    .dataframe tbody tr th:only-of-type {\n",
       "        vertical-align: middle;\n",
       "    }\n",
       "\n",
       "    .dataframe tbody tr th {\n",
       "        vertical-align: top;\n",
       "    }\n",
       "\n",
       "    .dataframe thead th {\n",
       "        text-align: right;\n",
       "    }\n",
       "</style>\n",
       "<table border=\"1\" class=\"dataframe\">\n",
       "  <thead>\n",
       "    <tr style=\"text-align: right;\">\n",
       "      <th></th>\n",
       "      <th>duration_month</th>\n",
       "      <th>poi</th>\n",
       "      <th>resident_since</th>\n",
       "      <th>age</th>\n",
       "      <th>credits_no</th>\n",
       "      <th>liables</th>\n",
       "      <th>account_info_A11</th>\n",
       "      <th>account_info_A12</th>\n",
       "      <th>account_info_A13</th>\n",
       "      <th>account_info_A14</th>\n",
       "      <th>...</th>\n",
       "      <th>housing_type_A152</th>\n",
       "      <th>housing_type_A153</th>\n",
       "      <th>job_type_A171</th>\n",
       "      <th>job_type_A172</th>\n",
       "      <th>job_type_A173</th>\n",
       "      <th>job_type_A174</th>\n",
       "      <th>telephone_A191</th>\n",
       "      <th>telephone_A192</th>\n",
       "      <th>foreigner_A201</th>\n",
       "      <th>foreigner_A202</th>\n",
       "    </tr>\n",
       "    <tr>\n",
       "      <th>credit_amount</th>\n",
       "      <th></th>\n",
       "      <th></th>\n",
       "      <th></th>\n",
       "      <th></th>\n",
       "      <th></th>\n",
       "      <th></th>\n",
       "      <th></th>\n",
       "      <th></th>\n",
       "      <th></th>\n",
       "      <th></th>\n",
       "      <th></th>\n",
       "      <th></th>\n",
       "      <th></th>\n",
       "      <th></th>\n",
       "      <th></th>\n",
       "      <th></th>\n",
       "      <th></th>\n",
       "      <th></th>\n",
       "      <th></th>\n",
       "      <th></th>\n",
       "      <th></th>\n",
       "    </tr>\n",
       "  </thead>\n",
       "  <tbody>\n",
       "    <tr>\n",
       "      <th>1</th>\n",
       "      <td>193</td>\n",
       "      <td>193</td>\n",
       "      <td>193</td>\n",
       "      <td>193</td>\n",
       "      <td>193</td>\n",
       "      <td>193</td>\n",
       "      <td>193</td>\n",
       "      <td>193</td>\n",
       "      <td>193</td>\n",
       "      <td>193</td>\n",
       "      <td>...</td>\n",
       "      <td>193</td>\n",
       "      <td>193</td>\n",
       "      <td>193</td>\n",
       "      <td>193</td>\n",
       "      <td>193</td>\n",
       "      <td>193</td>\n",
       "      <td>193</td>\n",
       "      <td>193</td>\n",
       "      <td>193</td>\n",
       "      <td>193</td>\n",
       "    </tr>\n",
       "    <tr>\n",
       "      <th>2</th>\n",
       "      <td>353</td>\n",
       "      <td>353</td>\n",
       "      <td>353</td>\n",
       "      <td>353</td>\n",
       "      <td>353</td>\n",
       "      <td>353</td>\n",
       "      <td>353</td>\n",
       "      <td>353</td>\n",
       "      <td>353</td>\n",
       "      <td>353</td>\n",
       "      <td>...</td>\n",
       "      <td>353</td>\n",
       "      <td>353</td>\n",
       "      <td>353</td>\n",
       "      <td>353</td>\n",
       "      <td>353</td>\n",
       "      <td>353</td>\n",
       "      <td>353</td>\n",
       "      <td>353</td>\n",
       "      <td>353</td>\n",
       "      <td>353</td>\n",
       "    </tr>\n",
       "    <tr>\n",
       "      <th>3</th>\n",
       "      <td>254</td>\n",
       "      <td>254</td>\n",
       "      <td>254</td>\n",
       "      <td>254</td>\n",
       "      <td>254</td>\n",
       "      <td>254</td>\n",
       "      <td>254</td>\n",
       "      <td>254</td>\n",
       "      <td>254</td>\n",
       "      <td>254</td>\n",
       "      <td>...</td>\n",
       "      <td>254</td>\n",
       "      <td>254</td>\n",
       "      <td>254</td>\n",
       "      <td>254</td>\n",
       "      <td>254</td>\n",
       "      <td>254</td>\n",
       "      <td>254</td>\n",
       "      <td>254</td>\n",
       "      <td>254</td>\n",
       "      <td>254</td>\n",
       "    </tr>\n",
       "  </tbody>\n",
       "</table>\n",
       "<p>3 rows × 60 columns</p>\n",
       "</div>"
      ],
      "text/plain": [
       "               duration_month  poi  resident_since  age  credits_no  liables  \\\n",
       "credit_amount                                                                  \n",
       "1                         193  193             193  193         193      193   \n",
       "2                         353  353             353  353         353      353   \n",
       "3                         254  254             254  254         254      254   \n",
       "\n",
       "               account_info_A11  account_info_A12  account_info_A13  \\\n",
       "credit_amount                                                         \n",
       "1                           193               193               193   \n",
       "2                           353               353               353   \n",
       "3                           254               254               254   \n",
       "\n",
       "               account_info_A14       ...        housing_type_A152  \\\n",
       "credit_amount                         ...                            \n",
       "1                           193       ...                      193   \n",
       "2                           353       ...                      353   \n",
       "3                           254       ...                      254   \n",
       "\n",
       "               housing_type_A153  job_type_A171  job_type_A172  job_type_A173  \\\n",
       "credit_amount                                                                   \n",
       "1                            193            193            193            193   \n",
       "2                            353            353            353            353   \n",
       "3                            254            254            254            254   \n",
       "\n",
       "               job_type_A174  telephone_A191  telephone_A192  foreigner_A201  \\\n",
       "credit_amount                                                                  \n",
       "1                        193             193             193             193   \n",
       "2                        353             353             353             353   \n",
       "3                        254             254             254             254   \n",
       "\n",
       "               foreigner_A202  \n",
       "credit_amount                  \n",
       "1                         193  \n",
       "2                         353  \n",
       "3                         254  \n",
       "\n",
       "[3 rows x 60 columns]"
      ]
     },
     "execution_count": 51,
     "metadata": {},
     "output_type": "execute_result"
    }
   ],
   "source": [
    "new_df.groupby('credit_amount').count()"
   ]
  },
  {
   "cell_type": "code",
   "execution_count": 52,
   "metadata": {},
   "outputs": [],
   "source": [
    "def getFeatures(new_df):\n",
    "    \n",
    "    labels = new_df['credit_amount']\n",
    "    X = drop_columns(new_df,'credit_amount')\n",
    "    return np.array(X), np.array(labels)\n"
   ]
  },
  {
   "cell_type": "code",
   "execution_count": 53,
   "metadata": {},
   "outputs": [],
   "source": [
    "X , y = getFeatures(new_df)"
   ]
  },
  {
   "cell_type": "code",
   "execution_count": 54,
   "metadata": {},
   "outputs": [
    {
     "data": {
      "text/plain": [
       "((800, 60), (800,))"
      ]
     },
     "execution_count": 54,
     "metadata": {},
     "output_type": "execute_result"
    }
   ],
   "source": [
    "X.shape, y.shape"
   ]
  },
  {
   "cell_type": "code",
   "execution_count": 55,
   "metadata": {},
   "outputs": [
    {
     "data": {
      "text/plain": [
       "(array([18,  4,  2, 35,  1,  1,  0,  1,  0,  0,  0,  0,  1,  0,  0,  0,  0,\n",
       "         0,  0,  0,  0,  0,  0,  0,  1,  0,  0,  0,  1,  0,  0,  0,  1,  0,\n",
       "         0,  0,  0,  1,  0,  1,  0,  0,  0,  1,  0,  0,  0,  0,  1,  0,  1,\n",
       "         0,  0,  1,  0,  0,  0,  1,  1,  0], dtype=int64), 3)"
      ]
     },
     "execution_count": 55,
     "metadata": {},
     "output_type": "execute_result"
    }
   ],
   "source": [
    "X[2] ,y[0]"
   ]
  },
  {
   "cell_type": "code",
   "execution_count": null,
   "metadata": {},
   "outputs": [],
   "source": []
  },
  {
   "cell_type": "code",
   "execution_count": 56,
   "metadata": {},
   "outputs": [
    {
     "data": {
      "text/plain": [
       "3"
      ]
     },
     "execution_count": 56,
     "metadata": {},
     "output_type": "execute_result"
    }
   ],
   "source": [
    "y[0]"
   ]
  },
  {
   "cell_type": "code",
   "execution_count": 57,
   "metadata": {},
   "outputs": [],
   "source": [
    "from sklearn.model_selection import train_test_split\n",
    "\n",
    "X_train, X_valid , y_train, y_valid = train_test_split(X, y, test_size =0.1,shuffle=True)"
   ]
  },
  {
   "cell_type": "code",
   "execution_count": 58,
   "metadata": {},
   "outputs": [
    {
     "data": {
      "text/plain": [
       "((720, 60), (720,), (80, 60), (80,))"
      ]
     },
     "execution_count": 58,
     "metadata": {},
     "output_type": "execute_result"
    }
   ],
   "source": [
    "X_train.shape , y_train.shape , X_valid.shape , y_valid.shape"
   ]
  },
  {
   "cell_type": "code",
   "execution_count": 59,
   "metadata": {},
   "outputs": [
    {
     "name": "stderr",
     "output_type": "stream",
     "text": [
      "c:\\users\\kanwal\\miniconda3\\lib\\site-packages\\sklearn\\utils\\validation.py:475: DataConversionWarning: Data with input dtype int64 was converted to float64 by MinMaxScaler.\n",
      "  warnings.warn(msg, DataConversionWarning)\n"
     ]
    }
   ],
   "source": [
    "from sklearn.preprocessing import MinMaxScaler\n",
    "std = MinMaxScaler()\n",
    "std.fit(X_train)\n",
    "X_train = std.transform(X_train)\n",
    "X_valid = std.transform(X_valid)"
   ]
  },
  {
   "cell_type": "code",
   "execution_count": 60,
   "metadata": {},
   "outputs": [
    {
     "data": {
      "text/plain": [
       "array([0.29411765, 0.        , 1.        , 0.05357143, 0.        ,\n",
       "       0.        , 1.        , 0.        , 0.        , 0.        ,\n",
       "       0.        , 1.        , 0.        , 0.        , 0.        ,\n",
       "       0.        , 1.        , 0.        , 0.        , 0.        ,\n",
       "       0.        , 0.        , 0.        , 0.        , 0.        ,\n",
       "       1.        , 0.        , 0.        , 0.        , 0.        ,\n",
       "       0.        , 0.        , 1.        , 0.        , 0.        ,\n",
       "       0.        , 1.        , 0.        , 0.        , 0.        ,\n",
       "       0.        , 1.        , 0.        , 0.        , 1.        ,\n",
       "       0.        , 1.        , 0.        , 0.        , 1.        ,\n",
       "       0.        , 0.        , 0.        , 0.        , 1.        ,\n",
       "       0.        , 1.        , 0.        , 0.        , 1.        ])"
      ]
     },
     "execution_count": 60,
     "metadata": {},
     "output_type": "execute_result"
    }
   ],
   "source": [
    "X_train[0]"
   ]
  },
  {
   "cell_type": "code",
   "execution_count": 61,
   "metadata": {},
   "outputs": [
    {
     "data": {
      "text/plain": [
       "(720, 34)"
      ]
     },
     "execution_count": 61,
     "metadata": {},
     "output_type": "execute_result"
    }
   ],
   "source": [
    "from sklearn.decomposition import PCA\n",
    "pca= PCA(0.95)\n",
    "pca.fit(X_train)\n",
    "X_train = pca.transform(X_train)\n",
    "X_train.shape"
   ]
  },
  {
   "cell_type": "code",
   "execution_count": 62,
   "metadata": {},
   "outputs": [
    {
     "data": {
      "text/plain": [
       "(80, 34)"
      ]
     },
     "execution_count": 62,
     "metadata": {},
     "output_type": "execute_result"
    }
   ],
   "source": [
    "X_valid = pca.transform(X_valid)\n",
    "X_valid.shape"
   ]
  },
  {
   "cell_type": "code",
   "execution_count": 63,
   "metadata": {},
   "outputs": [
    {
     "data": {
      "text/plain": [
       "array([-0.99676379,  0.72212934,  0.38104339, -0.69671644, -0.1440212 ,\n",
       "       -0.77233913,  0.44044501,  1.23769886, -0.46254599, -0.38610673,\n",
       "        0.52009893,  0.86860512, -0.05966598,  0.73021566, -0.14574929,\n",
       "       -0.34654519,  0.05074295,  0.72538572,  0.68459543,  0.73714895,\n",
       "       -0.54664598,  0.87670764, -0.4327791 , -0.58028983,  0.05447159,\n",
       "        0.20482433, -0.68144044,  0.53954045,  0.1243908 , -0.32463239,\n",
       "       -0.30383765,  1.08775796,  0.06502304, -0.19669054])"
      ]
     },
     "execution_count": 63,
     "metadata": {},
     "output_type": "execute_result"
    }
   ],
   "source": [
    "X_train[0]"
   ]
  },
  {
   "cell_type": "code",
   "execution_count": 64,
   "metadata": {},
   "outputs": [],
   "source": [
    "from sklearn.ensemble import RandomForestClassifier \n",
    "from sklearn import tree \n",
    "from sklearn.svm import SVC\n",
    "from sklearn.naive_bayes import GaussianNB\n",
    "from sklearn.neighbors import KNeighborsClassifier\n",
    "from sklearn.ensemble import AdaBoostClassifier\n",
    "from sklearn.ensemble import GradientBoostingClassifier\n",
    "from xgboost import XGBClassifier\n"
   ]
  },
  {
   "cell_type": "code",
   "execution_count": 65,
   "metadata": {},
   "outputs": [],
   "source": [
    "from sklearn.metrics import accuracy_score, classification_report, confusion_matrix\n",
    "\n",
    "def print_summary(classifier , X_valid, y_valid):\n",
    "    prediction = classifier.predict(X_valid)\n",
    "    print(accuracy_score(y_valid, prediction))\n",
    "    print(classification_report(y_valid, prediction))\n",
    "    print(confusion_matrix(y_valid, prediction))\n",
    "    \n",
    "def print_summary_new(prediction , y_valid):\n",
    "    \n",
    "    print(accuracy_score(y_valid, prediction))\n",
    "    print(classification_report(y_valid, prediction))\n",
    "    print(confusion_matrix(y_valid, prediction))"
   ]
  },
  {
   "cell_type": "code",
   "execution_count": 66,
   "metadata": {},
   "outputs": [],
   "source": [
    "from sklearn.ensemble import RandomForestClassifier \n",
    "from sklearn import tree \n",
    "from sklearn.svm import SVC\n",
    "from sklearn.naive_bayes import GaussianNB\n",
    "from sklearn.neighbors import KNeighborsClassifier\n",
    "from sklearn.ensemble import AdaBoostClassifier\n",
    "from sklearn.ensemble import GradientBoostingClassifier\n",
    "from xgboost import XGBClassifier\n",
    "from sklearn.linear_model import LinearRegression, LogisticRegression\n",
    "\n",
    "def try_default_classifiers(X_train, y_train):\n",
    "    \n",
    "    \n",
    "    classifier_lr = LogisticRegression()\n",
    "    classifier_lr.fit(X_train, y_train)\n",
    "    print(\"For Logistic Regression:\\n\")\n",
    "    print_summary(classifier_lr, X_valid, y_valid)\n",
    "\n",
    "    \n",
    "    classifier_rf = RandomForestClassifier()\n",
    "    classifier_rf.fit(X_train, y_train)\n",
    "    print(\"For Random Forests:\\n\")\n",
    "    print_summary(classifier_rf, X_valid, y_valid)\n",
    "    \n",
    "    classifier_t = tree.DecisionTreeClassifier()\n",
    "    classifier_t.fit(X_train, y_train)\n",
    "    print(\"For Decision Tree:\\n\")\n",
    "    print_summary(classifier_t, X_valid, y_valid)\n",
    "    \n",
    "    classifier_svc = SVC()\n",
    "    classifier_svc.fit(X_train, y_train)\n",
    "    print(\"For SVC:\\n\")\n",
    "    print_summary( classifier_svc, X_valid, y_valid)\n",
    "    \n",
    "    classifier_nb = GaussianNB()\n",
    "    classifier_nb.fit(X_train, y_train)\n",
    "    print(\"For Naive Bayes:\\n\")\n",
    "    print_summary( classifier_nb, X_valid, y_valid)\n",
    "    \n",
    "    classifier_knn = KNeighborsClassifier()\n",
    "    classifier_knn.fit(X_train, y_train)\n",
    "    print(\"For KNN:\\n\")\n",
    "    print_summary( classifier_knn, X_valid, y_valid)\n",
    "    \n",
    "    classifier_ada = AdaBoostClassifier()\n",
    "    classifier_ada.fit(X_train, y_train)\n",
    "    print(\"For Adaboost:\\n\")\n",
    "    print_summary( classifier_ada, X_valid, y_valid)\n",
    "    \n",
    "    classifier_gbc = GradientBoostingClassifier()\n",
    "    classifier_gbc.fit(X_train, y_train)\n",
    "    print(\"For Gradient Boosting:\\n\")\n",
    "    print_summary( classifier_gbc, X_valid, y_valid)\n",
    "    \n",
    "    classifier_xgb = XGBClassifier()\n",
    "    classifier_xgb.fit(X_train, y_train)\n",
    "    print(\"For XG Boosting:\\n\")\n",
    "    print_summary( classifier_xgb, X_valid, y_valid)\n",
    "    \n",
    "    return [classifier_rf, classifier_t, classifier_svc, classifier_nb, classifier_knn,classifier_ada,classifier_gbc,classifier_xgb]\n",
    "   "
   ]
  },
  {
   "cell_type": "code",
   "execution_count": 67,
   "metadata": {},
   "outputs": [
    {
     "name": "stdout",
     "output_type": "stream",
     "text": [
      "For Logistic Regression:\n",
      "\n",
      "0.5625\n",
      "             precision    recall  f1-score   support\n",
      "\n",
      "          1       0.62      0.50      0.55        16\n",
      "          2       0.56      0.68      0.61        37\n",
      "          3       0.55      0.44      0.49        27\n",
      "\n",
      "avg / total       0.56      0.56      0.56        80\n",
      "\n",
      "[[ 8  6  2]\n",
      " [ 4 25  8]\n",
      " [ 1 14 12]]\n",
      "For Random Forests:\n",
      "\n",
      "0.5\n",
      "             precision    recall  f1-score   support\n",
      "\n",
      "          1       0.59      0.62      0.61        16\n",
      "          2       0.51      0.57      0.54        37\n",
      "          3       0.41      0.33      0.37        27\n",
      "\n",
      "avg / total       0.49      0.50      0.49        80\n",
      "\n",
      "[[10  4  2]\n",
      " [ 5 21 11]\n",
      " [ 2 16  9]]\n",
      "For Decision Tree:\n",
      "\n",
      "0.4375\n",
      "             precision    recall  f1-score   support\n",
      "\n",
      "          1       0.21      0.25      0.23        16\n",
      "          2       0.53      0.51      0.52        37\n",
      "          3       0.48      0.44      0.46        27\n",
      "\n",
      "avg / total       0.45      0.44      0.44        80\n",
      "\n",
      "[[ 4  8  4]\n",
      " [ 9 19  9]\n",
      " [ 6  9 12]]\n",
      "For SVC:\n",
      "\n",
      "0.5375\n",
      "             precision    recall  f1-score   support\n",
      "\n",
      "          1       0.56      0.31      0.40        16\n",
      "          2       0.52      0.78      0.62        37\n",
      "          3       0.60      0.33      0.43        27\n",
      "\n",
      "avg / total       0.55      0.54      0.51        80\n",
      "\n",
      "[[ 5 10  1]\n",
      " [ 3 29  5]\n",
      " [ 1 17  9]]\n",
      "For Naive Bayes:\n",
      "\n",
      "0.5375\n",
      "             precision    recall  f1-score   support\n",
      "\n",
      "          1       0.62      0.62      0.62        16\n",
      "          2       0.55      0.62      0.58        37\n",
      "          3       0.45      0.37      0.41        27\n",
      "\n",
      "avg / total       0.53      0.54      0.53        80\n",
      "\n",
      "[[10  3  3]\n",
      " [ 5 23  9]\n",
      " [ 1 16 10]]\n",
      "For KNN:\n",
      "\n",
      "0.45\n",
      "             precision    recall  f1-score   support\n",
      "\n",
      "          1       0.38      0.50      0.43        16\n",
      "          2       0.47      0.51      0.49        37\n",
      "          3       0.47      0.33      0.39        27\n",
      "\n",
      "avg / total       0.46      0.45      0.45        80\n",
      "\n",
      "[[ 8  6  2]\n",
      " [10 19  8]\n",
      " [ 3 15  9]]\n",
      "For Adaboost:\n",
      "\n",
      "0.525\n",
      "             precision    recall  f1-score   support\n",
      "\n",
      "          1       0.64      0.56      0.60        16\n",
      "          2       0.53      0.73      0.61        37\n",
      "          3       0.40      0.22      0.29        27\n",
      "\n",
      "avg / total       0.51      0.53      0.50        80\n",
      "\n",
      "[[ 9  6  1]\n",
      " [ 2 27  8]\n",
      " [ 3 18  6]]\n",
      "For Gradient Boosting:\n",
      "\n",
      "0.475\n",
      "             precision    recall  f1-score   support\n",
      "\n",
      "          1       0.38      0.19      0.25        16\n",
      "          2       0.48      0.62      0.54        37\n",
      "          3       0.50      0.44      0.47        27\n",
      "\n",
      "avg / total       0.47      0.47      0.46        80\n",
      "\n",
      "[[ 3 11  2]\n",
      " [ 4 23 10]\n",
      " [ 1 14 12]]\n",
      "For XG Boosting:\n",
      "\n",
      "0.5875\n",
      "             precision    recall  f1-score   support\n",
      "\n",
      "          1       0.60      0.38      0.46        16\n",
      "          2       0.57      0.76      0.65        37\n",
      "          3       0.62      0.48      0.54        27\n",
      "\n",
      "avg / total       0.59      0.59      0.58        80\n",
      "\n",
      "[[ 6  7  3]\n",
      " [ 4 28  5]\n",
      " [ 0 14 13]]\n"
     ]
    },
    {
     "name": "stderr",
     "output_type": "stream",
     "text": [
      "c:\\users\\kanwal\\miniconda3\\lib\\site-packages\\sklearn\\preprocessing\\label.py:151: DeprecationWarning: The truth value of an empty array is ambiguous. Returning False, but in future this will result in an error. Use `array.size > 0` to check that an array is not empty.\n",
      "  if diff:\n"
     ]
    }
   ],
   "source": [
    "classifier_list = try_default_classifiers(X_train, y_train)"
   ]
  },
  {
   "cell_type": "code",
   "execution_count": null,
   "metadata": {},
   "outputs": [],
   "source": []
  },
  {
   "cell_type": "code",
   "execution_count": 68,
   "metadata": {},
   "outputs": [
    {
     "data": {
      "text/plain": [
       "(800, 3)"
      ]
     },
     "execution_count": 68,
     "metadata": {},
     "output_type": "execute_result"
    }
   ],
   "source": [
    "from sklearn.preprocessing import OneHotEncoder\n",
    "one = OneHotEncoder(sparse=False)\n",
    "new_y = one.fit_transform(y.reshape(-1,1))\n",
    "new_y.shape"
   ]
  },
  {
   "cell_type": "code",
   "execution_count": 69,
   "metadata": {},
   "outputs": [],
   "source": [
    "from sklearn.model_selection import train_test_split\n",
    "\n",
    "X_train, X_valid , y_train, y_valid = train_test_split(X, new_y, test_size =0.1,shuffle=True)"
   ]
  },
  {
   "cell_type": "code",
   "execution_count": 70,
   "metadata": {},
   "outputs": [
    {
     "data": {
      "text/plain": [
       "(720, 60)"
      ]
     },
     "execution_count": 70,
     "metadata": {},
     "output_type": "execute_result"
    }
   ],
   "source": [
    "X_train.shape"
   ]
  },
  {
   "cell_type": "code",
   "execution_count": 71,
   "metadata": {},
   "outputs": [],
   "source": [
    "from sklearn.decomposition import PCA\n",
    "pca= PCA()\n",
    "pca.fit(X_train)\n",
    "X_train = pca.transform(X_train)\n",
    "X_valid = pca.transform(X_valid)"
   ]
  },
  {
   "cell_type": "code",
   "execution_count": 323,
   "metadata": {},
   "outputs": [],
   "source": [
    "np.save('./X_train', X_train)\n",
    "np.save('./X_valid', X_valid)"
   ]
  },
  {
   "cell_type": "code",
   "execution_count": 72,
   "metadata": {},
   "outputs": [
    {
     "data": {
      "text/plain": [
       "(720, 60)"
      ]
     },
     "execution_count": 72,
     "metadata": {},
     "output_type": "execute_result"
    }
   ],
   "source": [
    "X_train.shape"
   ]
  },
  {
   "cell_type": "code",
   "execution_count": 73,
   "metadata": {},
   "outputs": [],
   "source": [
    "import keras\n",
    "from keras.layers import BatchNormalization\n",
    "from keras.layers.core import Flatten,Dense,Dropout, Activation, Lambda\n",
    "from keras.models import Model, Sequential\n",
    "from keras.optimizers import Adam,SGD\n",
    "from keras.callbacks import TensorBoard"
   ]
  },
  {
   "cell_type": "code",
   "execution_count": 74,
   "metadata": {},
   "outputs": [],
   "source": [
    "model = Sequential()\n",
    "#model.add(Lambda(lambda x: x , input_shape = (24)))\n",
    "#model.add(Lambda(lambda x: x+0.1 , input_shape = (64,64,3)))\n",
    "#model.add(Flatten())\n",
    "model.add(BatchNormalization(input_shape=(60,)))\n",
    "model.add(Dense(100))\n",
    "model.add(Activation('elu'))\n",
    "\n",
    "\n",
    "model.add(Dropout(0.2))\n",
    "model.add(BatchNormalization())\n",
    "model.add(Dense(200))\n",
    "model.add(Activation('elu'))\n",
    "model.add(Dropout(0.5))\n",
    "model.add(BatchNormalization())\n",
    "\n",
    "model.add(Dense(100))\n",
    "model.add(Activation('elu'))\n",
    "model.add(Dropout(0.5))\n",
    "model.add(Dense(3))\n",
    "model.add(Activation('softmax'))\n",
    "\n",
    "model.compile(optimizer = 'Adam' , loss = 'categorical_crossentropy', metrics=['accuracy'])"
   ]
  },
  {
   "cell_type": "code",
   "execution_count": 75,
   "metadata": {
    "scrolled": true
   },
   "outputs": [
    {
     "name": "stdout",
     "output_type": "stream",
     "text": [
      "Train on 720 samples, validate on 80 samples\n",
      "Epoch 1/150\n",
      "720/720 [==============================] - 2s 3ms/step - loss: 1.7527 - acc: 0.3819 - val_loss: 0.9962 - val_acc: 0.5000\n",
      "Epoch 2/150\n",
      "720/720 [==============================] - 0s 346us/step - loss: 1.3544 - acc: 0.4556 - val_loss: 0.9022 - val_acc: 0.5500\n",
      "Epoch 3/150\n",
      "720/720 [==============================] - 0s 330us/step - loss: 1.2423 - acc: 0.5042 - val_loss: 0.8187 - val_acc: 0.5750\n",
      "Epoch 4/150\n",
      "720/720 [==============================] - 0s 347us/step - loss: 1.2286 - acc: 0.5250 - val_loss: 0.7792 - val_acc: 0.5750\n",
      "Epoch 5/150\n",
      "720/720 [==============================] - 0s 369us/step - loss: 1.0222 - acc: 0.5694 - val_loss: 0.7367 - val_acc: 0.5875\n",
      "Epoch 6/150\n",
      "720/720 [==============================] - 0s 353us/step - loss: 0.9911 - acc: 0.5264 - val_loss: 0.7124 - val_acc: 0.6125\n",
      "Epoch 7/150\n",
      "720/720 [==============================] - 0s 316us/step - loss: 0.8766 - acc: 0.6181 - val_loss: 0.7059 - val_acc: 0.6250\n",
      "Epoch 8/150\n",
      "720/720 [==============================] - 0s 358us/step - loss: 0.9617 - acc: 0.5861 - val_loss: 0.7591 - val_acc: 0.5875\n",
      "Epoch 9/150\n",
      "720/720 [==============================] - 0s 334us/step - loss: 0.8825 - acc: 0.6264 - val_loss: 0.7414 - val_acc: 0.6375\n",
      "Epoch 10/150\n",
      "720/720 [==============================] - 0s 378us/step - loss: 0.8565 - acc: 0.6069 - val_loss: 0.6872 - val_acc: 0.6750\n",
      "Epoch 11/150\n",
      "720/720 [==============================] - 0s 338us/step - loss: 0.8099 - acc: 0.6528 - val_loss: 0.7150 - val_acc: 0.6500\n",
      "Epoch 12/150\n",
      "720/720 [==============================] - 0s 353us/step - loss: 0.8036 - acc: 0.6375 - val_loss: 0.7389 - val_acc: 0.6000\n",
      "Epoch 13/150\n",
      "720/720 [==============================] - 0s 356us/step - loss: 0.8268 - acc: 0.6361 - val_loss: 0.7581 - val_acc: 0.5875\n",
      "Epoch 14/150\n",
      "720/720 [==============================] - 0s 344us/step - loss: 0.8115 - acc: 0.6306 - val_loss: 0.7512 - val_acc: 0.6125\n",
      "Epoch 15/150\n",
      "720/720 [==============================] - 0s 362us/step - loss: 0.7674 - acc: 0.6333 - val_loss: 0.7329 - val_acc: 0.6500\n",
      "Epoch 16/150\n",
      "720/720 [==============================] - 0s 349us/step - loss: 0.7214 - acc: 0.6903 - val_loss: 0.7195 - val_acc: 0.6125\n",
      "Epoch 17/150\n",
      "720/720 [==============================] - 0s 361us/step - loss: 0.7653 - acc: 0.6444 - val_loss: 0.7129 - val_acc: 0.6250\n",
      "Epoch 18/150\n",
      "720/720 [==============================] - 0s 336us/step - loss: 0.7561 - acc: 0.6583 - val_loss: 0.7175 - val_acc: 0.5625\n",
      "Epoch 19/150\n",
      "720/720 [==============================] - 0s 347us/step - loss: 0.6830 - acc: 0.6944 - val_loss: 0.7123 - val_acc: 0.5875\n",
      "Epoch 20/150\n",
      "720/720 [==============================] - 0s 387us/step - loss: 0.7190 - acc: 0.6792 - val_loss: 0.7214 - val_acc: 0.6375\n",
      "Epoch 21/150\n",
      "720/720 [==============================] - 0s 325us/step - loss: 0.7393 - acc: 0.6333 - val_loss: 0.7442 - val_acc: 0.5625\n",
      "Epoch 22/150\n",
      "720/720 [==============================] - 0s 346us/step - loss: 0.7001 - acc: 0.6750 - val_loss: 0.7448 - val_acc: 0.6375\n",
      "Epoch 23/150\n",
      "720/720 [==============================] - 0s 367us/step - loss: 0.6585 - acc: 0.6819 - val_loss: 0.7251 - val_acc: 0.6250\n",
      "Epoch 24/150\n",
      "720/720 [==============================] - 0s 324us/step - loss: 0.6603 - acc: 0.6889 - val_loss: 0.7255 - val_acc: 0.6125\n",
      "Epoch 25/150\n",
      "720/720 [==============================] - 0s 348us/step - loss: 0.6983 - acc: 0.6639 - val_loss: 0.7318 - val_acc: 0.5875\n",
      "Epoch 26/150\n",
      "720/720 [==============================] - 0s 359us/step - loss: 0.6653 - acc: 0.7083 - val_loss: 0.7439 - val_acc: 0.6125\n",
      "Epoch 27/150\n",
      "720/720 [==============================] - 0s 366us/step - loss: 0.6973 - acc: 0.7097 - val_loss: 0.7526 - val_acc: 0.6500\n",
      "Epoch 28/150\n",
      "720/720 [==============================] - 0s 336us/step - loss: 0.6979 - acc: 0.6806 - val_loss: 0.7503 - val_acc: 0.6250\n",
      "Epoch 29/150\n",
      "720/720 [==============================] - 0s 355us/step - loss: 0.6655 - acc: 0.6792 - val_loss: 0.7448 - val_acc: 0.5625\n",
      "Epoch 30/150\n",
      "720/720 [==============================] - 0s 355us/step - loss: 0.6607 - acc: 0.6972 - val_loss: 0.7454 - val_acc: 0.6000\n",
      "Epoch 31/150\n",
      "720/720 [==============================] - 0s 373us/step - loss: 0.6806 - acc: 0.7069 - val_loss: 0.7312 - val_acc: 0.6000\n",
      "Epoch 32/150\n",
      "720/720 [==============================] - 0s 362us/step - loss: 0.6323 - acc: 0.7153 - val_loss: 0.7373 - val_acc: 0.6000\n",
      "Epoch 33/150\n",
      "720/720 [==============================] - 0s 349us/step - loss: 0.6365 - acc: 0.7042 - val_loss: 0.7403 - val_acc: 0.6000\n",
      "Epoch 34/150\n",
      "720/720 [==============================] - 0s 353us/step - loss: 0.6279 - acc: 0.7069 - val_loss: 0.7292 - val_acc: 0.6000\n",
      "Epoch 35/150\n",
      "720/720 [==============================] - 0s 341us/step - loss: 0.6346 - acc: 0.7014 - val_loss: 0.7297 - val_acc: 0.6000\n",
      "Epoch 36/150\n",
      "720/720 [==============================] - 0s 375us/step - loss: 0.6162 - acc: 0.7264 - val_loss: 0.7393 - val_acc: 0.6000\n",
      "Epoch 37/150\n",
      "720/720 [==============================] - 0s 350us/step - loss: 0.6258 - acc: 0.7042 - val_loss: 0.7553 - val_acc: 0.5750\n",
      "Epoch 38/150\n",
      "720/720 [==============================] - 0s 329us/step - loss: 0.5998 - acc: 0.7208 - val_loss: 0.7532 - val_acc: 0.5750\n",
      "Epoch 39/150\n",
      "720/720 [==============================] - 0s 515us/step - loss: 0.5875 - acc: 0.7417 - val_loss: 0.7591 - val_acc: 0.6250\n",
      "Epoch 40/150\n",
      "720/720 [==============================] - 0s 385us/step - loss: 0.6250 - acc: 0.7111 - val_loss: 0.7503 - val_acc: 0.5875\n",
      "Epoch 41/150\n",
      "720/720 [==============================] - 0s 356us/step - loss: 0.6200 - acc: 0.7250 - val_loss: 0.7455 - val_acc: 0.6125\n",
      "Epoch 42/150\n",
      "720/720 [==============================] - 0s 357us/step - loss: 0.6029 - acc: 0.7444 - val_loss: 0.7482 - val_acc: 0.6000\n",
      "Epoch 43/150\n",
      "720/720 [==============================] - 0s 371us/step - loss: 0.5946 - acc: 0.7444 - val_loss: 0.7375 - val_acc: 0.6375\n",
      "Epoch 44/150\n",
      "720/720 [==============================] - 0s 352us/step - loss: 0.5640 - acc: 0.7597 - val_loss: 0.7511 - val_acc: 0.5875\n",
      "Epoch 45/150\n",
      "720/720 [==============================] - 0s 352us/step - loss: 0.6074 - acc: 0.7153 - val_loss: 0.7494 - val_acc: 0.5875\n",
      "Epoch 46/150\n",
      "720/720 [==============================] - 0s 346us/step - loss: 0.5807 - acc: 0.7264 - val_loss: 0.7469 - val_acc: 0.6000\n",
      "Epoch 47/150\n",
      "720/720 [==============================] - 0s 357us/step - loss: 0.5902 - acc: 0.7542 - val_loss: 0.7722 - val_acc: 0.5750\n",
      "Epoch 48/150\n",
      "720/720 [==============================] - 0s 355us/step - loss: 0.5961 - acc: 0.7417 - val_loss: 0.7688 - val_acc: 0.5750\n",
      "Epoch 49/150\n",
      "720/720 [==============================] - 0s 358us/step - loss: 0.5851 - acc: 0.7333 - val_loss: 0.7590 - val_acc: 0.6000\n",
      "Epoch 50/150\n",
      "720/720 [==============================] - 0s 364us/step - loss: 0.5751 - acc: 0.7250 - val_loss: 0.7630 - val_acc: 0.6000\n",
      "Epoch 51/150\n",
      "720/720 [==============================] - 0s 348us/step - loss: 0.5920 - acc: 0.7292 - val_loss: 0.7572 - val_acc: 0.6375\n",
      "Epoch 52/150\n",
      "720/720 [==============================] - 0s 333us/step - loss: 0.5750 - acc: 0.7417 - val_loss: 0.7392 - val_acc: 0.6250\n",
      "Epoch 53/150\n",
      "720/720 [==============================] - 0s 375us/step - loss: 0.5643 - acc: 0.7417 - val_loss: 0.7466 - val_acc: 0.6125\n",
      "Epoch 54/150\n",
      "720/720 [==============================] - 0s 355us/step - loss: 0.5801 - acc: 0.7403 - val_loss: 0.7405 - val_acc: 0.6375\n",
      "Epoch 55/150\n",
      "720/720 [==============================] - 0s 362us/step - loss: 0.5564 - acc: 0.7625 - val_loss: 0.7654 - val_acc: 0.6125\n",
      "Epoch 56/150\n",
      "720/720 [==============================] - 0s 362us/step - loss: 0.5491 - acc: 0.7444 - val_loss: 0.7874 - val_acc: 0.5875\n",
      "Epoch 57/150\n",
      "720/720 [==============================] - 0s 352us/step - loss: 0.5245 - acc: 0.7556 - val_loss: 0.8043 - val_acc: 0.5750\n",
      "Epoch 58/150\n",
      "720/720 [==============================] - 0s 354us/step - loss: 0.5782 - acc: 0.7486 - val_loss: 0.7775 - val_acc: 0.6125\n",
      "Epoch 59/150\n",
      "720/720 [==============================] - 0s 372us/step - loss: 0.5438 - acc: 0.7528 - val_loss: 0.7740 - val_acc: 0.6000\n",
      "Epoch 60/150\n",
      "720/720 [==============================] - 0s 361us/step - loss: 0.5309 - acc: 0.7611 - val_loss: 0.7979 - val_acc: 0.5875\n"
     ]
    },
    {
     "name": "stdout",
     "output_type": "stream",
     "text": [
      "Epoch 61/150\n",
      "720/720 [==============================] - 0s 347us/step - loss: 0.5123 - acc: 0.7708 - val_loss: 0.8123 - val_acc: 0.6000\n",
      "Epoch 62/150\n",
      "720/720 [==============================] - 0s 349us/step - loss: 0.5518 - acc: 0.7556 - val_loss: 0.7988 - val_acc: 0.6000\n",
      "Epoch 63/150\n",
      "720/720 [==============================] - 0s 337us/step - loss: 0.5219 - acc: 0.7750 - val_loss: 0.7992 - val_acc: 0.6000\n",
      "Epoch 64/150\n",
      "720/720 [==============================] - 0s 336us/step - loss: 0.5473 - acc: 0.7708 - val_loss: 0.7881 - val_acc: 0.6375\n",
      "Epoch 65/150\n",
      "720/720 [==============================] - 0s 338us/step - loss: 0.5059 - acc: 0.7819 - val_loss: 0.8069 - val_acc: 0.6000\n",
      "Epoch 66/150\n",
      "720/720 [==============================] - 0s 356us/step - loss: 0.5185 - acc: 0.7792 - val_loss: 0.8041 - val_acc: 0.6000\n",
      "Epoch 67/150\n",
      "720/720 [==============================] - 0s 337us/step - loss: 0.5438 - acc: 0.7722 - val_loss: 0.7802 - val_acc: 0.6250\n",
      "Epoch 68/150\n",
      "720/720 [==============================] - 0s 347us/step - loss: 0.4972 - acc: 0.8083 - val_loss: 0.7867 - val_acc: 0.6375\n",
      "Epoch 69/150\n",
      "720/720 [==============================] - 0s 347us/step - loss: 0.5305 - acc: 0.7778 - val_loss: 0.8106 - val_acc: 0.6625\n",
      "Epoch 70/150\n",
      "720/720 [==============================] - 0s 322us/step - loss: 0.5045 - acc: 0.7958 - val_loss: 0.8198 - val_acc: 0.6000\n",
      "Epoch 71/150\n",
      "720/720 [==============================] - 0s 354us/step - loss: 0.5526 - acc: 0.7431 - val_loss: 0.8258 - val_acc: 0.6250\n",
      "Epoch 72/150\n",
      "720/720 [==============================] - 0s 319us/step - loss: 0.5089 - acc: 0.7722 - val_loss: 0.8226 - val_acc: 0.6000\n",
      "Epoch 73/150\n",
      "720/720 [==============================] - 0s 346us/step - loss: 0.4846 - acc: 0.7903 - val_loss: 0.8191 - val_acc: 0.6000\n",
      "Epoch 74/150\n",
      "720/720 [==============================] - 0s 326us/step - loss: 0.4931 - acc: 0.7903 - val_loss: 0.8142 - val_acc: 0.6375\n",
      "Epoch 75/150\n",
      "720/720 [==============================] - 0s 360us/step - loss: 0.4585 - acc: 0.7861 - val_loss: 0.8790 - val_acc: 0.6375\n",
      "Epoch 76/150\n",
      "720/720 [==============================] - 0s 343us/step - loss: 0.5045 - acc: 0.7819 - val_loss: 0.8650 - val_acc: 0.6125\n",
      "Epoch 77/150\n",
      "720/720 [==============================] - 0s 332us/step - loss: 0.5198 - acc: 0.7667 - val_loss: 0.8624 - val_acc: 0.6000\n",
      "Epoch 78/150\n",
      "720/720 [==============================] - 0s 347us/step - loss: 0.4667 - acc: 0.8014 - val_loss: 0.8777 - val_acc: 0.6125\n",
      "Epoch 79/150\n",
      "720/720 [==============================] - 0s 405us/step - loss: 0.4770 - acc: 0.7986 - val_loss: 0.8369 - val_acc: 0.6125\n",
      "Epoch 80/150\n",
      "720/720 [==============================] - 0s 369us/step - loss: 0.4977 - acc: 0.7931 - val_loss: 0.8492 - val_acc: 0.6125\n",
      "Epoch 81/150\n",
      "720/720 [==============================] - 0s 346us/step - loss: 0.4840 - acc: 0.7972 - val_loss: 0.8675 - val_acc: 0.5750\n",
      "Epoch 82/150\n",
      "720/720 [==============================] - 0s 347us/step - loss: 0.4463 - acc: 0.8014 - val_loss: 0.8677 - val_acc: 0.6000\n",
      "Epoch 83/150\n",
      "720/720 [==============================] - 0s 333us/step - loss: 0.4991 - acc: 0.7917 - val_loss: 0.8740 - val_acc: 0.6000\n",
      "Epoch 84/150\n",
      "720/720 [==============================] - 0s 324us/step - loss: 0.4823 - acc: 0.7806 - val_loss: 0.8305 - val_acc: 0.6250\n",
      "Epoch 85/150\n",
      "720/720 [==============================] - 0s 325us/step - loss: 0.4640 - acc: 0.8028 - val_loss: 0.8626 - val_acc: 0.6125\n",
      "Epoch 86/150\n",
      "720/720 [==============================] - 0s 363us/step - loss: 0.4512 - acc: 0.7986 - val_loss: 0.8731 - val_acc: 0.6375\n",
      "Epoch 87/150\n",
      "720/720 [==============================] - 0s 345us/step - loss: 0.4451 - acc: 0.8153 - val_loss: 0.8995 - val_acc: 0.6000\n",
      "Epoch 88/150\n",
      "720/720 [==============================] - 0s 348us/step - loss: 0.4734 - acc: 0.8097 - val_loss: 0.8865 - val_acc: 0.6125\n",
      "Epoch 89/150\n",
      "720/720 [==============================] - 0s 347us/step - loss: 0.4476 - acc: 0.8264 - val_loss: 0.8711 - val_acc: 0.6000\n",
      "Epoch 90/150\n",
      "720/720 [==============================] - 0s 347us/step - loss: 0.4943 - acc: 0.8014 - val_loss: 0.8480 - val_acc: 0.6250\n",
      "Epoch 91/150\n",
      "720/720 [==============================] - 0s 341us/step - loss: 0.4279 - acc: 0.8069 - val_loss: 0.8695 - val_acc: 0.6000\n",
      "Epoch 92/150\n",
      "720/720 [==============================] - 0s 326us/step - loss: 0.4268 - acc: 0.8194 - val_loss: 0.8771 - val_acc: 0.6125\n",
      "Epoch 93/150\n",
      "720/720 [==============================] - 0s 352us/step - loss: 0.4292 - acc: 0.8278 - val_loss: 0.9325 - val_acc: 0.6000\n",
      "Epoch 94/150\n",
      "720/720 [==============================] - 0s 347us/step - loss: 0.4180 - acc: 0.8236 - val_loss: 0.9337 - val_acc: 0.5750\n",
      "Epoch 95/150\n",
      "720/720 [==============================] - 0s 361us/step - loss: 0.4452 - acc: 0.8069 - val_loss: 0.8879 - val_acc: 0.6000\n",
      "Epoch 96/150\n",
      "720/720 [==============================] - 0s 323us/step - loss: 0.4146 - acc: 0.8306 - val_loss: 0.8868 - val_acc: 0.6250\n",
      "Epoch 97/150\n",
      "720/720 [==============================] - 0s 364us/step - loss: 0.4140 - acc: 0.8319 - val_loss: 0.9281 - val_acc: 0.6125\n",
      "Epoch 98/150\n",
      "720/720 [==============================] - 0s 391us/step - loss: 0.4104 - acc: 0.8319 - val_loss: 0.9407 - val_acc: 0.6125\n",
      "Epoch 99/150\n",
      "720/720 [==============================] - 0s 401us/step - loss: 0.4128 - acc: 0.8250 - val_loss: 0.9687 - val_acc: 0.6250\n",
      "Epoch 100/150\n",
      "720/720 [==============================] - 0s 389us/step - loss: 0.3951 - acc: 0.8222 - val_loss: 0.9379 - val_acc: 0.6125\n",
      "Epoch 101/150\n",
      "720/720 [==============================] - 0s 339us/step - loss: 0.4685 - acc: 0.8042 - val_loss: 0.9108 - val_acc: 0.6125\n",
      "Epoch 102/150\n",
      "720/720 [==============================] - 0s 357us/step - loss: 0.4022 - acc: 0.8153 - val_loss: 0.9257 - val_acc: 0.6250\n",
      "Epoch 103/150\n",
      "720/720 [==============================] - 0s 358us/step - loss: 0.3923 - acc: 0.8361 - val_loss: 0.9325 - val_acc: 0.6250\n",
      "Epoch 104/150\n",
      "720/720 [==============================] - 0s 350us/step - loss: 0.4401 - acc: 0.8250 - val_loss: 0.9302 - val_acc: 0.6375\n",
      "Epoch 105/150\n",
      "720/720 [==============================] - 0s 369us/step - loss: 0.4259 - acc: 0.8319 - val_loss: 0.9434 - val_acc: 0.6375\n",
      "Epoch 106/150\n",
      "720/720 [==============================] - 0s 350us/step - loss: 0.4064 - acc: 0.8319 - val_loss: 1.0061 - val_acc: 0.6375\n",
      "Epoch 107/150\n",
      "720/720 [==============================] - 0s 419us/step - loss: 0.4112 - acc: 0.8236 - val_loss: 1.0543 - val_acc: 0.6000\n",
      "Epoch 108/150\n",
      "720/720 [==============================] - 0s 390us/step - loss: 0.3688 - acc: 0.8500 - val_loss: 1.0702 - val_acc: 0.6000\n",
      "Epoch 109/150\n",
      "720/720 [==============================] - 0s 356us/step - loss: 0.4378 - acc: 0.8139 - val_loss: 1.0385 - val_acc: 0.6375\n",
      "Epoch 110/150\n",
      "720/720 [==============================] - 0s 361us/step - loss: 0.4079 - acc: 0.8403 - val_loss: 1.0355 - val_acc: 0.6375\n",
      "Epoch 111/150\n",
      "720/720 [==============================] - 0s 359us/step - loss: 0.4116 - acc: 0.8264 - val_loss: 1.0275 - val_acc: 0.6125\n",
      "Epoch 112/150\n",
      "720/720 [==============================] - 0s 361us/step - loss: 0.3923 - acc: 0.8250 - val_loss: 0.9901 - val_acc: 0.6250\n",
      "Epoch 113/150\n",
      "720/720 [==============================] - 0s 375us/step - loss: 0.3735 - acc: 0.8472 - val_loss: 1.0147 - val_acc: 0.6250\n",
      "Epoch 114/150\n",
      "720/720 [==============================] - 0s 363us/step - loss: 0.4275 - acc: 0.8236 - val_loss: 1.0544 - val_acc: 0.5875\n",
      "Epoch 115/150\n",
      "720/720 [==============================] - 0s 371us/step - loss: 0.4041 - acc: 0.8250 - val_loss: 1.0356 - val_acc: 0.6250\n",
      "Epoch 116/150\n",
      "720/720 [==============================] - 0s 356us/step - loss: 0.3642 - acc: 0.8417 - val_loss: 1.0807 - val_acc: 0.6000\n",
      "Epoch 117/150\n",
      "720/720 [==============================] - 0s 366us/step - loss: 0.3822 - acc: 0.8292 - val_loss: 1.0817 - val_acc: 0.6000\n",
      "Epoch 118/150\n",
      "720/720 [==============================] - 0s 365us/step - loss: 0.4237 - acc: 0.8333 - val_loss: 1.0597 - val_acc: 0.6125\n",
      "Epoch 119/150\n",
      "720/720 [==============================] - 0s 349us/step - loss: 0.3627 - acc: 0.8458 - val_loss: 1.0631 - val_acc: 0.6250\n",
      "Epoch 120/150\n",
      "720/720 [==============================] - 0s 363us/step - loss: 0.3912 - acc: 0.8333 - val_loss: 1.0621 - val_acc: 0.6500\n",
      "Epoch 121/150\n"
     ]
    },
    {
     "name": "stdout",
     "output_type": "stream",
     "text": [
      "720/720 [==============================] - 0s 358us/step - loss: 0.3609 - acc: 0.8486 - val_loss: 1.0136 - val_acc: 0.6625\n",
      "Epoch 122/150\n",
      "720/720 [==============================] - 0s 337us/step - loss: 0.3580 - acc: 0.8569 - val_loss: 1.0234 - val_acc: 0.6625\n",
      "Epoch 123/150\n",
      "720/720 [==============================] - 0s 327us/step - loss: 0.3516 - acc: 0.8750 - val_loss: 1.0696 - val_acc: 0.6625\n",
      "Epoch 124/150\n",
      "720/720 [==============================] - 0s 367us/step - loss: 0.3483 - acc: 0.8625 - val_loss: 1.0621 - val_acc: 0.6375\n",
      "Epoch 125/150\n",
      "720/720 [==============================] - 0s 347us/step - loss: 0.3374 - acc: 0.8653 - val_loss: 1.0757 - val_acc: 0.6000\n",
      "Epoch 126/150\n",
      "720/720 [==============================] - 0s 323us/step - loss: 0.3488 - acc: 0.8431 - val_loss: 1.0595 - val_acc: 0.6000\n",
      "Epoch 127/150\n",
      "720/720 [==============================] - 0s 348us/step - loss: 0.3977 - acc: 0.8389 - val_loss: 1.0802 - val_acc: 0.5875\n",
      "Epoch 128/150\n",
      "720/720 [==============================] - 0s 352us/step - loss: 0.3353 - acc: 0.8667 - val_loss: 1.1105 - val_acc: 0.6125\n",
      "Epoch 129/150\n",
      "720/720 [==============================] - 0s 358us/step - loss: 0.3567 - acc: 0.8486 - val_loss: 1.1673 - val_acc: 0.5875\n",
      "Epoch 130/150\n",
      "720/720 [==============================] - 0s 328us/step - loss: 0.3262 - acc: 0.8708 - val_loss: 1.1085 - val_acc: 0.6250\n",
      "Epoch 131/150\n",
      "720/720 [==============================] - 0s 324us/step - loss: 0.3748 - acc: 0.8542 - val_loss: 1.1305 - val_acc: 0.6125\n",
      "Epoch 132/150\n",
      "720/720 [==============================] - 0s 360us/step - loss: 0.2960 - acc: 0.8903 - val_loss: 1.1679 - val_acc: 0.6250\n",
      "Epoch 133/150\n",
      "720/720 [==============================] - 0s 349us/step - loss: 0.3710 - acc: 0.8486 - val_loss: 1.1769 - val_acc: 0.6125\n",
      "Epoch 134/150\n",
      "720/720 [==============================] - 0s 348us/step - loss: 0.3686 - acc: 0.8528 - val_loss: 1.1247 - val_acc: 0.5875\n",
      "Epoch 135/150\n",
      "720/720 [==============================] - 0s 326us/step - loss: 0.3629 - acc: 0.8444 - val_loss: 1.0923 - val_acc: 0.6125\n",
      "Epoch 136/150\n",
      "720/720 [==============================] - 0s 348us/step - loss: 0.3245 - acc: 0.8722 - val_loss: 1.0896 - val_acc: 0.6250\n",
      "Epoch 137/150\n",
      "720/720 [==============================] - 0s 353us/step - loss: 0.3205 - acc: 0.8722 - val_loss: 1.0863 - val_acc: 0.6375\n",
      "Epoch 138/150\n",
      "720/720 [==============================] - 0s 317us/step - loss: 0.3080 - acc: 0.8569 - val_loss: 1.1247 - val_acc: 0.6250\n",
      "Epoch 139/150\n",
      "720/720 [==============================] - 0s 347us/step - loss: 0.3169 - acc: 0.8722 - val_loss: 1.1866 - val_acc: 0.6250\n",
      "Epoch 140/150\n",
      "720/720 [==============================] - 0s 362us/step - loss: 0.3584 - acc: 0.8514 - val_loss: 1.1345 - val_acc: 0.6375\n",
      "Epoch 141/150\n",
      "720/720 [==============================] - 0s 351us/step - loss: 0.3280 - acc: 0.8486 - val_loss: 1.1678 - val_acc: 0.6125\n",
      "Epoch 142/150\n",
      "720/720 [==============================] - 0s 361us/step - loss: 0.3260 - acc: 0.8542 - val_loss: 1.2270 - val_acc: 0.6125\n",
      "Epoch 143/150\n",
      "720/720 [==============================] - 0s 354us/step - loss: 0.3036 - acc: 0.8750 - val_loss: 1.2869 - val_acc: 0.6125\n",
      "Epoch 144/150\n",
      "720/720 [==============================] - 0s 346us/step - loss: 0.3390 - acc: 0.8500 - val_loss: 1.1873 - val_acc: 0.6625\n",
      "Epoch 145/150\n",
      "720/720 [==============================] - 0s 347us/step - loss: 0.3306 - acc: 0.8569 - val_loss: 1.2017 - val_acc: 0.6125\n",
      "Epoch 146/150\n",
      "720/720 [==============================] - 0s 391us/step - loss: 0.3034 - acc: 0.8764 - val_loss: 1.1424 - val_acc: 0.6125\n",
      "Epoch 147/150\n",
      "720/720 [==============================] - 0s 337us/step - loss: 0.3417 - acc: 0.8750 - val_loss: 1.1822 - val_acc: 0.6125\n",
      "Epoch 148/150\n",
      "720/720 [==============================] - 0s 338us/step - loss: 0.3434 - acc: 0.8500 - val_loss: 1.2007 - val_acc: 0.6125\n",
      "Epoch 149/150\n",
      "720/720 [==============================] - 0s 365us/step - loss: 0.3253 - acc: 0.8694 - val_loss: 1.2283 - val_acc: 0.5875\n",
      "Epoch 150/150\n",
      "720/720 [==============================] - 0s 344us/step - loss: 0.2896 - acc: 0.9042 - val_loss: 1.2558 - val_acc: 0.5750\n"
     ]
    },
    {
     "data": {
      "text/plain": [
       "<keras.callbacks.History at 0x28bee3d9160>"
      ]
     },
     "execution_count": 75,
     "metadata": {},
     "output_type": "execute_result"
    }
   ],
   "source": [
    "model.fit(X_train, y_train, epochs=150, verbose =1, validation_data=(X_valid, y_valid))"
   ]
  },
  {
   "cell_type": "code",
   "execution_count": 322,
   "metadata": {},
   "outputs": [],
   "source": [
    "model.save('model.h5')"
   ]
  },
  {
   "cell_type": "code",
   "execution_count": 26,
   "metadata": {},
   "outputs": [],
   "source": [
    "from keras.models import load_model\n",
    "model = load_model('model.h5')"
   ]
  },
  {
   "cell_type": "code",
   "execution_count": 27,
   "metadata": {},
   "outputs": [],
   "source": [
    "test_df = pd.read_csv('./test_updated.csv')"
   ]
  },
  {
   "cell_type": "code",
   "execution_count": 28,
   "metadata": {},
   "outputs": [],
   "source": [
    "test_df =reorder_columns(fil_cols, test_df)"
   ]
  },
  {
   "cell_type": "code",
   "execution_count": 29,
   "metadata": {},
   "outputs": [
    {
     "data": {
      "text/plain": [
       "(200, 62)"
      ]
     },
     "execution_count": 29,
     "metadata": {},
     "output_type": "execute_result"
    }
   ],
   "source": [
    "test_df = pd.get_dummies(test_df, columns = obj_cols)\n",
    "test_df.shape"
   ]
  },
  {
   "cell_type": "code",
   "execution_count": 30,
   "metadata": {},
   "outputs": [],
   "source": [
    "new_test_df = drop_columns(test_df, columns_to_be_dropped)\n"
   ]
  },
  {
   "cell_type": "code",
   "execution_count": null,
   "metadata": {},
   "outputs": [],
   "source": []
  },
  {
   "cell_type": "code",
   "execution_count": 30,
   "metadata": {},
   "outputs": [
    {
     "ename": "NameError",
     "evalue": "name 'y_train_scaled' is not defined",
     "output_type": "error",
     "traceback": [
      "\u001b[1;31m---------------------------------------------------------------------------\u001b[0m",
      "\u001b[1;31mNameError\u001b[0m                                 Traceback (most recent call last)",
      "\u001b[1;32m<ipython-input-30-b1dff048acf3>\u001b[0m in \u001b[0;36m<module>\u001b[1;34m()\u001b[0m\n\u001b[1;32m----> 1\u001b[1;33m \u001b[0mX_valid\u001b[0m\u001b[1;33m[\u001b[0m\u001b[1;36m0\u001b[0m\u001b[1;33m]\u001b[0m\u001b[1;33m,\u001b[0m \u001b[0my_train_scaled\u001b[0m\u001b[1;33m[\u001b[0m\u001b[1;36m0\u001b[0m\u001b[1;33m]\u001b[0m\u001b[1;33m\u001b[0m\u001b[0m\n\u001b[0m",
      "\u001b[1;31mNameError\u001b[0m: name 'y_train_scaled' is not defined"
     ]
    }
   ],
   "source": [
    "X_valid[0], y_train_scaled[0]"
   ]
  },
  {
   "cell_type": "code",
   "execution_count": null,
   "metadata": {},
   "outputs": [],
   "source": [
    "valid_pred = model.predict(X_valid)"
   ]
  },
  {
   "cell_type": "code",
   "execution_count": null,
   "metadata": {},
   "outputs": [],
   "source": [
    "scaled = scale_y.inverse_transform(valid_pred)"
   ]
  },
  {
   "cell_type": "code",
   "execution_count": null,
   "metadata": {},
   "outputs": [],
   "source": [
    "scaled.reshape(-1) , y_valid"
   ]
  },
  {
   "cell_type": "code",
   "execution_count": 76,
   "metadata": {},
   "outputs": [],
   "source": [
    "def get_classification_labels(row):\n",
    "#for row in new_df.itertuples():\n",
    "    #print(row.credit_amount)\n",
    "    if(row < 1500):\n",
    "        return 3\n",
    "    elif(row >= 1500 and row < 4000):\n",
    "        return 2\n",
    "    elif (row >= 4000 and row < 20000):\n",
    "        return 1"
   ]
  },
  {
   "cell_type": "code",
   "execution_count": 84,
   "metadata": {},
   "outputs": [],
   "source": [
    "def write_csv_new( filename):\n",
    "    df = pd.read_csv('regression_v2.csv')\n",
    "    df['cluster_number'] = df['credit_amount'].apply(get_classification_labels)\n",
    "    df = df.drop(columns=['credit_amount'])\n",
    "    df.to_csv(filename,index=False)"
   ]
  },
  {
   "cell_type": "code",
   "execution_count": 85,
   "metadata": {},
   "outputs": [],
   "source": [
    "write_csv_new('classification_v1.csv')"
   ]
  },
  {
   "cell_type": "code",
   "execution_count": null,
   "metadata": {},
   "outputs": [],
   "source": []
  }
 ],
 "metadata": {
  "kernelspec": {
   "display_name": "Python 3",
   "language": "python",
   "name": "python3"
  },
  "language_info": {
   "codemirror_mode": {
    "name": "ipython",
    "version": 3
   },
   "file_extension": ".py",
   "mimetype": "text/x-python",
   "name": "python",
   "nbconvert_exporter": "python",
   "pygments_lexer": "ipython3",
   "version": "3.6.5"
  }
 },
 "nbformat": 4,
 "nbformat_minor": 2
}
