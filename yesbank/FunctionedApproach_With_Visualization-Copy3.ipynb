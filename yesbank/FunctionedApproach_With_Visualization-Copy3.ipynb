{
 "cells": [
  {
   "cell_type": "code",
   "execution_count": 3,
   "metadata": {},
   "outputs": [],
   "source": [
    "import pandas as pd\n",
    "import math\n",
    "import numpy as np"
   ]
  },
  {
   "cell_type": "code",
   "execution_count": 4,
   "metadata": {},
   "outputs": [],
   "source": [
    "def read_csv_file(filename):\n",
    "    df = pd.read_csv(filename)\n",
    "    print(df.info())\n",
    "    return  df"
   ]
  },
  {
   "cell_type": "code",
   "execution_count": 5,
   "metadata": {},
   "outputs": [
    {
     "name": "stdout",
     "output_type": "stream",
     "text": [
      "<class 'pandas.core.frame.DataFrame'>\n",
      "RangeIndex: 800 entries, 0 to 799\n",
      "Data columns (total 21 columns):\n",
      "serial number       800 non-null int64\n",
      "account_info        800 non-null object\n",
      "duration_month      800 non-null int64\n",
      "credit_history      800 non-null object\n",
      "purpose             800 non-null object\n",
      "credit_amount       800 non-null int64\n",
      "savings_account     800 non-null object\n",
      "employment_st       800 non-null object\n",
      "poi                 800 non-null int64\n",
      "personal_status     800 non-null object\n",
      "gurantors           800 non-null object\n",
      "resident_since      800 non-null int64\n",
      "property_type       800 non-null object\n",
      "age                 800 non-null int64\n",
      "installment_type    800 non-null object\n",
      "housing_type        800 non-null object\n",
      "credits_no          800 non-null int64\n",
      "job_type            800 non-null object\n",
      "liables             800 non-null int64\n",
      "telephone           800 non-null object\n",
      "foreigner           800 non-null object\n",
      "dtypes: int64(8), object(13)\n",
      "memory usage: 131.3+ KB\n",
      "None\n"
     ]
    },
    {
     "data": {
      "text/html": [
       "<div>\n",
       "<style scoped>\n",
       "    .dataframe tbody tr th:only-of-type {\n",
       "        vertical-align: middle;\n",
       "    }\n",
       "\n",
       "    .dataframe tbody tr th {\n",
       "        vertical-align: top;\n",
       "    }\n",
       "\n",
       "    .dataframe thead th {\n",
       "        text-align: right;\n",
       "    }\n",
       "</style>\n",
       "<table border=\"1\" class=\"dataframe\">\n",
       "  <thead>\n",
       "    <tr style=\"text-align: right;\">\n",
       "      <th></th>\n",
       "      <th>serial number</th>\n",
       "      <th>account_info</th>\n",
       "      <th>duration_month</th>\n",
       "      <th>credit_history</th>\n",
       "      <th>purpose</th>\n",
       "      <th>credit_amount</th>\n",
       "      <th>savings_account</th>\n",
       "      <th>employment_st</th>\n",
       "      <th>poi</th>\n",
       "      <th>personal_status</th>\n",
       "      <th>...</th>\n",
       "      <th>resident_since</th>\n",
       "      <th>property_type</th>\n",
       "      <th>age</th>\n",
       "      <th>installment_type</th>\n",
       "      <th>housing_type</th>\n",
       "      <th>credits_no</th>\n",
       "      <th>job_type</th>\n",
       "      <th>liables</th>\n",
       "      <th>telephone</th>\n",
       "      <th>foreigner</th>\n",
       "    </tr>\n",
       "  </thead>\n",
       "  <tbody>\n",
       "    <tr>\n",
       "      <th>0</th>\n",
       "      <td>1</td>\n",
       "      <td>A11</td>\n",
       "      <td>6</td>\n",
       "      <td>A34</td>\n",
       "      <td>A43</td>\n",
       "      <td>1169</td>\n",
       "      <td>A65</td>\n",
       "      <td>A75</td>\n",
       "      <td>4</td>\n",
       "      <td>A93</td>\n",
       "      <td>...</td>\n",
       "      <td>4</td>\n",
       "      <td>A121</td>\n",
       "      <td>67</td>\n",
       "      <td>A143</td>\n",
       "      <td>A152</td>\n",
       "      <td>2</td>\n",
       "      <td>A173</td>\n",
       "      <td>1</td>\n",
       "      <td>A192</td>\n",
       "      <td>A201</td>\n",
       "    </tr>\n",
       "    <tr>\n",
       "      <th>1</th>\n",
       "      <td>2</td>\n",
       "      <td>A12</td>\n",
       "      <td>48</td>\n",
       "      <td>A32</td>\n",
       "      <td>A43</td>\n",
       "      <td>5951</td>\n",
       "      <td>A61</td>\n",
       "      <td>A73</td>\n",
       "      <td>2</td>\n",
       "      <td>A92</td>\n",
       "      <td>...</td>\n",
       "      <td>2</td>\n",
       "      <td>A121</td>\n",
       "      <td>22</td>\n",
       "      <td>A143</td>\n",
       "      <td>A152</td>\n",
       "      <td>1</td>\n",
       "      <td>A173</td>\n",
       "      <td>1</td>\n",
       "      <td>A191</td>\n",
       "      <td>A201</td>\n",
       "    </tr>\n",
       "    <tr>\n",
       "      <th>2</th>\n",
       "      <td>3</td>\n",
       "      <td>A14</td>\n",
       "      <td>12</td>\n",
       "      <td>A34</td>\n",
       "      <td>A46</td>\n",
       "      <td>2096</td>\n",
       "      <td>A61</td>\n",
       "      <td>A74</td>\n",
       "      <td>2</td>\n",
       "      <td>A93</td>\n",
       "      <td>...</td>\n",
       "      <td>3</td>\n",
       "      <td>A121</td>\n",
       "      <td>49</td>\n",
       "      <td>A143</td>\n",
       "      <td>A152</td>\n",
       "      <td>1</td>\n",
       "      <td>A172</td>\n",
       "      <td>2</td>\n",
       "      <td>A191</td>\n",
       "      <td>A201</td>\n",
       "    </tr>\n",
       "    <tr>\n",
       "      <th>3</th>\n",
       "      <td>4</td>\n",
       "      <td>A11</td>\n",
       "      <td>42</td>\n",
       "      <td>A32</td>\n",
       "      <td>A42</td>\n",
       "      <td>7882</td>\n",
       "      <td>A61</td>\n",
       "      <td>A74</td>\n",
       "      <td>2</td>\n",
       "      <td>A93</td>\n",
       "      <td>...</td>\n",
       "      <td>4</td>\n",
       "      <td>A122</td>\n",
       "      <td>45</td>\n",
       "      <td>A143</td>\n",
       "      <td>A153</td>\n",
       "      <td>1</td>\n",
       "      <td>A173</td>\n",
       "      <td>2</td>\n",
       "      <td>A191</td>\n",
       "      <td>A201</td>\n",
       "    </tr>\n",
       "    <tr>\n",
       "      <th>4</th>\n",
       "      <td>5</td>\n",
       "      <td>A11</td>\n",
       "      <td>24</td>\n",
       "      <td>A33</td>\n",
       "      <td>A40</td>\n",
       "      <td>4870</td>\n",
       "      <td>A61</td>\n",
       "      <td>A73</td>\n",
       "      <td>3</td>\n",
       "      <td>A93</td>\n",
       "      <td>...</td>\n",
       "      <td>4</td>\n",
       "      <td>A124</td>\n",
       "      <td>53</td>\n",
       "      <td>A143</td>\n",
       "      <td>A153</td>\n",
       "      <td>2</td>\n",
       "      <td>A173</td>\n",
       "      <td>2</td>\n",
       "      <td>A191</td>\n",
       "      <td>A201</td>\n",
       "    </tr>\n",
       "  </tbody>\n",
       "</table>\n",
       "<p>5 rows × 21 columns</p>\n",
       "</div>"
      ],
      "text/plain": [
       "   serial number account_info  duration_month credit_history purpose  \\\n",
       "0              1          A11               6            A34     A43   \n",
       "1              2          A12              48            A32     A43   \n",
       "2              3          A14              12            A34     A46   \n",
       "3              4          A11              42            A32     A42   \n",
       "4              5          A11              24            A33     A40   \n",
       "\n",
       "   credit_amount savings_account employment_st  poi personal_status    ...     \\\n",
       "0           1169             A65           A75    4             A93    ...      \n",
       "1           5951             A61           A73    2             A92    ...      \n",
       "2           2096             A61           A74    2             A93    ...      \n",
       "3           7882             A61           A74    2             A93    ...      \n",
       "4           4870             A61           A73    3             A93    ...      \n",
       "\n",
       "  resident_since  property_type age  installment_type housing_type credits_no  \\\n",
       "0              4           A121  67              A143         A152          2   \n",
       "1              2           A121  22              A143         A152          1   \n",
       "2              3           A121  49              A143         A152          1   \n",
       "3              4           A122  45              A143         A153          1   \n",
       "4              4           A124  53              A143         A153          2   \n",
       "\n",
       "   job_type liables  telephone foreigner  \n",
       "0      A173       1       A192      A201  \n",
       "1      A173       1       A191      A201  \n",
       "2      A172       2       A191      A201  \n",
       "3      A173       2       A191      A201  \n",
       "4      A173       2       A191      A201  \n",
       "\n",
       "[5 rows x 21 columns]"
      ]
     },
     "execution_count": 5,
     "metadata": {},
     "output_type": "execute_result"
    }
   ],
   "source": [
    "\n",
    "df = read_csv_file('train.csv')\n",
    "df.head()\n"
   ]
  },
  {
   "cell_type": "code",
   "execution_count": 8,
   "metadata": {},
   "outputs": [
    {
     "data": {
      "text/plain": [
       "array(['A11', 'A12', 'A14', 'A13'], dtype=object)"
      ]
     },
     "execution_count": 8,
     "metadata": {},
     "output_type": "execute_result"
    }
   ],
   "source": [
    "df['account_info'].unique()"
   ]
  },
  {
   "cell_type": "code",
   "execution_count": 9,
   "metadata": {},
   "outputs": [
    {
     "data": {
      "text/plain": [
       "array(['A34', 'A32', 'A33', 'A30', 'A31'], dtype=object)"
      ]
     },
     "execution_count": 9,
     "metadata": {},
     "output_type": "execute_result"
    }
   ],
   "source": [
    "df['credit_history'].unique()"
   ]
  },
  {
   "cell_type": "code",
   "execution_count": 10,
   "metadata": {},
   "outputs": [
    {
     "data": {
      "text/plain": [
       "array(['A43', 'A46', 'A42', 'A40', 'A41', 'A49', 'A44', 'A45', 'A410',\n",
       "       'A48'], dtype=object)"
      ]
     },
     "execution_count": 10,
     "metadata": {},
     "output_type": "execute_result"
    }
   ],
   "source": [
    "df['purpose'].unique()"
   ]
  },
  {
   "cell_type": "code",
   "execution_count": 11,
   "metadata": {},
   "outputs": [
    {
     "data": {
      "text/plain": [
       "array(['A65', 'A61', 'A63', 'A64', 'A62'], dtype=object)"
      ]
     },
     "execution_count": 11,
     "metadata": {},
     "output_type": "execute_result"
    }
   ],
   "source": [
    "df['savings_account'].unique()"
   ]
  },
  {
   "cell_type": "code",
   "execution_count": 12,
   "metadata": {},
   "outputs": [
    {
     "data": {
      "text/plain": [
       "array(['A75', 'A73', 'A74', 'A71', 'A72'], dtype=object)"
      ]
     },
     "execution_count": 12,
     "metadata": {},
     "output_type": "execute_result"
    }
   ],
   "source": [
    "df['employment_st'].unique()"
   ]
  },
  {
   "cell_type": "code",
   "execution_count": 21,
   "metadata": {},
   "outputs": [
    {
     "name": "stdout",
     "output_type": "stream",
     "text": [
      "<class 'pandas.core.frame.DataFrame'>\n",
      "RangeIndex: 800 entries, 0 to 799\n",
      "Data columns (total 21 columns):\n",
      "serial number       800 non-null int64\n",
      "account_info        800 non-null object\n",
      "duration_month      800 non-null int64\n",
      "credit_history      800 non-null object\n",
      "purpose             800 non-null object\n",
      "credit_amount       800 non-null int64\n",
      "savings_account     800 non-null object\n",
      "employment_st       800 non-null object\n",
      "poi                 800 non-null int64\n",
      "personal_status     800 non-null object\n",
      "gurantors           800 non-null object\n",
      "resident_since      800 non-null int64\n",
      "property_type       800 non-null object\n",
      "age                 800 non-null int64\n",
      "installment_type    800 non-null object\n",
      "housing_type        800 non-null object\n",
      "credits_no          800 non-null int64\n",
      "job_type            800 non-null object\n",
      "liables             800 non-null int64\n",
      "telephone           800 non-null object\n",
      "foreigner           800 non-null object\n",
      "dtypes: int64(8), object(13)\n",
      "memory usage: 131.3+ KB\n"
     ]
    }
   ],
   "source": [
    "df.info()"
   ]
  },
  {
   "cell_type": "code",
   "execution_count": 32,
   "metadata": {},
   "outputs": [
    {
     "data": {
      "text/plain": [
       "21"
      ]
     },
     "execution_count": 32,
     "metadata": {},
     "output_type": "execute_result"
    }
   ],
   "source": [
    "fil_cols = [ 'account_info' , 'credit_history' , 'purpose' , 'savings_account', 'employment_st', 'personal_status', 'gurantors', 'property_type' ,'installment_type' ,'housing_type' ,'job_type', 'telephone' , 'foreigner' , 'serial number' , 'duration_month',  'poi' , 'resident_since' , 'age', 'credits_no', 'liables', 'credit_amount']\n",
    "len(fil_cols)"
   ]
  },
  {
   "cell_type": "code",
   "execution_count": 39,
   "metadata": {},
   "outputs": [],
   "source": [
    "def reorder_columns(fil_cols, df):\n",
    "    df =df[fil_cols]\n",
    "    return df"
   ]
  },
  {
   "cell_type": "code",
   "execution_count": 40,
   "metadata": {},
   "outputs": [],
   "source": [
    "df =reorder_columns(fil_cols, df)"
   ]
  },
  {
   "cell_type": "code",
   "execution_count": 41,
   "metadata": {},
   "outputs": [
    {
     "data": {
      "text/html": [
       "<div>\n",
       "<style scoped>\n",
       "    .dataframe tbody tr th:only-of-type {\n",
       "        vertical-align: middle;\n",
       "    }\n",
       "\n",
       "    .dataframe tbody tr th {\n",
       "        vertical-align: top;\n",
       "    }\n",
       "\n",
       "    .dataframe thead th {\n",
       "        text-align: right;\n",
       "    }\n",
       "</style>\n",
       "<table border=\"1\" class=\"dataframe\">\n",
       "  <thead>\n",
       "    <tr style=\"text-align: right;\">\n",
       "      <th></th>\n",
       "      <th>account_info</th>\n",
       "      <th>credit_history</th>\n",
       "      <th>purpose</th>\n",
       "      <th>savings_account</th>\n",
       "      <th>employment_st</th>\n",
       "      <th>personal_status</th>\n",
       "      <th>gurantors</th>\n",
       "      <th>property_type</th>\n",
       "      <th>installment_type</th>\n",
       "      <th>housing_type</th>\n",
       "      <th>...</th>\n",
       "      <th>telephone</th>\n",
       "      <th>foreigner</th>\n",
       "      <th>serial number</th>\n",
       "      <th>duration_month</th>\n",
       "      <th>poi</th>\n",
       "      <th>resident_since</th>\n",
       "      <th>age</th>\n",
       "      <th>credits_no</th>\n",
       "      <th>liables</th>\n",
       "      <th>credit_amount</th>\n",
       "    </tr>\n",
       "  </thead>\n",
       "  <tbody>\n",
       "    <tr>\n",
       "      <th>0</th>\n",
       "      <td>A11</td>\n",
       "      <td>A34</td>\n",
       "      <td>A43</td>\n",
       "      <td>A65</td>\n",
       "      <td>A75</td>\n",
       "      <td>A93</td>\n",
       "      <td>A101</td>\n",
       "      <td>A121</td>\n",
       "      <td>A143</td>\n",
       "      <td>A152</td>\n",
       "      <td>...</td>\n",
       "      <td>A192</td>\n",
       "      <td>A201</td>\n",
       "      <td>1</td>\n",
       "      <td>6</td>\n",
       "      <td>4</td>\n",
       "      <td>4</td>\n",
       "      <td>67</td>\n",
       "      <td>2</td>\n",
       "      <td>1</td>\n",
       "      <td>1169</td>\n",
       "    </tr>\n",
       "    <tr>\n",
       "      <th>1</th>\n",
       "      <td>A12</td>\n",
       "      <td>A32</td>\n",
       "      <td>A43</td>\n",
       "      <td>A61</td>\n",
       "      <td>A73</td>\n",
       "      <td>A92</td>\n",
       "      <td>A101</td>\n",
       "      <td>A121</td>\n",
       "      <td>A143</td>\n",
       "      <td>A152</td>\n",
       "      <td>...</td>\n",
       "      <td>A191</td>\n",
       "      <td>A201</td>\n",
       "      <td>2</td>\n",
       "      <td>48</td>\n",
       "      <td>2</td>\n",
       "      <td>2</td>\n",
       "      <td>22</td>\n",
       "      <td>1</td>\n",
       "      <td>1</td>\n",
       "      <td>5951</td>\n",
       "    </tr>\n",
       "    <tr>\n",
       "      <th>2</th>\n",
       "      <td>A14</td>\n",
       "      <td>A34</td>\n",
       "      <td>A46</td>\n",
       "      <td>A61</td>\n",
       "      <td>A74</td>\n",
       "      <td>A93</td>\n",
       "      <td>A101</td>\n",
       "      <td>A121</td>\n",
       "      <td>A143</td>\n",
       "      <td>A152</td>\n",
       "      <td>...</td>\n",
       "      <td>A191</td>\n",
       "      <td>A201</td>\n",
       "      <td>3</td>\n",
       "      <td>12</td>\n",
       "      <td>2</td>\n",
       "      <td>3</td>\n",
       "      <td>49</td>\n",
       "      <td>1</td>\n",
       "      <td>2</td>\n",
       "      <td>2096</td>\n",
       "    </tr>\n",
       "    <tr>\n",
       "      <th>3</th>\n",
       "      <td>A11</td>\n",
       "      <td>A32</td>\n",
       "      <td>A42</td>\n",
       "      <td>A61</td>\n",
       "      <td>A74</td>\n",
       "      <td>A93</td>\n",
       "      <td>A103</td>\n",
       "      <td>A122</td>\n",
       "      <td>A143</td>\n",
       "      <td>A153</td>\n",
       "      <td>...</td>\n",
       "      <td>A191</td>\n",
       "      <td>A201</td>\n",
       "      <td>4</td>\n",
       "      <td>42</td>\n",
       "      <td>2</td>\n",
       "      <td>4</td>\n",
       "      <td>45</td>\n",
       "      <td>1</td>\n",
       "      <td>2</td>\n",
       "      <td>7882</td>\n",
       "    </tr>\n",
       "    <tr>\n",
       "      <th>4</th>\n",
       "      <td>A11</td>\n",
       "      <td>A33</td>\n",
       "      <td>A40</td>\n",
       "      <td>A61</td>\n",
       "      <td>A73</td>\n",
       "      <td>A93</td>\n",
       "      <td>A101</td>\n",
       "      <td>A124</td>\n",
       "      <td>A143</td>\n",
       "      <td>A153</td>\n",
       "      <td>...</td>\n",
       "      <td>A191</td>\n",
       "      <td>A201</td>\n",
       "      <td>5</td>\n",
       "      <td>24</td>\n",
       "      <td>3</td>\n",
       "      <td>4</td>\n",
       "      <td>53</td>\n",
       "      <td>2</td>\n",
       "      <td>2</td>\n",
       "      <td>4870</td>\n",
       "    </tr>\n",
       "  </tbody>\n",
       "</table>\n",
       "<p>5 rows × 21 columns</p>\n",
       "</div>"
      ],
      "text/plain": [
       "  account_info credit_history purpose savings_account employment_st  \\\n",
       "0          A11            A34     A43             A65           A75   \n",
       "1          A12            A32     A43             A61           A73   \n",
       "2          A14            A34     A46             A61           A74   \n",
       "3          A11            A32     A42             A61           A74   \n",
       "4          A11            A33     A40             A61           A73   \n",
       "\n",
       "  personal_status gurantors property_type installment_type housing_type  \\\n",
       "0             A93      A101          A121             A143         A152   \n",
       "1             A92      A101          A121             A143         A152   \n",
       "2             A93      A101          A121             A143         A152   \n",
       "3             A93      A103          A122             A143         A153   \n",
       "4             A93      A101          A124             A143         A153   \n",
       "\n",
       "       ...       telephone foreigner serial number  duration_month  poi  \\\n",
       "0      ...            A192      A201             1               6    4   \n",
       "1      ...            A191      A201             2              48    2   \n",
       "2      ...            A191      A201             3              12    2   \n",
       "3      ...            A191      A201             4              42    2   \n",
       "4      ...            A191      A201             5              24    3   \n",
       "\n",
       "   resident_since  age  credits_no  liables  credit_amount  \n",
       "0               4   67           2        1           1169  \n",
       "1               2   22           1        1           5951  \n",
       "2               3   49           1        2           2096  \n",
       "3               4   45           1        2           7882  \n",
       "4               4   53           2        2           4870  \n",
       "\n",
       "[5 rows x 21 columns]"
      ]
     },
     "execution_count": 41,
     "metadata": {},
     "output_type": "execute_result"
    }
   ],
   "source": [
    "df.head()"
   ]
  },
  {
   "cell_type": "code",
   "execution_count": 36,
   "metadata": {},
   "outputs": [],
   "source": [
    "def drop_columns(df , columns):\n",
    "    new_df = df.drop(columns =columns, axis = 1)\n",
    "    return new_df"
   ]
  },
  {
   "cell_type": "code",
   "execution_count": 38,
   "metadata": {},
   "outputs": [
    {
     "name": "stdout",
     "output_type": "stream",
     "text": [
      "<class 'pandas.core.frame.DataFrame'>\n",
      "RangeIndex: 800 entries, 0 to 799\n",
      "Data columns (total 20 columns):\n",
      "account_info        800 non-null object\n",
      "credit_history      800 non-null object\n",
      "purpose             800 non-null object\n",
      "savings_account     800 non-null object\n",
      "employment_st       800 non-null object\n",
      "personal_status     800 non-null object\n",
      "gurantors           800 non-null object\n",
      "property_type       800 non-null object\n",
      "installment_type    800 non-null object\n",
      "housing_type        800 non-null object\n",
      "job_type            800 non-null object\n",
      "telephone           800 non-null object\n",
      "foreigner           800 non-null object\n",
      "duration_month      800 non-null int64\n",
      "poi                 800 non-null int64\n",
      "resident_since      800 non-null int64\n",
      "age                 800 non-null int64\n",
      "credits_no          800 non-null int64\n",
      "liables             800 non-null int64\n",
      "credit_amount       800 non-null int64\n",
      "dtypes: int64(7), object(13)\n",
      "memory usage: 125.1+ KB\n"
     ]
    }
   ],
   "source": [
    "columns_to_be_dropped = ['serial number']\n",
    "new_df = drop_columns(df, columns_to_be_dropped)\n",
    "new_df.head()\n",
    "new_df.info()"
   ]
  },
  {
   "cell_type": "code",
   "execution_count": 6,
   "metadata": {},
   "outputs": [
    {
     "data": {
      "text/plain": [
       "department                 0\n",
       "region                     0\n",
       "education               2409\n",
       "gender                     0\n",
       "recruitment_channel        0\n",
       "no_of_trainings            0\n",
       "age                        0\n",
       "previous_year_rating    4124\n",
       "length_of_service          0\n",
       "KPIs_met >80%              0\n",
       "awards_won?                0\n",
       "avg_training_score         0\n",
       "is_promoted                0\n",
       "dtype: int64"
      ]
     },
     "execution_count": 6,
     "metadata": {},
     "output_type": "execute_result"
    }
   ],
   "source": [
    "new_df.isnull().sum()"
   ]
  },
  {
   "cell_type": "code",
   "execution_count": 7,
   "metadata": {},
   "outputs": [
    {
     "data": {
      "text/html": [
       "<div>\n",
       "<style scoped>\n",
       "    .dataframe tbody tr th:only-of-type {\n",
       "        vertical-align: middle;\n",
       "    }\n",
       "\n",
       "    .dataframe tbody tr th {\n",
       "        vertical-align: top;\n",
       "    }\n",
       "\n",
       "    .dataframe thead th {\n",
       "        text-align: right;\n",
       "    }\n",
       "</style>\n",
       "<table border=\"1\" class=\"dataframe\">\n",
       "  <thead>\n",
       "    <tr style=\"text-align: right;\">\n",
       "      <th></th>\n",
       "      <th></th>\n",
       "      <th>no_of_trainings</th>\n",
       "      <th>age</th>\n",
       "      <th>previous_year_rating</th>\n",
       "      <th>length_of_service</th>\n",
       "      <th>KPIs_met &gt;80%</th>\n",
       "      <th>awards_won?</th>\n",
       "      <th>avg_training_score</th>\n",
       "      <th>is_promoted</th>\n",
       "    </tr>\n",
       "    <tr>\n",
       "      <th>education</th>\n",
       "      <th>department</th>\n",
       "      <th></th>\n",
       "      <th></th>\n",
       "      <th></th>\n",
       "      <th></th>\n",
       "      <th></th>\n",
       "      <th></th>\n",
       "      <th></th>\n",
       "      <th></th>\n",
       "    </tr>\n",
       "  </thead>\n",
       "  <tbody>\n",
       "    <tr>\n",
       "      <th rowspan=\"9\" valign=\"top\">Bachelor's</th>\n",
       "      <th>Analytics</th>\n",
       "      <td>1.355455</td>\n",
       "      <td>31.569130</td>\n",
       "      <td>3.545834</td>\n",
       "      <td>4.609100</td>\n",
       "      <td>0.410256</td>\n",
       "      <td>0.023630</td>\n",
       "      <td>84.558824</td>\n",
       "      <td>0.093766</td>\n",
       "    </tr>\n",
       "    <tr>\n",
       "      <th>Finance</th>\n",
       "      <td>1.308179</td>\n",
       "      <td>31.201055</td>\n",
       "      <td>3.498191</td>\n",
       "      <td>4.431135</td>\n",
       "      <td>0.428496</td>\n",
       "      <td>0.027441</td>\n",
       "      <td>60.222164</td>\n",
       "      <td>0.082850</td>\n",
       "    </tr>\n",
       "    <tr>\n",
       "      <th>HR</th>\n",
       "      <td>1.055082</td>\n",
       "      <td>32.470820</td>\n",
       "      <td>3.413254</td>\n",
       "      <td>4.896393</td>\n",
       "      <td>0.338361</td>\n",
       "      <td>0.018361</td>\n",
       "      <td>49.973115</td>\n",
       "      <td>0.047213</td>\n",
       "    </tr>\n",
       "    <tr>\n",
       "      <th>Legal</th>\n",
       "      <td>1.088452</td>\n",
       "      <td>32.764128</td>\n",
       "      <td>3.387481</td>\n",
       "      <td>4.217445</td>\n",
       "      <td>0.334152</td>\n",
       "      <td>0.025799</td>\n",
       "      <td>59.868550</td>\n",
       "      <td>0.052826</td>\n",
       "    </tr>\n",
       "    <tr>\n",
       "      <th>Operations</th>\n",
       "      <td>1.169644</td>\n",
       "      <td>34.721887</td>\n",
       "      <td>3.621540</td>\n",
       "      <td>5.926745</td>\n",
       "      <td>0.430022</td>\n",
       "      <td>0.022619</td>\n",
       "      <td>60.111939</td>\n",
       "      <td>0.083151</td>\n",
       "    </tr>\n",
       "    <tr>\n",
       "      <th>Procurement</th>\n",
       "      <td>1.369224</td>\n",
       "      <td>33.778284</td>\n",
       "      <td>3.273020</td>\n",
       "      <td>5.503756</td>\n",
       "      <td>0.374687</td>\n",
       "      <td>0.024812</td>\n",
       "      <td>70.063282</td>\n",
       "      <td>0.088322</td>\n",
       "    </tr>\n",
       "    <tr>\n",
       "      <th>R&amp;D</th>\n",
       "      <td>1.444649</td>\n",
       "      <td>31.915129</td>\n",
       "      <td>3.533333</td>\n",
       "      <td>4.234317</td>\n",
       "      <td>0.404059</td>\n",
       "      <td>0.029520</td>\n",
       "      <td>84.607011</td>\n",
       "      <td>0.068266</td>\n",
       "    </tr>\n",
       "    <tr>\n",
       "      <th>Sales &amp; Marketing</th>\n",
       "      <td>1.299577</td>\n",
       "      <td>33.937562</td>\n",
       "      <td>3.064602</td>\n",
       "      <td>5.542211</td>\n",
       "      <td>0.265880</td>\n",
       "      <td>0.021173</td>\n",
       "      <td>50.233444</td>\n",
       "      <td>0.071538</td>\n",
       "    </tr>\n",
       "    <tr>\n",
       "      <th>Technology</th>\n",
       "      <td>1.273804</td>\n",
       "      <td>32.954976</td>\n",
       "      <td>3.161114</td>\n",
       "      <td>5.222964</td>\n",
       "      <td>0.345756</td>\n",
       "      <td>0.027143</td>\n",
       "      <td>79.980181</td>\n",
       "      <td>0.107066</td>\n",
       "    </tr>\n",
       "    <tr>\n",
       "      <th rowspan=\"6\" valign=\"top\">Below Secondary</th>\n",
       "      <th>Finance</th>\n",
       "      <td>1.358491</td>\n",
       "      <td>23.933962</td>\n",
       "      <td>3.515152</td>\n",
       "      <td>1.745283</td>\n",
       "      <td>0.433962</td>\n",
       "      <td>0.037736</td>\n",
       "      <td>59.820755</td>\n",
       "      <td>0.056604</td>\n",
       "    </tr>\n",
       "    <tr>\n",
       "      <th>HR</th>\n",
       "      <td>1.046875</td>\n",
       "      <td>22.757812</td>\n",
       "      <td>3.573529</td>\n",
       "      <td>1.570312</td>\n",
       "      <td>0.382812</td>\n",
       "      <td>0.007812</td>\n",
       "      <td>49.812500</td>\n",
       "      <td>0.070312</td>\n",
       "    </tr>\n",
       "    <tr>\n",
       "      <th>Legal</th>\n",
       "      <td>1.123077</td>\n",
       "      <td>26.307692</td>\n",
       "      <td>3.875000</td>\n",
       "      <td>1.707692</td>\n",
       "      <td>0.369231</td>\n",
       "      <td>0.000000</td>\n",
       "      <td>60.353846</td>\n",
       "      <td>0.061538</td>\n",
       "    </tr>\n",
       "    <tr>\n",
       "      <th>Operations</th>\n",
       "      <td>1.187500</td>\n",
       "      <td>24.215909</td>\n",
       "      <td>3.555556</td>\n",
       "      <td>1.840909</td>\n",
       "      <td>0.329545</td>\n",
       "      <td>0.011364</td>\n",
       "      <td>59.710227</td>\n",
       "      <td>0.062500</td>\n",
       "    </tr>\n",
       "    <tr>\n",
       "      <th>Procurement</th>\n",
       "      <td>1.519380</td>\n",
       "      <td>23.496124</td>\n",
       "      <td>3.217391</td>\n",
       "      <td>1.674419</td>\n",
       "      <td>0.372093</td>\n",
       "      <td>0.007752</td>\n",
       "      <td>69.775194</td>\n",
       "      <td>0.046512</td>\n",
       "    </tr>\n",
       "    <tr>\n",
       "      <th>Technology</th>\n",
       "      <td>1.348259</td>\n",
       "      <td>23.557214</td>\n",
       "      <td>3.413793</td>\n",
       "      <td>1.666667</td>\n",
       "      <td>0.482587</td>\n",
       "      <td>0.029851</td>\n",
       "      <td>80.174129</td>\n",
       "      <td>0.154229</td>\n",
       "    </tr>\n",
       "    <tr>\n",
       "      <th rowspan=\"9\" valign=\"top\">Master's &amp; above</th>\n",
       "      <th>Analytics</th>\n",
       "      <td>1.295082</td>\n",
       "      <td>36.929605</td>\n",
       "      <td>3.611166</td>\n",
       "      <td>6.633558</td>\n",
       "      <td>0.391514</td>\n",
       "      <td>0.025072</td>\n",
       "      <td>84.740598</td>\n",
       "      <td>0.108968</td>\n",
       "    </tr>\n",
       "    <tr>\n",
       "      <th>Finance</th>\n",
       "      <td>1.288577</td>\n",
       "      <td>36.949900</td>\n",
       "      <td>3.535354</td>\n",
       "      <td>6.953908</td>\n",
       "      <td>0.376754</td>\n",
       "      <td>0.026052</td>\n",
       "      <td>60.356713</td>\n",
       "      <td>0.086172</td>\n",
       "    </tr>\n",
       "    <tr>\n",
       "      <th>HR</th>\n",
       "      <td>1.053206</td>\n",
       "      <td>40.407913</td>\n",
       "      <td>3.607387</td>\n",
       "      <td>8.027285</td>\n",
       "      <td>0.326057</td>\n",
       "      <td>0.021828</td>\n",
       "      <td>50.193724</td>\n",
       "      <td>0.073670</td>\n",
       "    </tr>\n",
       "    <tr>\n",
       "      <th>Legal</th>\n",
       "      <td>1.083333</td>\n",
       "      <td>42.480769</td>\n",
       "      <td>3.352564</td>\n",
       "      <td>7.820513</td>\n",
       "      <td>0.314103</td>\n",
       "      <td>0.025641</td>\n",
       "      <td>59.743590</td>\n",
       "      <td>0.038462</td>\n",
       "    </tr>\n",
       "    <tr>\n",
       "      <th>Operations</th>\n",
       "      <td>1.144076</td>\n",
       "      <td>40.170616</td>\n",
       "      <td>3.664762</td>\n",
       "      <td>7.941548</td>\n",
       "      <td>0.447393</td>\n",
       "      <td>0.025592</td>\n",
       "      <td>60.581043</td>\n",
       "      <td>0.113112</td>\n",
       "    </tr>\n",
       "    <tr>\n",
       "      <th>Procurement</th>\n",
       "      <td>1.234670</td>\n",
       "      <td>40.175314</td>\n",
       "      <td>3.344392</td>\n",
       "      <td>7.986635</td>\n",
       "      <td>0.385220</td>\n",
       "      <td>0.023585</td>\n",
       "      <td>70.244890</td>\n",
       "      <td>0.115173</td>\n",
       "    </tr>\n",
       "    <tr>\n",
       "      <th>R&amp;D</th>\n",
       "      <td>1.351981</td>\n",
       "      <td>34.414918</td>\n",
       "      <td>3.610553</td>\n",
       "      <td>5.109557</td>\n",
       "      <td>0.442890</td>\n",
       "      <td>0.011655</td>\n",
       "      <td>84.645688</td>\n",
       "      <td>0.069930</td>\n",
       "    </tr>\n",
       "    <tr>\n",
       "      <th>Sales &amp; Marketing</th>\n",
       "      <td>1.253000</td>\n",
       "      <td>39.048008</td>\n",
       "      <td>3.106512</td>\n",
       "      <td>7.526164</td>\n",
       "      <td>0.281325</td>\n",
       "      <td>0.021123</td>\n",
       "      <td>50.409506</td>\n",
       "      <td>0.082093</td>\n",
       "    </tr>\n",
       "    <tr>\n",
       "      <th>Technology</th>\n",
       "      <td>1.232240</td>\n",
       "      <td>39.878871</td>\n",
       "      <td>3.150183</td>\n",
       "      <td>7.767304</td>\n",
       "      <td>0.334699</td>\n",
       "      <td>0.022769</td>\n",
       "      <td>79.802823</td>\n",
       "      <td>0.105647</td>\n",
       "    </tr>\n",
       "  </tbody>\n",
       "</table>\n",
       "</div>"
      ],
      "text/plain": [
       "                                    no_of_trainings        age  \\\n",
       "education        department                                      \n",
       "Bachelor's       Analytics                 1.355455  31.569130   \n",
       "                 Finance                   1.308179  31.201055   \n",
       "                 HR                        1.055082  32.470820   \n",
       "                 Legal                     1.088452  32.764128   \n",
       "                 Operations                1.169644  34.721887   \n",
       "                 Procurement               1.369224  33.778284   \n",
       "                 R&D                       1.444649  31.915129   \n",
       "                 Sales & Marketing         1.299577  33.937562   \n",
       "                 Technology                1.273804  32.954976   \n",
       "Below Secondary  Finance                   1.358491  23.933962   \n",
       "                 HR                        1.046875  22.757812   \n",
       "                 Legal                     1.123077  26.307692   \n",
       "                 Operations                1.187500  24.215909   \n",
       "                 Procurement               1.519380  23.496124   \n",
       "                 Technology                1.348259  23.557214   \n",
       "Master's & above Analytics                 1.295082  36.929605   \n",
       "                 Finance                   1.288577  36.949900   \n",
       "                 HR                        1.053206  40.407913   \n",
       "                 Legal                     1.083333  42.480769   \n",
       "                 Operations                1.144076  40.170616   \n",
       "                 Procurement               1.234670  40.175314   \n",
       "                 R&D                       1.351981  34.414918   \n",
       "                 Sales & Marketing         1.253000  39.048008   \n",
       "                 Technology                1.232240  39.878871   \n",
       "\n",
       "                                    previous_year_rating  length_of_service  \\\n",
       "education        department                                                   \n",
       "Bachelor's       Analytics                      3.545834           4.609100   \n",
       "                 Finance                        3.498191           4.431135   \n",
       "                 HR                             3.413254           4.896393   \n",
       "                 Legal                          3.387481           4.217445   \n",
       "                 Operations                     3.621540           5.926745   \n",
       "                 Procurement                    3.273020           5.503756   \n",
       "                 R&D                            3.533333           4.234317   \n",
       "                 Sales & Marketing              3.064602           5.542211   \n",
       "                 Technology                     3.161114           5.222964   \n",
       "Below Secondary  Finance                        3.515152           1.745283   \n",
       "                 HR                             3.573529           1.570312   \n",
       "                 Legal                          3.875000           1.707692   \n",
       "                 Operations                     3.555556           1.840909   \n",
       "                 Procurement                    3.217391           1.674419   \n",
       "                 Technology                     3.413793           1.666667   \n",
       "Master's & above Analytics                      3.611166           6.633558   \n",
       "                 Finance                        3.535354           6.953908   \n",
       "                 HR                             3.607387           8.027285   \n",
       "                 Legal                          3.352564           7.820513   \n",
       "                 Operations                     3.664762           7.941548   \n",
       "                 Procurement                    3.344392           7.986635   \n",
       "                 R&D                            3.610553           5.109557   \n",
       "                 Sales & Marketing              3.106512           7.526164   \n",
       "                 Technology                     3.150183           7.767304   \n",
       "\n",
       "                                    KPIs_met >80%  awards_won?  \\\n",
       "education        department                                      \n",
       "Bachelor's       Analytics               0.410256     0.023630   \n",
       "                 Finance                 0.428496     0.027441   \n",
       "                 HR                      0.338361     0.018361   \n",
       "                 Legal                   0.334152     0.025799   \n",
       "                 Operations              0.430022     0.022619   \n",
       "                 Procurement             0.374687     0.024812   \n",
       "                 R&D                     0.404059     0.029520   \n",
       "                 Sales & Marketing       0.265880     0.021173   \n",
       "                 Technology              0.345756     0.027143   \n",
       "Below Secondary  Finance                 0.433962     0.037736   \n",
       "                 HR                      0.382812     0.007812   \n",
       "                 Legal                   0.369231     0.000000   \n",
       "                 Operations              0.329545     0.011364   \n",
       "                 Procurement             0.372093     0.007752   \n",
       "                 Technology              0.482587     0.029851   \n",
       "Master's & above Analytics               0.391514     0.025072   \n",
       "                 Finance                 0.376754     0.026052   \n",
       "                 HR                      0.326057     0.021828   \n",
       "                 Legal                   0.314103     0.025641   \n",
       "                 Operations              0.447393     0.025592   \n",
       "                 Procurement             0.385220     0.023585   \n",
       "                 R&D                     0.442890     0.011655   \n",
       "                 Sales & Marketing       0.281325     0.021123   \n",
       "                 Technology              0.334699     0.022769   \n",
       "\n",
       "                                    avg_training_score  is_promoted  \n",
       "education        department                                          \n",
       "Bachelor's       Analytics                   84.558824     0.093766  \n",
       "                 Finance                     60.222164     0.082850  \n",
       "                 HR                          49.973115     0.047213  \n",
       "                 Legal                       59.868550     0.052826  \n",
       "                 Operations                  60.111939     0.083151  \n",
       "                 Procurement                 70.063282     0.088322  \n",
       "                 R&D                         84.607011     0.068266  \n",
       "                 Sales & Marketing           50.233444     0.071538  \n",
       "                 Technology                  79.980181     0.107066  \n",
       "Below Secondary  Finance                     59.820755     0.056604  \n",
       "                 HR                          49.812500     0.070312  \n",
       "                 Legal                       60.353846     0.061538  \n",
       "                 Operations                  59.710227     0.062500  \n",
       "                 Procurement                 69.775194     0.046512  \n",
       "                 Technology                  80.174129     0.154229  \n",
       "Master's & above Analytics                   84.740598     0.108968  \n",
       "                 Finance                     60.356713     0.086172  \n",
       "                 HR                          50.193724     0.073670  \n",
       "                 Legal                       59.743590     0.038462  \n",
       "                 Operations                  60.581043     0.113112  \n",
       "                 Procurement                 70.244890     0.115173  \n",
       "                 R&D                         84.645688     0.069930  \n",
       "                 Sales & Marketing           50.409506     0.082093  \n",
       "                 Technology                  79.802823     0.105647  "
      ]
     },
     "execution_count": 7,
     "metadata": {},
     "output_type": "execute_result"
    }
   ],
   "source": [
    "new_df.groupby(['education','department']).mean()"
   ]
  },
  {
   "cell_type": "code",
   "execution_count": 8,
   "metadata": {},
   "outputs": [
    {
     "data": {
      "text/html": [
       "<div>\n",
       "<style scoped>\n",
       "    .dataframe tbody tr th:only-of-type {\n",
       "        vertical-align: middle;\n",
       "    }\n",
       "\n",
       "    .dataframe tbody tr th {\n",
       "        vertical-align: top;\n",
       "    }\n",
       "\n",
       "    .dataframe thead th {\n",
       "        text-align: right;\n",
       "    }\n",
       "</style>\n",
       "<table border=\"1\" class=\"dataframe\">\n",
       "  <thead>\n",
       "    <tr style=\"text-align: right;\">\n",
       "      <th></th>\n",
       "      <th></th>\n",
       "      <th>department</th>\n",
       "      <th>region</th>\n",
       "      <th>education</th>\n",
       "      <th>gender</th>\n",
       "      <th>recruitment_channel</th>\n",
       "      <th>no_of_trainings</th>\n",
       "      <th>age</th>\n",
       "      <th>length_of_service</th>\n",
       "      <th>KPIs_met &gt;80%</th>\n",
       "      <th>awards_won?</th>\n",
       "      <th>avg_training_score</th>\n",
       "    </tr>\n",
       "    <tr>\n",
       "      <th>is_promoted</th>\n",
       "      <th>previous_year_rating</th>\n",
       "      <th></th>\n",
       "      <th></th>\n",
       "      <th></th>\n",
       "      <th></th>\n",
       "      <th></th>\n",
       "      <th></th>\n",
       "      <th></th>\n",
       "      <th></th>\n",
       "      <th></th>\n",
       "      <th></th>\n",
       "      <th></th>\n",
       "    </tr>\n",
       "  </thead>\n",
       "  <tbody>\n",
       "    <tr>\n",
       "      <th rowspan=\"5\" valign=\"top\">0</th>\n",
       "      <th>1.0</th>\n",
       "      <td>6135</td>\n",
       "      <td>6135</td>\n",
       "      <td>5801</td>\n",
       "      <td>6135</td>\n",
       "      <td>6135</td>\n",
       "      <td>6135</td>\n",
       "      <td>6135</td>\n",
       "      <td>6135</td>\n",
       "      <td>6135</td>\n",
       "      <td>6135</td>\n",
       "      <td>6135</td>\n",
       "    </tr>\n",
       "    <tr>\n",
       "      <th>2.0</th>\n",
       "      <td>4044</td>\n",
       "      <td>4044</td>\n",
       "      <td>3856</td>\n",
       "      <td>4044</td>\n",
       "      <td>4044</td>\n",
       "      <td>4044</td>\n",
       "      <td>4044</td>\n",
       "      <td>4044</td>\n",
       "      <td>4044</td>\n",
       "      <td>4044</td>\n",
       "      <td>4044</td>\n",
       "    </tr>\n",
       "    <tr>\n",
       "      <th>3.0</th>\n",
       "      <td>17263</td>\n",
       "      <td>17263</td>\n",
       "      <td>16542</td>\n",
       "      <td>17263</td>\n",
       "      <td>17263</td>\n",
       "      <td>17263</td>\n",
       "      <td>17263</td>\n",
       "      <td>17263</td>\n",
       "      <td>17263</td>\n",
       "      <td>17263</td>\n",
       "      <td>17263</td>\n",
       "    </tr>\n",
       "    <tr>\n",
       "      <th>4.0</th>\n",
       "      <td>9093</td>\n",
       "      <td>9093</td>\n",
       "      <td>8742</td>\n",
       "      <td>9093</td>\n",
       "      <td>9093</td>\n",
       "      <td>9093</td>\n",
       "      <td>9093</td>\n",
       "      <td>9093</td>\n",
       "      <td>9093</td>\n",
       "      <td>9093</td>\n",
       "      <td>9093</td>\n",
       "    </tr>\n",
       "    <tr>\n",
       "      <th>5.0</th>\n",
       "      <td>9820</td>\n",
       "      <td>9820</td>\n",
       "      <td>9487</td>\n",
       "      <td>9820</td>\n",
       "      <td>9820</td>\n",
       "      <td>9820</td>\n",
       "      <td>9820</td>\n",
       "      <td>9820</td>\n",
       "      <td>9820</td>\n",
       "      <td>9820</td>\n",
       "      <td>9820</td>\n",
       "    </tr>\n",
       "    <tr>\n",
       "      <th rowspan=\"5\" valign=\"top\">1</th>\n",
       "      <th>1.0</th>\n",
       "      <td>88</td>\n",
       "      <td>88</td>\n",
       "      <td>86</td>\n",
       "      <td>88</td>\n",
       "      <td>88</td>\n",
       "      <td>88</td>\n",
       "      <td>88</td>\n",
       "      <td>88</td>\n",
       "      <td>88</td>\n",
       "      <td>88</td>\n",
       "      <td>88</td>\n",
       "    </tr>\n",
       "    <tr>\n",
       "      <th>2.0</th>\n",
       "      <td>181</td>\n",
       "      <td>181</td>\n",
       "      <td>179</td>\n",
       "      <td>181</td>\n",
       "      <td>181</td>\n",
       "      <td>181</td>\n",
       "      <td>181</td>\n",
       "      <td>181</td>\n",
       "      <td>181</td>\n",
       "      <td>181</td>\n",
       "      <td>181</td>\n",
       "    </tr>\n",
       "    <tr>\n",
       "      <th>3.0</th>\n",
       "      <td>1355</td>\n",
       "      <td>1355</td>\n",
       "      <td>1325</td>\n",
       "      <td>1355</td>\n",
       "      <td>1355</td>\n",
       "      <td>1355</td>\n",
       "      <td>1355</td>\n",
       "      <td>1355</td>\n",
       "      <td>1355</td>\n",
       "      <td>1355</td>\n",
       "      <td>1355</td>\n",
       "    </tr>\n",
       "    <tr>\n",
       "      <th>4.0</th>\n",
       "      <td>784</td>\n",
       "      <td>784</td>\n",
       "      <td>767</td>\n",
       "      <td>784</td>\n",
       "      <td>784</td>\n",
       "      <td>784</td>\n",
       "      <td>784</td>\n",
       "      <td>784</td>\n",
       "      <td>784</td>\n",
       "      <td>784</td>\n",
       "      <td>784</td>\n",
       "    </tr>\n",
       "    <tr>\n",
       "      <th>5.0</th>\n",
       "      <td>1921</td>\n",
       "      <td>1921</td>\n",
       "      <td>1875</td>\n",
       "      <td>1921</td>\n",
       "      <td>1921</td>\n",
       "      <td>1921</td>\n",
       "      <td>1921</td>\n",
       "      <td>1921</td>\n",
       "      <td>1921</td>\n",
       "      <td>1921</td>\n",
       "      <td>1921</td>\n",
       "    </tr>\n",
       "  </tbody>\n",
       "</table>\n",
       "</div>"
      ],
      "text/plain": [
       "                                  department  region  education  gender  \\\n",
       "is_promoted previous_year_rating                                          \n",
       "0           1.0                         6135    6135       5801    6135   \n",
       "            2.0                         4044    4044       3856    4044   \n",
       "            3.0                        17263   17263      16542   17263   \n",
       "            4.0                         9093    9093       8742    9093   \n",
       "            5.0                         9820    9820       9487    9820   \n",
       "1           1.0                           88      88         86      88   \n",
       "            2.0                          181     181        179     181   \n",
       "            3.0                         1355    1355       1325    1355   \n",
       "            4.0                          784     784        767     784   \n",
       "            5.0                         1921    1921       1875    1921   \n",
       "\n",
       "                                  recruitment_channel  no_of_trainings    age  \\\n",
       "is_promoted previous_year_rating                                                \n",
       "0           1.0                                  6135             6135   6135   \n",
       "            2.0                                  4044             4044   4044   \n",
       "            3.0                                 17263            17263  17263   \n",
       "            4.0                                  9093             9093   9093   \n",
       "            5.0                                  9820             9820   9820   \n",
       "1           1.0                                    88               88     88   \n",
       "            2.0                                   181              181    181   \n",
       "            3.0                                  1355             1355   1355   \n",
       "            4.0                                   784              784    784   \n",
       "            5.0                                  1921             1921   1921   \n",
       "\n",
       "                                  length_of_service  KPIs_met >80%  \\\n",
       "is_promoted previous_year_rating                                     \n",
       "0           1.0                                6135           6135   \n",
       "            2.0                                4044           4044   \n",
       "            3.0                               17263          17263   \n",
       "            4.0                                9093           9093   \n",
       "            5.0                                9820           9820   \n",
       "1           1.0                                  88             88   \n",
       "            2.0                                 181            181   \n",
       "            3.0                                1355           1355   \n",
       "            4.0                                 784            784   \n",
       "            5.0                                1921           1921   \n",
       "\n",
       "                                  awards_won?  avg_training_score  \n",
       "is_promoted previous_year_rating                                   \n",
       "0           1.0                          6135                6135  \n",
       "            2.0                          4044                4044  \n",
       "            3.0                         17263               17263  \n",
       "            4.0                          9093                9093  \n",
       "            5.0                          9820                9820  \n",
       "1           1.0                            88                  88  \n",
       "            2.0                           181                 181  \n",
       "            3.0                          1355                1355  \n",
       "            4.0                           784                 784  \n",
       "            5.0                          1921                1921  "
      ]
     },
     "execution_count": 8,
     "metadata": {},
     "output_type": "execute_result"
    }
   ],
   "source": [
    "columns_to_be_dropped = ['employee_id']\n",
    "test_df = drop_columns(df, columns_to_be_dropped)\n",
    "test_df.head()\n",
    "test_df.groupby(['is_promoted','previous_year_rating']).count()"
   ]
  },
  {
   "cell_type": "code",
   "execution_count": 9,
   "metadata": {},
   "outputs": [
    {
     "data": {
      "text/html": [
       "<div>\n",
       "<style scoped>\n",
       "    .dataframe tbody tr th:only-of-type {\n",
       "        vertical-align: middle;\n",
       "    }\n",
       "\n",
       "    .dataframe tbody tr th {\n",
       "        vertical-align: top;\n",
       "    }\n",
       "\n",
       "    .dataframe thead th {\n",
       "        text-align: right;\n",
       "    }\n",
       "</style>\n",
       "<table border=\"1\" class=\"dataframe\">\n",
       "  <thead>\n",
       "    <tr style=\"text-align: right;\">\n",
       "      <th></th>\n",
       "      <th>department</th>\n",
       "      <th>region</th>\n",
       "      <th>gender</th>\n",
       "      <th>recruitment_channel</th>\n",
       "      <th>no_of_trainings</th>\n",
       "      <th>age</th>\n",
       "      <th>previous_year_rating</th>\n",
       "      <th>length_of_service</th>\n",
       "      <th>KPIs_met &gt;80%</th>\n",
       "      <th>awards_won?</th>\n",
       "      <th>avg_training_score</th>\n",
       "    </tr>\n",
       "    <tr>\n",
       "      <th>is_promoted</th>\n",
       "      <th></th>\n",
       "      <th></th>\n",
       "      <th></th>\n",
       "      <th></th>\n",
       "      <th></th>\n",
       "      <th></th>\n",
       "      <th></th>\n",
       "      <th></th>\n",
       "      <th></th>\n",
       "      <th></th>\n",
       "      <th></th>\n",
       "    </tr>\n",
       "  </thead>\n",
       "  <tbody>\n",
       "    <tr>\n",
       "      <th>0</th>\n",
       "      <td>Technology</td>\n",
       "      <td>region_9</td>\n",
       "      <td>m</td>\n",
       "      <td>sourcing</td>\n",
       "      <td>10</td>\n",
       "      <td>60</td>\n",
       "      <td>5.0</td>\n",
       "      <td>37</td>\n",
       "      <td>1</td>\n",
       "      <td>1</td>\n",
       "      <td>96</td>\n",
       "    </tr>\n",
       "    <tr>\n",
       "      <th>1</th>\n",
       "      <td>Technology</td>\n",
       "      <td>region_9</td>\n",
       "      <td>m</td>\n",
       "      <td>sourcing</td>\n",
       "      <td>6</td>\n",
       "      <td>60</td>\n",
       "      <td>5.0</td>\n",
       "      <td>34</td>\n",
       "      <td>1</td>\n",
       "      <td>1</td>\n",
       "      <td>99</td>\n",
       "    </tr>\n",
       "  </tbody>\n",
       "</table>\n",
       "</div>"
      ],
      "text/plain": [
       "             department    region gender recruitment_channel  no_of_trainings  \\\n",
       "is_promoted                                                                     \n",
       "0            Technology  region_9      m            sourcing               10   \n",
       "1            Technology  region_9      m            sourcing                6   \n",
       "\n",
       "             age  previous_year_rating  length_of_service  KPIs_met >80%  \\\n",
       "is_promoted                                                                \n",
       "0             60                   5.0                 37              1   \n",
       "1             60                   5.0                 34              1   \n",
       "\n",
       "             awards_won?  avg_training_score  \n",
       "is_promoted                                   \n",
       "0                      1                  96  \n",
       "1                      1                  99  "
      ]
     },
     "execution_count": 9,
     "metadata": {},
     "output_type": "execute_result"
    }
   ],
   "source": [
    "test_df.groupby(['is_promoted']).max()"
   ]
  },
  {
   "cell_type": "code",
   "execution_count": 10,
   "metadata": {},
   "outputs": [],
   "source": [
    "new_df.loc[( (new_df['previous_year_rating'].isnull()) & ((new_df['is_promoted'] == 1) | (new_df['KPIs_met >80%'] == 1)) ) , 'previous_year_rating'] =5.0\n",
    "new_df.loc[(new_df['previous_year_rating'].isnull()) , 'previous_year_rating'] = 3.0\n",
    "new_df.loc[((new_df['education'].isnull()) & (new_df['age'] >= 36)),'education'] = 'Master\\'s & above'\n",
    "new_df.loc[((new_df['education'].isnull()) & ((new_df['age'] >= 30) & (new_df['age'] < 36)) ),'education'] = 'Bachelor\\'s'\n",
    "new_df.loc[((new_df['education'].isnull()) & (new_df['age'] < 30)  ),'education'] = 'Below Secondary'\n",
    "\n",
    "\n",
    "#testing.head()"
   ]
  },
  {
   "cell_type": "code",
   "execution_count": 11,
   "metadata": {},
   "outputs": [
    {
     "data": {
      "text/html": [
       "<div>\n",
       "<style scoped>\n",
       "    .dataframe tbody tr th:only-of-type {\n",
       "        vertical-align: middle;\n",
       "    }\n",
       "\n",
       "    .dataframe tbody tr th {\n",
       "        vertical-align: top;\n",
       "    }\n",
       "\n",
       "    .dataframe thead th {\n",
       "        text-align: right;\n",
       "    }\n",
       "</style>\n",
       "<table border=\"1\" class=\"dataframe\">\n",
       "  <thead>\n",
       "    <tr style=\"text-align: right;\">\n",
       "      <th></th>\n",
       "      <th></th>\n",
       "      <th>department</th>\n",
       "      <th>region</th>\n",
       "      <th>education</th>\n",
       "      <th>gender</th>\n",
       "      <th>recruitment_channel</th>\n",
       "      <th>no_of_trainings</th>\n",
       "      <th>age</th>\n",
       "      <th>length_of_service</th>\n",
       "      <th>KPIs_met &gt;80%</th>\n",
       "      <th>awards_won?</th>\n",
       "      <th>avg_training_score</th>\n",
       "    </tr>\n",
       "    <tr>\n",
       "      <th>previous_year_rating</th>\n",
       "      <th>is_promoted</th>\n",
       "      <th></th>\n",
       "      <th></th>\n",
       "      <th></th>\n",
       "      <th></th>\n",
       "      <th></th>\n",
       "      <th></th>\n",
       "      <th></th>\n",
       "      <th></th>\n",
       "      <th></th>\n",
       "      <th></th>\n",
       "      <th></th>\n",
       "    </tr>\n",
       "  </thead>\n",
       "  <tbody>\n",
       "    <tr>\n",
       "      <th rowspan=\"2\" valign=\"top\">1.0</th>\n",
       "      <th>0</th>\n",
       "      <td>6135</td>\n",
       "      <td>6135</td>\n",
       "      <td>6135</td>\n",
       "      <td>6135</td>\n",
       "      <td>6135</td>\n",
       "      <td>6135</td>\n",
       "      <td>6135</td>\n",
       "      <td>6135</td>\n",
       "      <td>6135</td>\n",
       "      <td>6135</td>\n",
       "      <td>6135</td>\n",
       "    </tr>\n",
       "    <tr>\n",
       "      <th>1</th>\n",
       "      <td>88</td>\n",
       "      <td>88</td>\n",
       "      <td>88</td>\n",
       "      <td>88</td>\n",
       "      <td>88</td>\n",
       "      <td>88</td>\n",
       "      <td>88</td>\n",
       "      <td>88</td>\n",
       "      <td>88</td>\n",
       "      <td>88</td>\n",
       "      <td>88</td>\n",
       "    </tr>\n",
       "    <tr>\n",
       "      <th rowspan=\"2\" valign=\"top\">2.0</th>\n",
       "      <th>0</th>\n",
       "      <td>4044</td>\n",
       "      <td>4044</td>\n",
       "      <td>4044</td>\n",
       "      <td>4044</td>\n",
       "      <td>4044</td>\n",
       "      <td>4044</td>\n",
       "      <td>4044</td>\n",
       "      <td>4044</td>\n",
       "      <td>4044</td>\n",
       "      <td>4044</td>\n",
       "      <td>4044</td>\n",
       "    </tr>\n",
       "    <tr>\n",
       "      <th>1</th>\n",
       "      <td>181</td>\n",
       "      <td>181</td>\n",
       "      <td>181</td>\n",
       "      <td>181</td>\n",
       "      <td>181</td>\n",
       "      <td>181</td>\n",
       "      <td>181</td>\n",
       "      <td>181</td>\n",
       "      <td>181</td>\n",
       "      <td>181</td>\n",
       "      <td>181</td>\n",
       "    </tr>\n",
       "    <tr>\n",
       "      <th rowspan=\"2\" valign=\"top\">3.0</th>\n",
       "      <th>0</th>\n",
       "      <td>19844</td>\n",
       "      <td>19844</td>\n",
       "      <td>19844</td>\n",
       "      <td>19844</td>\n",
       "      <td>19844</td>\n",
       "      <td>19844</td>\n",
       "      <td>19844</td>\n",
       "      <td>19844</td>\n",
       "      <td>19844</td>\n",
       "      <td>19844</td>\n",
       "      <td>19844</td>\n",
       "    </tr>\n",
       "    <tr>\n",
       "      <th>1</th>\n",
       "      <td>1355</td>\n",
       "      <td>1355</td>\n",
       "      <td>1355</td>\n",
       "      <td>1355</td>\n",
       "      <td>1355</td>\n",
       "      <td>1355</td>\n",
       "      <td>1355</td>\n",
       "      <td>1355</td>\n",
       "      <td>1355</td>\n",
       "      <td>1355</td>\n",
       "      <td>1355</td>\n",
       "    </tr>\n",
       "    <tr>\n",
       "      <th rowspan=\"2\" valign=\"top\">4.0</th>\n",
       "      <th>0</th>\n",
       "      <td>9093</td>\n",
       "      <td>9093</td>\n",
       "      <td>9093</td>\n",
       "      <td>9093</td>\n",
       "      <td>9093</td>\n",
       "      <td>9093</td>\n",
       "      <td>9093</td>\n",
       "      <td>9093</td>\n",
       "      <td>9093</td>\n",
       "      <td>9093</td>\n",
       "      <td>9093</td>\n",
       "    </tr>\n",
       "    <tr>\n",
       "      <th>1</th>\n",
       "      <td>784</td>\n",
       "      <td>784</td>\n",
       "      <td>784</td>\n",
       "      <td>784</td>\n",
       "      <td>784</td>\n",
       "      <td>784</td>\n",
       "      <td>784</td>\n",
       "      <td>784</td>\n",
       "      <td>784</td>\n",
       "      <td>784</td>\n",
       "      <td>784</td>\n",
       "    </tr>\n",
       "    <tr>\n",
       "      <th rowspan=\"2\" valign=\"top\">5.0</th>\n",
       "      <th>0</th>\n",
       "      <td>11024</td>\n",
       "      <td>11024</td>\n",
       "      <td>11024</td>\n",
       "      <td>11024</td>\n",
       "      <td>11024</td>\n",
       "      <td>11024</td>\n",
       "      <td>11024</td>\n",
       "      <td>11024</td>\n",
       "      <td>11024</td>\n",
       "      <td>11024</td>\n",
       "      <td>11024</td>\n",
       "    </tr>\n",
       "    <tr>\n",
       "      <th>1</th>\n",
       "      <td>2260</td>\n",
       "      <td>2260</td>\n",
       "      <td>2260</td>\n",
       "      <td>2260</td>\n",
       "      <td>2260</td>\n",
       "      <td>2260</td>\n",
       "      <td>2260</td>\n",
       "      <td>2260</td>\n",
       "      <td>2260</td>\n",
       "      <td>2260</td>\n",
       "      <td>2260</td>\n",
       "    </tr>\n",
       "  </tbody>\n",
       "</table>\n",
       "</div>"
      ],
      "text/plain": [
       "                                  department  region  education  gender  \\\n",
       "previous_year_rating is_promoted                                          \n",
       "1.0                  0                  6135    6135       6135    6135   \n",
       "                     1                    88      88         88      88   \n",
       "2.0                  0                  4044    4044       4044    4044   \n",
       "                     1                   181     181        181     181   \n",
       "3.0                  0                 19844   19844      19844   19844   \n",
       "                     1                  1355    1355       1355    1355   \n",
       "4.0                  0                  9093    9093       9093    9093   \n",
       "                     1                   784     784        784     784   \n",
       "5.0                  0                 11024   11024      11024   11024   \n",
       "                     1                  2260    2260       2260    2260   \n",
       "\n",
       "                                  recruitment_channel  no_of_trainings    age  \\\n",
       "previous_year_rating is_promoted                                                \n",
       "1.0                  0                           6135             6135   6135   \n",
       "                     1                             88               88     88   \n",
       "2.0                  0                           4044             4044   4044   \n",
       "                     1                            181              181    181   \n",
       "3.0                  0                          19844            19844  19844   \n",
       "                     1                           1355             1355   1355   \n",
       "4.0                  0                           9093             9093   9093   \n",
       "                     1                            784              784    784   \n",
       "5.0                  0                          11024            11024  11024   \n",
       "                     1                           2260             2260   2260   \n",
       "\n",
       "                                  length_of_service  KPIs_met >80%  \\\n",
       "previous_year_rating is_promoted                                     \n",
       "1.0                  0                         6135           6135   \n",
       "                     1                           88             88   \n",
       "2.0                  0                         4044           4044   \n",
       "                     1                          181            181   \n",
       "3.0                  0                        19844          19844   \n",
       "                     1                         1355           1355   \n",
       "4.0                  0                         9093           9093   \n",
       "                     1                          784            784   \n",
       "5.0                  0                        11024          11024   \n",
       "                     1                         2260           2260   \n",
       "\n",
       "                                  awards_won?  avg_training_score  \n",
       "previous_year_rating is_promoted                                   \n",
       "1.0                  0                   6135                6135  \n",
       "                     1                     88                  88  \n",
       "2.0                  0                   4044                4044  \n",
       "                     1                    181                 181  \n",
       "3.0                  0                  19844               19844  \n",
       "                     1                   1355                1355  \n",
       "4.0                  0                   9093                9093  \n",
       "                     1                    784                 784  \n",
       "5.0                  0                  11024               11024  \n",
       "                     1                   2260                2260  "
      ]
     },
     "execution_count": 11,
     "metadata": {},
     "output_type": "execute_result"
    }
   ],
   "source": [
    "new_df.groupby(['previous_year_rating','is_promoted']).count()"
   ]
  },
  {
   "cell_type": "code",
   "execution_count": 12,
   "metadata": {},
   "outputs": [],
   "source": [
    "# X = [] \n",
    "# X = new_df.values.tolist()\n"
   ]
  },
  {
   "cell_type": "code",
   "execution_count": null,
   "metadata": {},
   "outputs": [],
   "source": [
    "# def count_non_null_in_list(X , col_id):\n",
    "#     k=0\n",
    "#     for row in X:\n",
    "#         if math.isnan(row[col_id]) == True:\n",
    "#             k= k+1\n",
    "#     return k\n",
    "    \n",
    "# count_non_null_in_list(X , 7)"
   ]
  },
  {
   "cell_type": "code",
   "execution_count": null,
   "metadata": {
    "scrolled": true
   },
   "outputs": [],
   "source": [
    "# def do_missing_transformation(X, col_id, target_col_id, test_time=False):\n",
    "#     if test_time==False:\n",
    "#         for row in X:\n",
    "#             if math.isnan(row[col_id]) == True and row[12] == 1:\n",
    "#                 row[col_id] = 5.0\n",
    "#             elif math.isnan(row[col_id]) == True:\n",
    "#                 row[col_id] = 3.0\n",
    "#     else:\n",
    "#         for row in X:\n",
    "#             if math.isnan(row[col_id]) == True:\n",
    "#                 row[col_id] = 3.0\n",
    "\n",
    "# do_missing_transformation(X,7,12)"
   ]
  },
  {
   "cell_type": "code",
   "execution_count": null,
   "metadata": {},
   "outputs": [],
   "source": [
    "# count_non_null_in_list(X, 7)"
   ]
  },
  {
   "cell_type": "code",
   "execution_count": null,
   "metadata": {},
   "outputs": [],
   "source": [
    "# df_visual = pd.DataFrame(X)\n",
    "# df_visual.head()"
   ]
  },
  {
   "cell_type": "code",
   "execution_count": 13,
   "metadata": {},
   "outputs": [],
   "source": [
    "import numpy as np\n",
    "\n",
    "def get_features_and_labels(X):\n",
    "    X = np.array(X)\n",
    "    labels = X[:,-1]\n",
    "    X = X[:,:-1]\n",
    "    return X, labels\n",
    "\n",
    "#X, labels = get_features_and_labels(X)"
   ]
  },
  {
   "cell_type": "code",
   "execution_count": 14,
   "metadata": {},
   "outputs": [],
   "source": [
    "df_visual = new_df"
   ]
  },
  {
   "cell_type": "markdown",
   "metadata": {},
   "source": [
    "# Visualization"
   ]
  },
  {
   "cell_type": "code",
   "execution_count": 15,
   "metadata": {},
   "outputs": [
    {
     "data": {
      "text/html": [
       "<div>\n",
       "<style scoped>\n",
       "    .dataframe tbody tr th:only-of-type {\n",
       "        vertical-align: middle;\n",
       "    }\n",
       "\n",
       "    .dataframe tbody tr th {\n",
       "        vertical-align: top;\n",
       "    }\n",
       "\n",
       "    .dataframe thead th {\n",
       "        text-align: right;\n",
       "    }\n",
       "</style>\n",
       "<table border=\"1\" class=\"dataframe\">\n",
       "  <thead>\n",
       "    <tr style=\"text-align: right;\">\n",
       "      <th></th>\n",
       "      <th>department</th>\n",
       "      <th>region</th>\n",
       "      <th>education</th>\n",
       "      <th>gender</th>\n",
       "      <th>channel</th>\n",
       "      <th>trainings</th>\n",
       "      <th>age</th>\n",
       "      <th>rating</th>\n",
       "      <th>service</th>\n",
       "      <th>kpi</th>\n",
       "      <th>award</th>\n",
       "      <th>score</th>\n",
       "      <th>promoted</th>\n",
       "    </tr>\n",
       "  </thead>\n",
       "  <tbody>\n",
       "    <tr>\n",
       "      <th>0</th>\n",
       "      <td>Sales &amp; Marketing</td>\n",
       "      <td>region_7</td>\n",
       "      <td>Master's &amp; above</td>\n",
       "      <td>f</td>\n",
       "      <td>sourcing</td>\n",
       "      <td>1</td>\n",
       "      <td>35</td>\n",
       "      <td>5.0</td>\n",
       "      <td>8</td>\n",
       "      <td>1</td>\n",
       "      <td>0</td>\n",
       "      <td>49</td>\n",
       "      <td>0</td>\n",
       "    </tr>\n",
       "    <tr>\n",
       "      <th>1</th>\n",
       "      <td>Operations</td>\n",
       "      <td>region_22</td>\n",
       "      <td>Bachelor's</td>\n",
       "      <td>m</td>\n",
       "      <td>other</td>\n",
       "      <td>1</td>\n",
       "      <td>30</td>\n",
       "      <td>5.0</td>\n",
       "      <td>4</td>\n",
       "      <td>0</td>\n",
       "      <td>0</td>\n",
       "      <td>60</td>\n",
       "      <td>0</td>\n",
       "    </tr>\n",
       "    <tr>\n",
       "      <th>2</th>\n",
       "      <td>Sales &amp; Marketing</td>\n",
       "      <td>region_19</td>\n",
       "      <td>Bachelor's</td>\n",
       "      <td>m</td>\n",
       "      <td>sourcing</td>\n",
       "      <td>1</td>\n",
       "      <td>34</td>\n",
       "      <td>3.0</td>\n",
       "      <td>7</td>\n",
       "      <td>0</td>\n",
       "      <td>0</td>\n",
       "      <td>50</td>\n",
       "      <td>0</td>\n",
       "    </tr>\n",
       "    <tr>\n",
       "      <th>3</th>\n",
       "      <td>Sales &amp; Marketing</td>\n",
       "      <td>region_23</td>\n",
       "      <td>Bachelor's</td>\n",
       "      <td>m</td>\n",
       "      <td>other</td>\n",
       "      <td>2</td>\n",
       "      <td>39</td>\n",
       "      <td>1.0</td>\n",
       "      <td>10</td>\n",
       "      <td>0</td>\n",
       "      <td>0</td>\n",
       "      <td>50</td>\n",
       "      <td>0</td>\n",
       "    </tr>\n",
       "    <tr>\n",
       "      <th>4</th>\n",
       "      <td>Technology</td>\n",
       "      <td>region_26</td>\n",
       "      <td>Bachelor's</td>\n",
       "      <td>m</td>\n",
       "      <td>other</td>\n",
       "      <td>1</td>\n",
       "      <td>45</td>\n",
       "      <td>3.0</td>\n",
       "      <td>2</td>\n",
       "      <td>0</td>\n",
       "      <td>0</td>\n",
       "      <td>73</td>\n",
       "      <td>0</td>\n",
       "    </tr>\n",
       "  </tbody>\n",
       "</table>\n",
       "</div>"
      ],
      "text/plain": [
       "          department     region         education gender   channel  trainings  \\\n",
       "0  Sales & Marketing   region_7  Master's & above      f  sourcing          1   \n",
       "1         Operations  region_22        Bachelor's      m     other          1   \n",
       "2  Sales & Marketing  region_19        Bachelor's      m  sourcing          1   \n",
       "3  Sales & Marketing  region_23        Bachelor's      m     other          2   \n",
       "4         Technology  region_26        Bachelor's      m     other          1   \n",
       "\n",
       "   age  rating  service  kpi  award  score  promoted  \n",
       "0   35     5.0        8    1      0     49         0  \n",
       "1   30     5.0        4    0      0     60         0  \n",
       "2   34     3.0        7    0      0     50         0  \n",
       "3   39     1.0       10    0      0     50         0  \n",
       "4   45     3.0        2    0      0     73         0  "
      ]
     },
     "execution_count": 15,
     "metadata": {},
     "output_type": "execute_result"
    }
   ],
   "source": [
    "\n",
    "df_visual = df_visual.rename(columns={\n",
    "    'recruitment_channel':'channel',\n",
    "    \n",
    "    'no_of_trainings':'trainings',\n",
    "    \n",
    "    'previous_year_rating':'rating',\n",
    "    'length_of_service':'service',\n",
    "    'KPIs_met >80%':'kpi',\n",
    "    'awards_won?':'award',\n",
    "    \n",
    "    'avg_training_score':'score',\n",
    "    'is_promoted':'promoted'\n",
    "})\n",
    "df_visual.head()"
   ]
  },
  {
   "cell_type": "code",
   "execution_count": null,
   "metadata": {},
   "outputs": [],
   "source": [
    "df_visual.dtypes"
   ]
  },
  {
   "cell_type": "code",
   "execution_count": null,
   "metadata": {},
   "outputs": [],
   "source": [
    "# check what is the promotion rate. Same rate has to be there in cross validation\n",
    "promotion_rate = df_visual.promoted.value_counts() / len(df_visual)\n",
    "promotion_rate"
   ]
  },
  {
   "cell_type": "markdown",
   "metadata": {},
   "source": [
    "## Only 8.5 % of the people have been promoted according to the data "
   ]
  },
  {
   "cell_type": "code",
   "execution_count": null,
   "metadata": {},
   "outputs": [],
   "source": [
    "df_visual.describe()"
   ]
  },
  {
   "cell_type": "code",
   "execution_count": null,
   "metadata": {},
   "outputs": [],
   "source": [
    "promoted = df_visual.groupby('promoted')\n",
    "promoted.mean()"
   ]
  },
  {
   "cell_type": "markdown",
   "metadata": {},
   "source": [
    "## Heatmap"
   ]
  },
  {
   "cell_type": "code",
   "execution_count": null,
   "metadata": {},
   "outputs": [],
   "source": [
    "import seaborn as sns\n",
    "\n",
    "corr= df_visual.corr()\n",
    "print(corr)\n",
    "sns.heatmap(corr, \n",
    "            xticklabels=corr.columns.values,\n",
    "            yticklabels=corr.columns.values)"
   ]
  },
  {
   "cell_type": "markdown",
   "metadata": {},
   "source": [
    "### 1. rating and kpi are strongly correlated to each other. It means people who have good ratings are the ones who have achieved their KPI's\n",
    "### 2. rating, kpi and training score are the factors that contribute higly towards our target variable promotion\n",
    "### 3. Age and service have highest corelation\n",
    " \n"
   ]
  },
  {
   "cell_type": "code",
   "execution_count": null,
   "metadata": {},
   "outputs": [],
   "source": [
    "sns.pairplot(df_visual)"
   ]
  },
  {
   "cell_type": "code",
   "execution_count": null,
   "metadata": {},
   "outputs": [],
   "source": [
    "import matplotlib.pyplot as plt\n",
    "\n",
    "f, axes = plt.subplots(ncols=3, figsize=(15, 6))\n",
    "\n",
    "# Graph Employee Satisfaction\n",
    "sns.distplot(df_visual.rating, kde=False, color=\"g\", ax=axes[0]).set_title('Employee Rating Distribution')\n",
    "axes[0].set_ylabel('Employee Count')\n",
    "\n",
    "# Graph Employee Evaluation\n",
    "sns.distplot(df_visual.kpi, kde=False, color=\"r\", ax=axes[1]).set_title('Employee KPI Distribution')\n",
    "axes[1].set_ylabel('Employee Count')\n",
    "\n",
    "# Graph Employee Average Monthly Hours\n",
    "sns.distplot(df_visual.score, kde=False, color=\"b\", ax=axes[2]).set_title('Employee Score Distribution')\n",
    "axes[2].set_ylabel('Employee Count')\n"
   ]
  },
  {
   "cell_type": "markdown",
   "metadata": {},
   "source": [
    "## Promotion vs Department"
   ]
  },
  {
   "cell_type": "code",
   "execution_count": null,
   "metadata": {},
   "outputs": [],
   "source": [
    "sns.countplot(y='department', data=df_visual).set_title('Employee Department Distribution');"
   ]
  },
  {
   "cell_type": "code",
   "execution_count": null,
   "metadata": {},
   "outputs": [],
   "source": [
    "sns.countplot(y='department', hue='promoted', data=df_visual).set_title('Employee Department Promotion Distribution');"
   ]
  },
  {
   "cell_type": "code",
   "execution_count": null,
   "metadata": {},
   "outputs": [],
   "source": [
    "promot_dept = df_visual.groupby(['department'])\n",
    "promot_dept.promoted.mean()*100"
   ]
  },
  {
   "cell_type": "markdown",
   "metadata": {},
   "source": [
    "### Promotion Rates according to department\n",
    "\n",
    "Department\n",
    "Analytics             9.566517\n",
    "Finance               8.123028\n",
    "HR                    5.624483\n",
    "Legal                 5.101059\n",
    "Operations            9.014804\n",
    "Procurement           9.638554\n",
    "R&D                   6.906907\n",
    "Sales & Marketing     7.203088\n",
    "Technology           10.759316\n",
    "\n",
    "### Technology is the department which has the highest promotion rate. Sales and Marketing have the maximum number of people"
   ]
  },
  {
   "cell_type": "markdown",
   "metadata": {},
   "source": [
    "### Promotion vs Region"
   ]
  },
  {
   "cell_type": "code",
   "execution_count": null,
   "metadata": {},
   "outputs": [],
   "source": [
    "f, ax = plt.subplots(figsize=(15, 15))\n",
    "sns.countplot(y='region', data=df_visual).set_title('Employee Region Distribution');\n"
   ]
  },
  {
   "cell_type": "code",
   "execution_count": null,
   "metadata": {},
   "outputs": [],
   "source": [
    "f, ax = plt.subplots(figsize=(15, 15))\n",
    "sns.countplot(y='region', hue='promoted', data=df_visual).set_title('Employee Region Distribution');\n"
   ]
  },
  {
   "cell_type": "code",
   "execution_count": null,
   "metadata": {},
   "outputs": [],
   "source": [
    "promot_region = df_visual.groupby(['region'])\n",
    "promot_region.promoted.mean()*100"
   ]
  },
  {
   "cell_type": "markdown",
   "metadata": {},
   "source": [
    "## 14% of the Region 4 employees were promoted which is way above the average promotion rate"
   ]
  },
  {
   "cell_type": "code",
   "execution_count": null,
   "metadata": {},
   "outputs": [],
   "source": [
    "sns.countplot(y='gender', hue='promoted', data=df_visual).set_title('Employee Region Distribution');\n"
   ]
  },
  {
   "cell_type": "code",
   "execution_count": null,
   "metadata": {},
   "outputs": [],
   "source": [
    "gen = df_visual.groupby(['gender'])\n",
    "gen.promoted.mean()*100"
   ]
  },
  {
   "cell_type": "code",
   "execution_count": null,
   "metadata": {},
   "outputs": [],
   "source": [
    "sns.countplot(y='education', hue='promoted', data=df_visual).set_title('Employee Region Distribution');\n"
   ]
  },
  {
   "cell_type": "code",
   "execution_count": null,
   "metadata": {},
   "outputs": [],
   "source": [
    "edu = df_visual.groupby(['education'])\n",
    "edu.promoted.mean()*100"
   ]
  },
  {
   "cell_type": "code",
   "execution_count": null,
   "metadata": {},
   "outputs": [],
   "source": [
    "sns.countplot(x='channel', hue='promoted', data=df_visual).set_title('Employee Region Distribution');\n"
   ]
  },
  {
   "cell_type": "code",
   "execution_count": null,
   "metadata": {},
   "outputs": [],
   "source": [
    "chan = df_visual.groupby(['channel'])\n",
    "chan.promoted.mean()*100"
   ]
  },
  {
   "cell_type": "code",
   "execution_count": null,
   "metadata": {},
   "outputs": [],
   "source": [
    "df_visual.head()"
   ]
  },
  {
   "cell_type": "code",
   "execution_count": 16,
   "metadata": {},
   "outputs": [],
   "source": [
    "#df_visual['score'] = pd.cut(df_visual['score'], 5)\n",
    "#df_visual.head()\n",
    "new_df_visual = drop_columns(df_visual, columns=['gender','age','trainings','service'])\n",
    "#X = np.array(df_visual.values)"
   ]
  },
  {
   "cell_type": "code",
   "execution_count": 17,
   "metadata": {},
   "outputs": [],
   "source": [
    "X = np.array(new_df_visual.values)\n",
    "X, labels = get_features_and_labels(X)"
   ]
  },
  {
   "cell_type": "code",
   "execution_count": 18,
   "metadata": {},
   "outputs": [
    {
     "data": {
      "text/plain": [
       "array(['Sales & Marketing', 'region_7', \"Master's & above\", 'sourcing',\n",
       "       5.0, 1, 0, 49], dtype=object)"
      ]
     },
     "execution_count": 18,
     "metadata": {},
     "output_type": "execute_result"
    }
   ],
   "source": [
    "X[0]"
   ]
  },
  {
   "cell_type": "markdown",
   "metadata": {},
   "source": [
    "# One Hot Encoding"
   ]
  },
  {
   "cell_type": "code",
   "execution_count": 19,
   "metadata": {},
   "outputs": [],
   "source": [
    "from sklearn.preprocessing import OneHotEncoder, LabelEncoder\n",
    "\n",
    "def one_hot_encoding(X , col_id):\n",
    "    lbl = LabelEncoder()\n",
    "    enc = OneHotEncoder(sparse=False)\n",
    "    X[:,col_id] = lbl.fit_transform(X[:,col_id])\n",
    "    integer_encoded = X[:,col_id].reshape(len(X[:,col_id]), 1)\n",
    "    onehot_encoded = enc.fit_transform(integer_encoded)\n",
    "    onehot_encoded = np.array(onehot_encoded)\n",
    "    new_X = np.append(np.delete(X, col_id, axis = 1),onehot_encoded, axis = 1)\n",
    "    print(new_X.shape)\n",
    "    return new_X"
   ]
  },
  {
   "cell_type": "code",
   "execution_count": 20,
   "metadata": {},
   "outputs": [
    {
     "data": {
      "text/plain": [
       "array(['Sales & Marketing', 'region_7', \"Master's & above\", 'sourcing',\n",
       "       5.0, 1, 0, 49], dtype=object)"
      ]
     },
     "execution_count": 20,
     "metadata": {},
     "output_type": "execute_result"
    }
   ],
   "source": [
    "X[0]"
   ]
  },
  {
   "cell_type": "code",
   "execution_count": 25,
   "metadata": {},
   "outputs": [
    {
     "name": "stdout",
     "output_type": "stream",
     "text": [
      "(54808, 57)\n"
     ]
    },
    {
     "data": {
      "text/plain": [
       "array([1, 0, 49, 0.0, 0.0, 0.0, 0.0, 0.0, 0.0, 0.0, 1.0, 0.0, 0.0, 0.0,\n",
       "       0.0, 0.0, 0.0, 0.0, 0.0, 0.0, 0.0, 0.0, 0.0, 0.0, 0.0, 0.0, 0.0,\n",
       "       0.0, 0.0, 0.0, 0.0, 0.0, 0.0, 0.0, 0.0, 0.0, 0.0, 0.0, 0.0, 0.0,\n",
       "       0.0, 0.0, 0.0, 1.0, 0.0, 0.0, 0.0, 0.0, 1.0, 0.0, 0.0, 1.0, 0.0,\n",
       "       0.0, 0.0, 0.0, 1.0], dtype=object)"
      ]
     },
     "execution_count": 25,
     "metadata": {},
     "output_type": "execute_result"
    }
   ],
   "source": [
    "X = one_hot_encoding(X, 0)\n",
    "X[0]"
   ]
  },
  {
   "cell_type": "markdown",
   "metadata": {},
   "source": [
    "# Train Test Split"
   ]
  },
  {
   "cell_type": "code",
   "execution_count": 28,
   "metadata": {},
   "outputs": [],
   "source": [
    "from sklearn.model_selection import train_test_split\n",
    "\n",
    "X_train, X_valid , y_train, y_valid = train_test_split(X, labels, test_size =0.01, shuffle=True)"
   ]
  },
  {
   "cell_type": "code",
   "execution_count": 29,
   "metadata": {},
   "outputs": [
    {
     "data": {
      "text/plain": [
       "((54259, 57), (54259,), (549, 57), (549,))"
      ]
     },
     "execution_count": 29,
     "metadata": {},
     "output_type": "execute_result"
    }
   ],
   "source": [
    "X_train.shape , y_train.shape , X_valid.shape , y_valid.shape"
   ]
  },
  {
   "cell_type": "markdown",
   "metadata": {},
   "source": [
    "# Classifiers"
   ]
  },
  {
   "cell_type": "code",
   "execution_count": 30,
   "metadata": {},
   "outputs": [],
   "source": [
    "from sklearn.metrics import accuracy_score, classification_report, confusion_matrix\n",
    "\n",
    "def print_summary(classifier , X_valid, y_valid):\n",
    "    prediction = classifier.predict(X_valid)\n",
    "    print(accuracy_score(y_valid, prediction))\n",
    "    print(classification_report(y_valid, prediction))\n",
    "    print(confusion_matrix(y_valid, prediction))\n",
    "    \n",
    "def print_summary_new(prediction , y_valid):\n",
    "    \n",
    "    print(accuracy_score(y_valid, prediction))\n",
    "    print(classification_report(y_valid, prediction))\n",
    "    print(confusion_matrix(y_valid, prediction))"
   ]
  },
  {
   "cell_type": "code",
   "execution_count": 31,
   "metadata": {},
   "outputs": [],
   "source": [
    "from sklearn.ensemble import RandomForestClassifier \n",
    "from sklearn import tree \n",
    "from sklearn.svm import SVC\n",
    "from sklearn.naive_bayes import GaussianNB\n",
    "from sklearn.neighbors import KNeighborsClassifier\n",
    "from sklearn.ensemble import AdaBoostClassifier\n",
    "from sklearn.ensemble import GradientBoostingClassifier\n",
    "from xgboost import XGBClassifier\n",
    "\n",
    "def try_default_classifiers(X_train, y_train):\n",
    "    classifier_rf = RandomForestClassifier()\n",
    "    classifier_rf.fit(X_train, y_train)\n",
    "    print(\"For Random Forests:\\n\")\n",
    "    print_summary(classifier_rf, X_valid, y_valid)\n",
    "    \n",
    "    classifier_t = tree.DecisionTreeClassifier()\n",
    "    classifier_t.fit(X_train, y_train)\n",
    "    print(\"For Decision Tree:\\n\")\n",
    "    print_summary(classifier_t, X_valid, y_valid)\n",
    "    \n",
    "    classifier_svc = SVC()\n",
    "    classifier_svc.fit(X_train, y_train)\n",
    "    print(\"For SVC:\\n\")\n",
    "    print_summary( classifier_svc, X_valid, y_valid)\n",
    "    \n",
    "    classifier_nb = GaussianNB()\n",
    "    classifier_nb.fit(X_train, y_train)\n",
    "    print(\"For Naive Bayes:\\n\")\n",
    "    print_summary( classifier_nb, X_valid, y_valid)\n",
    "    \n",
    "    classifier_knn = KNeighborsClassifier()\n",
    "    classifier_knn.fit(X_train, y_train)\n",
    "    print(\"For KNN:\\n\")\n",
    "    print_summary( classifier_knn, X_valid, y_valid)\n",
    "    \n",
    "    classifier_ada = AdaBoostClassifier()\n",
    "    classifier_ada.fit(X_train, y_train)\n",
    "    print(\"For Adaboost:\\n\")\n",
    "    print_summary( classifier_ada, X_valid, y_valid)\n",
    "    \n",
    "    classifier_gbc = GradientBoostingClassifier()\n",
    "    classifier_gbc.fit(X_train, y_train)\n",
    "    print(\"For Gradient Boosting:\\n\")\n",
    "    print_summary( classifier_gbc, X_valid, y_valid)\n",
    "    \n",
    "    classifier_xgb = XGBClassifier()\n",
    "    classifier_xgb.fit(X_train, y_train)\n",
    "    print(\"For XG Boosting:\\n\")\n",
    "    print_summary( classifier_xgb, X_valid, y_valid)\n",
    "    \n",
    "    return [classifier_rf, classifier_t, classifier_svc, classifier_nb, classifier_knn,classifier_ada,classifier_gbc,classifier_xgb]\n",
    "   "
   ]
  },
  {
   "cell_type": "code",
   "execution_count": 32,
   "metadata": {},
   "outputs": [],
   "source": [
    "X_train =X_train.astype(float)\n",
    "y_train = y_train.astype(float)\n",
    "X_valid = X_valid.astype(float)\n",
    "y_valid = y_valid.astype(float)"
   ]
  },
  {
   "cell_type": "code",
   "execution_count": 33,
   "metadata": {
    "scrolled": false
   },
   "outputs": [
    {
     "name": "stdout",
     "output_type": "stream",
     "text": [
      "For Random Forests:\n",
      "\n",
      "0.9034608378870674\n",
      "             precision    recall  f1-score   support\n",
      "\n",
      "        0.0       0.93      0.97      0.95       497\n",
      "        1.0       0.48      0.25      0.33        52\n",
      "\n",
      "avg / total       0.88      0.90      0.89       549\n",
      "\n",
      "[[483  14]\n",
      " [ 39  13]]\n",
      "For Decision Tree:\n",
      "\n",
      "0.9143897996357013\n",
      "             precision    recall  f1-score   support\n",
      "\n",
      "        0.0       0.94      0.97      0.95       497\n",
      "        1.0       0.57      0.38      0.46        52\n",
      "\n",
      "avg / total       0.90      0.91      0.91       549\n",
      "\n",
      "[[482  15]\n",
      " [ 32  20]]\n",
      "For SVC:\n",
      "\n",
      "0.9344262295081968\n",
      "             precision    recall  f1-score   support\n",
      "\n",
      "        0.0       0.93      1.00      0.97       497\n",
      "        1.0       1.00      0.31      0.47        52\n",
      "\n",
      "avg / total       0.94      0.93      0.92       549\n",
      "\n",
      "[[497   0]\n",
      " [ 36  16]]\n",
      "For Naive Bayes:\n",
      "\n",
      "0.5719489981785064\n",
      "             precision    recall  f1-score   support\n",
      "\n",
      "        0.0       0.97      0.55      0.70       497\n",
      "        1.0       0.16      0.83      0.27        52\n",
      "\n",
      "avg / total       0.89      0.57      0.66       549\n",
      "\n",
      "[[271 226]\n",
      " [  9  43]]\n",
      "For KNN:\n",
      "\n",
      "0.9271402550091075\n",
      "             precision    recall  f1-score   support\n",
      "\n",
      "        0.0       0.93      1.00      0.96       497\n",
      "        1.0       0.88      0.27      0.41        52\n",
      "\n",
      "avg / total       0.92      0.93      0.91       549\n",
      "\n",
      "[[495   2]\n",
      " [ 38  14]]\n",
      "For Adaboost:\n",
      "\n",
      "0.9162112932604736\n",
      "             precision    recall  f1-score   support\n",
      "\n",
      "        0.0       0.92      1.00      0.96       497\n",
      "        1.0       0.80      0.15      0.26        52\n",
      "\n",
      "avg / total       0.91      0.92      0.89       549\n",
      "\n",
      "[[495   2]\n",
      " [ 44   8]]\n",
      "For Gradient Boosting:\n",
      "\n",
      "0.9344262295081968\n",
      "             precision    recall  f1-score   support\n",
      "\n",
      "        0.0       0.93      1.00      0.97       497\n",
      "        1.0       1.00      0.31      0.47        52\n",
      "\n",
      "avg / total       0.94      0.93      0.92       549\n",
      "\n",
      "[[497   0]\n",
      " [ 36  16]]\n",
      "For XG Boosting:\n",
      "\n",
      "0.930783242258652\n",
      "             precision    recall  f1-score   support\n",
      "\n",
      "        0.0       0.93      1.00      0.96       497\n",
      "        1.0       1.00      0.27      0.42        52\n",
      "\n",
      "avg / total       0.94      0.93      0.91       549\n",
      "\n",
      "[[497   0]\n",
      " [ 38  14]]\n"
     ]
    },
    {
     "name": "stderr",
     "output_type": "stream",
     "text": [
      "c:\\users\\kanwal\\miniconda3\\lib\\site-packages\\sklearn\\preprocessing\\label.py:151: DeprecationWarning: The truth value of an empty array is ambiguous. Returning False, but in future this will result in an error. Use `array.size > 0` to check that an array is not empty.\n",
      "  if diff:\n"
     ]
    }
   ],
   "source": [
    "classifier_list = try_default_classifiers(X_train, y_train)"
   ]
  },
  {
   "cell_type": "code",
   "execution_count": null,
   "metadata": {},
   "outputs": [],
   "source": [
    "classifier_svc = SVC(C=10, kernel='rbf')\n",
    "classifier_svc.fit(X_train, y_train)\n",
    "print_summary( classifier_svc, X_valid, y_valid)\n",
    "    "
   ]
  },
  {
   "cell_type": "code",
   "execution_count": 34,
   "metadata": {},
   "outputs": [
    {
     "name": "stdout",
     "output_type": "stream",
     "text": [
      "0.9666046185886212\n",
      "             precision    recall  f1-score   support\n",
      "\n",
      "        0.0       0.97      0.99      0.98     49643\n",
      "        1.0       0.90      0.68      0.78      4616\n",
      "\n",
      "avg / total       0.97      0.97      0.96     54259\n",
      "\n",
      "[[49297   346]\n",
      " [ 1466  3150]]\n",
      "0.9710278479146317\n",
      "             precision    recall  f1-score   support\n",
      "\n",
      "        0.0       0.97      1.00      0.98     49643\n",
      "        1.0       0.97      0.68      0.80      4616\n",
      "\n",
      "avg / total       0.97      0.97      0.97     54259\n",
      "\n",
      "[[49561    82]\n",
      " [ 1490  3126]]\n",
      "0.9420925560736467\n",
      "             precision    recall  f1-score   support\n",
      "\n",
      "        0.0       0.94      1.00      0.97     49643\n",
      "        1.0       0.99      0.32      0.49      4616\n",
      "\n",
      "avg / total       0.94      0.94      0.93     54259\n",
      "\n",
      "[[49623    20]\n",
      " [ 3122  1494]]\n",
      "0.5503050185222728\n",
      "             precision    recall  f1-score   support\n",
      "\n",
      "        0.0       0.96      0.53      0.68     49643\n",
      "        1.0       0.13      0.77      0.23      4616\n",
      "\n",
      "avg / total       0.89      0.55      0.64     54259\n",
      "\n",
      "[[26284 23359]\n",
      " [ 1041  3575]]\n",
      "0.9403048342210509\n",
      "             precision    recall  f1-score   support\n",
      "\n",
      "        0.0       0.94      0.99      0.97     49643\n",
      "        1.0       0.86      0.35      0.50      4616\n",
      "\n",
      "avg / total       0.94      0.94      0.93     54259\n",
      "\n",
      "[[49382   261]\n",
      " [ 2978  1638]]\n",
      "0.9252658545126154\n",
      "             precision    recall  f1-score   support\n",
      "\n",
      "        0.0       0.93      0.99      0.96     49643\n",
      "        1.0       0.76      0.18      0.29      4616\n",
      "\n",
      "avg / total       0.91      0.93      0.90     54259\n",
      "\n",
      "[[49380   263]\n",
      " [ 3792   824]]\n",
      "0.9410788993531027\n",
      "             precision    recall  f1-score   support\n",
      "\n",
      "        0.0       0.94      1.00      0.97     49643\n",
      "        1.0       0.98      0.31      0.48      4616\n",
      "\n",
      "avg / total       0.94      0.94      0.93     54259\n",
      "\n",
      "[[49615    28]\n",
      " [ 3169  1447]]\n",
      "0.939475478722424\n",
      "             precision    recall  f1-score   support\n",
      "\n",
      "        0.0       0.94      1.00      0.97     49643\n",
      "        1.0       0.98      0.30      0.45      4616\n",
      "\n",
      "avg / total       0.94      0.94      0.92     54259\n",
      "\n",
      "[[49612    31]\n",
      " [ 3253  1363]]\n"
     ]
    },
    {
     "name": "stderr",
     "output_type": "stream",
     "text": [
      "c:\\users\\kanwal\\miniconda3\\lib\\site-packages\\sklearn\\preprocessing\\label.py:151: DeprecationWarning: The truth value of an empty array is ambiguous. Returning False, but in future this will result in an error. Use `array.size > 0` to check that an array is not empty.\n",
      "  if diff:\n"
     ]
    }
   ],
   "source": [
    "for clas in classifier_list:\n",
    "    print_summary(clas,X_train,y_train)"
   ]
  },
  {
   "cell_type": "code",
   "execution_count": 35,
   "metadata": {},
   "outputs": [
    {
     "data": {
      "text/plain": [
       "SVC(C=1.0, cache_size=200, class_weight=None, coef0=0.0,\n",
       "  decision_function_shape='ovr', degree=3, gamma='auto', kernel='rbf',\n",
       "  max_iter=-1, probability=False, random_state=None, shrinking=True,\n",
       "  tol=0.001, verbose=False)"
      ]
     },
     "execution_count": 35,
     "metadata": {},
     "output_type": "execute_result"
    }
   ],
   "source": [
    "final_model = classifier_list[2]\n",
    "final_model"
   ]
  },
  {
   "cell_type": "markdown",
   "metadata": {},
   "source": [
    "# Neural Network"
   ]
  },
  {
   "cell_type": "code",
   "execution_count": 2,
   "metadata": {},
   "outputs": [
    {
     "name": "stderr",
     "output_type": "stream",
     "text": [
      "Using TensorFlow backend.\n"
     ]
    }
   ],
   "source": [
    "import keras\n",
    "from keras.layers import BatchNormalization\n",
    "from keras.layers.core import Flatten,Dense,Dropout, Activation, Lambda\n",
    "from keras.models import Model, Sequential\n",
    "from keras.optimizers import Adam,SGD\n",
    "from keras.callbacks import TensorBoard"
   ]
  },
  {
   "cell_type": "code",
   "execution_count": 37,
   "metadata": {},
   "outputs": [],
   "source": [
    "model = Sequential()\n",
    "#model.add(Lambda(lambda x: x , input_shape = (24)))\n",
    "#model.add(Lambda(lambda x: x+0.1 , input_shape = (64,64,3)))\n",
    "#model.add(Flatten())\n",
    "model.add(BatchNormalization(input_shape=(57,)))\n",
    "model.add(Dense(1000))\n",
    "model.add(Activation('relu'))\n",
    "\n",
    "\n",
    "#model.add(Dropout(0.2))\n",
    "model.add(BatchNormalization())\n",
    "model.add(Dense(500))\n",
    "model.add(Activation('relu'))\n",
    "#model.add(Dropout(0.2))\n",
    "#model.add(BatchNormalization())\n",
    "model.add(Dense(50))\n",
    "model.add(Activation('relu'))\n",
    "\n",
    "model.add(Dense(1))\n",
    "model.add(Activation('sigmoid'))\n",
    "model.compile(optimizer = 'Adam' , loss = 'binary_crossentropy', metrics=['accuracy'])"
   ]
  },
  {
   "cell_type": "code",
   "execution_count": 38,
   "metadata": {},
   "outputs": [
    {
     "name": "stdout",
     "output_type": "stream",
     "text": [
      "Train on 54259 samples, validate on 549 samples\n",
      "Epoch 1/5\n",
      "54259/54259 [==============================] - 17s 310us/step - loss: 0.2053 - acc: 0.9295 - val_loss: 0.1907 - val_acc: 0.9326\n",
      "Epoch 2/5\n",
      "54259/54259 [==============================] - 16s 295us/step - loss: 0.1745 - acc: 0.9382 - val_loss: 0.1820 - val_acc: 0.9344\n",
      "Epoch 3/5\n",
      "54259/54259 [==============================] - 16s 301us/step - loss: 0.1696 - acc: 0.9399 - val_loss: 0.1820 - val_acc: 0.9381\n",
      "Epoch 4/5\n",
      "54259/54259 [==============================] - 16s 300us/step - loss: 0.1678 - acc: 0.9401 - val_loss: 0.1706 - val_acc: 0.9381\n",
      "Epoch 5/5\n",
      "54259/54259 [==============================] - 16s 300us/step - loss: 0.1648 - acc: 0.9407 - val_loss: 0.1694 - val_acc: 0.9381\n"
     ]
    },
    {
     "data": {
      "text/plain": [
       "<keras.callbacks.History at 0x2a3b6a9b048>"
      ]
     },
     "execution_count": 38,
     "metadata": {},
     "output_type": "execute_result"
    }
   ],
   "source": [
    "model.fit(X_train, y_train, epochs=5, verbose =1, validation_data=(X_valid, y_valid), batch_size =64)"
   ]
  },
  {
   "cell_type": "code",
   "execution_count": 39,
   "metadata": {},
   "outputs": [],
   "source": [
    "model_1 = Sequential()\n",
    "#model.add(Lambda(lambda x: x , input_shape = (24)))\n",
    "#model.add(Lambda(lambda x: x+0.1 , input_shape = (64,64,3)))\n",
    "#model.add(Flatten())\n",
    "model_1.add(BatchNormalization(input_shape=(57,)))\n",
    "model_1.add(Dense(10))\n",
    "model_1.add(Activation('relu'))\n",
    "\n",
    "\n",
    "#model.add(Dropout(0.2))\n",
    "model_1.add(BatchNormalization())\n",
    "model_1.add(Dense(500))\n",
    "model_1.add(Activation('relu'))\n",
    "#model.add(Dropout(0.2))\n",
    "#model.add(BatchNormalization())\n",
    "model_1.add(Dense(250))\n",
    "model_1.add(Activation('relu'))\n",
    "\n",
    "model_1.add(Dense(100))\n",
    "model_1.add(Activation('relu'))\n",
    "model_1.add(Dense(50))\n",
    "model_1.add(Activation('relu'))\n",
    "\n",
    "model_1.add(Dense(1))\n",
    "model_1.add(Activation('sigmoid'))\n",
    "model_1.compile(optimizer = 'Adam' , loss = 'binary_crossentropy', metrics=['accuracy'])"
   ]
  },
  {
   "cell_type": "code",
   "execution_count": 40,
   "metadata": {},
   "outputs": [
    {
     "name": "stdout",
     "output_type": "stream",
     "text": [
      "Train on 54259 samples, validate on 549 samples\n",
      "Epoch 1/10\n",
      "54259/54259 [==============================] - 4s 81us/step - loss: 0.2538 - acc: 0.9143 - val_loss: 0.2431 - val_acc: 0.9089\n",
      "Epoch 2/10\n",
      "54259/54259 [==============================] - 3s 64us/step - loss: 0.2024 - acc: 0.9270 - val_loss: 0.1873 - val_acc: 0.9344\n",
      "Epoch 3/10\n",
      "54259/54259 [==============================] - 3s 63us/step - loss: 0.1786 - acc: 0.9374 - val_loss: 0.1864 - val_acc: 0.9326\n",
      "Epoch 4/10\n",
      "54259/54259 [==============================] - 3s 62us/step - loss: 0.1734 - acc: 0.9390 - val_loss: 0.1747 - val_acc: 0.9362\n",
      "Epoch 5/10\n",
      "54259/54259 [==============================] - 3s 63us/step - loss: 0.1708 - acc: 0.9399 - val_loss: 0.1762 - val_acc: 0.9362\n",
      "Epoch 6/10\n",
      "54259/54259 [==============================] - 3s 62us/step - loss: 0.1689 - acc: 0.9400 - val_loss: 0.1777 - val_acc: 0.9344\n",
      "Epoch 7/10\n",
      "54259/54259 [==============================] - 3s 64us/step - loss: 0.1673 - acc: 0.9406 - val_loss: 0.1749 - val_acc: 0.9362\n",
      "Epoch 8/10\n",
      "54259/54259 [==============================] - 3s 63us/step - loss: 0.1664 - acc: 0.9411 - val_loss: 0.1790 - val_acc: 0.9344\n",
      "Epoch 9/10\n",
      "54259/54259 [==============================] - 3s 63us/step - loss: 0.1660 - acc: 0.9411 - val_loss: 0.1711 - val_acc: 0.9362\n",
      "Epoch 10/10\n",
      "54259/54259 [==============================] - 3s 63us/step - loss: 0.1653 - acc: 0.9412 - val_loss: 0.1824 - val_acc: 0.9308\n"
     ]
    },
    {
     "data": {
      "text/plain": [
       "<keras.callbacks.History at 0x2a3df8aef98>"
      ]
     },
     "execution_count": 40,
     "metadata": {},
     "output_type": "execute_result"
    }
   ],
   "source": [
    "model_1.fit(X_train, y_train, epochs=10, verbose =1, validation_data=(X_valid, y_valid), batch_size =96)"
   ]
  },
  {
   "cell_type": "code",
   "execution_count": 65,
   "metadata": {},
   "outputs": [],
   "source": [
    "model_2 = Sequential()\n",
    "#model.add(Lambda(lambda x: x , input_shape = (24)))\n",
    "#model.add(Lambda(lambda x: x+0.1 , input_shape = (64,64,3)))\n",
    "#model.add(Flatten())\n",
    "model_2.add(BatchNormalization(input_shape=(57,)))\n",
    "model_2.add(Dense(126))\n",
    "model_2.add(Activation('relu'))\n",
    "\n",
    "\n",
    "#model.add(Dropout(0.2))\n",
    "model_2.add(BatchNormalization())\n",
    "model_2.add(Dense(53))\n",
    "model_2.add(Activation('relu'))\n",
    "#model.add(Dropout(0.2))\n",
    "#model.add(BatchNormalization())\n",
    "model_2.add(Dense(126))\n",
    "model_2.add(Activation('relu'))\n",
    "\n",
    "model_2.add(Dense(53))\n",
    "model_2.add(Activation('relu'))\n",
    "model_2.add(Dense(50))\n",
    "model_2.add(Activation('relu'))\n",
    "\n",
    "model_2.add(Dense(1))\n",
    "model_2.add(Activation('sigmoid'))\n",
    "model_2.compile(optimizer = 'Adam' , loss = 'binary_crossentropy', metrics=['accuracy'])"
   ]
  },
  {
   "cell_type": "code",
   "execution_count": 66,
   "metadata": {},
   "outputs": [
    {
     "name": "stdout",
     "output_type": "stream",
     "text": [
      "Train on 54259 samples, validate on 549 samples\n",
      "Epoch 1/10\n",
      "54259/54259 [==============================] - 3s 56us/step - loss: 0.2185 - acc: 0.9248 - val_loss: 0.1804 - val_acc: 0.9308\n",
      "Epoch 2/10\n",
      "54259/54259 [==============================] - 2s 39us/step - loss: 0.1743 - acc: 0.9382 - val_loss: 0.1757 - val_acc: 0.9362\n",
      "Epoch 3/10\n",
      "54259/54259 [==============================] - 2s 39us/step - loss: 0.1674 - acc: 0.9404 - val_loss: 0.1909 - val_acc: 0.9308\n",
      "Epoch 4/10\n",
      "54259/54259 [==============================] - 2s 40us/step - loss: 0.1653 - acc: 0.9407 - val_loss: 0.1851 - val_acc: 0.9326\n",
      "Epoch 5/10\n",
      "54259/54259 [==============================] - 2s 40us/step - loss: 0.1627 - acc: 0.9414 - val_loss: 0.1772 - val_acc: 0.9326\n",
      "Epoch 6/10\n",
      "54259/54259 [==============================] - 2s 39us/step - loss: 0.1608 - acc: 0.9419 - val_loss: 0.1766 - val_acc: 0.9326\n",
      "Epoch 7/10\n",
      "54259/54259 [==============================] - 2s 39us/step - loss: 0.1599 - acc: 0.9417 - val_loss: 0.1855 - val_acc: 0.9344\n",
      "Epoch 8/10\n",
      "54259/54259 [==============================] - 2s 39us/step - loss: 0.1587 - acc: 0.9419 - val_loss: 0.1797 - val_acc: 0.9326\n",
      "Epoch 9/10\n",
      "54259/54259 [==============================] - 2s 39us/step - loss: 0.1573 - acc: 0.9424 - val_loss: 0.1847 - val_acc: 0.9362\n",
      "Epoch 10/10\n",
      "54259/54259 [==============================] - 2s 39us/step - loss: 0.1567 - acc: 0.9423 - val_loss: 0.1826 - val_acc: 0.9362\n"
     ]
    },
    {
     "data": {
      "text/plain": [
       "<keras.callbacks.History at 0x2a3e0105630>"
      ]
     },
     "execution_count": 66,
     "metadata": {},
     "output_type": "execute_result"
    }
   ],
   "source": [
    "model_2.fit(X_train, y_train, epochs=10, verbose =1, validation_data=(X_valid, y_valid), batch_size =96)"
   ]
  },
  {
   "cell_type": "markdown",
   "metadata": {},
   "source": [
    "# Test Data Prediction"
   ]
  },
  {
   "cell_type": "code",
   "execution_count": 41,
   "metadata": {},
   "outputs": [
    {
     "name": "stdout",
     "output_type": "stream",
     "text": [
      "<class 'pandas.core.frame.DataFrame'>\n",
      "RangeIndex: 23490 entries, 0 to 23489\n",
      "Data columns (total 13 columns):\n",
      "employee_id             23490 non-null int64\n",
      "department              23490 non-null object\n",
      "region                  23490 non-null object\n",
      "education               22456 non-null object\n",
      "gender                  23490 non-null object\n",
      "recruitment_channel     23490 non-null object\n",
      "no_of_trainings         23490 non-null int64\n",
      "age                     23490 non-null int64\n",
      "previous_year_rating    21678 non-null float64\n",
      "length_of_service       23490 non-null int64\n",
      "KPIs_met >80%           23490 non-null int64\n",
      "awards_won?             23490 non-null int64\n",
      "avg_training_score      23490 non-null int64\n",
      "dtypes: float64(1), int64(7), object(5)\n",
      "memory usage: 2.3+ MB\n",
      "None\n"
     ]
    }
   ],
   "source": [
    "test_df = read_csv_file('test.csv')"
   ]
  },
  {
   "cell_type": "code",
   "execution_count": 42,
   "metadata": {},
   "outputs": [],
   "source": [
    "def perform_transformations(new_df):\n",
    "    new_df.loc[((new_df['previous_year_rating'].isnull()) & (new_df['KPIs_met >80%'] == 1)) , 'previous_year_rating'] =5.0\n",
    "    new_df.loc[(new_df['previous_year_rating'].isnull()) , 'previous_year_rating'] = 3.0\n",
    "    new_df.loc[((new_df['education'].isnull()) & (new_df['age'] >= 36)),'education'] = 'Master\\'s & above'\n",
    "    new_df.loc[((new_df['education'].isnull()) & ((new_df['age'] >= 30) & (new_df['age'] < 36)) ),'education'] = 'Bachelor\\'s'\n",
    "    new_df.loc[((new_df['education'].isnull()) & (new_df['age'] < 30)  ),'education'] = 'Below Secondary'\n",
    "    return new_df\n",
    "\n",
    "test_df = perform_transformations(test_df)\n",
    "\n",
    "#testing.head()"
   ]
  },
  {
   "cell_type": "code",
   "execution_count": 43,
   "metadata": {},
   "outputs": [
    {
     "data": {
      "text/html": [
       "<div>\n",
       "<style scoped>\n",
       "    .dataframe tbody tr th:only-of-type {\n",
       "        vertical-align: middle;\n",
       "    }\n",
       "\n",
       "    .dataframe tbody tr th {\n",
       "        vertical-align: top;\n",
       "    }\n",
       "\n",
       "    .dataframe thead th {\n",
       "        text-align: right;\n",
       "    }\n",
       "</style>\n",
       "<table border=\"1\" class=\"dataframe\">\n",
       "  <thead>\n",
       "    <tr style=\"text-align: right;\">\n",
       "      <th></th>\n",
       "      <th>department</th>\n",
       "      <th>region</th>\n",
       "      <th>education</th>\n",
       "      <th>recruitment_channel</th>\n",
       "      <th>previous_year_rating</th>\n",
       "      <th>KPIs_met &gt;80%</th>\n",
       "      <th>awards_won?</th>\n",
       "      <th>avg_training_score</th>\n",
       "    </tr>\n",
       "  </thead>\n",
       "  <tbody>\n",
       "    <tr>\n",
       "      <th>0</th>\n",
       "      <td>Technology</td>\n",
       "      <td>region_26</td>\n",
       "      <td>Bachelor's</td>\n",
       "      <td>sourcing</td>\n",
       "      <td>5.0</td>\n",
       "      <td>1</td>\n",
       "      <td>0</td>\n",
       "      <td>77</td>\n",
       "    </tr>\n",
       "    <tr>\n",
       "      <th>1</th>\n",
       "      <td>HR</td>\n",
       "      <td>region_4</td>\n",
       "      <td>Bachelor's</td>\n",
       "      <td>other</td>\n",
       "      <td>3.0</td>\n",
       "      <td>0</td>\n",
       "      <td>0</td>\n",
       "      <td>51</td>\n",
       "    </tr>\n",
       "    <tr>\n",
       "      <th>2</th>\n",
       "      <td>Sales &amp; Marketing</td>\n",
       "      <td>region_13</td>\n",
       "      <td>Bachelor's</td>\n",
       "      <td>other</td>\n",
       "      <td>1.0</td>\n",
       "      <td>0</td>\n",
       "      <td>0</td>\n",
       "      <td>47</td>\n",
       "    </tr>\n",
       "    <tr>\n",
       "      <th>3</th>\n",
       "      <td>Procurement</td>\n",
       "      <td>region_2</td>\n",
       "      <td>Bachelor's</td>\n",
       "      <td>other</td>\n",
       "      <td>2.0</td>\n",
       "      <td>0</td>\n",
       "      <td>0</td>\n",
       "      <td>65</td>\n",
       "    </tr>\n",
       "    <tr>\n",
       "      <th>4</th>\n",
       "      <td>Finance</td>\n",
       "      <td>region_29</td>\n",
       "      <td>Bachelor's</td>\n",
       "      <td>sourcing</td>\n",
       "      <td>4.0</td>\n",
       "      <td>0</td>\n",
       "      <td>0</td>\n",
       "      <td>61</td>\n",
       "    </tr>\n",
       "  </tbody>\n",
       "</table>\n",
       "</div>"
      ],
      "text/plain": [
       "          department     region   education recruitment_channel  \\\n",
       "0         Technology  region_26  Bachelor's            sourcing   \n",
       "1                 HR   region_4  Bachelor's               other   \n",
       "2  Sales & Marketing  region_13  Bachelor's               other   \n",
       "3        Procurement   region_2  Bachelor's               other   \n",
       "4            Finance  region_29  Bachelor's            sourcing   \n",
       "\n",
       "   previous_year_rating  KPIs_met >80%  awards_won?  avg_training_score  \n",
       "0                   5.0              1            0                  77  \n",
       "1                   3.0              0            0                  51  \n",
       "2                   1.0              0            0                  47  \n",
       "3                   2.0              0            0                  65  \n",
       "4                   4.0              0            0                  61  "
      ]
     },
     "execution_count": 43,
     "metadata": {},
     "output_type": "execute_result"
    }
   ],
   "source": [
    "\n",
    "new_test_df = drop_columns(test_df, columns=['employee_id','no_of_trainings','gender','age','length_of_service'])\n",
    "new_test_df.head()"
   ]
  },
  {
   "cell_type": "code",
   "execution_count": 44,
   "metadata": {},
   "outputs": [
    {
     "name": "stdout",
     "output_type": "stream",
     "text": [
      "department              0\n",
      "region                  0\n",
      "education               0\n",
      "recruitment_channel     0\n",
      "previous_year_rating    0\n",
      "KPIs_met >80%           0\n",
      "awards_won?             0\n",
      "avg_training_score      0\n",
      "dtype: int64\n"
     ]
    }
   ],
   "source": [
    "print(new_test_df.isnull().sum())\n"
   ]
  },
  {
   "cell_type": "code",
   "execution_count": null,
   "metadata": {},
   "outputs": [],
   "source": [
    "\n",
    "# bin_range = [38.94, 99.0]\n",
    "# bin_input = input(\"Enter bins as comma seperated list\")\n",
    "# bin_input_parsed = [float(x.strip()) for x in bin_input.split(',')]\n",
    "\n",
    "# bins = [bin_range[0]] + bin_input_parsed + [bin_range[1]]\n"
   ]
  },
  {
   "cell_type": "code",
   "execution_count": null,
   "metadata": {},
   "outputs": [],
   "source": [
    "#  new_test_df['avg_training_score'] = pd.cut( new_test_df['avg_training_score'], bins)"
   ]
  },
  {
   "cell_type": "code",
   "execution_count": null,
   "metadata": {},
   "outputs": [],
   "source": [
    "# new_test_df.isnull().sum()"
   ]
  },
  {
   "cell_type": "code",
   "execution_count": null,
   "metadata": {},
   "outputs": [],
   "source": [
    "# new_test_df['education'] = new_test_df['education'].fillna(value = 'Bachelor\\'s')"
   ]
  },
  {
   "cell_type": "code",
   "execution_count": null,
   "metadata": {},
   "outputs": [],
   "source": [
    "# X_test_1 = [] \n",
    "# X_test_1 = new_test_df.values.tolist()\n",
    "\n",
    "#do_missing_transformation(X_test_1,True)\n",
    "\n"
   ]
  },
  {
   "cell_type": "code",
   "execution_count": null,
   "metadata": {},
   "outputs": [],
   "source": [
    "# for i in X_test_1:\n",
    "#     if(i[5] == 1 and math.isnan(i[4])):\n",
    "#         i[4] = 5.0\n",
    "#     elif(i[5] == 0 and math.isnan(i[4])):\n",
    "#         i[4] = 3.0\n",
    "        "
   ]
  },
  {
   "cell_type": "code",
   "execution_count": null,
   "metadata": {},
   "outputs": [],
   "source": []
  },
  {
   "cell_type": "code",
   "execution_count": null,
   "metadata": {},
   "outputs": [],
   "source": [
    "# count_non_null_in_list(X_test_1,4)"
   ]
  },
  {
   "cell_type": "code",
   "execution_count": 45,
   "metadata": {},
   "outputs": [
    {
     "data": {
      "text/plain": [
       "(23490, 8)"
      ]
     },
     "execution_count": 45,
     "metadata": {},
     "output_type": "execute_result"
    }
   ],
   "source": [
    "X_test_1 = np.array(new_test_df.values.tolist())\n",
    "X_test_1.shape"
   ]
  },
  {
   "cell_type": "code",
   "execution_count": 46,
   "metadata": {},
   "outputs": [
    {
     "data": {
      "text/plain": [
       "array(['Technology', 'region_26', \"Bachelor's\", 'sourcing', '5.0', '1',\n",
       "       '0', '77'], dtype='<U17')"
      ]
     },
     "execution_count": 46,
     "metadata": {},
     "output_type": "execute_result"
    }
   ],
   "source": [
    "X_test_1[0]"
   ]
  },
  {
   "cell_type": "code",
   "execution_count": 51,
   "metadata": {},
   "outputs": [
    {
     "name": "stdout",
     "output_type": "stream",
     "text": [
      "(23490, 57)\n"
     ]
    }
   ],
   "source": [
    "X_test_1 = one_hot_encoding(X_test_1,0)"
   ]
  },
  {
   "cell_type": "code",
   "execution_count": null,
   "metadata": {},
   "outputs": [],
   "source": [
    "X_test_1[0]"
   ]
  },
  {
   "cell_type": "code",
   "execution_count": 70,
   "metadata": {},
   "outputs": [],
   "source": [
    "def do_prediction_and_write_file(X,  filename, model, Neural_Network=False):\n",
    "    pred_test = model.predict(X)\n",
    "    \n",
    "#     if Neural_Network==False:\n",
    "#         file = open(filename , 'a+')\n",
    "# #         for i in pred_test:\n",
    "# #             file.write(i+'\\n')\n",
    "# #         file.close()\n",
    "    \n",
    "#     else:\n",
    "    if(Neural_Network):\n",
    "         pred_test = (pred_test >=0.36).astype(int)\n",
    "         pred_test = pred_test.reshape(-1)\n",
    "         print(\"hello\")\n",
    "#         file = open(filename, 'a+')\n",
    "#         for i in pred_test:\n",
    "#             file.write(str(i)+'\\n')\n",
    "#         file.close()\n",
    "    return pred_test"
   ]
  },
  {
   "cell_type": "code",
   "execution_count": 53,
   "metadata": {},
   "outputs": [],
   "source": [
    "def calculate_promotions(pred):\n",
    "    j=0\n",
    "    for i in pred:\n",
    "        if i == 1:\n",
    "            j=j+1;\n",
    "    return j/len(pred)"
   ]
  },
  {
   "cell_type": "code",
   "execution_count": 54,
   "metadata": {},
   "outputs": [
    {
     "data": {
      "text/plain": [
       "0.026649638143891017"
      ]
     },
     "execution_count": 54,
     "metadata": {},
     "output_type": "execute_result"
    }
   ],
   "source": [
    "pred = do_prediction_and_write_file(X_test_1, 'visualization.txt', classifier_list[2], False)\n",
    "calculate_promotions(pred)"
   ]
  },
  {
   "cell_type": "code",
   "execution_count": null,
   "metadata": {},
   "outputs": [],
   "source": [
    "pred_svc = do_prediction_and_write_file(X_test_1, 'visualization.txt', classifier_list[2], False)\n",
    "calculate_promotions(pred_svc)"
   ]
  },
  {
   "cell_type": "code",
   "execution_count": 71,
   "metadata": {},
   "outputs": [
    {
     "name": "stdout",
     "output_type": "stream",
     "text": [
      "hello\n"
     ]
    },
    {
     "data": {
      "text/plain": [
       "0.03878246062154108"
      ]
     },
     "execution_count": 71,
     "metadata": {},
     "output_type": "execute_result"
    }
   ],
   "source": [
    "pred_nn = do_prediction_and_write_file(X_test_1, 'visualization.txt', model, True)\n",
    "calculate_promotions(pred_nn)"
   ]
  },
  {
   "cell_type": "code",
   "execution_count": 72,
   "metadata": {},
   "outputs": [
    {
     "name": "stdout",
     "output_type": "stream",
     "text": [
      "hello\n"
     ]
    },
    {
     "data": {
      "text/plain": [
       "0.03358876117496807"
      ]
     },
     "execution_count": 72,
     "metadata": {},
     "output_type": "execute_result"
    }
   ],
   "source": [
    "pred_nn_1 = do_prediction_and_write_file(X_test_1, 'visualization.txt', model_1, True)\n",
    "calculate_promotions(pred_nn_1)"
   ]
  },
  {
   "cell_type": "code",
   "execution_count": 73,
   "metadata": {},
   "outputs": [
    {
     "name": "stdout",
     "output_type": "stream",
     "text": [
      "hello\n"
     ]
    },
    {
     "data": {
      "text/plain": [
       "0.029842486164325246"
      ]
     },
     "execution_count": 73,
     "metadata": {},
     "output_type": "execute_result"
    }
   ],
   "source": [
    "pred_nn_2 = do_prediction_and_write_file(X_test_1, 'visualization.txt', model_2, True)\n",
    "calculate_promotions(pred_nn_2)"
   ]
  },
  {
   "cell_type": "code",
   "execution_count": 57,
   "metadata": {},
   "outputs": [
    {
     "data": {
      "text/plain": [
       "0.02498935717326522"
      ]
     },
     "execution_count": 57,
     "metadata": {},
     "output_type": "execute_result"
    }
   ],
   "source": [
    "pred_gb = do_prediction_and_write_file(X_test_1, 'visualization.txt', classifier_list[6], False)\n",
    "calculate_promotions(pred_gb)"
   ]
  },
  {
   "cell_type": "code",
   "execution_count": 64,
   "metadata": {},
   "outputs": [
    {
     "data": {
      "text/plain": [
       "0.06185610898254577"
      ]
     },
     "execution_count": 64,
     "metadata": {},
     "output_type": "execute_result"
    }
   ],
   "source": [
    "pred_rf = do_prediction_and_write_file(X_test_1, 'visualization.txt', classifier_list[1], False)\n",
    "calculate_promotions(pred_rf)"
   ]
  },
  {
   "cell_type": "code",
   "execution_count": 59,
   "metadata": {},
   "outputs": [
    {
     "name": "stderr",
     "output_type": "stream",
     "text": [
      "c:\\users\\kanwal\\miniconda3\\lib\\site-packages\\sklearn\\preprocessing\\label.py:151: DeprecationWarning: The truth value of an empty array is ambiguous. Returning False, but in future this will result in an error. Use `array.size > 0` to check that an array is not empty.\n",
      "  if diff:\n"
     ]
    },
    {
     "data": {
      "text/plain": [
       "0.023243933588761177"
      ]
     },
     "execution_count": 59,
     "metadata": {},
     "output_type": "execute_result"
    }
   ],
   "source": [
    "pred_xg = do_prediction_and_write_file(X_test_1, 'visualization.txt', classifier_list[7], False)\n",
    "calculate_promotions(pred_xg)"
   ]
  },
  {
   "cell_type": "code",
   "execution_count": 74,
   "metadata": {},
   "outputs": [
    {
     "data": {
      "text/plain": [
       "0.04482758620689655"
      ]
     },
     "execution_count": 74,
     "metadata": {},
     "output_type": "execute_result"
    }
   ],
   "source": [
    "j=0\n",
    "pred_combined=[]\n",
    "for i in zip(pred,pred_nn,pred_gb, pred_xg, pred_rf,pred_nn_1,pred_nn_2):\n",
    "    if  (i[0] == 1 or i[1]==1 or i[2]==1 or i[3]==1   or i[5] == 1 or i[6]==1):\n",
    "        j=j+1;\n",
    "        pred_combined.append(1)\n",
    "    else:\n",
    "        pred_combined.append(0)\n",
    "        \n",
    "j/len(pred_combined)\n",
    "#pred_combined = np.array(pred_combined)"
   ]
  },
  {
   "cell_type": "code",
   "execution_count": null,
   "metadata": {},
   "outputs": [],
   "source": [
    "len(pred_combined)"
   ]
  },
  {
   "cell_type": "markdown",
   "metadata": {},
   "source": [
    "# Write Test Results to CSV"
   ]
  },
  {
   "cell_type": "code",
   "execution_count": 62,
   "metadata": {},
   "outputs": [],
   "source": [
    "def write_csv(pred_test, filename):\n",
    "    df = pd.read_csv('submission_1.csv')\n",
    "    df['is_promoted'] = pred_test\n",
    "    df.to_csv(filename,index=False)"
   ]
  },
  {
   "cell_type": "code",
   "execution_count": 75,
   "metadata": {},
   "outputs": [],
   "source": [
    "write_csv(pred_combined, 'x_new_randomness_rating_categorical_audatiaus_1_3.csv')"
   ]
  },
  {
   "cell_type": "code",
   "execution_count": null,
   "metadata": {},
   "outputs": [],
   "source": [
    "pred = do_prediction_and_write_file(X_valid, 'visualization.txt', final_model, False)\n",
    "pred_nn = do_prediction_and_write_file(X_valid, 'visualization.txt', model, True)\n",
    "pred_nn_1 = do_prediction_and_write_file(X_valid, 'visualization.txt', model_1, True)\n",
    "#pred_nn_2 = do_prediction_and_write_file(X_valid, 'visualization.txt', model_2, True)\n",
    "\n",
    "pred_gb = do_prediction_and_write_file(X_valid, 'visualization.txt', classifier_list[6], False)\n",
    "pred_rf = do_prediction_and_write_file(X_valid, 'visualization.txt', classifier_list[0], False)\n",
    "pred_xg = do_prediction_and_write_file(X_valid, 'visualization.txt', classifier_list[7], False)\n",
    "j=0\n",
    "pred_combined=[]\n",
    "for i in zip(pred,pred_nn,pred_gb, pred_xg,pred_nn_1):\n",
    "    if i[0] == 1 or i[1]==1 or i[2]==1 or i[3]==1  or i[4]==1:\n",
    "        j=j+1;\n",
    "        pred_combined.append(1)\n",
    "    else:\n",
    "        pred_combined.append(0)\n",
    "        \n",
    "j/len(pred_combined)"
   ]
  },
  {
   "cell_type": "code",
   "execution_count": null,
   "metadata": {},
   "outputs": [],
   "source": [
    "print_summary_new(pred_combined, y_valid)"
   ]
  },
  {
   "cell_type": "code",
   "execution_count": null,
   "metadata": {},
   "outputs": [],
   "source": []
  }
 ],
 "metadata": {
  "kernelspec": {
   "display_name": "Python 3",
   "language": "python",
   "name": "python3"
  },
  "language_info": {
   "codemirror_mode": {
    "name": "ipython",
    "version": 3
   },
   "file_extension": ".py",
   "mimetype": "text/x-python",
   "name": "python",
   "nbconvert_exporter": "python",
   "pygments_lexer": "ipython3",
   "version": "3.6.5"
  }
 },
 "nbformat": 4,
 "nbformat_minor": 2
}
